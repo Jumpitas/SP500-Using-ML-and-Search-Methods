{
 "cells": [
  {
   "cell_type": "markdown",
   "id": "ebd68121-6ba0-477a-84c5-72f1f21169c4",
   "metadata": {},
   "source": [
    "# Montecarlo Simulations\n",
    "\n",
    "This notebook will conduct the procedure for the **montecarlo** simulations, that simulate different random alternatives.\n",
    "\n",
    "We will vary:\n",
    "- amount of stocks bought day X (max 100);\n",
    "- number of different stock tickers for the day;\n",
    "- distribution of the day bought stocks for the different tickers.\n",
    "\n",
    "We will assume that we can only buy stocks, and not sell, to begin with.\n",
    "\n",
    "To decide which stocks can be bought at a certain day, we will use the LSTM predictions, and ..."
   ]
  },
  {
   "cell_type": "markdown",
   "id": "549aa00b-44ed-47ac-a59b-de54b7fb02a8",
   "metadata": {},
   "source": [
    "## What stocks to buy on a certain day?\n",
    "\n",
    "The result of the model prediction will be organized on a dataframe with the following format\n",
    "\n",
    "| Date       | AAPL | MSFT | META | GOOG | ... |\n",
    "|------------|------|------|------|------|-----|\n",
    "| Jan 1st    |      |      |      |      |     |\n",
    "| Jan 2nd    |      |      |      |      |     |\n",
    "| Jan 3rd    |      |      |      |      |     |\n",
    "| ...        |      |      |      |      |     |\n",
    "\n",
    "In the blank spaces, can be 3 different attributes:\n",
    "\n",
    "- **buy** signal: the model predicted a rise in the upcoming days;\n",
    "- **sell** signal: the model predicted a decrease in the following days;\n",
    "- **hold** signal: the model predicted either no change, or a change too small to buy/sell, considering a threshold defined on the other notebook."
   ]
  },
  {
   "cell_type": "markdown",
   "id": "5b1e3bd1-e89f-4237-8dcb-6044167fd687",
   "metadata": {},
   "source": [
    "## Montecarlo Planification\n",
    "\n",
    "The algorithm will have different steps, and each simulation is described in the pseudocode that follows:\n",
    "\n",
    "```py\n",
    "inventory = {}\n",
    "total_value = 10000\n",
    "\n",
    "for day in month:\n",
    "    stock_no = random integer (a, b)                 # Generate a random number of stocks to buy total\n",
    "    buy_tickers = get_buy_tickers()                  # Get the tickers to buy\n",
    "    buy_distrib = get_buy_distribution(buy_tickers)  # Get the distribution of stocks to buy\n",
    "    fees = size(buy_distrib)                         # Calculate fees based on the number of different stocks bought\n",
    "    update_inventory(buy_distrib)                    # Update the inventory with the distribution\n",
    "```"
   ]
  },
  {
   "cell_type": "markdown",
   "id": "bec82f30-e123-45fa-b9fe-92eb311553c2",
   "metadata": {},
   "source": [
    "## Auxiliar methods\n",
    "\n",
    "First of all, the imports required."
   ]
  },
  {
   "cell_type": "code",
   "execution_count": 111,
   "id": "bae88a61-5ac4-47fb-863c-afc56f433b83",
   "metadata": {},
   "outputs": [],
   "source": [
    "import random\n",
    "from tqdm import tqdm\n",
    "import time\n",
    "import os\n",
    "import pandas as pd\n",
    "import yfinance as yf\n",
    "import seaborn as sns\n",
    "import matplotlib.pyplot as plt"
   ]
  },
  {
   "cell_type": "markdown",
   "id": "f425d9b9-a11e-4db3-83e8-578ca8dcd55b",
   "metadata": {},
   "source": [
    "### Distribution\n",
    "To allocate a certain number of stocks to each of the ticker buy list, we create the method `distribute_stocks(total_no, ticker_list)` that returns a dictionary that link to each stock in the buy list the number to buy (on a certain day).\n",
    "\n",
    "We established a minimum of 1 stocks minimum for each ticker on the buy list, but that can be changed if needed."
   ]
  },
  {
   "cell_type": "code",
   "execution_count": 112,
   "id": "90ee6936-8590-4880-9362-c577f5ecc70f",
   "metadata": {},
   "outputs": [],
   "source": [
    "def distribute_stocks(no_stock, tickers):\n",
    "    # Start by allocating the minimum of 1 stocks to each ticker\n",
    "    allocation = {ticker: 1 for ticker in tickers}\n",
    "    remaining_stocks = no_stock - 1 * len(tickers)\n",
    "\n",
    "    # Distribute the remaining stocks randomly\n",
    "    while remaining_stocks > 0:\n",
    "        ticker = random.choice(tickers)\n",
    "        allocation[ticker] += 1\n",
    "        remaining_stocks -= 1\n",
    "\n",
    "    return allocation"
   ]
  },
  {
   "cell_type": "markdown",
   "id": "f9c21d59-0b98-4fb9-b115-e5cc559ef3a3",
   "metadata": {},
   "source": [
    "We can test the method in the cell below."
   ]
  },
  {
   "cell_type": "code",
   "execution_count": 113,
   "id": "c4a3088b-d8cd-42d5-98b0-6240481c1969",
   "metadata": {},
   "outputs": [
    {
     "data": {
      "text/plain": [
       "{'AAPL': 17, 'MSFT': 17, 'GOOG': 16}"
      ]
     },
     "execution_count": 113,
     "metadata": {},
     "output_type": "execute_result"
    }
   ],
   "source": [
    "tickers = [\"AAPL\", \"MSFT\", \"GOOG\"]\n",
    "no_stock = 50\n",
    "result = distribute_stocks(no_stock, tickers)\n",
    "result"
   ]
  },
  {
   "cell_type": "markdown",
   "id": "668b2567-bc00-400e-bdfc-2f4f597b0507",
   "metadata": {},
   "source": [
    "### Get Buy Tickers\n",
    "\n",
    "To get the list of tickers to buy, for a specific date, we need to, given the dataframe (formatted as mentioned), get all the columns whose signal in the date row is a buy.\n",
    "\n",
    "For testing we will use a more normalized dummy csv."
   ]
  },
  {
   "cell_type": "code",
   "execution_count": 114,
   "id": "9c2b84f6-edb8-4ce5-aef7-2ecd622a428c",
   "metadata": {},
   "outputs": [
    {
     "data": {
      "text/html": [
       "<div>\n",
       "<style scoped>\n",
       "    .dataframe tbody tr th:only-of-type {\n",
       "        vertical-align: middle;\n",
       "    }\n",
       "\n",
       "    .dataframe tbody tr th {\n",
       "        vertical-align: top;\n",
       "    }\n",
       "\n",
       "    .dataframe thead th {\n",
       "        text-align: right;\n",
       "    }\n",
       "</style>\n",
       "<table border=\"1\" class=\"dataframe\">\n",
       "  <thead>\n",
       "    <tr style=\"text-align: right;\">\n",
       "      <th></th>\n",
       "      <th>Date</th>\n",
       "      <th>AAPL</th>\n",
       "      <th>MSFT</th>\n",
       "      <th>GOOG</th>\n",
       "      <th>META</th>\n",
       "      <th>TSLA</th>\n",
       "      <th>AMZN</th>\n",
       "      <th>NFLX</th>\n",
       "      <th>NVDA</th>\n",
       "      <th>AMD</th>\n",
       "      <th>INTC</th>\n",
       "      <th>SPGI</th>\n",
       "      <th>CRM</th>\n",
       "      <th>ADBE</th>\n",
       "      <th>PYPL</th>\n",
       "      <th>SMCI</th>\n",
       "    </tr>\n",
       "  </thead>\n",
       "  <tbody>\n",
       "    <tr>\n",
       "      <th>0</th>\n",
       "      <td>2024-01-02</td>\n",
       "      <td>Buy</td>\n",
       "      <td>Hold</td>\n",
       "      <td>Sell</td>\n",
       "      <td>Buy</td>\n",
       "      <td>Hold</td>\n",
       "      <td>Sell</td>\n",
       "      <td>Buy</td>\n",
       "      <td>Sell</td>\n",
       "      <td>Hold</td>\n",
       "      <td>Buy</td>\n",
       "      <td>Hold</td>\n",
       "      <td>Sell</td>\n",
       "      <td>Buy</td>\n",
       "      <td>Hold</td>\n",
       "      <td>Sell</td>\n",
       "    </tr>\n",
       "    <tr>\n",
       "      <th>1</th>\n",
       "      <td>2024-01-03</td>\n",
       "      <td>Sell</td>\n",
       "      <td>Buy</td>\n",
       "      <td>Hold</td>\n",
       "      <td>Sell</td>\n",
       "      <td>Buy</td>\n",
       "      <td>Hold</td>\n",
       "      <td>Buy</td>\n",
       "      <td>Sell</td>\n",
       "      <td>Buy</td>\n",
       "      <td>Hold</td>\n",
       "      <td>Sell</td>\n",
       "      <td>Buy</td>\n",
       "      <td>Hold</td>\n",
       "      <td>Sell</td>\n",
       "      <td>Buy</td>\n",
       "    </tr>\n",
       "    <tr>\n",
       "      <th>2</th>\n",
       "      <td>2024-01-04</td>\n",
       "      <td>Hold</td>\n",
       "      <td>Sell</td>\n",
       "      <td>Buy</td>\n",
       "      <td>Hold</td>\n",
       "      <td>Sell</td>\n",
       "      <td>Buy</td>\n",
       "      <td>Hold</td>\n",
       "      <td>Buy</td>\n",
       "      <td>Sell</td>\n",
       "      <td>Buy</td>\n",
       "      <td>Hold</td>\n",
       "      <td>Sell</td>\n",
       "      <td>Buy</td>\n",
       "      <td>Hold</td>\n",
       "      <td>Sell</td>\n",
       "    </tr>\n",
       "    <tr>\n",
       "      <th>3</th>\n",
       "      <td>2024-01-05</td>\n",
       "      <td>Buy</td>\n",
       "      <td>Hold</td>\n",
       "      <td>Sell</td>\n",
       "      <td>Buy</td>\n",
       "      <td>Sell</td>\n",
       "      <td>Hold</td>\n",
       "      <td>Sell</td>\n",
       "      <td>Buy</td>\n",
       "      <td>Hold</td>\n",
       "      <td>Sell</td>\n",
       "      <td>Buy</td>\n",
       "      <td>Hold</td>\n",
       "      <td>Sell</td>\n",
       "      <td>Buy</td>\n",
       "      <td>Hold</td>\n",
       "    </tr>\n",
       "    <tr>\n",
       "      <th>4</th>\n",
       "      <td>2024-01-08</td>\n",
       "      <td>Sell</td>\n",
       "      <td>Buy</td>\n",
       "      <td>Hold</td>\n",
       "      <td>Hold</td>\n",
       "      <td>Buy</td>\n",
       "      <td>Hold</td>\n",
       "      <td>Buy</td>\n",
       "      <td>Hold</td>\n",
       "      <td>Sell</td>\n",
       "      <td>Buy</td>\n",
       "      <td>Hold</td>\n",
       "      <td>Sell</td>\n",
       "      <td>Hold</td>\n",
       "      <td>Buy</td>\n",
       "      <td>Sell</td>\n",
       "    </tr>\n",
       "  </tbody>\n",
       "</table>\n",
       "</div>"
      ],
      "text/plain": [
       "         Date  AAPL  MSFT  GOOG  META  TSLA  AMZN  NFLX  NVDA   AMD  INTC  \\\n",
       "0  2024-01-02   Buy  Hold  Sell   Buy  Hold  Sell   Buy  Sell  Hold   Buy   \n",
       "1  2024-01-03  Sell   Buy  Hold  Sell   Buy  Hold   Buy  Sell   Buy  Hold   \n",
       "2  2024-01-04  Hold  Sell   Buy  Hold  Sell   Buy  Hold   Buy  Sell   Buy   \n",
       "3  2024-01-05   Buy  Hold  Sell   Buy  Sell  Hold  Sell   Buy  Hold  Sell   \n",
       "4  2024-01-08  Sell   Buy  Hold  Hold   Buy  Hold   Buy  Hold  Sell   Buy   \n",
       "\n",
       "   SPGI   CRM  ADBE  PYPL  SMCI  \n",
       "0  Hold  Sell   Buy  Hold  Sell  \n",
       "1  Sell   Buy  Hold  Sell   Buy  \n",
       "2  Hold  Sell   Buy  Hold  Sell  \n",
       "3   Buy  Hold  Sell   Buy  Hold  \n",
       "4  Hold  Sell  Hold   Buy  Sell  "
      ]
     },
     "execution_count": 114,
     "metadata": {},
     "output_type": "execute_result"
    }
   ],
   "source": [
    "dummy_df = pd.read_csv('dummy_signals.csv')\n",
    "dummy_df.head()"
   ]
  },
  {
   "cell_type": "code",
   "execution_count": 115,
   "id": "505f13c8-562f-45f9-b5f2-53ebcb189e1c",
   "metadata": {},
   "outputs": [],
   "source": [
    "def get_buy_tickers(date, df):\n",
    "    # Filter the row corresponding to the given date\n",
    "    row = df[df['Date'] == date]\n",
    "    \n",
    "    if row.empty: # debug statement\n",
    "        raise ValueError(f\"No data found for date: {date}\")\n",
    "\n",
    "    buy_tickers = [ticker for ticker in df.columns[1:] if row[ticker].values[0] == 'Buy']\n",
    "    \n",
    "    return buy_tickers"
   ]
  },
  {
   "cell_type": "markdown",
   "id": "05ae3c65-b04a-4775-ae2a-77f024aead62",
   "metadata": {},
   "source": [
    "We can test the function once more, by choosing a random date. The method takes a dataframe as argument to ensure it can be used for different csv files, resultant of different models."
   ]
  },
  {
   "cell_type": "code",
   "execution_count": 116,
   "id": "1037d3f2-7277-4e74-859c-45fb2f9ce62d",
   "metadata": {},
   "outputs": [
    {
     "data": {
      "text/plain": [
       "['GOOG', 'AMZN', 'NVDA', 'INTC', 'ADBE']"
      ]
     },
     "execution_count": 116,
     "metadata": {},
     "output_type": "execute_result"
    }
   ],
   "source": [
    "get_buy_tickers(\"2024-01-04\", dummy_df)"
   ]
  },
  {
   "cell_type": "markdown",
   "id": "6fa4a056-0cea-4e03-8736-73585dd1e967",
   "metadata": {},
   "source": [
    "### Choose a random subset to buy\n",
    "\n",
    "From the list of stocks with buy signals, it's not optimal to buy all of them. Instead we choose a small number (3-10) of stocks to buy that day."
   ]
  },
  {
   "cell_type": "code",
   "execution_count": 117,
   "id": "4ddb7e69-e164-4c23-8a97-cb8237e1676c",
   "metadata": {},
   "outputs": [],
   "source": [
    "def choose_random_stocks(stocks, n):\n",
    "    # If the list has 3 or fewer stocks, return the list itself\n",
    "    if len(stocks) <= 1:\n",
    "        return stocks\n",
    "\n",
    "    # Guarantee that n doesn't exceed the number of stocks available\n",
    "    n = min(n, len(stocks))\n",
    "    \n",
    "    # Randomly select n stocks\n",
    "    return random.sample(stocks, n)\n"
   ]
  },
  {
   "cell_type": "markdown",
   "id": "43998886-a0ea-46dd-a7a0-ba60deba402d",
   "metadata": {},
   "source": [
    "To test, we define a list of random tickers, and guarantee it chooses correctly."
   ]
  },
  {
   "cell_type": "code",
   "execution_count": 118,
   "id": "efe686fa-ce60-4d98-ba13-a5e5dfd048db",
   "metadata": {},
   "outputs": [
    {
     "data": {
      "text/plain": [
       "['META', 'NFLX', 'TSLA', 'NVDA', 'PYPL', 'AMZN', 'AAPL']"
      ]
     },
     "execution_count": 118,
     "metadata": {},
     "output_type": "execute_result"
    }
   ],
   "source": [
    "possible_stocks = [\n",
    "    \"AAPL\", \"MSFT\", \"GOOG\", \"META\", \"TSLA\",  \n",
    "    \"AMZN\", \"NFLX\", \"NVDA\", \"AMD\", \"INTC\",  \n",
    "    \"BABA\", \"CRM\", \"ADBE\", \"PYPL\", \"SQ\"\n",
    "]\n",
    "n = random.randint(3,10)\n",
    "\n",
    "selected_stocks = choose_random_stocks(possible_stocks, n)\n",
    "selected_stocks"
   ]
  },
  {
   "cell_type": "markdown",
   "id": "259e3ab7-e1f1-4301-a307-7560fb272b4d",
   "metadata": {},
   "source": [
    "### Update variables\n",
    "\n",
    "Now we just need to update the inventory, with the new stocks bought, as well as the money available, to which needs the removal of the cost of the stocks, and the fees.\n",
    "\n",
    "We will also define another methods to get the close price of a stock, for a given ticker and date, and we will store the total value (**balance + owned stocks**) to a dataframe, to later visualize the divergence of the random choices inherent to the algorithm.\n",
    "\n",
    "During the project, we will consider the close price of the day before the buy price for today, instead of the opening price."
   ]
  },
  {
   "cell_type": "markdown",
   "id": "5b8a45dc-0054-4e06-94c7-fccae9eb8d0f",
   "metadata": {},
   "source": [
    "#### Update inventory\n",
    "\n",
    "We can update the inventory with no restrictions, with the following method, that **returns the updated inventory** after a purchase."
   ]
  },
  {
   "cell_type": "code",
   "execution_count": 119,
   "id": "804b6862-57fa-4658-bfc2-43456ace22f9",
   "metadata": {},
   "outputs": [
    {
     "data": {
      "text/plain": [
       "{'AAPL': 15, 'MSFT': 10, 'GOOG': 2, 'NFLX': 2}"
      ]
     },
     "execution_count": 119,
     "metadata": {},
     "output_type": "execute_result"
    }
   ],
   "source": [
    "def update_inventory(inventory, purchase):\n",
    "    # Update inventory for the purchased stock\n",
    "    new_inventory = inventory.copy()\n",
    "    \n",
    "    for ticker, amount in purchase.items():\n",
    "        if ticker in new_inventory:\n",
    "            new_inventory[ticker] += amount\n",
    "        else:\n",
    "            new_inventory[ticker] = amount\n",
    "\n",
    "    return new_inventory\n",
    "\n",
    "example_inventory = {\"AAPL\": 10, \"MSFT\": 5, \"GOOG\": 2}\n",
    "example_purchase = {\"AAPL\": 5, \"MSFT\": 5, \"NFLX\": 2}\n",
    "\n",
    "updated_inventory = update_inventory(example_inventory, example_purchase)\n",
    "\n",
    "updated_inventory"
   ]
  },
  {
   "cell_type": "markdown",
   "id": "78f9561c-57f4-4039-bfd8-f582e9253ddc",
   "metadata": {},
   "source": [
    "#### Update balance\n",
    "\n",
    "We need to keep track of the balance and the inventory value, so we have a sense of performance during the algorithm. To get the closing price for a ticker and date we use the method below."
   ]
  },
  {
   "cell_type": "code",
   "execution_count": 120,
   "id": "77265ccf-72a4-46d8-8078-63674624821b",
   "metadata": {
    "scrolled": true
   },
   "outputs": [
    {
     "data": {
      "text/plain": [
       "181.91"
      ]
     },
     "execution_count": 120,
     "metadata": {},
     "output_type": "execute_result"
    }
   ],
   "source": [
    "clean_dir = \"./clean_csvs/\"\n",
    "\n",
    "def get_close_price(ticker, date):\n",
    "    # Build path to file\n",
    "    path = clean_dir + ticker + \".csv\"\n",
    "    df = pd.read_csv(path)\n",
    "    \n",
    "    price_row = df[(df['Date'] == date)]\n",
    "    \n",
    "    return round(float(price_row['Close'].values[0]), 2) # rounded to 2f\n",
    "\n",
    "get_close_price(\"AAPL\", \"2024-01-04\")"
   ]
  },
  {
   "cell_type": "markdown",
   "id": "3eae0435-e309-4314-920c-02106914f397",
   "metadata": {},
   "source": [
    "Using the method above, we can calculate the value of the inventory for a given date. \n",
    "\n",
    "The next method calculates the value of a dictionary on the format {Ticker: Qty}, that being a purchase or the inventory itself."
   ]
  },
  {
   "cell_type": "code",
   "execution_count": 121,
   "id": "1f8b96d1-a33e-4a6d-95ed-ce682c06386d",
   "metadata": {},
   "outputs": [
    {
     "data": {
      "text/plain": [
       "3934.88"
      ]
     },
     "execution_count": 121,
     "metadata": {},
     "output_type": "execute_result"
    }
   ],
   "source": [
    "def calculate_inventory_value(inventory, date):\n",
    "    total_value = 0.0\n",
    "    \n",
    "    for ticker, qty in inventory.items():\n",
    "        # Get the close price for the ticker on the specified date\n",
    "        close_price = get_close_price(ticker, date)\n",
    "        \n",
    "        # Calculate the value for the ticker and add to the total\n",
    "        total_value += close_price * qty\n",
    "    \n",
    "    return round(total_value, 2)\n",
    "\n",
    "example_inventory = {\"AAPL\": 10, \"MSFT\": 5, \"GOOG\": 2}\n",
    "example_date = \"2024-01-04\"\n",
    "\n",
    "calculate_inventory_value(example_inventory, example_date)"
   ]
  },
  {
   "cell_type": "markdown",
   "id": "587d7660-5707-43d9-9ba9-ca5c9e86c34e",
   "metadata": {},
   "source": [
    "Now we can implement a function that updates all variables and connects the concepts above. There are a lot of debug statements helpful for managing the code comprehension."
   ]
  },
  {
   "cell_type": "code",
   "execution_count": 122,
   "id": "ccd7f6f5-4abd-478d-a0af-73bcc875b5f0",
   "metadata": {},
   "outputs": [
    {
     "name": "stdout",
     "output_type": "stream",
     "text": [
      "Updated Inventory: {'AAPL': 15, 'MSFT': 10, 'GOOG': 2, 'NFLX': 2} (merge of the two)\n",
      "Updated Inventory Value: 7633.47\n",
      "Updated Balance: 3298.41\n"
     ]
    }
   ],
   "source": [
    "def update(old_inventory, purchase, old_balance, buy_date):\n",
    "    # Inventory update\n",
    "    new_inventory = update_inventory(old_inventory, purchase)\n",
    "\n",
    "    # Inventory value update\n",
    "    new_inventory_value = calculate_inventory_value(new_inventory, buy_date)\n",
    "\n",
    "    # Calculate purchase price\n",
    "    purchase_price = calculate_inventory_value(purchase, buy_date)\n",
    "    #print(f\"Initial purchase price: {purchase_price}\")  \n",
    "\n",
    "    fee = len(purchase.keys())  # 1$ per ticker\n",
    "    #print(f\"Fee for purchase: {fee}\")  \n",
    "    \n",
    "    # Subtract the fee from the purchase price\n",
    "    purchase_price += fee \n",
    "    \n",
    "    #print(f\"Purchase price after fee: {purchase_price}\")  # Debugging stepsw2\n",
    "    \n",
    "    # Calculate new balance\n",
    "    new_balance = old_balance - purchase_price\n",
    "\n",
    "    return new_inventory, new_inventory_value, new_balance\n",
    "\n",
    "# Example Usage\n",
    "example_balance = 7000\n",
    "example_inventory = {\"AAPL\": 10, \"MSFT\": 5, \"GOOG\": 2}\n",
    "example_purchase = {\"AAPL\": 5, \"MSFT\": 5, \"NFLX\": 2}\n",
    "example_date = \"2024-01-04\"\n",
    "\n",
    "a, b, c = update(example_inventory, example_purchase, example_balance, example_date)\n",
    "print(f\"Updated Inventory: {a} (merge of the two)\\nUpdated Inventory Value: {b}\\nUpdated Balance: {c}\")\n"
   ]
  },
  {
   "cell_type": "markdown",
   "id": "35264f56-bfbc-4b72-b603-fce76260734f",
   "metadata": {},
   "source": [
    "## Implementation\n",
    "\n",
    "Following the methodology above described and the pseudocode, we can make a simulation for one day. We defined the minimum amount of stock to be bought in one day as 50, but can be changed if needed.\n",
    "\n",
    "The procedure is the following:\n",
    "- Get the list of tickers with a buy signal for the day,\n",
    "- Get a subset of those, of size stock_no, TBA,\n",
    "- Buy 3 to 5 stocks total, of that subset,\n",
    "- Update variables.\n",
    "\n",
    "There are 4 tunable variables to be discussed later:\n",
    "- stock_no,\n",
    "- balance,\n",
    "- inside distribute_stocks, the random.randint(),\n",
    "- inside the distribute stocks method, minimum buy"
   ]
  },
  {
   "cell_type": "code",
   "execution_count": 123,
   "id": "c5f605ac-7911-4530-8739-24b86ce80447",
   "metadata": {},
   "outputs": [
    {
     "name": "stdout",
     "output_type": "stream",
     "text": [
      "Updated Inventory: {'ADBE': 1, 'AMZN': 1, 'NVDA': 2}\n",
      "Updated Inventory Value: 807.62\n",
      "Updated Balance: 9189\n"
     ]
    }
   ],
   "source": [
    "inventory = {}\n",
    "balance = 10000\n",
    "\n",
    "date = \"2024-01-04\"\n",
    "stock_no = 3   \n",
    "\n",
    "#print(stock_no)\n",
    "buy_tickers = get_buy_tickers(date, dummy_df) \n",
    "#print(buy_tickers)\n",
    "list_buy_stocks = choose_random_stocks(buy_tickers, stock_no)\n",
    "#print(list_buy_stocks)\n",
    "purchase = distribute_stocks(random.randint(3,5), list_buy_stocks)  # Get the distribution of stocks to buy\n",
    "a, b, c = update(inventory, purchase, balance, date)\n",
    "print(f\"Updated Inventory: {a}\\nUpdated Inventory Value: {b}\\nUpdated Balance: {round(c)}\")\n"
   ]
  },
  {
   "cell_type": "markdown",
   "id": "c062689a-91ba-44e0-9bdb-685fc5ba823a",
   "metadata": {},
   "source": [
    "### Iteration through the month\n",
    "\n",
    "Now, we need to iterate through each row of the dataframe, and do the procedure."
   ]
  },
  {
   "cell_type": "code",
   "execution_count": 124,
   "id": "eb93dfb9-3321-4024-8446-ca835347b76d",
   "metadata": {
    "scrolled": true
   },
   "outputs": [
    {
     "name": "stdout",
     "output_type": "stream",
     "text": [
      "Date: 2024-01-02\n",
      "Purchase: {'AAPL': 2, 'META': 1, 'NFLX': 2}\n",
      "Updated Inventory: {'AAPL': 2, 'META': 1, 'NFLX': 2}\n",
      "Updated Inventory Value: 1654.57\n",
      "Updated Balance: 98342\n",
      "\n",
      "Date: 2024-01-03\n",
      "Purchase: {'NFLX': 1, 'AMD': 2, 'CRM': 2}\n",
      "Updated Inventory: {'AAPL': 2, 'META': 1, 'NFLX': 3, 'AMD': 2, 'CRM': 2}\n",
      "Updated Inventory Value: 2898.07\n",
      "Updated Balance: 97095\n",
      "\n",
      "Date: 2024-01-04\n",
      "Purchase: {'AMZN': 1, 'INTC': 2, 'GOOG': 2}\n",
      "Updated Inventory: {'AAPL': 2, 'META': 1, 'NFLX': 3, 'AMD': 2, 'CRM': 2, 'AMZN': 1, 'INTC': 2, 'GOOG': 2}\n",
      "Updated Inventory Value: 3423.84\n",
      "Updated Balance: 96577\n",
      "\n",
      "Date: 2024-01-05\n",
      "Purchase: {'AAPL': 2, 'SPGI': 1, 'PYPL': 2}\n",
      "Updated Inventory: {'AAPL': 4, 'META': 1, 'NFLX': 3, 'AMD': 2, 'CRM': 2, 'AMZN': 1, 'INTC': 2, 'GOOG': 2, 'SPGI': 1, 'PYPL': 2}\n",
      "Updated Inventory Value: 4340.22\n",
      "Updated Balance: 95664\n",
      "\n",
      "Date: 2024-01-08\n",
      "Purchase: {'MSFT': 2, 'PYPL': 1, 'NFLX': 1}\n",
      "Updated Inventory: {'AAPL': 4, 'META': 1, 'NFLX': 4, 'AMD': 2, 'CRM': 2, 'AMZN': 1, 'INTC': 2, 'GOOG': 2, 'SPGI': 1, 'PYPL': 3, 'MSFT': 2}\n",
      "Updated Inventory Value: 5748.95\n",
      "Updated Balance: 94365\n",
      "\n",
      "Date: 2024-01-09\n",
      "Purchase: {'PYPL': 1, 'SPGI': 1, 'NVDA': 2}\n",
      "Updated Inventory: {'AAPL': 4, 'META': 1, 'NFLX': 4, 'AMD': 2, 'CRM': 2, 'AMZN': 1, 'INTC': 2, 'GOOG': 2, 'SPGI': 2, 'PYPL': 4, 'MSFT': 2, 'NVDA': 2}\n",
      "Updated Inventory Value: 6342.54\n",
      "Updated Balance: 93764\n",
      "\n",
      "Date: 2024-01-10\n",
      "Purchase: {'AMZN': 2, 'AAPL': 1, 'SPGI': 1}\n",
      "Updated Inventory: {'AAPL': 5, 'META': 1, 'NFLX': 4, 'AMD': 2, 'CRM': 2, 'AMZN': 3, 'INTC': 2, 'GOOG': 2, 'SPGI': 3, 'PYPL': 4, 'MSFT': 2, 'NVDA': 2}\n",
      "Updated Inventory Value: 7301.28\n",
      "Updated Balance: 92834\n",
      "\n",
      "Date: 2024-01-11\n",
      "Purchase: {'ADBE': 1, 'GOOG': 1, 'NVDA': 1}\n",
      "Updated Inventory: {'AAPL': 5, 'META': 1, 'NFLX': 4, 'AMD': 2, 'CRM': 2, 'AMZN': 3, 'INTC': 2, 'GOOG': 3, 'SPGI': 3, 'PYPL': 4, 'MSFT': 2, 'NVDA': 3, 'ADBE': 1}\n",
      "Updated Inventory Value: 8176.35\n",
      "Updated Balance: 92036\n",
      "\n",
      "Date: 2024-01-12\n",
      "Purchase: {'CRM': 1, 'META': 1, 'AMD': 1}\n",
      "Updated Inventory: {'AAPL': 5, 'META': 2, 'NFLX': 4, 'AMD': 3, 'CRM': 3, 'AMZN': 3, 'INTC': 2, 'GOOG': 3, 'SPGI': 3, 'PYPL': 4, 'MSFT': 2, 'NVDA': 3, 'ADBE': 1}\n",
      "Updated Inventory Value: 8986.12\n",
      "Updated Balance: 91240\n",
      "\n",
      "Date: 2024-01-16\n",
      "Purchase: {'AAPL': 1, 'TSLA': 1, 'GOOG': 3}\n",
      "Updated Inventory: {'AAPL': 6, 'META': 2, 'NFLX': 4, 'AMD': 3, 'CRM': 3, 'AMZN': 3, 'INTC': 2, 'GOOG': 6, 'SPGI': 3, 'PYPL': 4, 'MSFT': 2, 'NVDA': 3, 'ADBE': 1, 'TSLA': 1}\n",
      "Updated Inventory Value: 9774.25\n",
      "Updated Balance: 90401\n",
      "\n",
      "--------------------------------------------\n",
      "Final Balance: 90400.76000000001\n",
      "Final Inventory Value: 9774.25\n",
      "Total: 100175.01000000001\n"
     ]
    }
   ],
   "source": [
    "# Initial values\n",
    "inventory = {}\n",
    "balance = 100000\n",
    "\n",
    "# Iterate through the DataFrame\n",
    "for index, row in dummy_df.iterrows():\n",
    "    date = row[\"Date\"]\n",
    "    #print(date)\n",
    "\n",
    "    # Generate stock number and determine tickers to buy\n",
    "    stock_no = 3  # Fixed stock number\n",
    "    buy_tickers = get_buy_tickers(date, dummy_df)  # Get tickers with \"Buy\" signal\n",
    "    list_buy_stocks = choose_random_stocks(buy_tickers, stock_no)  # Random selection\n",
    "    purchase = distribute_stocks(random.randint(3, 5), list_buy_stocks)  # Distribute stock purchases\n",
    "\n",
    "    # Update inventory, value, and balance\n",
    "    inventory, inventory_value, balance = update(inventory, purchase, balance, date)\n",
    "\n",
    "    # Print results for this iteration\n",
    "    print(f\"Date: {date}\")\n",
    "    print(f\"Purchase: {purchase}\")\n",
    "    print(f\"Updated Inventory: {inventory}\")\n",
    "    print(f\"Updated Inventory Value: {inventory_value}\")\n",
    "    print(f\"Updated Balance: {round(balance)}\\n\")\n",
    "\n",
    "    #sleep(1)\n",
    "\n",
    "print(f\"--------------------------------------------\\nFinal Balance: {balance}\")\n",
    "print(f\"Final Inventory Value: {inventory_value}\")\n",
    "print(f\"Total: {balance+inventory_value}\")\n",
    "\n"
   ]
  },
  {
   "cell_type": "markdown",
   "id": "67c1f766-ae97-4d88-bb3e-8071b5c8ac31",
   "metadata": {},
   "source": [
    "### Simulations\n",
    "\n",
    "We can put all inside a function, and call that function ***n times***, corresponding to n simulations. We also considered to write a log file, and put exceptions for the dates not matching with the supposed. \n",
    "\n",
    "For that we define the method **simulation()** that simulates one full iteration through the dataframe, considering as attributes the initial money available. the balance and dataframe.\n",
    "\n",
    "Based on an early attempt of montecarlo for the individual stock, in the `tesla_normalization_montecarlo.ipynb` file, we will use a [**pd.Series()**](https://pandas.pydata.org/docs/reference/api/pandas.Series.html) to store the values, to then plot some graphs."
   ]
  },
  {
   "cell_type": "code",
   "execution_count": 139,
   "id": "4ac663e3-88ad-447d-844d-b9eddc165fce",
   "metadata": {},
   "outputs": [
    {
     "data": {
      "text/plain": [
       "({'ADBE': 2,\n",
       "  'META': 2,\n",
       "  'AAPL': 3,\n",
       "  'TSLA': 5,\n",
       "  'SMCI': 3,\n",
       "  'CRM': 2,\n",
       "  'AMZN': 3,\n",
       "  'INTC': 3,\n",
       "  'NVDA': 4,\n",
       "  'SPGI': 3,\n",
       "  'PYPL': 3,\n",
       "  'NFLX': 3,\n",
       "  'GOOG': 3,\n",
       "  'AMD': 1},\n",
       " 99962,\n",
       " 0     99997.00\n",
       " 1     99982.51\n",
       " 2     99974.26\n",
       " 3     99974.03\n",
       " 4    100035.37\n",
       " 5    100007.75\n",
       " 6    100031.36\n",
       " 7    100029.25\n",
       " 8     99993.76\n",
       " 9     99961.92\n",
       " dtype: float64)"
      ]
     },
     "execution_count": 139,
     "metadata": {},
     "output_type": "execute_result"
    }
   ],
   "source": [
    "def simulation(iteration, inventory, balance, df): # starts as {}, \n",
    "    # Open the log file in append mode\n",
    "    daily_series = pd.Series(dtype=float)\n",
    "    \n",
    "    with open(log_file_path, \"a\") as log_file:\n",
    "        log_file.write(f\"\\n{'=' * 50}\\n\")  # Top border of the box\n",
    "        log_file.write(f\"|{'Iteration  ' + str(iteration):^50}|\\n\")  # Center the text with padding\n",
    "        log_file.write(f\"{'=' * 50}\\n\")  # Bottom border of the box\n",
    "\n",
    "        for index, row in df.iterrows():\n",
    "            date = row[\"Date\"]\n",
    "    \n",
    "            try:\n",
    "                # Generate stock number and determine tickers to buy\n",
    "                stock_no = 3\n",
    "                buy_tickers = get_buy_tickers(date, df)\n",
    "                if buy_tickers == []: # if no tickers with a buying signal, need exception\n",
    "                    log_file.write(f\"No stocks with a buying signal for the date {date}.\\n\")\n",
    "\n",
    "                    # create variables the same way with null purchase\n",
    "                    purchase = {}\n",
    "                    inventory, inventory_value, balance = update(inventory, purchase, balance, date)\n",
    "\n",
    "                    daily_series[index] = balance + inventory_value\n",
    "                else:\n",
    "                    list_buy_stocks = choose_random_stocks(buy_tickers, stock_no)\n",
    "                    \n",
    "                    purchase = distribute_stocks(random.randint(3, 5), list_buy_stocks)\n",
    "        \n",
    "                    # Update inventory, value, and balance\n",
    "                    inventory, inventory_value, balance = update(inventory, purchase, balance, date)\n",
    "        \n",
    "                    # Write results for this iteration to log file\n",
    "                    log_file.write(f\"\\nDate: {date}\\n\")\n",
    "                    log_file.write(f\"Available (with buy signal): {buy_tickers}\\n\")\n",
    "                    log_file.write(f\"Purchase: {purchase}\\n\")\n",
    "                    log_file.write(f\"Updated Inventory: {inventory}\\n\")\n",
    "                    log_file.write(f\"Updated Inventory Value: {inventory_value}\\n\")\n",
    "                    log_file.write(f\"Updated Balance: {round(balance)}\\n\\n\")\n",
    "    \n",
    "                    # append to series\n",
    "                    daily_series[index] = balance + inventory_value\n",
    "                \n",
    "    \n",
    "            except ValueError as e:\n",
    "                log_file.write(f\"Error processing data for date {date}: {e}\\n\\n\")\n",
    "\n",
    "        log_file.write(\"--------------------------------------------------------------------------------------\\n\")\n",
    "\n",
    "    return inventory, round(balance + inventory_value), daily_series\n",
    "\n",
    "log_file_path = \"log.txt\"\n",
    "\n",
    "# restart the log\n",
    "with open(log_file_path, \"w\") as log_file:\n",
    "    log_file.write(\"\")\n",
    "    \n",
    "simulation(0, {}, 100000, dummy_df)\n"
   ]
  },
  {
   "cell_type": "markdown",
   "id": "c4764de2-c6ca-4d21-a432-2b64aa60963b",
   "metadata": {},
   "source": [
    "Now we can put it inside a \"for i in range()\" cycle, to simulate the number of simulations, and in the end keep the best one.\n",
    "\n",
    "We will use `tqdm` module to add a loading bar, and use the `time` module to evaluate the final running time."
   ]
  },
  {
   "cell_type": "code",
   "execution_count": 145,
   "id": "0d1250cb-27d4-4521-87dd-9d4611b3dfb3",
   "metadata": {},
   "outputs": [
    {
     "name": "stderr",
     "output_type": "stream",
     "text": [
      "Running Simulations: 100%|████████████████████████| 5/5 [00:01<00:00,  2.73it/s]"
     ]
    },
    {
     "name": "stdout",
     "output_type": "stream",
     "text": [
      "Best (Final) Inventory: {'META': 4, 'INTC': 3, 'AAPL': 2, 'AMD': 3, 'MSFT': 5, 'NFLX': 2, 'AMZN': 3, 'ADBE': 3, 'PYPL': 2, 'SPGI': 3, 'GOOG': 2, 'NVDA': 2, 'SMCI': 1, 'TSLA': 2, 'CRM': 4}\n",
      "Best Value: 100238\n",
      "Total Runtime: 1.83 seconds\n"
     ]
    },
    {
     "name": "stderr",
     "output_type": "stream",
     "text": [
      "\n"
     ]
    }
   ],
   "source": [
    "def montecarlo(df, no_iterations):\n",
    "    results = pd.DataFrame()\n",
    "    # Initialize baseline values\n",
    "    best_inv = {}\n",
    "    best_value = -1\n",
    "    baseline_value = 100000\n",
    "    \n",
    "    # Measure total runtime\n",
    "    start = time.time()\n",
    "    \n",
    "    # Add tqdm for progress bar\n",
    "    for iteration in tqdm(range(no_iterations), desc=\"Running Simulations\"):\n",
    "        # Perform the simulation\n",
    "        i, v, daily_series = simulation(iteration+1, {}, baseline_value, df)\n",
    "\n",
    "        results[f\"Simulation_{iteration}\"] = daily_series.values\n",
    "        \n",
    "        if v > best_value:\n",
    "            best_value = v\n",
    "            best_inv = i\n",
    "        \n",
    "        \n",
    "    end = time.time()\n",
    "    total_time = end - start\n",
    "\n",
    "    return total_time, best_inv, best_value, results\n",
    "        \n",
    "running_time, best_inventory, best_value, dummy_results = montecarlo(dummy_df, 5) \n",
    "\n",
    "print(f\"Best (Final) Inventory: {best_inventory}\")\n",
    "print(f\"Best Value: {best_value}\")\n",
    "print(f\"Total Runtime: {running_time:.2f} seconds\")\n"
   ]
  },
  {
   "cell_type": "markdown",
   "id": "916de9f4-6bd7-4de0-8509-93ad6a9184c7",
   "metadata": {},
   "source": [
    "Now we can plot the different simulations, and see how the price of the assets, inventory and balance, floating through the days of simulation.\n",
    "\n",
    "**Disclaimer**: Dummy csv used, this plot is an example, and purely random."
   ]
  },
  {
   "cell_type": "code",
   "execution_count": 146,
   "id": "c6f46878-6d8a-4819-96ed-c8eaca5a086d",
   "metadata": {},
   "outputs": [
    {
     "data": {
      "image/png": "[encoded data removed]",
      "text/plain": [
       "<Figure size 1000x500 with 1 Axes>"
      ]
     },
     "metadata": {},
     "output_type": "display_data"
    }
   ],
   "source": [
    "plt.figure(figsize=(10,5))\n",
    "plt.plot(dummy_results)\n",
    "plt.ylabel('Value')\n",
    "plt.xlabel('Simulated days')\n",
    "plt.show()"
   ]
  },
  {
   "cell_type": "markdown",
   "id": "eadb50ae-3254-4101-9f26-e60449d6bc74",
   "metadata": {},
   "source": [
    "## LSTM\n",
    "\n",
    "We can finally, implement all this work, but not the dummy file, but for the dataset resultant of the LSTM.\n",
    "\n",
    "To summarise the process, we trained an LSTM for all the csvs mentioned and generated on the `report.ipynb`, and we did the following procedure:\n",
    "\n",
    "- Using [pd.pct_change()*](https://pandas.pydata.org/docs/reference/api/pandas.DataFrame.pct_change.html), we calculate the price flutuation for the stocks, for that given month, in percentage.\n",
    "- We selected an adjustable threshold for a percentage, to be significant enough to generate a buying signal. It's key that such threshold isn't too small (and captures insignificant variations), not too high that (so it doesn't capture any significant flutuation at all).\n",
    "- We generate the csv, following the same format as the one used above. "
   ]
  },
  {
   "cell_type": "code",
   "execution_count": 147,
   "id": "269074c1-3d26-4a45-adc8-0a93b65340de",
   "metadata": {},
   "outputs": [
    {
     "data": {
      "text/html": [
       "<div>\n",
       "<style scoped>\n",
       "    .dataframe tbody tr th:only-of-type {\n",
       "        vertical-align: middle;\n",
       "    }\n",
       "\n",
       "    .dataframe tbody tr th {\n",
       "        vertical-align: top;\n",
       "    }\n",
       "\n",
       "    .dataframe thead th {\n",
       "        text-align: right;\n",
       "    }\n",
       "</style>\n",
       "<table border=\"1\" class=\"dataframe\">\n",
       "  <thead>\n",
       "    <tr style=\"text-align: right;\">\n",
       "      <th></th>\n",
       "      <th>Date</th>\n",
       "      <th>AAPL</th>\n",
       "      <th>ABBV</th>\n",
       "      <th>ABNB</th>\n",
       "      <th>ABT</th>\n",
       "      <th>ACGL</th>\n",
       "      <th>ACN</th>\n",
       "      <th>ADBE</th>\n",
       "      <th>ADI</th>\n",
       "      <th>ADM</th>\n",
       "      <th>...</th>\n",
       "      <th>WTW</th>\n",
       "      <th>WYNN</th>\n",
       "      <th>WY</th>\n",
       "      <th>XEL</th>\n",
       "      <th>XOM</th>\n",
       "      <th>XYL</th>\n",
       "      <th>YUM</th>\n",
       "      <th>ZBH</th>\n",
       "      <th>ZBRA</th>\n",
       "      <th>ZTS</th>\n",
       "    </tr>\n",
       "  </thead>\n",
       "  <tbody>\n",
       "    <tr>\n",
       "      <th>0</th>\n",
       "      <td>2024-01-02</td>\n",
       "      <td>Hold</td>\n",
       "      <td>Hold</td>\n",
       "      <td>Hold</td>\n",
       "      <td>Hold</td>\n",
       "      <td>Hold</td>\n",
       "      <td>Hold</td>\n",
       "      <td>Hold</td>\n",
       "      <td>Hold</td>\n",
       "      <td>Hold</td>\n",
       "      <td>...</td>\n",
       "      <td>Hold</td>\n",
       "      <td>Buy</td>\n",
       "      <td>Hold</td>\n",
       "      <td>Hold</td>\n",
       "      <td>Hold</td>\n",
       "      <td>Hold</td>\n",
       "      <td>Hold</td>\n",
       "      <td>Hold</td>\n",
       "      <td>Hold</td>\n",
       "      <td>Hold</td>\n",
       "    </tr>\n",
       "    <tr>\n",
       "      <th>1</th>\n",
       "      <td>2024-01-03</td>\n",
       "      <td>Hold</td>\n",
       "      <td>Hold</td>\n",
       "      <td>Hold</td>\n",
       "      <td>Hold</td>\n",
       "      <td>Hold</td>\n",
       "      <td>Hold</td>\n",
       "      <td>Hold</td>\n",
       "      <td>Hold</td>\n",
       "      <td>Hold</td>\n",
       "      <td>...</td>\n",
       "      <td>Hold</td>\n",
       "      <td>Hold</td>\n",
       "      <td>Hold</td>\n",
       "      <td>Hold</td>\n",
       "      <td>Hold</td>\n",
       "      <td>Hold</td>\n",
       "      <td>Hold</td>\n",
       "      <td>Hold</td>\n",
       "      <td>Hold</td>\n",
       "      <td>Hold</td>\n",
       "    </tr>\n",
       "    <tr>\n",
       "      <th>2</th>\n",
       "      <td>2024-01-04</td>\n",
       "      <td>Sell</td>\n",
       "      <td>Hold</td>\n",
       "      <td>Hold</td>\n",
       "      <td>Hold</td>\n",
       "      <td>Hold</td>\n",
       "      <td>Hold</td>\n",
       "      <td>Hold</td>\n",
       "      <td>Sell</td>\n",
       "      <td>Hold</td>\n",
       "      <td>...</td>\n",
       "      <td>Hold</td>\n",
       "      <td>Hold</td>\n",
       "      <td>Hold</td>\n",
       "      <td>Hold</td>\n",
       "      <td>Hold</td>\n",
       "      <td>Hold</td>\n",
       "      <td>Hold</td>\n",
       "      <td>Hold</td>\n",
       "      <td>Hold</td>\n",
       "      <td>Hold</td>\n",
       "    </tr>\n",
       "    <tr>\n",
       "      <th>3</th>\n",
       "      <td>2024-01-05</td>\n",
       "      <td>Sell</td>\n",
       "      <td>Hold</td>\n",
       "      <td>Hold</td>\n",
       "      <td>Hold</td>\n",
       "      <td>Hold</td>\n",
       "      <td>Hold</td>\n",
       "      <td>Hold</td>\n",
       "      <td>Hold</td>\n",
       "      <td>Hold</td>\n",
       "      <td>...</td>\n",
       "      <td>Hold</td>\n",
       "      <td>Hold</td>\n",
       "      <td>Hold</td>\n",
       "      <td>Hold</td>\n",
       "      <td>Hold</td>\n",
       "      <td>Hold</td>\n",
       "      <td>Hold</td>\n",
       "      <td>Hold</td>\n",
       "      <td>Hold</td>\n",
       "      <td>Hold</td>\n",
       "    </tr>\n",
       "    <tr>\n",
       "      <th>4</th>\n",
       "      <td>2024-01-08</td>\n",
       "      <td>Hold</td>\n",
       "      <td>Hold</td>\n",
       "      <td>Hold</td>\n",
       "      <td>Hold</td>\n",
       "      <td>Hold</td>\n",
       "      <td>Hold</td>\n",
       "      <td>Hold</td>\n",
       "      <td>Hold</td>\n",
       "      <td>Hold</td>\n",
       "      <td>...</td>\n",
       "      <td>Hold</td>\n",
       "      <td>Buy</td>\n",
       "      <td>Hold</td>\n",
       "      <td>Hold</td>\n",
       "      <td>Hold</td>\n",
       "      <td>Hold</td>\n",
       "      <td>Hold</td>\n",
       "      <td>Hold</td>\n",
       "      <td>Hold</td>\n",
       "      <td>Hold</td>\n",
       "    </tr>\n",
       "  </tbody>\n",
       "</table>\n",
       "<p>5 rows × 500 columns</p>\n",
       "</div>"
      ],
      "text/plain": [
       "         Date  AAPL  ABBV  ABNB   ABT  ACGL   ACN  ADBE   ADI   ADM  ...  \\\n",
       "0  2024-01-02  Hold  Hold  Hold  Hold  Hold  Hold  Hold  Hold  Hold  ...   \n",
       "1  2024-01-03  Hold  Hold  Hold  Hold  Hold  Hold  Hold  Hold  Hold  ...   \n",
       "2  2024-01-04  Sell  Hold  Hold  Hold  Hold  Hold  Hold  Sell  Hold  ...   \n",
       "3  2024-01-05  Sell  Hold  Hold  Hold  Hold  Hold  Hold  Hold  Hold  ...   \n",
       "4  2024-01-08  Hold  Hold  Hold  Hold  Hold  Hold  Hold  Hold  Hold  ...   \n",
       "\n",
       "    WTW  WYNN    WY   XEL   XOM   XYL   YUM   ZBH  ZBRA   ZTS  \n",
       "0  Hold   Buy  Hold  Hold  Hold  Hold  Hold  Hold  Hold  Hold  \n",
       "1  Hold  Hold  Hold  Hold  Hold  Hold  Hold  Hold  Hold  Hold  \n",
       "2  Hold  Hold  Hold  Hold  Hold  Hold  Hold  Hold  Hold  Hold  \n",
       "3  Hold  Hold  Hold  Hold  Hold  Hold  Hold  Hold  Hold  Hold  \n",
       "4  Hold   Buy  Hold  Hold  Hold  Hold  Hold  Hold  Hold  Hold  \n",
       "\n",
       "[5 rows x 500 columns]"
      ]
     },
     "execution_count": 147,
     "metadata": {},
     "output_type": "execute_result"
    }
   ],
   "source": [
    "df_lstm1 = pd.read_csv('lstm_1pct.csv')\n",
    "df_lstm1.head()"
   ]
  },
  {
   "cell_type": "code",
   "execution_count": 148,
   "id": "b0ba11c9-23a7-46f4-8816-42dd0450eb9a",
   "metadata": {},
   "outputs": [
    {
     "name": "stderr",
     "output_type": "stream",
     "text": [
      "Running Simulations: 100%|████████████████████████| 5/5 [00:06<00:00,  1.30s/it]"
     ]
    },
    {
     "name": "stdout",
     "output_type": "stream",
     "text": [
      "Best (Final) Inventory: {'WYNN': 1, 'ANSS': 1, 'INTC': 1, 'MRNA': 6, 'C': 2, 'PNW': 1, 'ALL': 1, 'AMGN': 3, 'MRK': 2, 'DAL': 1, 'SMCI': 5, 'JNPR': 1, 'UBER': 3, 'CTLT': 3, 'CRWD': 6, 'ISRG': 3, 'IBM': 1, 'PANW': 5, 'WDC': 4, 'ANET': 1, 'NOW': 1, 'MCHP': 1, 'QCOM': 3, 'BLDR': 1, 'DAY': 1, 'PCAR': 1, 'NFLX': 1, 'NVDA': 1, 'RTX': 1, 'AMD': 2, 'TRV': 1, 'ABNB': 2, 'SLB': 1, 'TXT': 1, 'HAL': 2, 'DFS': 1}\n",
      "Best Value: 100280\n",
      "Total Runtime: 6.50 seconds\n"
     ]
    },
    {
     "name": "stderr",
     "output_type": "stream",
     "text": [
      "\n"
     ]
    }
   ],
   "source": [
    "results = pd.DataFrame()\n",
    "\n",
    "running_time, best_inventory, best_value, lstm_1pct_results = montecarlo(df_lstm1, 5) \n",
    "\n",
    "print(f\"Best (Final) Inventory: {best_inventory}\")\n",
    "print(f\"Best Value: {best_value}\")\n",
    "print(f\"Total Runtime: {running_time:.2f} seconds\")"
   ]
  },
  {
   "cell_type": "code",
   "execution_count": 149,
   "id": "4c4a4f02-a3ad-4f2b-8c69-c8d5f4936080",
   "metadata": {},
   "outputs": [
    {
     "data": {
      "image/png": "[encoded data removed]",
      "text/plain": [
       "<Figure size 1000x500 with 1 Axes>"
      ]
     },
     "metadata": {},
     "output_type": "display_data"
    }
   ],
   "source": [
    "plt.figure(figsize=(10,5))\n",
    "plt.plot(lstm_1pct_results)\n",
    "plt.ylabel('Value')\n",
    "plt.xlabel('Simulated days')\n",
    "plt.show()"
   ]
  },
  {
   "cell_type": "code",
   "execution_count": null,
   "id": "5cb69e5e-8c2f-4b39-9320-fc3975c7d028",
   "metadata": {},
   "outputs": [],
   "source": [
    " "
   ]
  }
 ],
 "metadata": {
  "kernelspec": {
   "display_name": "Python 3 (ipykernel)",
   "language": "python",
   "name": "python3"
  },
  "language_info": {
   "codemirror_mode": {
    "name": "ipython",
    "version": 3
   },
   "file_extension": ".py",
   "mimetype": "text/x-python",
   "name": "python",
   "nbconvert_exporter": "python",
   "pygments_lexer": "ipython3",
   "version": "3.12.4"
  }
 },
 "nbformat": 4,
 "nbformat_minor": 5
}
