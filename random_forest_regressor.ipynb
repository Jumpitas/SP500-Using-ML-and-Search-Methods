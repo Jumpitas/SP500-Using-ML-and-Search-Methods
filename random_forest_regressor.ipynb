{
 "cells": [
  {
   "cell_type": "markdown",
   "metadata": {},
   "source": [
    "# Stock Price Prediction Using Random Forest Regressor"
   ]
  },
  {
   "cell_type": "markdown",
   "metadata": {},
   "source": [
    "In this notebook, we will be exploring the performance of the random forest regressor on the S&P500 stock data."
   ]
  },
  {
   "cell_type": "markdown",
   "metadata": {},
   "source": [
    "Sources:\n",
    " - [The Random Forest Model for Analyzing and Forecasting the US Stock Market in the Context of Smart Finance](https://arxiv.org/pdf/2402.17194)"
   ]
  },
  {
   "cell_type": "code",
   "execution_count": 3,
   "metadata": {},
   "outputs": [],
   "source": [
    "import pandas as pd\n",
    "import numpy as np\n",
    "import statsmodels.api as sm\n",
    "import warnings\n",
    "import os\n",
    "from sklearn.model_selection import RandomizedSearchCV\n",
    "from sklearn.ensemble import RandomForestRegressor\n",
    "from sklearn.metrics import root_mean_squared_error\n",
    "import pandas as pd\n",
    "import numpy as np\n",
    "from tqdm import tqdm\n",
    "from sklearn.preprocessing import MinMaxScaler\n",
    "import random\n",
    "import math\n",
    "import matplotlib.pyplot as plt\n",
    "import yfinance as yf\n",
    "from sklearn.metrics import mean_absolute_error"
   ]
  },
  {
   "cell_type": "markdown",
   "metadata": {},
   "source": [
    "# Data Preprocessing"
   ]
  },
  {
   "cell_type": "code",
   "execution_count": 4,
   "metadata": {},
   "outputs": [
    {
     "data": {
      "text/html": [
       "<div>\n",
       "<style scoped>\n",
       "    .dataframe tbody tr th:only-of-type {\n",
       "        vertical-align: middle;\n",
       "    }\n",
       "\n",
       "    .dataframe tbody tr th {\n",
       "        vertical-align: top;\n",
       "    }\n",
       "\n",
       "    .dataframe thead th {\n",
       "        text-align: right;\n",
       "    }\n",
       "</style>\n",
       "<table border=\"1\" class=\"dataframe\">\n",
       "  <thead>\n",
       "    <tr style=\"text-align: right;\">\n",
       "      <th></th>\n",
       "      <th>Date</th>\n",
       "      <th>AdjClose</th>\n",
       "      <th>Close</th>\n",
       "      <th>High</th>\n",
       "      <th>Low</th>\n",
       "      <th>Open</th>\n",
       "      <th>Volume</th>\n",
       "    </tr>\n",
       "  </thead>\n",
       "  <tbody>\n",
       "    <tr>\n",
       "      <th>0</th>\n",
       "      <td>2010-01-04</td>\n",
       "      <td>6.447411</td>\n",
       "      <td>7.643214</td>\n",
       "      <td>7.660714</td>\n",
       "      <td>7.585000</td>\n",
       "      <td>7.622500</td>\n",
       "      <td>493729600</td>\n",
       "    </tr>\n",
       "    <tr>\n",
       "      <th>1</th>\n",
       "      <td>2010-01-05</td>\n",
       "      <td>6.458559</td>\n",
       "      <td>7.656429</td>\n",
       "      <td>7.699643</td>\n",
       "      <td>7.616071</td>\n",
       "      <td>7.664286</td>\n",
       "      <td>601904800</td>\n",
       "    </tr>\n",
       "    <tr>\n",
       "      <th>2</th>\n",
       "      <td>2010-01-06</td>\n",
       "      <td>6.355826</td>\n",
       "      <td>7.534643</td>\n",
       "      <td>7.686786</td>\n",
       "      <td>7.526786</td>\n",
       "      <td>7.656429</td>\n",
       "      <td>552160000</td>\n",
       "    </tr>\n",
       "    <tr>\n",
       "      <th>3</th>\n",
       "      <td>2010-01-07</td>\n",
       "      <td>6.344076</td>\n",
       "      <td>7.520714</td>\n",
       "      <td>7.571429</td>\n",
       "      <td>7.466071</td>\n",
       "      <td>7.562500</td>\n",
       "      <td>477131200</td>\n",
       "    </tr>\n",
       "    <tr>\n",
       "      <th>4</th>\n",
       "      <td>2010-01-08</td>\n",
       "      <td>6.386254</td>\n",
       "      <td>7.570714</td>\n",
       "      <td>7.571429</td>\n",
       "      <td>7.466429</td>\n",
       "      <td>7.510714</td>\n",
       "      <td>447610800</td>\n",
       "    </tr>\n",
       "  </tbody>\n",
       "</table>\n",
       "</div>"
      ],
      "text/plain": [
       "         Date  AdjClose     Close      High       Low      Open     Volume\n",
       "0  2010-01-04  6.447411  7.643214  7.660714  7.585000  7.622500  493729600\n",
       "1  2010-01-05  6.458559  7.656429  7.699643  7.616071  7.664286  601904800\n",
       "2  2010-01-06  6.355826  7.534643  7.686786  7.526786  7.656429  552160000\n",
       "3  2010-01-07  6.344076  7.520714  7.571429  7.466071  7.562500  477131200\n",
       "4  2010-01-08  6.386254  7.570714  7.571429  7.466429  7.510714  447610800"
      ]
     },
     "execution_count": 4,
     "metadata": {},
     "output_type": "execute_result"
    }
   ],
   "source": [
    "df_apple = pd.read_csv('./csvs_processing/dropped_multiIndex/AAPL.csv')\n",
    "\n",
    "df_apple.head()"
   ]
  },
  {
   "cell_type": "markdown",
   "metadata": {},
   "source": [
    "## Obtaining Recommended Features\n",
    "\n",
    "<center>\n",
    "\n",
    "![](./images/features_paper1.png)\n",
    "\n",
    "</center>"
   ]
  },
  {
   "cell_type": "markdown",
   "metadata": {},
   "source": [
    "This section of the notebook is dedicated to following mathematical formulas in order to generate financial metrics, which will be used to predict values **without violating the causality principle**."
   ]
  },
  {
   "cell_type": "markdown",
   "metadata": {},
   "source": [
    " - **RSI (Relative Strength Index)**: The RSI measures the speed and change of price movements. It oscillates between 0 and 100 and is calculated over a specific period (e.g., 14 days).\n",
    "\n",
    "<center>\n",
    "\n",
    "$\n",
    "RSI = 100 - \\frac{100}{1 + RS}\n",
    "$      \n",
    "\n",
    "</center>\n",
    "\n",
    "<center>\n",
    "\n",
    "where\n",
    "\n",
    "</center>\n",
    "\n",
    "<center>\n",
    "\n",
    "$\n",
    "RS = \\frac{\\text{Average Gain over N periods}}{\\text{Average Loss over N periods}}\n",
    "$\n",
    "\n",
    "</center>"
   ]
  },
  {
   "cell_type": "code",
   "execution_count": 5,
   "metadata": {},
   "outputs": [],
   "source": [
    "def addRSI(df):    \n",
    "\n",
    "    window_length = 14 \n",
    "    \n",
    "    # Calculate price differences\n",
    "    delta = df['Close'].diff(1)\n",
    "    gain = delta.where(delta > 0, 0)\n",
    "    loss = -delta.where(delta < 0, 0)\n",
    "\n",
    "    # Calculate exponential moving averages of gains and losses\n",
    "    avg_gain = gain.rolling(window=window_length, min_periods=1).mean()\n",
    "    avg_loss = loss.rolling(window=window_length, min_periods=1).mean()\n",
    "\n",
    "    # Calculate RSI\n",
    "    rs = avg_gain / avg_loss\n",
    "    df['RSI'] = 100 - (100 / (1 + rs))"
   ]
  },
  {
   "cell_type": "markdown",
   "metadata": {},
   "source": [
    "\n",
    " - **Stochastic Oscillator**:\n",
    "Measures the closing price relative to the price range over a period of time (e.g., 14 days).\n",
    "\n",
    "<center>\n",
    "\n",
    "$\n",
    "\\%K = \\frac{\\text{Close} - \\text{Low}_N}{\\text{High}_N - \\text{Low}_N} \\times 100\n",
    "$\n",
    "\n",
    "</center>\n"
   ]
  },
  {
   "cell_type": "code",
   "execution_count": 6,
   "metadata": {},
   "outputs": [],
   "source": [
    "def addK(df):\n",
    "    n = 14 \n",
    "    df['%K'] = ((df['Close'] - df['Low'].rolling(n).min()) / (df['High'].rolling(n).max() - df['Low'].rolling(n).min())) * 100"
   ]
  },
  {
   "cell_type": "markdown",
   "metadata": {},
   "source": [
    " - **Williams %R**:\n",
    "Similar to the stochastic oscillator but inverted and shifted.\n",
    "\n",
    "<center>\n",
    "\n",
    "$\n",
    "\\%R = \\frac{\\text{High}_N - \\text{Close}}{\\text{High}_N - \\text{Low}_N} \\times -100\n",
    "$\n",
    "\n",
    "</center>\n"
   ]
  },
  {
   "cell_type": "code",
   "execution_count": 7,
   "metadata": {},
   "outputs": [],
   "source": [
    "def addR(df):\n",
    "    n = 14\n",
    "    highn_close = (df['High'].rolling(n).max() - df['Close'])\n",
    "    highn_lown = (df['High'].rolling(n).max() - df['Low'].rolling(n).min())\n",
    "    df['%R'] = (highn_close / highn_lown) * (-100)"
   ]
  },
  {
   "cell_type": "markdown",
   "metadata": {},
   "source": [
    " - **MACD (Moving Average Convergence Divergence)**:\n",
    "Measures the difference between a fast and a slow exponential moving average (EMA)."
   ]
  },
  {
   "cell_type": "code",
   "execution_count": 8,
   "metadata": {},
   "outputs": [],
   "source": [
    "def addMACD(df):\n",
    "    fast_period = 12\n",
    "    slow_period = 26\n",
    "    signal_period = 9\n",
    "\n",
    "    df['EMA_fast'] = df['Close'].ewm(span=fast_period, adjust=False).mean()\n",
    "    df['EMA_slow'] = df['Close'].ewm(span=slow_period, adjust=False).mean()\n",
    "    df['MACD'] = df['EMA_fast'] - df['EMA_slow']\n",
    "    df['Signal_Line'] = df['MACD'].ewm(span=signal_period, adjust=False).mean()"
   ]
  },
  {
   "cell_type": "markdown",
   "metadata": {},
   "source": [
    " -  **Price Rate of Change (ROC)**:\n",
    "Measures the percentage change in price over a given time.\n",
    "\n",
    "<center>\n",
    "\n",
    "$\n",
    "ROC = \\frac{\\text{Close}_t - \\text{Close}_{t-n}}{\\text{Close}_{t-n}} \\times 100\n",
    "$\n",
    "\n",
    "</center>\n"
   ]
  },
  {
   "cell_type": "code",
   "execution_count": 9,
   "metadata": {},
   "outputs": [],
   "source": [
    "def addROC(df, period):\n",
    "    n = period\n",
    "    df['ROC'] = (df['Close'] - df['Close'].shift(n)) / df['Close'].shift(n) * 100"
   ]
  },
  {
   "cell_type": "markdown",
   "metadata": {},
   "source": [
    " - **On-Balance Volume (OBV)**:\n",
    "Measures buying and selling pressure using volume."
   ]
  },
  {
   "cell_type": "code",
   "execution_count": 10,
   "metadata": {},
   "outputs": [],
   "source": [
    "def addOBV(df):\n",
    "    df['Direction'] = df['Close'].diff().apply(lambda x: 1 if x > 0 else (-1 if x < 0 else 0))\n",
    "    df['OBV'] = (df['Direction'] * df['Volume']).cumsum()"
   ]
  },
  {
   "cell_type": "markdown",
   "metadata": {},
   "source": [
    "## Overview of Performance Metrics Used\n",
    "\n",
    "In order to evaluate whether these financial indicators are useful features, we will use 3 types of performance metrics, as per suggested in the project statement\n",
    "\n",
    "---\n",
    "\n",
    "**`Root Mean Squared Error (RMSE)`**:\n",
    "   - **High values** indicate that predictions deviate significantly from actual values, large errors have a more pronounced impact (due to squaring).\n",
    "   - **Low values** suggest that the model is predicting values close to the real ones, with fewer large errors.\n",
    "   - Very sensitive to outliers.\n",
    "\n",
    "**`Mean Absolute Error (MAE)`**:\n",
    "   - **High values** indicate consistently large prediction errors.\n",
    "   - **Low values** suggest smaller, more uniform errors.\n",
    "   - MAE essentially provides an average of the magnitude of errors without elevating larger missclassifications.\n",
    "\n",
    "**`Mean Absolute Percentage Error (MAPE)`**:\n",
    "   - **High values** reflect poor predictions relative to the scale of actual values (e.g., large percentage deviations).\n",
    "   - **Low values** show that the predictions are close to actual values, relative to their size.\n",
    "   - MAPE is scale-independent but can be distorted by small or zero values in the actual data. \n",
    "\n",
    "---\n",
    "\n",
    "Summarizing, lower values for all three metrics indicate better model performance, which is what we'll strive for."
   ]
  },
  {
   "cell_type": "markdown",
   "metadata": {},
   "source": [
    "### Adding Paper Recommended Features"
   ]
  },
  {
   "cell_type": "markdown",
   "metadata": {},
   "source": [
    "In order to facilitate adding features to any dataframe, we decided to build this function, which already **removes NaN values automatically**. We have 2 different options to do so:\n",
    " - Removing the first 14 rows of the dataframe, as they are entered due to the **look-back period**, which is never higher than 14.\n",
    " - Removing only 2 rows, but deleting the `%K`, `%R` and `ROC` columns entirely.\n",
    "\n",
    "We decided to implement this possibility, in case dimentionality is a problem in the future."
   ]
  },
  {
   "cell_type": "code",
   "execution_count": 11,
   "metadata": {},
   "outputs": [],
   "source": [
    "def addFeatures(df, rows=-1):\n",
    "    addRSI(df)\n",
    "    addK(df)\n",
    "    addR(df)\n",
    "    addMACD(df)\n",
    "    addROC(df, 30)\n",
    "    addOBV(df)\n",
    "\n",
    "    # Removes first determined rows of the dataset \n",
    "    if rows > 0: df.drop(index=range(0, rows), inplace=True)\n",
    "\n",
    "    # Removes first 2 rows of the dataset, and the `%K`, `%R` and `ROC` columns\n",
    "    else: \n",
    "        df.drop(index=range(0, 2), inplace=True)\n",
    "        df.drop(columns=['ROC','%K', '%R'], inplace=True)"
   ]
  },
  {
   "cell_type": "code",
   "execution_count": 12,
   "metadata": {},
   "outputs": [
    {
     "data": {
      "text/html": [
       "<div>\n",
       "<style scoped>\n",
       "    .dataframe tbody tr th:only-of-type {\n",
       "        vertical-align: middle;\n",
       "    }\n",
       "\n",
       "    .dataframe tbody tr th {\n",
       "        vertical-align: top;\n",
       "    }\n",
       "\n",
       "    .dataframe thead th {\n",
       "        text-align: right;\n",
       "    }\n",
       "</style>\n",
       "<table border=\"1\" class=\"dataframe\">\n",
       "  <thead>\n",
       "    <tr style=\"text-align: right;\">\n",
       "      <th></th>\n",
       "      <th>Date</th>\n",
       "      <th>AdjClose</th>\n",
       "      <th>Close</th>\n",
       "      <th>High</th>\n",
       "      <th>Low</th>\n",
       "      <th>Open</th>\n",
       "      <th>Volume</th>\n",
       "      <th>RSI</th>\n",
       "      <th>%K</th>\n",
       "      <th>%R</th>\n",
       "      <th>EMA_fast</th>\n",
       "      <th>EMA_slow</th>\n",
       "      <th>MACD</th>\n",
       "      <th>Signal_Line</th>\n",
       "      <th>ROC</th>\n",
       "      <th>Direction</th>\n",
       "      <th>OBV</th>\n",
       "    </tr>\n",
       "  </thead>\n",
       "  <tbody>\n",
       "    <tr>\n",
       "      <th>14</th>\n",
       "      <td>2010-01-25</td>\n",
       "      <td>6.117826</td>\n",
       "      <td>7.252500</td>\n",
       "      <td>7.310714</td>\n",
       "      <td>7.149643</td>\n",
       "      <td>7.232500</td>\n",
       "      <td>1065699600</td>\n",
       "      <td>38.882121</td>\n",
       "      <td>32.067228</td>\n",
       "      <td>-67.932772</td>\n",
       "      <td>7.424262</td>\n",
       "      <td>7.507451</td>\n",
       "      <td>-0.083188</td>\n",
       "      <td>-0.049009</td>\n",
       "      <td>NaN</td>\n",
       "      <td>1</td>\n",
       "      <td>-1763902000</td>\n",
       "    </tr>\n",
       "    <tr>\n",
       "      <th>15</th>\n",
       "      <td>2010-01-26</td>\n",
       "      <td>6.204288</td>\n",
       "      <td>7.355000</td>\n",
       "      <td>7.632500</td>\n",
       "      <td>7.235000</td>\n",
       "      <td>7.355357</td>\n",
       "      <td>1867110000</td>\n",
       "      <td>41.837519</td>\n",
       "      <td>47.743321</td>\n",
       "      <td>-52.256679</td>\n",
       "      <td>7.413607</td>\n",
       "      <td>7.496158</td>\n",
       "      <td>-0.082552</td>\n",
       "      <td>-0.055717</td>\n",
       "      <td>NaN</td>\n",
       "      <td>1</td>\n",
       "      <td>103208000</td>\n",
       "    </tr>\n",
       "    <tr>\n",
       "      <th>16</th>\n",
       "      <td>2010-01-27</td>\n",
       "      <td>6.262735</td>\n",
       "      <td>7.424286</td>\n",
       "      <td>7.520714</td>\n",
       "      <td>7.126071</td>\n",
       "      <td>7.387500</td>\n",
       "      <td>1722568400</td>\n",
       "      <td>46.924146</td>\n",
       "      <td>58.292567</td>\n",
       "      <td>-41.707433</td>\n",
       "      <td>7.415249</td>\n",
       "      <td>7.490834</td>\n",
       "      <td>-0.075585</td>\n",
       "      <td>-0.059691</td>\n",
       "      <td>NaN</td>\n",
       "      <td>1</td>\n",
       "      <td>1825776400</td>\n",
       "    </tr>\n",
       "    <tr>\n",
       "      <th>17</th>\n",
       "      <td>2010-01-28</td>\n",
       "      <td>6.003948</td>\n",
       "      <td>7.117500</td>\n",
       "      <td>7.339286</td>\n",
       "      <td>7.096429</td>\n",
       "      <td>7.318929</td>\n",
       "      <td>1173502400</td>\n",
       "      <td>40.338875</td>\n",
       "      <td>11.582296</td>\n",
       "      <td>-88.417704</td>\n",
       "      <td>7.369442</td>\n",
       "      <td>7.463180</td>\n",
       "      <td>-0.093738</td>\n",
       "      <td>-0.066500</td>\n",
       "      <td>NaN</td>\n",
       "      <td>-1</td>\n",
       "      <td>652274000</td>\n",
       "    </tr>\n",
       "    <tr>\n",
       "      <th>18</th>\n",
       "      <td>2010-01-29</td>\n",
       "      <td>5.786130</td>\n",
       "      <td>6.859286</td>\n",
       "      <td>7.221429</td>\n",
       "      <td>6.794643</td>\n",
       "      <td>7.181429</td>\n",
       "      <td>1245952400</td>\n",
       "      <td>34.500473</td>\n",
       "      <td>7.154158</td>\n",
       "      <td>-92.845842</td>\n",
       "      <td>7.290956</td>\n",
       "      <td>7.418447</td>\n",
       "      <td>-0.127491</td>\n",
       "      <td>-0.078698</td>\n",
       "      <td>NaN</td>\n",
       "      <td>-1</td>\n",
       "      <td>-593678400</td>\n",
       "    </tr>\n",
       "    <tr>\n",
       "      <th>19</th>\n",
       "      <td>2010-02-01</td>\n",
       "      <td>5.866570</td>\n",
       "      <td>6.954643</td>\n",
       "      <td>7.000000</td>\n",
       "      <td>6.832143</td>\n",
       "      <td>6.870357</td>\n",
       "      <td>749876400</td>\n",
       "      <td>38.180129</td>\n",
       "      <td>17.707499</td>\n",
       "      <td>-82.292501</td>\n",
       "      <td>7.239216</td>\n",
       "      <td>7.384091</td>\n",
       "      <td>-0.144875</td>\n",
       "      <td>-0.091934</td>\n",
       "      <td>NaN</td>\n",
       "      <td>1</td>\n",
       "      <td>156198000</td>\n",
       "    </tr>\n",
       "    <tr>\n",
       "      <th>20</th>\n",
       "      <td>2010-02-02</td>\n",
       "      <td>5.900613</td>\n",
       "      <td>6.995000</td>\n",
       "      <td>7.011429</td>\n",
       "      <td>6.906429</td>\n",
       "      <td>6.996786</td>\n",
       "      <td>698342400</td>\n",
       "      <td>40.705333</td>\n",
       "      <td>22.173900</td>\n",
       "      <td>-77.826100</td>\n",
       "      <td>7.201644</td>\n",
       "      <td>7.355269</td>\n",
       "      <td>-0.153625</td>\n",
       "      <td>-0.104272</td>\n",
       "      <td>NaN</td>\n",
       "      <td>1</td>\n",
       "      <td>854540400</td>\n",
       "    </tr>\n",
       "    <tr>\n",
       "      <th>21</th>\n",
       "      <td>2010-02-03</td>\n",
       "      <td>6.002139</td>\n",
       "      <td>7.115357</td>\n",
       "      <td>7.150000</td>\n",
       "      <td>6.943571</td>\n",
       "      <td>6.970357</td>\n",
       "      <td>615328000</td>\n",
       "      <td>41.111458</td>\n",
       "      <td>35.494051</td>\n",
       "      <td>-64.505949</td>\n",
       "      <td>7.188369</td>\n",
       "      <td>7.337498</td>\n",
       "      <td>-0.149129</td>\n",
       "      <td>-0.113243</td>\n",
       "      <td>NaN</td>\n",
       "      <td>1</td>\n",
       "      <td>1469868400</td>\n",
       "    </tr>\n",
       "    <tr>\n",
       "      <th>22</th>\n",
       "      <td>2010-02-04</td>\n",
       "      <td>5.785830</td>\n",
       "      <td>6.858929</td>\n",
       "      <td>7.084643</td>\n",
       "      <td>6.841786</td>\n",
       "      <td>7.026071</td>\n",
       "      <td>757652000</td>\n",
       "      <td>37.621088</td>\n",
       "      <td>7.114684</td>\n",
       "      <td>-92.885316</td>\n",
       "      <td>7.137686</td>\n",
       "      <td>7.302049</td>\n",
       "      <td>-0.164363</td>\n",
       "      <td>-0.123467</td>\n",
       "      <td>NaN</td>\n",
       "      <td>-1</td>\n",
       "      <td>712216400</td>\n",
       "    </tr>\n",
       "    <tr>\n",
       "      <th>23</th>\n",
       "      <td>2010-02-05</td>\n",
       "      <td>5.888560</td>\n",
       "      <td>6.980714</td>\n",
       "      <td>7.000000</td>\n",
       "      <td>6.816071</td>\n",
       "      <td>6.879643</td>\n",
       "      <td>850306800</td>\n",
       "      <td>42.533146</td>\n",
       "      <td>20.592836</td>\n",
       "      <td>-79.407164</td>\n",
       "      <td>7.113536</td>\n",
       "      <td>7.278246</td>\n",
       "      <td>-0.164710</td>\n",
       "      <td>-0.131716</td>\n",
       "      <td>NaN</td>\n",
       "      <td>1</td>\n",
       "      <td>1562523200</td>\n",
       "    </tr>\n",
       "    <tr>\n",
       "      <th>24</th>\n",
       "      <td>2010-02-08</td>\n",
       "      <td>5.848193</td>\n",
       "      <td>6.932857</td>\n",
       "      <td>7.067143</td>\n",
       "      <td>6.928571</td>\n",
       "      <td>6.988929</td>\n",
       "      <td>478270800</td>\n",
       "      <td>33.221029</td>\n",
       "      <td>15.296428</td>\n",
       "      <td>-84.703572</td>\n",
       "      <td>7.085740</td>\n",
       "      <td>7.252662</td>\n",
       "      <td>-0.166922</td>\n",
       "      <td>-0.138757</td>\n",
       "      <td>NaN</td>\n",
       "      <td>-1</td>\n",
       "      <td>1084252400</td>\n",
       "    </tr>\n",
       "    <tr>\n",
       "      <th>25</th>\n",
       "      <td>2010-02-09</td>\n",
       "      <td>5.910554</td>\n",
       "      <td>7.006786</td>\n",
       "      <td>7.053571</td>\n",
       "      <td>6.955357</td>\n",
       "      <td>7.015000</td>\n",
       "      <td>632886800</td>\n",
       "      <td>37.283126</td>\n",
       "      <td>25.319700</td>\n",
       "      <td>-74.680300</td>\n",
       "      <td>7.073593</td>\n",
       "      <td>7.234449</td>\n",
       "      <td>-0.160856</td>\n",
       "      <td>-0.143177</td>\n",
       "      <td>NaN</td>\n",
       "      <td>1</td>\n",
       "      <td>1717139200</td>\n",
       "    </tr>\n",
       "    <tr>\n",
       "      <th>26</th>\n",
       "      <td>2010-02-10</td>\n",
       "      <td>5.878317</td>\n",
       "      <td>6.968571</td>\n",
       "      <td>7.021429</td>\n",
       "      <td>6.937857</td>\n",
       "      <td>6.996071</td>\n",
       "      <td>370361600</td>\n",
       "      <td>38.933513</td>\n",
       "      <td>20.758699</td>\n",
       "      <td>-79.241301</td>\n",
       "      <td>7.057436</td>\n",
       "      <td>7.214754</td>\n",
       "      <td>-0.157318</td>\n",
       "      <td>-0.146005</td>\n",
       "      <td>NaN</td>\n",
       "      <td>-1</td>\n",
       "      <td>1346777600</td>\n",
       "    </tr>\n",
       "    <tr>\n",
       "      <th>27</th>\n",
       "      <td>2010-02-11</td>\n",
       "      <td>5.985269</td>\n",
       "      <td>7.095357</td>\n",
       "      <td>7.133929</td>\n",
       "      <td>6.930714</td>\n",
       "      <td>6.960000</td>\n",
       "      <td>550345600</td>\n",
       "      <td>50.889056</td>\n",
       "      <td>35.890841</td>\n",
       "      <td>-64.109159</td>\n",
       "      <td>7.063270</td>\n",
       "      <td>7.205910</td>\n",
       "      <td>-0.142640</td>\n",
       "      <td>-0.145332</td>\n",
       "      <td>NaN</td>\n",
       "      <td>1</td>\n",
       "      <td>1897123200</td>\n",
       "    </tr>\n",
       "    <tr>\n",
       "      <th>28</th>\n",
       "      <td>2010-02-12</td>\n",
       "      <td>6.036785</td>\n",
       "      <td>7.156429</td>\n",
       "      <td>7.201429</td>\n",
       "      <td>6.982143</td>\n",
       "      <td>7.075357</td>\n",
       "      <td>655468800</td>\n",
       "      <td>47.205489</td>\n",
       "      <td>43.179896</td>\n",
       "      <td>-56.820104</td>\n",
       "      <td>7.077602</td>\n",
       "      <td>7.202245</td>\n",
       "      <td>-0.124643</td>\n",
       "      <td>-0.141194</td>\n",
       "      <td>NaN</td>\n",
       "      <td>1</td>\n",
       "      <td>2552592000</td>\n",
       "    </tr>\n",
       "  </tbody>\n",
       "</table>\n",
       "</div>"
      ],
      "text/plain": [
       "          Date  AdjClose     Close      High       Low      Open      Volume  \\\n",
       "14  2010-01-25  6.117826  7.252500  7.310714  7.149643  7.232500  1065699600   \n",
       "15  2010-01-26  6.204288  7.355000  7.632500  7.235000  7.355357  1867110000   \n",
       "16  2010-01-27  6.262735  7.424286  7.520714  7.126071  7.387500  1722568400   \n",
       "17  2010-01-28  6.003948  7.117500  7.339286  7.096429  7.318929  1173502400   \n",
       "18  2010-01-29  5.786130  6.859286  7.221429  6.794643  7.181429  1245952400   \n",
       "19  2010-02-01  5.866570  6.954643  7.000000  6.832143  6.870357   749876400   \n",
       "20  2010-02-02  5.900613  6.995000  7.011429  6.906429  6.996786   698342400   \n",
       "21  2010-02-03  6.002139  7.115357  7.150000  6.943571  6.970357   615328000   \n",
       "22  2010-02-04  5.785830  6.858929  7.084643  6.841786  7.026071   757652000   \n",
       "23  2010-02-05  5.888560  6.980714  7.000000  6.816071  6.879643   850306800   \n",
       "24  2010-02-08  5.848193  6.932857  7.067143  6.928571  6.988929   478270800   \n",
       "25  2010-02-09  5.910554  7.006786  7.053571  6.955357  7.015000   632886800   \n",
       "26  2010-02-10  5.878317  6.968571  7.021429  6.937857  6.996071   370361600   \n",
       "27  2010-02-11  5.985269  7.095357  7.133929  6.930714  6.960000   550345600   \n",
       "28  2010-02-12  6.036785  7.156429  7.201429  6.982143  7.075357   655468800   \n",
       "\n",
       "          RSI         %K         %R  EMA_fast  EMA_slow      MACD  \\\n",
       "14  38.882121  32.067228 -67.932772  7.424262  7.507451 -0.083188   \n",
       "15  41.837519  47.743321 -52.256679  7.413607  7.496158 -0.082552   \n",
       "16  46.924146  58.292567 -41.707433  7.415249  7.490834 -0.075585   \n",
       "17  40.338875  11.582296 -88.417704  7.369442  7.463180 -0.093738   \n",
       "18  34.500473   7.154158 -92.845842  7.290956  7.418447 -0.127491   \n",
       "19  38.180129  17.707499 -82.292501  7.239216  7.384091 -0.144875   \n",
       "20  40.705333  22.173900 -77.826100  7.201644  7.355269 -0.153625   \n",
       "21  41.111458  35.494051 -64.505949  7.188369  7.337498 -0.149129   \n",
       "22  37.621088   7.114684 -92.885316  7.137686  7.302049 -0.164363   \n",
       "23  42.533146  20.592836 -79.407164  7.113536  7.278246 -0.164710   \n",
       "24  33.221029  15.296428 -84.703572  7.085740  7.252662 -0.166922   \n",
       "25  37.283126  25.319700 -74.680300  7.073593  7.234449 -0.160856   \n",
       "26  38.933513  20.758699 -79.241301  7.057436  7.214754 -0.157318   \n",
       "27  50.889056  35.890841 -64.109159  7.063270  7.205910 -0.142640   \n",
       "28  47.205489  43.179896 -56.820104  7.077602  7.202245 -0.124643   \n",
       "\n",
       "    Signal_Line  ROC  Direction         OBV  \n",
       "14    -0.049009  NaN          1 -1763902000  \n",
       "15    -0.055717  NaN          1   103208000  \n",
       "16    -0.059691  NaN          1  1825776400  \n",
       "17    -0.066500  NaN         -1   652274000  \n",
       "18    -0.078698  NaN         -1  -593678400  \n",
       "19    -0.091934  NaN          1   156198000  \n",
       "20    -0.104272  NaN          1   854540400  \n",
       "21    -0.113243  NaN          1  1469868400  \n",
       "22    -0.123467  NaN         -1   712216400  \n",
       "23    -0.131716  NaN          1  1562523200  \n",
       "24    -0.138757  NaN         -1  1084252400  \n",
       "25    -0.143177  NaN          1  1717139200  \n",
       "26    -0.146005  NaN         -1  1346777600  \n",
       "27    -0.145332  NaN          1  1897123200  \n",
       "28    -0.141194  NaN          1  2552592000  "
      ]
     },
     "execution_count": 12,
     "metadata": {},
     "output_type": "execute_result"
    }
   ],
   "source": [
    "addFeatures(df_apple, rows=14)\n",
    "\n",
    "df_apple.head(15)"
   ]
  },
  {
   "cell_type": "markdown",
   "metadata": {},
   "source": [
    "---"
   ]
  },
  {
   "cell_type": "markdown",
   "metadata": {},
   "source": [
    "## Introduction to Model Development"
   ]
  },
  {
   "cell_type": "code",
   "execution_count": 13,
   "metadata": {},
   "outputs": [],
   "source": [
    "# Convert Date to datetime and sort by Date\n",
    "df_apple['Date'] = pd.to_datetime(df_apple['Date'])\n",
    "df_apple = df_apple.sort_values(by='Date')\n",
    "\n",
    "# Removing adjusted close from training data\n",
    "df_apple = df_apple.drop(columns=['AdjClose'])"
   ]
  },
  {
   "cell_type": "markdown",
   "metadata": {},
   "source": [
    "Because we cannot pass `datetime` objects into the random forest, we need to create new columns to represent day, month and year, thus preserving sequential importance."
   ]
  },
  {
   "cell_type": "code",
   "execution_count": 14,
   "metadata": {},
   "outputs": [],
   "source": [
    "# Extract temporal features\n",
    "df_apple['Day'] = df_apple['Date'].dt.day\n",
    "df_apple['Month'] = df_apple['Date'].dt.month\n",
    "df_apple['Year'] = df_apple['Date'].dt.year"
   ]
  },
  {
   "cell_type": "code",
   "execution_count": 15,
   "metadata": {},
   "outputs": [
    {
     "data": {
      "text/html": [
       "<div>\n",
       "<style scoped>\n",
       "    .dataframe tbody tr th:only-of-type {\n",
       "        vertical-align: middle;\n",
       "    }\n",
       "\n",
       "    .dataframe tbody tr th {\n",
       "        vertical-align: top;\n",
       "    }\n",
       "\n",
       "    .dataframe thead th {\n",
       "        text-align: right;\n",
       "    }\n",
       "</style>\n",
       "<table border=\"1\" class=\"dataframe\">\n",
       "  <thead>\n",
       "    <tr style=\"text-align: right;\">\n",
       "      <th></th>\n",
       "      <th>Date</th>\n",
       "      <th>Close</th>\n",
       "      <th>High</th>\n",
       "      <th>Low</th>\n",
       "      <th>Open</th>\n",
       "      <th>Volume</th>\n",
       "      <th>RSI</th>\n",
       "      <th>%K</th>\n",
       "      <th>%R</th>\n",
       "      <th>EMA_fast</th>\n",
       "      <th>EMA_slow</th>\n",
       "      <th>MACD</th>\n",
       "      <th>Signal_Line</th>\n",
       "      <th>ROC</th>\n",
       "      <th>Direction</th>\n",
       "      <th>OBV</th>\n",
       "      <th>Day</th>\n",
       "      <th>Month</th>\n",
       "      <th>Year</th>\n",
       "    </tr>\n",
       "  </thead>\n",
       "  <tbody>\n",
       "    <tr>\n",
       "      <th>14</th>\n",
       "      <td>2010-01-25</td>\n",
       "      <td>7.252500</td>\n",
       "      <td>7.310714</td>\n",
       "      <td>7.149643</td>\n",
       "      <td>7.232500</td>\n",
       "      <td>1065699600</td>\n",
       "      <td>38.882121</td>\n",
       "      <td>32.067228</td>\n",
       "      <td>-67.932772</td>\n",
       "      <td>7.424262</td>\n",
       "      <td>7.507451</td>\n",
       "      <td>-0.083188</td>\n",
       "      <td>-0.049009</td>\n",
       "      <td>NaN</td>\n",
       "      <td>1</td>\n",
       "      <td>-1763902000</td>\n",
       "      <td>25</td>\n",
       "      <td>1</td>\n",
       "      <td>2010</td>\n",
       "    </tr>\n",
       "    <tr>\n",
       "      <th>15</th>\n",
       "      <td>2010-01-26</td>\n",
       "      <td>7.355000</td>\n",
       "      <td>7.632500</td>\n",
       "      <td>7.235000</td>\n",
       "      <td>7.355357</td>\n",
       "      <td>1867110000</td>\n",
       "      <td>41.837519</td>\n",
       "      <td>47.743321</td>\n",
       "      <td>-52.256679</td>\n",
       "      <td>7.413607</td>\n",
       "      <td>7.496158</td>\n",
       "      <td>-0.082552</td>\n",
       "      <td>-0.055717</td>\n",
       "      <td>NaN</td>\n",
       "      <td>1</td>\n",
       "      <td>103208000</td>\n",
       "      <td>26</td>\n",
       "      <td>1</td>\n",
       "      <td>2010</td>\n",
       "    </tr>\n",
       "    <tr>\n",
       "      <th>16</th>\n",
       "      <td>2010-01-27</td>\n",
       "      <td>7.424286</td>\n",
       "      <td>7.520714</td>\n",
       "      <td>7.126071</td>\n",
       "      <td>7.387500</td>\n",
       "      <td>1722568400</td>\n",
       "      <td>46.924146</td>\n",
       "      <td>58.292567</td>\n",
       "      <td>-41.707433</td>\n",
       "      <td>7.415249</td>\n",
       "      <td>7.490834</td>\n",
       "      <td>-0.075585</td>\n",
       "      <td>-0.059691</td>\n",
       "      <td>NaN</td>\n",
       "      <td>1</td>\n",
       "      <td>1825776400</td>\n",
       "      <td>27</td>\n",
       "      <td>1</td>\n",
       "      <td>2010</td>\n",
       "    </tr>\n",
       "    <tr>\n",
       "      <th>17</th>\n",
       "      <td>2010-01-28</td>\n",
       "      <td>7.117500</td>\n",
       "      <td>7.339286</td>\n",
       "      <td>7.096429</td>\n",
       "      <td>7.318929</td>\n",
       "      <td>1173502400</td>\n",
       "      <td>40.338875</td>\n",
       "      <td>11.582296</td>\n",
       "      <td>-88.417704</td>\n",
       "      <td>7.369442</td>\n",
       "      <td>7.463180</td>\n",
       "      <td>-0.093738</td>\n",
       "      <td>-0.066500</td>\n",
       "      <td>NaN</td>\n",
       "      <td>-1</td>\n",
       "      <td>652274000</td>\n",
       "      <td>28</td>\n",
       "      <td>1</td>\n",
       "      <td>2010</td>\n",
       "    </tr>\n",
       "    <tr>\n",
       "      <th>18</th>\n",
       "      <td>2010-01-29</td>\n",
       "      <td>6.859286</td>\n",
       "      <td>7.221429</td>\n",
       "      <td>6.794643</td>\n",
       "      <td>7.181429</td>\n",
       "      <td>1245952400</td>\n",
       "      <td>34.500473</td>\n",
       "      <td>7.154158</td>\n",
       "      <td>-92.845842</td>\n",
       "      <td>7.290956</td>\n",
       "      <td>7.418447</td>\n",
       "      <td>-0.127491</td>\n",
       "      <td>-0.078698</td>\n",
       "      <td>NaN</td>\n",
       "      <td>-1</td>\n",
       "      <td>-593678400</td>\n",
       "      <td>29</td>\n",
       "      <td>1</td>\n",
       "      <td>2010</td>\n",
       "    </tr>\n",
       "  </tbody>\n",
       "</table>\n",
       "</div>"
      ],
      "text/plain": [
       "         Date     Close      High       Low      Open      Volume        RSI  \\\n",
       "14 2010-01-25  7.252500  7.310714  7.149643  7.232500  1065699600  38.882121   \n",
       "15 2010-01-26  7.355000  7.632500  7.235000  7.355357  1867110000  41.837519   \n",
       "16 2010-01-27  7.424286  7.520714  7.126071  7.387500  1722568400  46.924146   \n",
       "17 2010-01-28  7.117500  7.339286  7.096429  7.318929  1173502400  40.338875   \n",
       "18 2010-01-29  6.859286  7.221429  6.794643  7.181429  1245952400  34.500473   \n",
       "\n",
       "           %K         %R  EMA_fast  EMA_slow      MACD  Signal_Line  ROC  \\\n",
       "14  32.067228 -67.932772  7.424262  7.507451 -0.083188    -0.049009  NaN   \n",
       "15  47.743321 -52.256679  7.413607  7.496158 -0.082552    -0.055717  NaN   \n",
       "16  58.292567 -41.707433  7.415249  7.490834 -0.075585    -0.059691  NaN   \n",
       "17  11.582296 -88.417704  7.369442  7.463180 -0.093738    -0.066500  NaN   \n",
       "18   7.154158 -92.845842  7.290956  7.418447 -0.127491    -0.078698  NaN   \n",
       "\n",
       "    Direction         OBV  Day  Month  Year  \n",
       "14          1 -1763902000   25      1  2010  \n",
       "15          1   103208000   26      1  2010  \n",
       "16          1  1825776400   27      1  2010  \n",
       "17         -1   652274000   28      1  2010  \n",
       "18         -1  -593678400   29      1  2010  "
      ]
     },
     "execution_count": 15,
     "metadata": {},
     "output_type": "execute_result"
    }
   ],
   "source": [
    "df_apple.head()"
   ]
  },
  {
   "cell_type": "markdown",
   "metadata": {},
   "source": [
    "Our train_test split is different than usual, since we explicitly need to use ordered data from 2010-2023. Therefore, we must separate that time interval from January 2024:"
   ]
  },
  {
   "cell_type": "code",
   "execution_count": 16,
   "metadata": {},
   "outputs": [],
   "source": [
    "# Train with 2010 - 2023\n",
    "train_data = df_apple[(df_apple['Date'] >= '2010-01-01') & (df_apple['Date'] < '2024-01-01')]\n",
    "\n",
    "# Test with January 2024\n",
    "test_data = df_apple[(df_apple['Date'] >= '2024-01-01') & (df_apple['Date'] < '2024-02-01')]\n",
    "\n",
    "# Separates train_data into X and y\n",
    "X_train = train_data.drop(columns=['Volume','Date','Close', 'High', 'Low', 'Open'])\n",
    "y_train = train_data['Close']"
   ]
  },
  {
   "cell_type": "code",
   "execution_count": 17,
   "metadata": {},
   "outputs": [
    {
     "data": {
      "text/html": [
       "<div>\n",
       "<style scoped>\n",
       "    .dataframe tbody tr th:only-of-type {\n",
       "        vertical-align: middle;\n",
       "    }\n",
       "\n",
       "    .dataframe tbody tr th {\n",
       "        vertical-align: top;\n",
       "    }\n",
       "\n",
       "    .dataframe thead th {\n",
       "        text-align: right;\n",
       "    }\n",
       "</style>\n",
       "<table border=\"1\" class=\"dataframe\">\n",
       "  <thead>\n",
       "    <tr style=\"text-align: right;\">\n",
       "      <th></th>\n",
       "      <th>RSI</th>\n",
       "      <th>%K</th>\n",
       "      <th>%R</th>\n",
       "      <th>EMA_fast</th>\n",
       "      <th>EMA_slow</th>\n",
       "      <th>MACD</th>\n",
       "      <th>Signal_Line</th>\n",
       "      <th>ROC</th>\n",
       "      <th>Direction</th>\n",
       "      <th>OBV</th>\n",
       "      <th>Day</th>\n",
       "      <th>Month</th>\n",
       "      <th>Year</th>\n",
       "    </tr>\n",
       "  </thead>\n",
       "  <tbody>\n",
       "    <tr>\n",
       "      <th>14</th>\n",
       "      <td>38.882121</td>\n",
       "      <td>32.067228</td>\n",
       "      <td>-67.932772</td>\n",
       "      <td>7.424262</td>\n",
       "      <td>7.507451</td>\n",
       "      <td>-0.083188</td>\n",
       "      <td>-0.049009</td>\n",
       "      <td>NaN</td>\n",
       "      <td>1</td>\n",
       "      <td>-1763902000</td>\n",
       "      <td>25</td>\n",
       "      <td>1</td>\n",
       "      <td>2010</td>\n",
       "    </tr>\n",
       "    <tr>\n",
       "      <th>15</th>\n",
       "      <td>41.837519</td>\n",
       "      <td>47.743321</td>\n",
       "      <td>-52.256679</td>\n",
       "      <td>7.413607</td>\n",
       "      <td>7.496158</td>\n",
       "      <td>-0.082552</td>\n",
       "      <td>-0.055717</td>\n",
       "      <td>NaN</td>\n",
       "      <td>1</td>\n",
       "      <td>103208000</td>\n",
       "      <td>26</td>\n",
       "      <td>1</td>\n",
       "      <td>2010</td>\n",
       "    </tr>\n",
       "    <tr>\n",
       "      <th>16</th>\n",
       "      <td>46.924146</td>\n",
       "      <td>58.292567</td>\n",
       "      <td>-41.707433</td>\n",
       "      <td>7.415249</td>\n",
       "      <td>7.490834</td>\n",
       "      <td>-0.075585</td>\n",
       "      <td>-0.059691</td>\n",
       "      <td>NaN</td>\n",
       "      <td>1</td>\n",
       "      <td>1825776400</td>\n",
       "      <td>27</td>\n",
       "      <td>1</td>\n",
       "      <td>2010</td>\n",
       "    </tr>\n",
       "    <tr>\n",
       "      <th>17</th>\n",
       "      <td>40.338875</td>\n",
       "      <td>11.582296</td>\n",
       "      <td>-88.417704</td>\n",
       "      <td>7.369442</td>\n",
       "      <td>7.463180</td>\n",
       "      <td>-0.093738</td>\n",
       "      <td>-0.066500</td>\n",
       "      <td>NaN</td>\n",
       "      <td>-1</td>\n",
       "      <td>652274000</td>\n",
       "      <td>28</td>\n",
       "      <td>1</td>\n",
       "      <td>2010</td>\n",
       "    </tr>\n",
       "    <tr>\n",
       "      <th>18</th>\n",
       "      <td>34.500473</td>\n",
       "      <td>7.154158</td>\n",
       "      <td>-92.845842</td>\n",
       "      <td>7.290956</td>\n",
       "      <td>7.418447</td>\n",
       "      <td>-0.127491</td>\n",
       "      <td>-0.078698</td>\n",
       "      <td>NaN</td>\n",
       "      <td>-1</td>\n",
       "      <td>-593678400</td>\n",
       "      <td>29</td>\n",
       "      <td>1</td>\n",
       "      <td>2010</td>\n",
       "    </tr>\n",
       "  </tbody>\n",
       "</table>\n",
       "</div>"
      ],
      "text/plain": [
       "          RSI         %K         %R  EMA_fast  EMA_slow      MACD  \\\n",
       "14  38.882121  32.067228 -67.932772  7.424262  7.507451 -0.083188   \n",
       "15  41.837519  47.743321 -52.256679  7.413607  7.496158 -0.082552   \n",
       "16  46.924146  58.292567 -41.707433  7.415249  7.490834 -0.075585   \n",
       "17  40.338875  11.582296 -88.417704  7.369442  7.463180 -0.093738   \n",
       "18  34.500473   7.154158 -92.845842  7.290956  7.418447 -0.127491   \n",
       "\n",
       "    Signal_Line  ROC  Direction         OBV  Day  Month  Year  \n",
       "14    -0.049009  NaN          1 -1763902000   25      1  2010  \n",
       "15    -0.055717  NaN          1   103208000   26      1  2010  \n",
       "16    -0.059691  NaN          1  1825776400   27      1  2010  \n",
       "17    -0.066500  NaN         -1   652274000   28      1  2010  \n",
       "18    -0.078698  NaN         -1  -593678400   29      1  2010  "
      ]
     },
     "execution_count": 17,
     "metadata": {},
     "output_type": "execute_result"
    }
   ],
   "source": [
    "X_train.head()"
   ]
  },
  {
   "cell_type": "code",
   "execution_count": 18,
   "metadata": {},
   "outputs": [
    {
     "data": {
      "text/plain": [
       "14    7.252500\n",
       "15    7.355000\n",
       "16    7.424286\n",
       "17    7.117500\n",
       "18    6.859286\n",
       "Name: Close, dtype: float64"
      ]
     },
     "execution_count": 18,
     "metadata": {},
     "output_type": "execute_result"
    }
   ],
   "source": [
    "y_train.head()"
   ]
  },
  {
   "cell_type": "code",
   "execution_count": 19,
   "metadata": {},
   "outputs": [],
   "source": [
    "# Separates test_data into X and y\n",
    "X_test = test_data.drop(columns=['Volume','Date','Close', 'High', 'Low', 'Open'])\n",
    "y_test = test_data['Close']\n",
    "\n",
    "# Keep for reference during performance analysis\n",
    "y_test_dates = test_data['Date']  "
   ]
  },
  {
   "cell_type": "code",
   "execution_count": 20,
   "metadata": {},
   "outputs": [
    {
     "data": {
      "text/html": [
       "<div>\n",
       "<style scoped>\n",
       "    .dataframe tbody tr th:only-of-type {\n",
       "        vertical-align: middle;\n",
       "    }\n",
       "\n",
       "    .dataframe tbody tr th {\n",
       "        vertical-align: top;\n",
       "    }\n",
       "\n",
       "    .dataframe thead th {\n",
       "        text-align: right;\n",
       "    }\n",
       "</style>\n",
       "<table border=\"1\" class=\"dataframe\">\n",
       "  <thead>\n",
       "    <tr style=\"text-align: right;\">\n",
       "      <th></th>\n",
       "      <th>RSI</th>\n",
       "      <th>%K</th>\n",
       "      <th>%R</th>\n",
       "      <th>EMA_fast</th>\n",
       "      <th>EMA_slow</th>\n",
       "      <th>MACD</th>\n",
       "      <th>Signal_Line</th>\n",
       "      <th>ROC</th>\n",
       "      <th>Direction</th>\n",
       "      <th>OBV</th>\n",
       "      <th>Day</th>\n",
       "      <th>Month</th>\n",
       "      <th>Year</th>\n",
       "    </tr>\n",
       "  </thead>\n",
       "  <tbody>\n",
       "    <tr>\n",
       "      <th>3522</th>\n",
       "      <td>31.663452</td>\n",
       "      <td>11.125241</td>\n",
       "      <td>-88.874759</td>\n",
       "      <td>192.642575</td>\n",
       "      <td>191.860181</td>\n",
       "      <td>0.782394</td>\n",
       "      <td>2.096536</td>\n",
       "      <td>-2.145384</td>\n",
       "      <td>-1</td>\n",
       "      <td>16138533900</td>\n",
       "      <td>2</td>\n",
       "      <td>1</td>\n",
       "      <td>2024</td>\n",
       "    </tr>\n",
       "    <tr>\n",
       "      <th>3523</th>\n",
       "      <td>24.387836</td>\n",
       "      <td>5.064899</td>\n",
       "      <td>-94.935101</td>\n",
       "      <td>191.351410</td>\n",
       "      <td>191.296464</td>\n",
       "      <td>0.054946</td>\n",
       "      <td>1.688218</td>\n",
       "      <td>-2.867838</td>\n",
       "      <td>-1</td>\n",
       "      <td>16080119400</td>\n",
       "      <td>3</td>\n",
       "      <td>1</td>\n",
       "      <td>2024</td>\n",
       "    </tr>\n",
       "    <tr>\n",
       "      <th>3524</th>\n",
       "      <td>8.867228</td>\n",
       "      <td>5.496261</td>\n",
       "      <td>-94.503739</td>\n",
       "      <td>189.898886</td>\n",
       "      <td>190.601171</td>\n",
       "      <td>-0.702285</td>\n",
       "      <td>1.210118</td>\n",
       "      <td>-4.983021</td>\n",
       "      <td>-1</td>\n",
       "      <td>16008135800</td>\n",
       "      <td>4</td>\n",
       "      <td>1</td>\n",
       "      <td>2024</td>\n",
       "    </tr>\n",
       "    <tr>\n",
       "      <th>3525</th>\n",
       "      <td>7.864614</td>\n",
       "      <td>5.540289</td>\n",
       "      <td>-94.459711</td>\n",
       "      <td>188.557518</td>\n",
       "      <td>189.903306</td>\n",
       "      <td>-1.345788</td>\n",
       "      <td>0.698936</td>\n",
       "      <td>-4.962236</td>\n",
       "      <td>-1</td>\n",
       "      <td>15945832500</td>\n",
       "      <td>5</td>\n",
       "      <td>1</td>\n",
       "      <td>2024</td>\n",
       "    </tr>\n",
       "    <tr>\n",
       "      <th>3526</th>\n",
       "      <td>24.905980</td>\n",
       "      <td>30.782416</td>\n",
       "      <td>-69.217584</td>\n",
       "      <td>188.096361</td>\n",
       "      <td>189.581579</td>\n",
       "      <td>-1.485219</td>\n",
       "      <td>0.262105</td>\n",
       "      <td>-3.005593</td>\n",
       "      <td>1</td>\n",
       "      <td>16004977000</td>\n",
       "      <td>8</td>\n",
       "      <td>1</td>\n",
       "      <td>2024</td>\n",
       "    </tr>\n",
       "  </tbody>\n",
       "</table>\n",
       "</div>"
      ],
      "text/plain": [
       "            RSI         %K         %R    EMA_fast    EMA_slow      MACD  \\\n",
       "3522  31.663452  11.125241 -88.874759  192.642575  191.860181  0.782394   \n",
       "3523  24.387836   5.064899 -94.935101  191.351410  191.296464  0.054946   \n",
       "3524   8.867228   5.496261 -94.503739  189.898886  190.601171 -0.702285   \n",
       "3525   7.864614   5.540289 -94.459711  188.557518  189.903306 -1.345788   \n",
       "3526  24.905980  30.782416 -69.217584  188.096361  189.581579 -1.485219   \n",
       "\n",
       "      Signal_Line       ROC  Direction          OBV  Day  Month  Year  \n",
       "3522     2.096536 -2.145384         -1  16138533900    2      1  2024  \n",
       "3523     1.688218 -2.867838         -1  16080119400    3      1  2024  \n",
       "3524     1.210118 -4.983021         -1  16008135800    4      1  2024  \n",
       "3525     0.698936 -4.962236         -1  15945832500    5      1  2024  \n",
       "3526     0.262105 -3.005593          1  16004977000    8      1  2024  "
      ]
     },
     "execution_count": 20,
     "metadata": {},
     "output_type": "execute_result"
    }
   ],
   "source": [
    "X_test.head()"
   ]
  },
  {
   "cell_type": "code",
   "execution_count": 21,
   "metadata": {},
   "outputs": [
    {
     "data": {
      "text/plain": [
       "3522   2024-01-02\n",
       "3523   2024-01-03\n",
       "3524   2024-01-04\n",
       "3525   2024-01-05\n",
       "3526   2024-01-08\n",
       "Name: Date, dtype: datetime64[ns]"
      ]
     },
     "execution_count": 21,
     "metadata": {},
     "output_type": "execute_result"
    }
   ],
   "source": [
    "y_test_dates.head()"
   ]
  },
  {
   "cell_type": "code",
   "execution_count": 22,
   "metadata": {},
   "outputs": [
    {
     "data": {
      "text/plain": [
       "3522    185.639999\n",
       "3523    184.250000\n",
       "3524    181.910004\n",
       "3525    181.179993\n",
       "3526    185.559998\n",
       "Name: Close, dtype: float64"
      ]
     },
     "execution_count": 22,
     "metadata": {},
     "output_type": "execute_result"
    }
   ],
   "source": [
    "y_test.head()"
   ]
  },
  {
   "cell_type": "markdown",
   "metadata": {},
   "source": [
    "---"
   ]
  },
  {
   "cell_type": "markdown",
   "metadata": {},
   "source": [
    "## Random Forest: Model Inherent Problem"
   ]
  },
  {
   "cell_type": "markdown",
   "metadata": {},
   "source": [
    "Random Forests require the same input as they were trained on. The model is trained on infromation derived from closing prices, so that means that if we wish to predict closing prices for January 2024, we would already need to know the closing prices for January 2024. This violates the concept of prediction, which is to predict future values based on past values. \n",
    "\n",
    "We must get creative in order to find a solution!\n",
    "\n",
    "We already know RF's are not built to handle sequential data. In order to show relevance regarding time series, we have already **implemented 3 columns to represent dates**.\n",
    "\n",
    "However, the most prominent issue is that we currently need future data to predict said future data.\n",
    "\n",
    "In order to mitigate this problem, we decided to split the training and prediction process into very specific steps:\n",
    "\n",
    " - Get financial metrics for 13 years\n",
    " \n",
    " - Use information available online to create functions that emulate patterns followed by each metric, based on statistics\n",
    " \n",
    " - Use those functions to determine values those metrics are likely to show in January, based on 13 years of data\n",
    "\n",
    " - Create a new test dataframe containing approximate values\n",
    " \n",
    " - Fit to a final, independent model to predict the stock price for January 2024"
   ]
  },
  {
   "cell_type": "markdown",
   "metadata": {},
   "source": [
    "---"
   ]
  },
  {
   "cell_type": "markdown",
   "metadata": {},
   "source": [
    "In order to make this process as efficient and effective as possible, we have also applied **MinMax scaling** and **binning** to the dataframe."
   ]
  },
  {
   "cell_type": "code",
   "execution_count": 23,
   "metadata": {},
   "outputs": [],
   "source": [
    "df_apple = pd.read_csv('./csvs_processing/dropped_multiIndex/AAPL.csv')"
   ]
  },
  {
   "cell_type": "code",
   "execution_count": 24,
   "metadata": {},
   "outputs": [],
   "source": [
    "def apply_minmax_scaling(train_df, test_df, columns_to_scale):\n",
    "    # Initialize MinMaxScaler\n",
    "    scaler = MinMaxScaler()\n",
    "\n",
    "    # Fit the scaler on the training data and transform it\n",
    "    train_scaled = train_df.copy()  \n",
    "    train_scaled[columns_to_scale] = scaler.fit_transform(train_df[columns_to_scale])\n",
    "\n",
    "    # Transform the test data using the same scaler (tests inside the same interval)\n",
    "    test_scaled = test_df.copy()  \n",
    "    test_scaled[columns_to_scale] = scaler.transform(test_df[columns_to_scale])\n",
    "\n",
    "    return train_scaled, test_scaled"
   ]
  },
  {
   "cell_type": "markdown",
   "metadata": {},
   "source": [
    "In order to aid the classification task, due to the presence of floating point values, we decided to implement a form of **binning**, based on the **Sturges' Rule**:\n",
    "<br>\n",
    "<center>\n",
    "\n",
    "$\n",
    "\\text{Number of bins} = \\lceil \\log_2(N) + 1 \\rceil\n",
    "$\n",
    "\n",
    "</center>"
   ]
  },
  {
   "cell_type": "markdown",
   "metadata": {},
   "source": [
    "Because the values are all standardized to MinMax scaling, we can split them into easily comprehensible intervals. The number of intervals is modifiable.\n",
    "\n",
    "The code below also automatically transforms each interval into an integer."
   ]
  },
  {
   "cell_type": "code",
   "execution_count": 25,
   "metadata": {},
   "outputs": [],
   "source": [
    "# Applies a type of binning to the train and test dataframes \n",
    "def apply_interval_division(train_df, test_df, columns_to_divide, separate=False, slices=10, showIntervals=False):\n",
    "    tr_df = train_df.copy()\n",
    "    te_df = test_df.copy()\n",
    "    if separate:\n",
    "        for c in columns_to_divide:\n",
    "            min_train, max_train = train_df[c].min(), train_df[c].max()\n",
    "            min_test, max_test = test_df[c].min(), test_df[c].max()\n",
    "    else:\n",
    "\n",
    "        for c in columns_to_divide:\n",
    "            df_min = min(train_df[c].min(), test_df[c].min())\n",
    "            df_max = max(train_df[c].max(), test_df[c].max())\n",
    "\n",
    "            # Creates intervals based on the Sturges' Rule\n",
    "            max_intervals = max(math.ceil(math.log(len(c),2)), slices)\n",
    "            bin_edges = np.linspace(df_min, df_max, max_intervals)\n",
    "\n",
    "            if showIntervals:\n",
    "                intervals = [\n",
    "                f\"[{bin_edges[i]:.2f}, {bin_edges[i + 1]:.2f})\" if (i < len(bin_edges) - 2) \n",
    "                else f\"[{bin_edges[i]:.2f}, {bin_edges[i + 1]:.2f}]\"\n",
    "                for i in range(len(bin_edges) - 1)]\n",
    "                print(intervals, len(intervals))\n",
    "\n",
    "            # Digitize the train and test data into bins\n",
    "            # If we use labels=False -> automatically transforms the intervals into integers\n",
    "            tr_df[c] = pd.cut(train_df[c], bins=bin_edges, labels=False, include_lowest=True)\n",
    "            te_df[c] = pd.cut(test_df[c], bins=bin_edges, labels=False, include_lowest=True)\n",
    "\n",
    "    return tr_df, te_df\n"
   ]
  },
  {
   "cell_type": "markdown",
   "metadata": {},
   "source": [
    "## Predicting Metrics"
   ]
  },
  {
   "cell_type": "markdown",
   "metadata": {},
   "source": [
    "As previously explained, in order to correctly predict Closing prices without using data from january 2024, we must **predict** all of the financial metrics used.\n",
    "\n",
    "In order to do so, we employed simple RF models."
   ]
  },
  {
   "cell_type": "code",
   "execution_count": 26,
   "metadata": {},
   "outputs": [],
   "source": [
    "def predictMetric(train_dataframe, test_dataframe, target):\n",
    "\n",
    "    # Fill missing values (NaNs) with the median of the respective column (prevents errors)\n",
    "    train_dataframe[['Day', 'Month', 'Year', target]] = train_dataframe[['Day', 'Month', 'Year', target]].fillna(train_dataframe[['Day', 'Month', 'Year', target]].median())\n",
    "    test_dataframe[['Day', 'Month', 'Year']] = test_dataframe[['Day', 'Month', 'Year']].fillna(test_dataframe[['Day', 'Month', 'Year']].median())\n",
    "\n",
    "    # Uses date to predict\n",
    "    X_train = train_dataframe[['Day','Month','Year']] \n",
    "    y_train = train_dataframe[target]  \n",
    "    \n",
    "    X_test = test_dataframe[['Day','Month','Year']]\n",
    "    \n",
    "    # Best settings determined in the genralization chapter\n",
    "    rf = RandomForestRegressor(n_estimators=50, min_samples_split=5, min_samples_leaf=2, \n",
    "                              max_features='sqrt', max_depth=20, bootstrap=True)\n",
    "    \n",
    "    rf.fit(X_train, y_train)\n",
    "    \n",
    "    # Predictst for January 2024\n",
    "    test_dataframe[target] = rf.predict(X_test)"
   ]
  },
  {
   "cell_type": "markdown",
   "metadata": {},
   "source": [
    "## Splitting Predicted Data"
   ]
  },
  {
   "cell_type": "markdown",
   "metadata": {},
   "source": [
    "This code is used in order to apply preprocessing and splitting to any of the 500 csv files."
   ]
  },
  {
   "cell_type": "code",
   "execution_count": 27,
   "metadata": {},
   "outputs": [],
   "source": [
    "def split_data(df, target='Close', colsRemove=['Date','Close', 'High', 'Low', 'Open','AdjClose','Volume'], \n",
    "               scale=False, intervals=False, showIntervals=False, features=True):\n",
    "    \n",
    "    # Convert Date to datetime and sort by Date\n",
    "    df['Date'] = pd.to_datetime(df['Date'])\n",
    "    df = df.sort_values(by='Date')\n",
    "\n",
    "    # Extract temporal features\n",
    "    df['Day'] = df['Date'].dt.day\n",
    "    df['Month'] = df['Date'].dt.month\n",
    "    df['Year'] = df['Date'].dt.year\n",
    "\n",
    "    # 2010 - 2023\n",
    "    train_data = df[(df['Date'] >= '2023-01-01') & (df['Date'] < '2024-01-01')]\n",
    "\n",
    "    # Test with January 2024\n",
    "    test_data = df[(df['Date'] >= '2024-01-01') & (df['Date'] < '2024-02-01')]\n",
    "\n",
    "    metrics_to_predict = ['RSI','EMA_fast','EMA_slow','MACD','Signal_Line','Direction','OBV']\n",
    "\n",
    "    #print(train_data.head())\n",
    "    #print(test_data.head())\n",
    "\n",
    "    if features:\n",
    "        for metric in metrics_to_predict:\n",
    "            predictMetric(train_data, test_data, metric)\n",
    "\n",
    "    minmax_cols = ['RSI','EMA_fast','EMA_slow','MACD','Signal_Line','Direction','OBV','Close']\n",
    "\n",
    "    if scale: train_data, test_data = apply_minmax_scaling(train_data, test_data, minmax_cols)\n",
    "\n",
    "    # Closing price must not be placed into intervals to preserve behaviour\n",
    "    if intervals: train_data, test_data = apply_interval_division(train_data, test_data, metrics_to_predict,showIntervals)\n",
    "\n",
    "    #print(train_data.head())\n",
    "    #print(test_data.head())\n",
    "\n",
    "    # Separates train_data into X and y\n",
    "    X_train = train_data.drop(columns=colsRemove, errors='ignore')\n",
    "    y_train = train_data[target]\n",
    "\n",
    "    # Separates test_data into X and y\n",
    "    X_test = test_data.drop(columns=colsRemove, errors='ignore')\n",
    "    y_test = test_data[target]\n",
    "\n",
    "    # Keep for reference during performance analysis\n",
    "    y_test_dates = test_data['Date']  \n",
    "\n",
    "    return X_train, y_train, X_test, y_test, y_test_dates, train_data, test_data"
   ]
  },
  {
   "cell_type": "markdown",
   "metadata": {},
   "source": [
    "Now, by joining the previous function with `addFeatures()`, we create a single function, which:\n",
    "\n",
    " - Receives a dataframe\n",
    " - Creates 3 columns from date\n",
    " - Separates dataframe into train and test\n",
    " - Obtains financial metrics \n",
    " - Removes columns which would violate causality principle\n",
    " - Predicts metrics for 2024\n",
    " - Optionally applies MinMax scaling\n",
    " - Optionally applies binning with Sturges' rule\n",
    " - Splits train and test into X and y\n",
    " - Outputs X, y, original train and test dataframes and y_dates (useful for plotting any time interval tested)"
   ]
  },
  {
   "cell_type": "code",
   "execution_count": 28,
   "metadata": {},
   "outputs": [],
   "source": [
    "# Combine all functions\n",
    "def preprocess_and_split(df, target='Close', colsRemove=['Date','Close', 'High', 'Low', 'Open','AdjClose','Volume'], \n",
    "                         rows=False, scale=False, intervals=False, showIntervals=False, features=True):\n",
    "    \n",
    "    df_preprocess = df.copy()\n",
    "\n",
    "    if features: addFeatures(df_preprocess, rows)\n",
    "    \n",
    "    X_train, y_train, X_test, y_test, y_test_dates, train_data, test_data = split_data(df_preprocess, target, colsRemove, scale, intervals, showIntervals, features)\n",
    "\n",
    "    return X_train, y_train, X_test, y_test, y_test_dates, train_data, test_data"
   ]
  },
  {
   "cell_type": "code",
   "execution_count": 29,
   "metadata": {},
   "outputs": [],
   "source": [
    "warnings.filterwarnings('ignore')\n",
    "X_train, y_train, X_test, y_test, y_test_dates, train_data, test_data = preprocess_and_split(df_apple,scale=False,intervals=False)"
   ]
  },
  {
   "cell_type": "markdown",
   "metadata": {},
   "source": [
    "---"
   ]
  },
  {
   "cell_type": "markdown",
   "metadata": {},
   "source": [
    "## Initial Model\n",
    "\n",
    "\n",
    "Let's train and test a very simple mode, with no optimization techniques, in order to quantify improvements:"
   ]
  },
  {
   "cell_type": "code",
   "execution_count": 30,
   "metadata": {},
   "outputs": [],
   "source": [
    "# Initialize and train the model\n",
    "model = RandomForestRegressor(n_estimators=45)\n",
    "model.fit(X_train, y_train)\n",
    "\n",
    "# Predict for January 2024\n",
    "predictions = model.predict(X_test)\n",
    "\n",
    "\n",
    "# Create dataframe with results\n",
    "results = pd.DataFrame({'Date': y_test_dates, 'Predicted_Close': predictions})"
   ]
  },
  {
   "cell_type": "code",
   "execution_count": 31,
   "metadata": {},
   "outputs": [
    {
     "data": {
      "text/html": [
       "<div>\n",
       "<style scoped>\n",
       "    .dataframe tbody tr th:only-of-type {\n",
       "        vertical-align: middle;\n",
       "    }\n",
       "\n",
       "    .dataframe tbody tr th {\n",
       "        vertical-align: top;\n",
       "    }\n",
       "\n",
       "    .dataframe thead th {\n",
       "        text-align: right;\n",
       "    }\n",
       "</style>\n",
       "<table border=\"1\" class=\"dataframe\">\n",
       "  <thead>\n",
       "    <tr style=\"text-align: right;\">\n",
       "      <th></th>\n",
       "      <th>Date</th>\n",
       "      <th>Predicted_Close</th>\n",
       "    </tr>\n",
       "  </thead>\n",
       "  <tbody>\n",
       "    <tr>\n",
       "      <th>3522</th>\n",
       "      <td>2024-01-02</td>\n",
       "      <td>134.188445</td>\n",
       "    </tr>\n",
       "    <tr>\n",
       "      <th>3523</th>\n",
       "      <td>2024-01-03</td>\n",
       "      <td>131.268888</td>\n",
       "    </tr>\n",
       "    <tr>\n",
       "      <th>3524</th>\n",
       "      <td>2024-01-04</td>\n",
       "      <td>130.504888</td>\n",
       "    </tr>\n",
       "    <tr>\n",
       "      <th>3525</th>\n",
       "      <td>2024-01-05</td>\n",
       "      <td>129.912221</td>\n",
       "    </tr>\n",
       "    <tr>\n",
       "      <th>3526</th>\n",
       "      <td>2024-01-08</td>\n",
       "      <td>132.682000</td>\n",
       "    </tr>\n",
       "  </tbody>\n",
       "</table>\n",
       "</div>"
      ],
      "text/plain": [
       "           Date  Predicted_Close\n",
       "3522 2024-01-02       134.188445\n",
       "3523 2024-01-03       131.268888\n",
       "3524 2024-01-04       130.504888\n",
       "3525 2024-01-05       129.912221\n",
       "3526 2024-01-08       132.682000"
      ]
     },
     "execution_count": 31,
     "metadata": {},
     "output_type": "execute_result"
    }
   ],
   "source": [
    "results.head()"
   ]
  },
  {
   "cell_type": "code",
   "execution_count": 32,
   "metadata": {},
   "outputs": [
    {
     "name": "stdout",
     "output_type": "stream",
     "text": [
      "Root Mean Squared Error (RMSE): 50.17109657540487\n",
      "Mean Absolute Error (MAE): 50.03565999187489\n",
      "Mean Absolute Percentage Error (MAPE): 26.66%\n"
     ]
    }
   ],
   "source": [
    "if 'Close' in test_data.columns:\n",
    "    y_test = test_data['Close']\n",
    "    rmse = root_mean_squared_error(y_test, predictions)\n",
    "    mae = mean_absolute_error(y_test, predictions)\n",
    "    mape = (abs((y_test - predictions) / y_test).mean()) * 100 \n",
    "\n",
    "    print(f\"Root Mean Squared Error (RMSE): {rmse}\")\n",
    "    print(f\"Mean Absolute Error (MAE): {mae}\")\n",
    "    print(f\"Mean Absolute Percentage Error (MAPE): {mape:.2f}%\")"
   ]
  },
  {
   "cell_type": "markdown",
   "metadata": {},
   "source": [
    "We can immediatly identify an extremely high RMSE and MAE errors, despite having reasonable MAPE errors. Let's plot the data for result comprehension:"
   ]
  },
  {
   "cell_type": "code",
   "execution_count": 33,
   "metadata": {},
   "outputs": [
    {
     "data": {
      "image/png": "[encoded data removed]",
      "text/plain": [
       "<Figure size 1200x600 with 1 Axes>"
      ]
     },
     "metadata": {},
     "output_type": "display_data"
    }
   ],
   "source": [
    "plt.figure(figsize=(12, 6))\n",
    "\n",
    "# Plot real prices\n",
    "plt.plot(test_data['Date'], test_data['Close'], label='Actual Close', marker='o')\n",
    "\n",
    "# Plot predicted prices\n",
    "plt.plot(y_test_dates, predictions, label='Predicted Close', linestyle='--', marker='x')\n",
    "plt.xlabel('Date')\n",
    "plt.ylabel('Stock Price')\n",
    "plt.title('Actual vs Predicted Stock Prices for January 2024')\n",
    "plt.legend()\n",
    "plt.grid(True)\n",
    "plt.show()"
   ]
  },
  {
   "cell_type": "markdown",
   "metadata": {},
   "source": [
    "We can verify that our simple model detects patterns of price changes, but does not take into consideration the **inflation** of closing prices throughout the years.\n",
    "\n",
    "\n",
    "In the final part of the report, we show that our model is incapable of assigning importance to the year columns, which causes this issue."
   ]
  },
  {
   "cell_type": "markdown",
   "metadata": {},
   "source": [
    "## Optimization"
   ]
  },
  {
   "cell_type": "markdown",
   "metadata": {},
   "source": [
    "As we have demonstrated in the report, all stock prices generaly follow the GSPC. This means that most of their patterns are quite similar to each other, meaning that the best RF settings for a small sample of different stocks should be the best settings overall."
   ]
  },
  {
   "cell_type": "code",
   "execution_count": 34,
   "metadata": {},
   "outputs": [],
   "source": [
    "def optimize_rf_hyperparameters(data_folder, num_samples=50):\n",
    "\n",
    "    results = []\n",
    "    \n",
    "    param_dist = {\n",
    "        'n_estimators': [50, 100, 150, 200],\n",
    "        'max_features': ['auto', 'sqrt', 'log2'],\n",
    "        'max_depth': [None, 10, 20, 30],\n",
    "        'min_samples_split': [2, 5, 10],\n",
    "        'min_samples_leaf': [1, 2, 4],\n",
    "        'bootstrap': [True, False]\n",
    "    }\n",
    "\n",
    "    # Randomly choose 50 files (10% of total files)\n",
    "    csv_files = [f for f in os.listdir(data_folder) if f.endswith('.csv')]\n",
    "    sampled_files = random.sample(csv_files, min(num_samples, len(csv_files)))\n",
    "\n",
    "    for file_name in tqdm(sampled_files, desc=\"Processing CSV files\"):\n",
    "        df = pd.read_csv(os.path.join(data_folder, file_name))\n",
    "        \n",
    "        X_train, y_train, X_test, y_test, y_test_dates, train_data, test_data = preprocess_and_split(df, scale=True, intervals=False)\n",
    "    \n",
    "        rf = RandomForestRegressor()\n",
    "        random_search = RandomizedSearchCV(\n",
    "            estimator=rf,\n",
    "            param_distributions=param_dist,\n",
    "            n_iter=20,  # Number of random combinations to test\n",
    "            cv=3,       \n",
    "            n_jobs=-1,  # Use all available cores\n",
    "            verbose=0,  \n",
    "        )\n",
    "\n",
    "        try:\n",
    "            random_search.fit(X_train, y_train)\n",
    "        except Exception as e:\n",
    "            print(f\"Error in processing CSV file: {file_name}\")\n",
    "            print(f\"Error details: {str(e)}\")\n",
    "\n",
    "        best_params = random_search.best_params_\n",
    "        best_model = random_search.best_estimator_\n",
    "        predictions = best_model.predict(X_test)\n",
    "        rmse = root_mean_squared_error(y_test, predictions)\n",
    "\n",
    "        # Each parameter represents a column\n",
    "        result = {'file_name': file_name, 'rmse': rmse}\n",
    "        for param, value in best_params.items():\n",
    "            result[param] = value\n",
    "\n",
    "        # Save best results\n",
    "        results.append(result)\n",
    "\n",
    "    results_df = pd.DataFrame(results)\n",
    "    results_df.to_csv('./pickle_jar/rf_tuning_results.csv', index=False)\n",
    "    print(\"Randomized Search complete!\")\n",
    "\n",
    "    return results_df"
   ]
  },
  {
   "cell_type": "markdown",
   "metadata": {},
   "source": [
    "Simply change this cell to python in order to run the code."
   ]
  },
  {
   "cell_type": "markdown",
   "metadata": {},
   "source": [
    "```py\n",
    "results_df = optimize_rf_hyperparameters('./clean_csvs', 50)\n",
    "```"
   ]
  },
  {
   "cell_type": "code",
   "execution_count": 35,
   "metadata": {},
   "outputs": [],
   "source": [
    "def convertNp(val):\n",
    "    if isinstance(val, np.int64): return int(val)\n",
    "    elif isinstance(val, np.bool_): return bool(val)\n",
    "    elif isinstance(val, np.float64): return float(val)\n",
    "    return val"
   ]
  },
  {
   "cell_type": "code",
   "execution_count": 36,
   "metadata": {},
   "outputs": [
    {
     "name": "stdout",
     "output_type": "stream",
     "text": [
      "Best Hyperparameters: \n",
      "\n",
      "{'n_estimators': 50, 'min_samples_split': 5, 'min_samples_leaf': 2, 'max_features': 'sqrt', 'max_depth': 20.0, 'bootstrap': True}\n"
     ]
    },
    {
     "data": {
      "text/html": [
       "<div>\n",
       "<style scoped>\n",
       "    .dataframe tbody tr th:only-of-type {\n",
       "        vertical-align: middle;\n",
       "    }\n",
       "\n",
       "    .dataframe tbody tr th {\n",
       "        vertical-align: top;\n",
       "    }\n",
       "\n",
       "    .dataframe thead th {\n",
       "        text-align: right;\n",
       "    }\n",
       "</style>\n",
       "<table border=\"1\" class=\"dataframe\">\n",
       "  <thead>\n",
       "    <tr style=\"text-align: right;\">\n",
       "      <th></th>\n",
       "      <th>file_name</th>\n",
       "      <th>rmse</th>\n",
       "      <th>n_estimators</th>\n",
       "      <th>min_samples_split</th>\n",
       "      <th>min_samples_leaf</th>\n",
       "      <th>max_features</th>\n",
       "      <th>max_depth</th>\n",
       "      <th>bootstrap</th>\n",
       "    </tr>\n",
       "  </thead>\n",
       "  <tbody>\n",
       "    <tr>\n",
       "      <th>0</th>\n",
       "      <td>NOC.csv</td>\n",
       "      <td>0.050204</td>\n",
       "      <td>50</td>\n",
       "      <td>2</td>\n",
       "      <td>1</td>\n",
       "      <td>log2</td>\n",
       "      <td>30.0</td>\n",
       "      <td>False</td>\n",
       "    </tr>\n",
       "    <tr>\n",
       "      <th>1</th>\n",
       "      <td>PH.csv</td>\n",
       "      <td>0.379378</td>\n",
       "      <td>150</td>\n",
       "      <td>2</td>\n",
       "      <td>2</td>\n",
       "      <td>log2</td>\n",
       "      <td>10.0</td>\n",
       "      <td>True</td>\n",
       "    </tr>\n",
       "    <tr>\n",
       "      <th>2</th>\n",
       "      <td>RVTY.csv</td>\n",
       "      <td>0.148504</td>\n",
       "      <td>50</td>\n",
       "      <td>10</td>\n",
       "      <td>1</td>\n",
       "      <td>sqrt</td>\n",
       "      <td>30.0</td>\n",
       "      <td>False</td>\n",
       "    </tr>\n",
       "    <tr>\n",
       "      <th>3</th>\n",
       "      <td>F.csv</td>\n",
       "      <td>0.055861</td>\n",
       "      <td>50</td>\n",
       "      <td>2</td>\n",
       "      <td>4</td>\n",
       "      <td>sqrt</td>\n",
       "      <td>NaN</td>\n",
       "      <td>True</td>\n",
       "    </tr>\n",
       "    <tr>\n",
       "      <th>4</th>\n",
       "      <td>GL.csv</td>\n",
       "      <td>0.024587</td>\n",
       "      <td>200</td>\n",
       "      <td>2</td>\n",
       "      <td>2</td>\n",
       "      <td>sqrt</td>\n",
       "      <td>30.0</td>\n",
       "      <td>True</td>\n",
       "    </tr>\n",
       "  </tbody>\n",
       "</table>\n",
       "</div>"
      ],
      "text/plain": [
       "  file_name      rmse  n_estimators  min_samples_split  min_samples_leaf  \\\n",
       "0   NOC.csv  0.050204            50                  2                 1   \n",
       "1    PH.csv  0.379378           150                  2                 2   \n",
       "2  RVTY.csv  0.148504            50                 10                 1   \n",
       "3     F.csv  0.055861            50                  2                 4   \n",
       "4    GL.csv  0.024587           200                  2                 2   \n",
       "\n",
       "  max_features  max_depth  bootstrap  \n",
       "0         log2       30.0      False  \n",
       "1         log2       10.0       True  \n",
       "2         sqrt       30.0      False  \n",
       "3         sqrt        NaN       True  \n",
       "4         sqrt       30.0       True  "
      ]
     },
     "execution_count": 36,
     "metadata": {},
     "output_type": "execute_result"
    }
   ],
   "source": [
    "results_df = pd.read_csv('./pickle_jar/rf_tuning_results.csv')\n",
    "\n",
    "results_df = results_df.where(pd.notnull(results_df), None)\n",
    "\n",
    "# Identify the most common value for each column (should be the overall best)\n",
    "most_common_params = {}\n",
    "for column in results_df.columns[2:]: \n",
    "    most_common_value = results_df[column].mode()\n",
    "    \n",
    "    if not most_common_value.empty:\n",
    "        most_common_params[column] = convertNp(most_common_value[0])\n",
    "    else:\n",
    "        most_common_params[column] = None  \n",
    "\n",
    "\n",
    "# Create the final dictionary with the best parameters\n",
    "print(\"Best Hyperparameters: \\n\")\n",
    "print(most_common_params)\n",
    "\n",
    "results_df.head()"
   ]
  },
  {
   "cell_type": "markdown",
   "metadata": {},
   "source": [
    "## Generalization"
   ]
  },
  {
   "cell_type": "markdown",
   "metadata": {},
   "source": [
    "Now that we have the best parameters regarding our datasets, as well as other specialized scaling and binning techniques, we can generalize predictions and buy signals.\n",
    "\n",
    "However, we will only be creating the function to do so, since we could not obtain results good enough for comparison with LSTM prediction.\n",
    "\n",
    "Aditionally, we will also implement some changes which were professor suggestions, as well as a few considerations."
   ]
  },
  {
   "cell_type": "code",
   "execution_count": 37,
   "metadata": {},
   "outputs": [],
   "source": [
    "X_train, y_train, X_test, y_test, y_test_dates, train_data, test_data = preprocess_and_split(df_apple, scale=True, intervals=True)"
   ]
  },
  {
   "cell_type": "code",
   "execution_count": 38,
   "metadata": {},
   "outputs": [],
   "source": [
    "# Initialize and train the model\n",
    "model = RandomForestRegressor(n_estimators=50, min_samples_split=5, min_samples_leaf=2, \n",
    "                              max_features='sqrt', max_depth=20, bootstrap=True)\n",
    "model.fit(X_train, y_train)\n",
    "\n",
    "# Predict for January 2024\n",
    "predictions = model.predict(X_test)\n",
    "\n",
    "# Create dataframe with results\n",
    "results = pd.DataFrame({'Date': y_test_dates, 'Predicted_Close': predictions})"
   ]
  },
  {
   "cell_type": "markdown",
   "metadata": {},
   "source": [
    "#### Feature Importance"
   ]
  },
  {
   "cell_type": "code",
   "execution_count": 39,
   "metadata": {},
   "outputs": [
    {
     "data": {
      "text/html": [
       "<div>\n",
       "<style scoped>\n",
       "    .dataframe tbody tr th:only-of-type {\n",
       "        vertical-align: middle;\n",
       "    }\n",
       "\n",
       "    .dataframe tbody tr th {\n",
       "        vertical-align: top;\n",
       "    }\n",
       "\n",
       "    .dataframe thead th {\n",
       "        text-align: right;\n",
       "    }\n",
       "</style>\n",
       "<table border=\"1\" class=\"dataframe\">\n",
       "  <thead>\n",
       "    <tr style=\"text-align: right;\">\n",
       "      <th></th>\n",
       "      <th>Feature</th>\n",
       "      <th>Importance</th>\n",
       "    </tr>\n",
       "  </thead>\n",
       "  <tbody>\n",
       "    <tr>\n",
       "      <th>1</th>\n",
       "      <td>EMA_fast</td>\n",
       "      <td>0.299465</td>\n",
       "    </tr>\n",
       "    <tr>\n",
       "      <th>2</th>\n",
       "      <td>EMA_slow</td>\n",
       "      <td>0.262103</td>\n",
       "    </tr>\n",
       "    <tr>\n",
       "      <th>8</th>\n",
       "      <td>Month</td>\n",
       "      <td>0.184600</td>\n",
       "    </tr>\n",
       "    <tr>\n",
       "      <th>6</th>\n",
       "      <td>OBV</td>\n",
       "      <td>0.134284</td>\n",
       "    </tr>\n",
       "    <tr>\n",
       "      <th>4</th>\n",
       "      <td>Signal_Line</td>\n",
       "      <td>0.064287</td>\n",
       "    </tr>\n",
       "    <tr>\n",
       "      <th>3</th>\n",
       "      <td>MACD</td>\n",
       "      <td>0.033080</td>\n",
       "    </tr>\n",
       "    <tr>\n",
       "      <th>0</th>\n",
       "      <td>RSI</td>\n",
       "      <td>0.013820</td>\n",
       "    </tr>\n",
       "    <tr>\n",
       "      <th>7</th>\n",
       "      <td>Day</td>\n",
       "      <td>0.007464</td>\n",
       "    </tr>\n",
       "    <tr>\n",
       "      <th>5</th>\n",
       "      <td>Direction</td>\n",
       "      <td>0.000897</td>\n",
       "    </tr>\n",
       "    <tr>\n",
       "      <th>9</th>\n",
       "      <td>Year</td>\n",
       "      <td>0.000000</td>\n",
       "    </tr>\n",
       "  </tbody>\n",
       "</table>\n",
       "</div>"
      ],
      "text/plain": [
       "       Feature  Importance\n",
       "1     EMA_fast    0.299465\n",
       "2     EMA_slow    0.262103\n",
       "8        Month    0.184600\n",
       "6          OBV    0.134284\n",
       "4  Signal_Line    0.064287\n",
       "3         MACD    0.033080\n",
       "0          RSI    0.013820\n",
       "7          Day    0.007464\n",
       "5    Direction    0.000897\n",
       "9         Year    0.000000"
      ]
     },
     "execution_count": 39,
     "metadata": {},
     "output_type": "execute_result"
    }
   ],
   "source": [
    "# Extracting feature importance\n",
    "importance = model.feature_importances_\n",
    "feature_names = X_test.columns\n",
    "feature_importance = pd.DataFrame({\n",
    "    'Feature': feature_names,\n",
    "    'Importance': importance\n",
    "}).sort_values(by='Importance', ascending=False)\n",
    "\n",
    "feature_importance"
   ]
  },
  {
   "cell_type": "markdown",
   "metadata": {},
   "source": [
    "As expected, the RF model is not takin into account the 'Year' column as being important. This could explain why the price inflation is not correctly captured, even if the model is capable of correctly predicting the changes' patterns:\n",
    "\n",
    " - Model is not correctly associating year increment with rise in price\n",
    " - Correctly detects relative changes in pattern, incorrectly assigns the absolute values"
   ]
  },
  {
   "cell_type": "code",
   "execution_count": 40,
   "metadata": {},
   "outputs": [
    {
     "data": {
      "image/png": "[encoded data removed]",
      "text/plain": [
       "<Figure size 1200x600 with 1 Axes>"
      ]
     },
     "metadata": {},
     "output_type": "display_data"
    }
   ],
   "source": [
    "plt.figure(figsize=(12, 6))\n",
    "\n",
    "# Plot real prices\n",
    "plt.plot(test_data['Date'], test_data['Close'], label='Actual Close', marker='o')\n",
    "\n",
    "# Plot predicted prices\n",
    "plt.plot(y_test_dates, predictions, label='Predicted Close', linestyle='--', marker='x')\n",
    "plt.xlabel('Date')\n",
    "plt.ylabel('Stock Price')\n",
    "plt.title('Actual vs Predicted Stock Prices for January 2024')\n",
    "plt.legend()\n",
    "plt.grid(True)\n",
    "plt.show()"
   ]
  },
  {
   "cell_type": "code",
   "execution_count": 51,
   "metadata": {},
   "outputs": [
    {
     "name": "stdout",
     "output_type": "stream",
     "text": [
      "Root Mean Squared Error (RMSE): 0.6897153453821262\n",
      "Mean Absolute Error (MAE): 0.6873172806971157\n",
      "Mean Absolute Percentage Error (MAPE): 8.05%\n"
     ]
    }
   ],
   "source": [
    "if 'Close' in test_data.columns:\n",
    "    y_test = test_data['Close']\n",
    "    rmse = root_mean_squared_error(y_test, predictions)\n",
    "    mae = mean_absolute_error(y_test, predictions)\n",
    "    mape = (abs((y_test - predictions) / y_test).mean()) * 10\n",
    "\n",
    "    print(f\"Root Mean Squared Error (RMSE): {rmse}\")\n",
    "    print(f\"Mean Absolute Error (MAE): {mae}\")\n",
    "    print(f\"Mean Absolute Percentage Error (MAPE): {mape:.2f}%\")"
   ]
  },
  {
   "cell_type": "markdown",
   "metadata": {},
   "source": [
    "Through the use of scaling, we were able to show that if our model was able to detect year changes and assing significant importance to that feature, we would've obtain some very reasonable results. Unfortunately, due to reasons mentioned in the final chapter."
   ]
  },
  {
   "cell_type": "markdown",
   "metadata": {},
   "source": [
    "### All 500 Companies + Sector Column"
   ]
  },
  {
   "cell_type": "markdown",
   "metadata": {},
   "source": [
    "In this section, we decided to **concatenate every csv** file, as well as create new `Ticker` and `Sector` columns, in order to ascertain whether it will hinder or improve model performance."
   ]
  },
  {
   "cell_type": "markdown",
   "metadata": {},
   "source": [
    "The code below implements the following logic:\n",
    " - Loop through the directory containing every tangible file\n",
    " - Apply our automatic feature extraction to each file\n",
    " - Extract each company's sector using the `yfinance` module\n",
    " - Create `Ticker` and `Sector` columns\n",
    " - Populate those columns with the data obtained\n",
    " - Create new `sp500_sectors.csv` file and store it in `pickle_jar`"
   ]
  },
  {
   "cell_type": "code",
   "execution_count": 42,
   "metadata": {},
   "outputs": [],
   "source": [
    "def get_sp500_tickers():\n",
    "    # Downloads the table from Wikipedia\n",
    "    url = \"https://en.wikipedia.org/wiki/List_of_S%26P_500_companies\"\n",
    "    table = pd.read_html(url)[0]\n",
    "    tickers = table['Symbol'].tolist()\n",
    "    \n",
    "    # Remove any invalid ticker symbols if necessary\n",
    "    tickers = [ticker.replace('.', '-') for ticker in tickers]  # For Yahoo Finance compatibility\n",
    "    return tickers"
   ]
  },
  {
   "cell_type": "code",
   "execution_count": 43,
   "metadata": {},
   "outputs": [],
   "source": [
    "def processSector(df, ticker):\n",
    "    # Apply our feature extractor\n",
    "    addFeatures(df, rows=14)\n",
    "\n",
    "    if (df.isnull().values.any())>0: \n",
    "        print(\"Has Null is \", df.isnull().values.any(), \"for\", ticker)\n",
    "\n",
    "    # Creates and adds values to 'Ticker' column for df\n",
    "    df[\"Ticker\"] = ticker\n",
    "\n",
    "    # Checks if sector is available in yfinance and places it inside 'Sector' column\n",
    "    try:\n",
    "        ticker_data = yf.Ticker(ticker)\n",
    "        sector = ticker_data.info.get('sector', None)\n",
    "        if sector == None: print(f\"{ticker}'s Sector is None. Delete or fix.\")\n",
    "    except Exception as e:\n",
    "        print(f\"Sector information not available for {ticker}. Skipping sector assignment.\")\n",
    "    \n",
    "    df[\"Sector\"] = sector\n",
    "\n",
    "\n",
    "    return df"
   ]
  },
  {
   "cell_type": "code",
   "execution_count": 44,
   "metadata": {},
   "outputs": [
    {
     "data": {
      "text/plain": [
       "503"
      ]
     },
     "execution_count": 44,
     "metadata": {},
     "output_type": "execute_result"
    }
   ],
   "source": [
    "tickers = get_sp500_tickers()\n",
    "tickers.sort()\n",
    "len(tickers)"
   ]
  },
  {
   "cell_type": "code",
   "execution_count": 45,
   "metadata": {},
   "outputs": [],
   "source": [
    "clean_directory = './csvs_processing/dropped_multiIndex/'\n",
    "save_directory = './csvs_processing/sectors/'"
   ]
  },
  {
   "cell_type": "code",
   "execution_count": 46,
   "metadata": {},
   "outputs": [],
   "source": [
    "def createSectorSP500(tickers, clean_dir, save_dir):\n",
    "\n",
    "    # Initialize the main dataframe\n",
    "    clean_file_path = os.path.join(clean_dir, f\"{tickers[0]}.csv\")\n",
    "    if os.path.exists(clean_file_path):\n",
    "        df = pd.read_csv(clean_file_path)\n",
    "        df = processSector(df, tickers[0])\n",
    "        sp500_sectors = df.copy()\n",
    "\n",
    "        # Create sp500_sectors.csv file \n",
    "        save_path = os.path.join(\"./pickle_jar/\", \"sp500_sectors.csv\")\n",
    "        sp500_sectors.to_csv(save_path, index=False)\n",
    "    else:\n",
    "        print(f\"File for {tickers[0]} not found in {clean_dir}. Skipping...\")\n",
    "\n",
    "\n",
    "    # Iterate over every tangible file\n",
    "    for ticker in tqdm(tickers[1:], desc=\"Processing Tickers\", unit=\"ticker\"):\n",
    "        clean_file_path = os.path.join(clean_dir, f\"{ticker}.csv\")\n",
    "\n",
    "        if os.path.exists(clean_file_path):\n",
    "\n",
    "            # Creates Dataframe\n",
    "            df = pd.read_csv(clean_file_path)\n",
    "\n",
    "            # Adds features, ticker and sector\n",
    "            df = processSector(df, ticker)\n",
    "\n",
    "            # Save each csv to save_dir directory\n",
    "            save_file_path = os.path.join(save_dir, f\"{ticker}.csv\")\n",
    "            df.to_csv(save_file_path, index=False)\n",
    "            \n",
    "        else:\n",
    "            print(f\"File for {ticker} not found in {clean_dir}. Skipping...\")\n",
    "\n",
    "    return sp500_sectors"
   ]
  },
  {
   "cell_type": "code",
   "execution_count": 47,
   "metadata": {},
   "outputs": [],
   "source": [
    "def concatSP500(sp500_sectors, sectors_dir):\n",
    "\n",
    "    # Iterate over every tangible file\n",
    "    for ticker in tqdm(tickers[1:], desc=\"Processing Tickers\", unit=\"ticker\"):\n",
    "        clean_file_path = os.path.join(sectors_dir, f\"{ticker}.csv\")\n",
    "\n",
    "        if os.path.exists(clean_file_path):\n",
    "\n",
    "            # Creates Dataframe\n",
    "            df = pd.read_csv(clean_file_path)\n",
    "\n",
    "            # Adds df to the bottom of sp500_sector dataframe\n",
    "            sp500_sectors = pd.concat([sp500_sectors, df], ignore_index=True)\n",
    "            \n",
    "            # Update sp500_sectors.csv file \n",
    "            save_path = os.path.join(\"./pickle_jar/\", \"sp500_sectors.csv\")\n",
    "            sp500_sectors.to_csv(save_path, index=False)\n",
    "\n",
    "            \n",
    "        else:\n",
    "            print(f\"File for {ticker} not found in {sectors_dir}. Skipping...\")\n",
    "\n",
    "    return sp500_sectors"
   ]
  },
  {
   "cell_type": "markdown",
   "metadata": {},
   "source": [
    "```py\n",
    "sp500_sectors = createSectorSP500(tickers, clean_directory, save_directory)\n",
    "```"
   ]
  },
  {
   "cell_type": "markdown",
   "metadata": {},
   "source": [
    "Which outputs:\n",
    "\n",
    "Has Null is  True for AMCR\n",
    "\n",
    "Processing Tickers: 100%|██████████| 502/502 [01:45<00:00,  4.78ticker/s]"
   ]
  },
  {
   "cell_type": "markdown",
   "metadata": {},
   "source": [
    "This means that AMCR shows some null files. Let's take care of that:"
   ]
  },
  {
   "cell_type": "markdown",
   "metadata": {},
   "source": [
    "```py\n",
    "df_amcr = pd.read_csv(\"./csvs_processing/sectors/AMCR.csv\")\n",
    "df_amcr.head(5)\n",
    "```"
   ]
  },
  {
   "cell_type": "markdown",
   "metadata": {},
   "source": [
    "Because this seems like an anomaly in volume, we will not be adding it to the final, concatenated dataframe. For this reason, we will be removing it from the folder:"
   ]
  },
  {
   "cell_type": "markdown",
   "metadata": {},
   "source": [
    "```py\n",
    "os.remove(\"./csvs_processing/sectors/AMCR.csv\")\n",
    "```\n"
   ]
  },
  {
   "cell_type": "markdown",
   "metadata": {},
   "source": [
    "Finally, we can concatenate all of the files into a single, complete dataframe."
   ]
  },
  {
   "cell_type": "markdown",
   "metadata": {},
   "source": [
    "```py \n",
    "sp500_sectors = concatSP500(sp500_sectors,\"./csvs_processing/sectors/\")\n",
    "```"
   ]
  },
  {
   "cell_type": "markdown",
   "metadata": {},
   "source": [
    "This code takes a very, very long time to run, due to the elevated number of lines and features. For this reason, and because we are not going to use the RF results with portfolio optimization, we decided to just leave a section of the csv this code produces inside the `pickle_jar` folder, for visualization.\n",
    "\n",
    "This is due to the fact that the resulting dataframe would have 19 features and approximatelly 1.75 million rows, which represent roughly 33 million cells.\n",
    "\n",
    "In the code below, we also transformed ticker and sector values into integer identifiers, in order to use them during training."
   ]
  },
  {
   "cell_type": "code",
   "execution_count": 48,
   "metadata": {},
   "outputs": [
    {
     "data": {
      "text/html": [
       "<div>\n",
       "<style scoped>\n",
       "    .dataframe tbody tr th:only-of-type {\n",
       "        vertical-align: middle;\n",
       "    }\n",
       "\n",
       "    .dataframe tbody tr th {\n",
       "        vertical-align: top;\n",
       "    }\n",
       "\n",
       "    .dataframe thead th {\n",
       "        text-align: right;\n",
       "    }\n",
       "</style>\n",
       "<table border=\"1\" class=\"dataframe\">\n",
       "  <thead>\n",
       "    <tr style=\"text-align: right;\">\n",
       "      <th></th>\n",
       "      <th>Date</th>\n",
       "      <th>AdjClose</th>\n",
       "      <th>Close</th>\n",
       "      <th>High</th>\n",
       "      <th>Low</th>\n",
       "      <th>Open</th>\n",
       "      <th>Volume</th>\n",
       "      <th>RSI</th>\n",
       "      <th>%K</th>\n",
       "      <th>%R</th>\n",
       "      <th>EMA_fast</th>\n",
       "      <th>EMA_slow</th>\n",
       "      <th>MACD</th>\n",
       "      <th>Signal_Line</th>\n",
       "      <th>ROC</th>\n",
       "      <th>Direction</th>\n",
       "      <th>OBV</th>\n",
       "      <th>Ticker</th>\n",
       "      <th>Sector</th>\n",
       "    </tr>\n",
       "  </thead>\n",
       "  <tbody>\n",
       "    <tr>\n",
       "      <th>0</th>\n",
       "      <td>2010-02-17</td>\n",
       "      <td>19.623779</td>\n",
       "      <td>21.909870</td>\n",
       "      <td>21.988556</td>\n",
       "      <td>21.552217</td>\n",
       "      <td>21.716738</td>\n",
       "      <td>4891183</td>\n",
       "      <td>64.599989</td>\n",
       "      <td>96.099197</td>\n",
       "      <td>-3.900803</td>\n",
       "      <td>21.269760</td>\n",
       "      <td>21.359116</td>\n",
       "      <td>-0.089355</td>\n",
       "      <td>-0.239893</td>\n",
       "      <td>-2.140582</td>\n",
       "      <td>1</td>\n",
       "      <td>26107370</td>\n",
       "      <td>0</td>\n",
       "      <td>0</td>\n",
       "    </tr>\n",
       "    <tr>\n",
       "      <th>1</th>\n",
       "      <td>2010-02-18</td>\n",
       "      <td>19.848011</td>\n",
       "      <td>22.160229</td>\n",
       "      <td>22.174536</td>\n",
       "      <td>21.773964</td>\n",
       "      <td>21.866953</td>\n",
       "      <td>3313959</td>\n",
       "      <td>73.511292</td>\n",
       "      <td>99.350610</td>\n",
       "      <td>-0.649390</td>\n",
       "      <td>21.406756</td>\n",
       "      <td>21.418457</td>\n",
       "      <td>-0.011702</td>\n",
       "      <td>-0.194255</td>\n",
       "      <td>0.064595</td>\n",
       "      <td>1</td>\n",
       "      <td>29421329</td>\n",
       "      <td>0</td>\n",
       "      <td>0</td>\n",
       "    </tr>\n",
       "    <tr>\n",
       "      <th>2</th>\n",
       "      <td>2010-02-19</td>\n",
       "      <td>19.988962</td>\n",
       "      <td>22.317596</td>\n",
       "      <td>22.367668</td>\n",
       "      <td>21.902718</td>\n",
       "      <td>22.060085</td>\n",
       "      <td>4186171</td>\n",
       "      <td>85.778785</td>\n",
       "      <td>97.770694</td>\n",
       "      <td>-2.229306</td>\n",
       "      <td>21.546885</td>\n",
       "      <td>21.485060</td>\n",
       "      <td>0.061825</td>\n",
       "      <td>-0.143039</td>\n",
       "      <td>1.134517</td>\n",
       "      <td>1</td>\n",
       "      <td>33607500</td>\n",
       "      <td>0</td>\n",
       "      <td>0</td>\n",
       "    </tr>\n",
       "    <tr>\n",
       "      <th>3</th>\n",
       "      <td>2010-02-22</td>\n",
       "      <td>19.956926</td>\n",
       "      <td>22.281832</td>\n",
       "      <td>22.381973</td>\n",
       "      <td>22.067240</td>\n",
       "      <td>22.381973</td>\n",
       "      <td>4038123</td>\n",
       "      <td>79.881681</td>\n",
       "      <td>95.498459</td>\n",
       "      <td>-4.501541</td>\n",
       "      <td>21.659954</td>\n",
       "      <td>21.544080</td>\n",
       "      <td>0.115873</td>\n",
       "      <td>-0.091256</td>\n",
       "      <td>1.103536</td>\n",
       "      <td>-1</td>\n",
       "      <td>29569377</td>\n",
       "      <td>0</td>\n",
       "      <td>0</td>\n",
       "    </tr>\n",
       "    <tr>\n",
       "      <th>4</th>\n",
       "      <td>2010-02-23</td>\n",
       "      <td>19.764732</td>\n",
       "      <td>22.067240</td>\n",
       "      <td>22.288984</td>\n",
       "      <td>21.838341</td>\n",
       "      <td>22.238913</td>\n",
       "      <td>4366373</td>\n",
       "      <td>70.392777</td>\n",
       "      <td>85.852166</td>\n",
       "      <td>-14.147834</td>\n",
       "      <td>21.722613</td>\n",
       "      <td>21.582833</td>\n",
       "      <td>0.139780</td>\n",
       "      <td>-0.045049</td>\n",
       "      <td>0.162343</td>\n",
       "      <td>-1</td>\n",
       "      <td>25203004</td>\n",
       "      <td>0</td>\n",
       "      <td>0</td>\n",
       "    </tr>\n",
       "  </tbody>\n",
       "</table>\n",
       "</div>"
      ],
      "text/plain": [
       "         Date   AdjClose      Close       High        Low       Open   Volume  \\\n",
       "0  2010-02-17  19.623779  21.909870  21.988556  21.552217  21.716738  4891183   \n",
       "1  2010-02-18  19.848011  22.160229  22.174536  21.773964  21.866953  3313959   \n",
       "2  2010-02-19  19.988962  22.317596  22.367668  21.902718  22.060085  4186171   \n",
       "3  2010-02-22  19.956926  22.281832  22.381973  22.067240  22.381973  4038123   \n",
       "4  2010-02-23  19.764732  22.067240  22.288984  21.838341  22.238913  4366373   \n",
       "\n",
       "         RSI         %K         %R   EMA_fast   EMA_slow      MACD  \\\n",
       "0  64.599989  96.099197  -3.900803  21.269760  21.359116 -0.089355   \n",
       "1  73.511292  99.350610  -0.649390  21.406756  21.418457 -0.011702   \n",
       "2  85.778785  97.770694  -2.229306  21.546885  21.485060  0.061825   \n",
       "3  79.881681  95.498459  -4.501541  21.659954  21.544080  0.115873   \n",
       "4  70.392777  85.852166 -14.147834  21.722613  21.582833  0.139780   \n",
       "\n",
       "   Signal_Line       ROC  Direction       OBV  Ticker  Sector  \n",
       "0    -0.239893 -2.140582          1  26107370       0       0  \n",
       "1    -0.194255  0.064595          1  29421329       0       0  \n",
       "2    -0.143039  1.134517          1  33607500       0       0  \n",
       "3    -0.091256  1.103536         -1  29569377       0       0  \n",
       "4    -0.045049  0.162343         -1  25203004       0       0  "
      ]
     },
     "execution_count": 48,
     "metadata": {},
     "output_type": "execute_result"
    }
   ],
   "source": [
    "df_spSectors = pd.read_csv('./pickle_jar/sp500_sectors.csv')\n",
    "\n",
    "# Transform Strings into Int\n",
    "df_spSectors['Ticker'] = pd.factorize(df_spSectors['Ticker'])[0]\n",
    "df_spSectors['Sector'] = pd.factorize(df_spSectors['Sector'])[0]\n",
    "\n",
    "df_spSectors.head()"
   ]
  },
  {
   "cell_type": "markdown",
   "metadata": {},
   "source": [
    "\n",
    "The script below tests and obtains predictions for this file:"
   ]
  },
  {
   "cell_type": "markdown",
   "metadata": {},
   "source": [
    "```py\n",
    "X_train, y_train, X_test, y_test, y_test_dates, train_data, test_data = preprocess_and_split(df_spSectors, features=False)\n",
    "\n",
    "# Initialize and train the model\n",
    "model = RandomForestRegressor(n_estimators=50, min_samples_split=5, min_samples_leaf=2, \n",
    "                              max_features='sqrt', max_depth=20, bootstrap=True)\n",
    "model.fit(X_train, y_train)\n",
    "\n",
    "# Predict for January 2024\n",
    "predictions = model.predict(X_test)\n",
    "\n",
    "# Create dataframe with results\n",
    "results = pd.DataFrame({'Date': y_test_dates, 'Predicted_Close': predictions})\n",
    "```"
   ]
  },
  {
   "cell_type": "markdown",
   "metadata": {},
   "source": [
    "### Loop for All Companies"
   ]
  },
  {
   "cell_type": "markdown",
   "metadata": {},
   "source": [
    "The script below is used to test for every single file:"
   ]
  },
  {
   "cell_type": "markdown",
   "metadata": {},
   "source": [
    "```py\n",
    "\n",
    "all_predict = []\n",
    "\n",
    "# Iterate over every tangible file\n",
    "for ticker in tqdm(tickers[1:], desc=\"Processing Tickers\", unit=\"ticker\"):\n",
    "\n",
    "    if ticker == 'AMCR': continue\n",
    "\n",
    "    clean_file_path = os.path.join(clean_directory, f\"{ticker}.csv\")\n",
    "\n",
    "    if os.path.exists(clean_file_path):\n",
    "\n",
    "        # Creates Dataframe\n",
    "        df = pd.read_csv(clean_file_path)\n",
    "\n",
    "        X_train, y_train, X_test, y_test, y_test_dates, train_data, test_data = preprocess_and_split(df)\n",
    "\n",
    "        # Initialize and train the model\n",
    "        model = RandomForestRegressor(n_estimators=50, min_samples_split=5, min_samples_leaf=2, \n",
    "                                    max_features='sqrt', max_depth=20, bootstrap=True)\n",
    "        model.fit(X_train, y_train)\n",
    "\n",
    "        # Predict for January 2024\n",
    "        predictions = model.predict(X_test)\n",
    "\n",
    "        # Create dataframe with results\n",
    "        results = pd.DataFrame({'Date': y_test_dates, 'Predicted_Close': predictions})\n",
    "\n",
    "        all_predict.append[predictions]\n",
    "\n",
    "```"
   ]
  },
  {
   "cell_type": "markdown",
   "metadata": {},
   "source": [
    "# Model Explainability"
   ]
  },
  {
   "cell_type": "markdown",
   "metadata": {},
   "source": [
    "In order to understand the way our model detects patterns, we will be outlining every major aspect of model training all the way to prediction:\n"
   ]
  },
  {
   "cell_type": "markdown",
   "metadata": {},
   "source": [
    "### Data Preprocessing\n",
    "\n",
    "Effects of applying `preprocess_and_split` to the downloaded csv files:\n",
    "\n",
    " - Csv file is transformed to dataframe\n",
    " - Creates relevant columns (such as financial metrics and date columns)\n",
    " - Uses 6 simple RandomForestRegressor models in order to predict values of metrics for january 2024, thus avoiding violation of causality principle\n",
    " - Splits data into training and testing X and y\n",
    "  \n",
    "The models used to predict metrics are very straightforward, as their only inputs are dates. We have proved that they have a hard time using the 'Year' column, showing more importance to the 'Day' and 'Month' features."
   ]
  },
  {
   "cell_type": "markdown",
   "metadata": {},
   "source": [
    "### Model Fitting and Training\n",
    "\n",
    "We use the previously obtained X and y split for train and test variables in order to train the model.\n",
    "\n",
    "\n",
    "Using the code below, we can plot the importance given to every column during training:"
   ]
  },
  {
   "cell_type": "code",
   "execution_count": 52,
   "metadata": {},
   "outputs": [],
   "source": [
    "def explain_choices(model):\n",
    "\n",
    "    # Extracting feature importance\n",
    "    importance = model.feature_importances_\n",
    "    feature_names = X_test.columns\n",
    "    feature_importance = pd.DataFrame({\n",
    "        'Feature': feature_names,\n",
    "        'Importance': importance\n",
    "    }).sort_values(by='Importance', ascending=False)\n",
    "\n",
    "    # Plotting the feature importance\n",
    "    plt.figure(figsize=(10, 6))\n",
    "    plt.barh(feature_importance['Feature'], feature_importance['Importance'], color='teal')\n",
    "    plt.xlabel('Importance')\n",
    "    plt.ylabel('Feature')\n",
    "    plt.title('Feature Importance')\n",
    "    plt.gca().invert_yaxis()  \n",
    "    plt.tight_layout()\n",
    "    plt.savefig(\"./plots/importance_rf.png\")\n",
    "    plt.show()\n",
    "\n",
    "    print(feature_importance)"
   ]
  },
  {
   "cell_type": "code",
   "execution_count": 53,
   "metadata": {},
   "outputs": [
    {
     "data": {
      "image/png": "[encoded data removed]",
      "text/plain": [
       "<Figure size 1000x600 with 1 Axes>"
      ]
     },
     "metadata": {},
     "output_type": "display_data"
    },
    {
     "name": "stdout",
     "output_type": "stream",
     "text": [
      "       Feature  Importance\n",
      "1     EMA_fast    0.299465\n",
      "2     EMA_slow    0.262103\n",
      "8        Month    0.184600\n",
      "6          OBV    0.134284\n",
      "4  Signal_Line    0.064287\n",
      "3         MACD    0.033080\n",
      "0          RSI    0.013820\n",
      "7          Day    0.007464\n",
      "5    Direction    0.000897\n",
      "9         Year    0.000000\n"
     ]
    }
   ],
   "source": [
    "explain_choices(model)"
   ]
  },
  {
   "cell_type": "markdown",
   "metadata": {},
   "source": [
    "The plots above display the difficulty of detecting relevant patterns by using important aspects, such as the date.\n",
    "A few of the metrics above (like RSI, MACD and Signal Line) were not relevant for the `AAPL.csv`, for example.\n",
    "\n",
    "Because we did not run the code for all 500 files, as suggested, we cannot plot an average feature importance for all files.\n",
    "\n",
    "However, **the rationale is the same**: for every single model, it is possible to evaluate how it made every decision, simply by running the function above."
   ]
  },
  {
   "cell_type": "markdown",
   "metadata": {},
   "source": [
    "## Impact of Missclassifications and its Potential Reasons\n",
    "\n",
    "\n",
    "The impact of missclassification is quite clear: investors fail to obtain a risk-adjusted return.\n",
    "\n",
    "The incorrect use of the tool could lead to very serious financial issues, hence why we always reinforce the statement that **our program is a tool, meant to be used as another point of in the decision of an experienced stock market analyst**.\n",
    "\n",
    "\n",
    "We believe that the model's incapability of detecting time sequence based patters severely affected its permance. Although relative price change patterns are being correctly detected, the actual absolute prices simply are not there.\n",
    "\n",
    "\n",
    "For a more in-depth analysis of this topic, please refer to our **ethics file**."
   ]
  },
  {
   "cell_type": "markdown",
   "metadata": {},
   "source": [
    "# Conclusion"
   ]
  },
  {
   "cell_type": "markdown",
   "metadata": {},
   "source": [
    "Random Forest Regressor was meant to produce buy signals, in order to have a comparison element with the LSTM.\n",
    "\n",
    "Essentialy, this would be an extra for the project. Unfortunately, we were not able to obtain results we were satisfied with, therefore we will not waste more time than we already have developing such a complex solution to the problem.\n",
    "\n",
    "Although the professor suggested our model would be capable of extrapolating, external pressures such as the overwhelming ammount of projects and tests scheduled for this delivery week hindered our ability to calmly and timely approach this problem. \n",
    "\n",
    "Due to these factors, we still implemented many different ways of mitigating complications we found along the way. When comparing to other groups' projects whose RMSE's were far superior, we noticed and informed them that they were **violating the causality principle**, hence why our results were much inferior. These solutions include:\n",
    "\n",
    " - Using MinMax scaling, in order to verify if patterns were correctly detected\n",
    " - Using binning to facilitate model training and testing, due to the elevated number of different values for each column\n",
    " - Extracted financial metrics and predicting them in order to completely bypass the violation of causality principle\n",
    " - Optimized RF parameters\n",
    " - Concatenated every Stock data file, using new columns to represent 'Tickers' and 'Sectors', as we were told large ammounts of data allowed for extrapolation\n",
    " - Used LightGBM in order to improve training speed (later removed due to feature importance issues)\n",
    " - Determined Feature Importance and explained RF's decisions and why they were outputting such results\n",
    "\n",
    "Despite this, we were able to correctly identify relative changes in price, meaning our model is capable of correctly detecting price changes, while respecting pertinent prediction principles."
   ]
  }
 ],
 "metadata": {
  "kernelspec": {
   "display_name": "base",
   "language": "python",
   "name": "python3"
  },
  "language_info": {
   "codemirror_mode": {
    "name": "ipython",
    "version": 3
   },
   "file_extension": ".py",
   "mimetype": "text/x-python",
   "name": "python",
   "nbconvert_exporter": "python",
   "pygments_lexer": "ipython3",
   "version": "3.11.4"
  }
 },
 "nbformat": 4,
 "nbformat_minor": 4
}
