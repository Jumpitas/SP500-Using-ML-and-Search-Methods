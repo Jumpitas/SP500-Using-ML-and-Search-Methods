{
 "cells": [
  {
   "cell_type": "markdown",
   "metadata": {},
   "source": [
    "# Stock Price Prediction Using Random Forest"
   ]
  },
  {
   "cell_type": "markdown",
   "metadata": {},
   "source": [
    "In this notebook, we will be exploring the performance of the random forest classifier on the S&P500 stock data."
   ]
  },
  {
   "cell_type": "markdown",
   "metadata": {},
   "source": [
    "Sources:\n",
    " - [Exponential Smoothing](https://medium.com/@criesin.90days/stock-price-forecasting-with-exponential-smoothing-an-analytical-project-report-380c7ca694a8)\n",
    " - [The Random Forest Model for Analyzing and Forecasting the US Stock Market in the Context of Smart Finance](https://arxiv.org/pdf/2402.17194)"
   ]
  },
  {
   "cell_type": "code",
   "execution_count": 100,
   "metadata": {},
   "outputs": [],
   "source": [
    "import pandas as pd\n",
    "import numpy as np\n",
    "import statsmodels.api as sm\n",
    "# Suppress warnings for cleaner output\n",
    "import warnings\n",
    "\n",
    "from sklearn.ensemble import RandomForestRegressor\n",
    "from sklearn.metrics import root_mean_squared_error\n",
    "import pandas as pd\n",
    "import numpy as np\n",
    "\n",
    "import matplotlib.pyplot as plt"
   ]
  },
  {
   "cell_type": "markdown",
   "metadata": {},
   "source": [
    "# Data Preprocessing"
   ]
  },
  {
   "cell_type": "markdown",
   "metadata": {},
   "source": [
    "We decided to follow the paper's approach and apply **Exponential Smoothing** to our data, which assigns greater weight to more recent examples. \n",
    "\n",
    "We do this because the stock prices are more likely to follow recent patterns, rather than patterns from years ago."
   ]
  },
  {
   "cell_type": "code",
   "execution_count": 72,
   "metadata": {},
   "outputs": [
    {
     "data": {
      "text/html": [
       "<div>\n",
       "<style scoped>\n",
       "    .dataframe tbody tr th:only-of-type {\n",
       "        vertical-align: middle;\n",
       "    }\n",
       "\n",
       "    .dataframe tbody tr th {\n",
       "        vertical-align: top;\n",
       "    }\n",
       "\n",
       "    .dataframe thead th {\n",
       "        text-align: right;\n",
       "    }\n",
       "</style>\n",
       "<table border=\"1\" class=\"dataframe\">\n",
       "  <thead>\n",
       "    <tr style=\"text-align: right;\">\n",
       "      <th></th>\n",
       "      <th>Date</th>\n",
       "      <th>AdjClose</th>\n",
       "      <th>Close</th>\n",
       "      <th>High</th>\n",
       "      <th>Low</th>\n",
       "      <th>Open</th>\n",
       "      <th>Volume</th>\n",
       "    </tr>\n",
       "  </thead>\n",
       "  <tbody>\n",
       "    <tr>\n",
       "      <th>0</th>\n",
       "      <td>2010-01-04</td>\n",
       "      <td>6.447411</td>\n",
       "      <td>7.643214</td>\n",
       "      <td>7.660714</td>\n",
       "      <td>7.585000</td>\n",
       "      <td>7.622500</td>\n",
       "      <td>493729600</td>\n",
       "    </tr>\n",
       "    <tr>\n",
       "      <th>1</th>\n",
       "      <td>2010-01-05</td>\n",
       "      <td>6.458559</td>\n",
       "      <td>7.656429</td>\n",
       "      <td>7.699643</td>\n",
       "      <td>7.616071</td>\n",
       "      <td>7.664286</td>\n",
       "      <td>601904800</td>\n",
       "    </tr>\n",
       "    <tr>\n",
       "      <th>2</th>\n",
       "      <td>2010-01-06</td>\n",
       "      <td>6.355826</td>\n",
       "      <td>7.534643</td>\n",
       "      <td>7.686786</td>\n",
       "      <td>7.526786</td>\n",
       "      <td>7.656429</td>\n",
       "      <td>552160000</td>\n",
       "    </tr>\n",
       "    <tr>\n",
       "      <th>3</th>\n",
       "      <td>2010-01-07</td>\n",
       "      <td>6.344076</td>\n",
       "      <td>7.520714</td>\n",
       "      <td>7.571429</td>\n",
       "      <td>7.466071</td>\n",
       "      <td>7.562500</td>\n",
       "      <td>477131200</td>\n",
       "    </tr>\n",
       "    <tr>\n",
       "      <th>4</th>\n",
       "      <td>2010-01-08</td>\n",
       "      <td>6.386254</td>\n",
       "      <td>7.570714</td>\n",
       "      <td>7.571429</td>\n",
       "      <td>7.466429</td>\n",
       "      <td>7.510714</td>\n",
       "      <td>447610800</td>\n",
       "    </tr>\n",
       "  </tbody>\n",
       "</table>\n",
       "</div>"
      ],
      "text/plain": [
       "         Date  AdjClose     Close      High       Low      Open     Volume\n",
       "0  2010-01-04  6.447411  7.643214  7.660714  7.585000  7.622500  493729600\n",
       "1  2010-01-05  6.458559  7.656429  7.699643  7.616071  7.664286  601904800\n",
       "2  2010-01-06  6.355826  7.534643  7.686786  7.526786  7.656429  552160000\n",
       "3  2010-01-07  6.344076  7.520714  7.571429  7.466071  7.562500  477131200\n",
       "4  2010-01-08  6.386254  7.570714  7.571429  7.466429  7.510714  447610800"
      ]
     },
     "execution_count": 72,
     "metadata": {},
     "output_type": "execute_result"
    }
   ],
   "source": [
    "df_apple = pd.read_csv('./clean_csvs/AAPL.csv')\n",
    "\n",
    "df = pd.read_csv('./clean_csvs/AAPL.csv')\n",
    "\n",
    "df_apple_smooth = df_apple.copy()\n",
    "df_apple_smooth.head()"
   ]
  },
  {
   "cell_type": "markdown",
   "metadata": {},
   "source": [
    "In order to determine the alpha and beta values for exponential smoothing, we decided to follow [this website's approach](https://medium.com/@criesin.90days/stock-price-forecasting-with-exponential-smoothing-an-analytical-project-report-380c7ca694a8), by using **The Ordinary Least Squares (OLS) method**."
   ]
  },
  {
   "cell_type": "markdown",
   "metadata": {},
   "source": [
    "# Needs Fixing!\n",
    "\n",
    "---\n",
    "\n",
    "In order to do so, we will be using the **`statsmodels`** library, which is commonly imported as **`sm`**. This library provides tools for statistical modeling, including Ordinary Least Squares (OLS) regression, which we'll use to calculate **alpha** and **beta**.\n",
    "\n",
    "Specifically:\n",
    "\n",
    "1. **Alpha** and **Beta** are calculated through a **linear regression analysis**:\n",
    "   - **Alpha** represents the intercept of the regression line. It quantifies the excess return of the stock or portfolio that is independent of market movements (e.g., a measure of performance beyond what the market explains).\n",
    "   - **Beta** is the slope of the regression line, measuring how sensitive the stock or portfolio is to market changes. A beta of 1 implies the stock moves in line with the market, while a beta greater than or less than 1 indicates more or less sensitivity, respectively.\n",
    "\n",
    "2. Using the `statsmodels` module:\n",
    "   - We first construct the independent variable **\\( X \\)**, which represents the lagged adjusted close prices (market or benchmark values). To account for the intercept (alpha), we use **`sm.add_constant(X)`**, which adds a constant column of ones to the dataset.\n",
    "   - The dependent variable **\\( Y \\)** represents the **returns**, calculated as the percentage change in adjusted close prices of the stock or portfolio.\n",
    "\n",
    "3. **Modeling with OLS**:\n",
    "   - The **`sm.OLS(Y, X).fit()`** function sets up an Ordinary Least Squares regression, where:\n",
    "     - \\( Y \\) (dependent variable) is modeled as a linear function of \\( X \\) (independent variable plus constant).\n",
    "   - The `.fit()` method runs the regression and calculates the coefficients:\n",
    "     - The intercept (\\( \\alpha \\)) is stored in `model.params[0]`.\n",
    "     - The slope (\\( \\beta \\)) is stored in `model.params[1]`.\n",
    "\n",
    "Thus, by running this regression analysis with `statsmodels`, we estimate the **alpha** (excess returns) and **beta** (sensitivity to market movements) for the stock or portfolio relative to the market or another benchmark.\n",
    "\n",
    "---\n"
   ]
  },
  {
   "cell_type": "markdown",
   "metadata": {},
   "source": [
    " This snippet illustrates the process:"
   ]
  },
  {
   "cell_type": "code",
   "execution_count": 73,
   "metadata": {},
   "outputs": [],
   "source": [
    "warnings.filterwarnings('ignore')\n",
    "\n",
    "returns = (df_apple_smooth[\"Close\"] - df_apple_smooth[\"Close\"].shift(1)) / df_apple_smooth[\"Close\"].shift(1)\n",
    "\n",
    "# Regression Analysis and Estimating Alpha and Beta\n",
    "Y = returns.dropna()\n",
    "X = df_apple_smooth[\"Close\"].shift(1).dropna()\n",
    "\n",
    "#  Include the intercept term in the regression\n",
    "X = sm.add_constant(X)  \n",
    "\n",
    "model = sm.OLS(Y, X).fit()\n",
    "alpha = model.params[0]\n",
    "beta = model.params[1]"
   ]
  },
  {
   "cell_type": "code",
   "execution_count": 74,
   "metadata": {},
   "outputs": [
    {
     "name": "stdout",
     "output_type": "stream",
     "text": [
      "Alpha: 0.001273869863719281    |    Beta: -2.9190626990571726e-06\n"
     ]
    }
   ],
   "source": [
    "print(f\"Alpha: {alpha}    |    Beta: {beta}\")"
   ]
  },
  {
   "cell_type": "markdown",
   "metadata": {},
   "source": [
    " - **alpha**: determines how responsive the smoothed values are to recent price changes\n",
    " - **beta**: adjusts the trend component to improve forecast accuracy\n",
    " - **periods**: specifies how far into the future we want to forecast (in our case, 1 month with 31 days)"
   ]
  },
  {
   "cell_type": "code",
   "execution_count": 75,
   "metadata": {},
   "outputs": [],
   "source": [
    "def exponential_smoothing(data, alpha, beta):\n",
    "    n = len(data)\n",
    "    smoothed_values = [data[0]]\n",
    "\n",
    "    # Smoothing the historical data\n",
    "    for i in range(1, n):\n",
    "        smoothed = alpha * data[i] + (1 - alpha) * (smoothed_values[i - 1] + beta * (data[i] - smoothed_values[i - 1]))\n",
    "        smoothed_values.append(smoothed)\n",
    "    \n",
    "    return smoothed_values"
   ]
  },
  {
   "cell_type": "markdown",
   "metadata": {},
   "source": [
    "\n",
    "---\n",
    "\n",
    "### **2. Undoing Smoothing After Predictions**\n",
    "Smoothing is inherently a lossy operation; the original data cannot be exactly reconstructed after smoothing. However, you can approximate the **\"unsmoothed\" predicted values** by reversing the smoothing formula.\n",
    "\n",
    "#### Reverse the Smoothing Formula\n",
    "The exponential smoothing formula for $ smoothed[i] $ is:\n",
    "\n",
    "<center>\n",
    "\n",
    "$\n",
    "smoothed[i] = \\alpha \\cdot data[i] + (1 - \\alpha) \\cdot (smoothed[i-1] + \\beta \\cdot (data[i] - smoothed[i-1]))\n",
    "$\n",
    "\n",
    "</center>\n",
    "\n",
    "To approximate $ data[i] $ (original value) from $ smoothed[i] $, rearrange the formula:\n",
    "\n",
    "<center>\n",
    "\n",
    "$\n",
    "data[i] \\approx \\frac{smoothed[i] - (1 - \\alpha) \\cdot (smoothed[i-1] + \\beta \\cdot (data[i-1] - smoothed[i-1]))}{\\alpha}\n",
    "$\n",
    "\n",
    "</center>\n",
    "\n",
    "Since $ data[i-1] $ isn't directly available from predictions, use the smoothed predictions recursively to approximate the original data. Here's how you can implement the process:\n",
    "\n",
    "---"
   ]
  },
  {
   "cell_type": "code",
   "execution_count": 76,
   "metadata": {},
   "outputs": [],
   "source": [
    "def undo_exponential_smoothing(smoothed_values, alpha, beta):\n",
    "    n = len(smoothed_values)\n",
    "    original_data = [smoothed_values[0]]  # Start with the first smoothed value\n",
    "\n",
    "    for i in range(1, n):\n",
    "        # Reverse the smoothing formula\n",
    "        approx_original = (smoothed_values[i] - (1 - alpha) * (smoothed_values[i-1])) / alpha\n",
    "        original_data.append(approx_original)\n",
    "\n",
    "    return original_data"
   ]
  },
  {
   "cell_type": "markdown",
   "metadata": {},
   "source": [
    "# EXPONENTIAL SMOOTHING NOT APPLIED YET"
   ]
  },
  {
   "cell_type": "markdown",
   "metadata": {},
   "source": [
    "### Obtaining Recommended Features\n",
    "\n",
    "<center>\n",
    "\n",
    "![](./images/features_paper1.png)\n",
    "\n",
    "</center>"
   ]
  },
  {
   "cell_type": "markdown",
   "metadata": {},
   "source": [
    " - **RSI (Relative Strength Index)**: The RSI measures the speed and change of price movements. It oscillates between 0 and 100 and is calculated over a specific period (e.g., 14 days).\n",
    "\n",
    "<center>\n",
    "\n",
    "$\n",
    "RSI = 100 - \\frac{100}{1 + RS}\n",
    "$      \n",
    "\n",
    "</center>\n",
    "\n",
    "<center>\n",
    "\n",
    "where\n",
    "\n",
    "</center>\n",
    "\n",
    "<center>\n",
    "\n",
    "$\n",
    "RS = \\frac{\\text{Average Gain over N periods}}{\\text{Average Loss over N periods}}\n",
    "$\n",
    "\n",
    "</center>"
   ]
  },
  {
   "cell_type": "code",
   "execution_count": 77,
   "metadata": {},
   "outputs": [],
   "source": [
    "window_length = 14  # Common period for RSI\n",
    "\n",
    "# Calculate price differences\n",
    "delta = df['Close'].diff(1)\n",
    "gain = delta.where(delta > 0, 0)\n",
    "loss = -delta.where(delta < 0, 0)\n",
    "\n",
    "# Calculate exponential moving averages of gains and losses\n",
    "avg_gain = gain.rolling(window=window_length, min_periods=1).mean()\n",
    "avg_loss = loss.rolling(window=window_length, min_periods=1).mean()\n",
    "\n",
    "# Calculate RSI\n",
    "rs = avg_gain / avg_loss\n",
    "df['RSI'] = 100 - (100 / (1 + rs))\n"
   ]
  },
  {
   "cell_type": "markdown",
   "metadata": {},
   "source": [
    "\n",
    " - **Stochastic Oscillator**:\n",
    "Measures the closing price relative to the price range over a period of time (e.g., 14 days).\n",
    "\n",
    "<center>\n",
    "\n",
    "$\n",
    "\\%K = \\frac{\\text{Close} - \\text{Low}_N}{\\text{High}_N - \\text{Low}_N} \\times 100\n",
    "$\n",
    "\n",
    "</center>\n"
   ]
  },
  {
   "cell_type": "code",
   "execution_count": 78,
   "metadata": {},
   "outputs": [],
   "source": [
    "n = 14  # Look-back period\n",
    "df['%K'] = (df['Close'] - df['Low'].rolling(n).min()) / (df['High'].rolling(n).max() - df['Low'].rolling(n).min()) * 100"
   ]
  },
  {
   "cell_type": "markdown",
   "metadata": {},
   "source": [
    " - **Williams %R**:\n",
    "Similar to the stochastic oscillator but inverted and shifted.\n",
    "\n",
    "<center>\n",
    "\n",
    "$\n",
    "\\%R = \\frac{\\text{High}_N - \\text{Close}}{\\text{High}_N - \\text{Low}_N} \\times -100\n",
    "$\n",
    "\n",
    "</center>\n"
   ]
  },
  {
   "cell_type": "code",
   "execution_count": 79,
   "metadata": {},
   "outputs": [],
   "source": [
    "df['%R'] = (df['High'].rolling(n).max() - df['Close']) / (df['High'].rolling(n).max() - df['Low'].rolling(n).min()) * -100\n"
   ]
  },
  {
   "cell_type": "markdown",
   "metadata": {},
   "source": [
    " - **MACD (Moving Average Convergence Divergence)**:\n",
    "Measures the difference between a fast and a slow exponential moving average (EMA)."
   ]
  },
  {
   "cell_type": "code",
   "execution_count": 80,
   "metadata": {},
   "outputs": [],
   "source": [
    "fast_period = 12\n",
    "slow_period = 26\n",
    "signal_period = 9\n",
    "\n",
    "df['EMA_fast'] = df['Close'].ewm(span=fast_period, adjust=False).mean()\n",
    "df['EMA_slow'] = df['Close'].ewm(span=slow_period, adjust=False).mean()\n",
    "df['MACD'] = df['EMA_fast'] - df['EMA_slow']\n",
    "df['Signal_Line'] = df['MACD'].ewm(span=signal_period, adjust=False).mean()"
   ]
  },
  {
   "cell_type": "markdown",
   "metadata": {},
   "source": [
    " -  **Price Rate of Change (ROC)**:\n",
    "Measures the percentage change in price over a given time.\n",
    "\n",
    "<center>\n",
    "\n",
    "$\n",
    "ROC = \\frac{\\text{Close}_t - \\text{Close}_{t-n}}{\\text{Close}_{t-n}} \\times 100\n",
    "$\n",
    "\n",
    "</center>\n"
   ]
  },
  {
   "cell_type": "code",
   "execution_count": 81,
   "metadata": {},
   "outputs": [],
   "source": [
    "n = 14  # Period\n",
    "df['ROC'] = (df['Close'] - df['Close'].shift(n)) / df['Close'].shift(n) * 100"
   ]
  },
  {
   "cell_type": "markdown",
   "metadata": {},
   "source": [
    " - **On-Balance Volume (OBV)**:\n",
    "Measures buying and selling pressure using volume."
   ]
  },
  {
   "cell_type": "code",
   "execution_count": 82,
   "metadata": {},
   "outputs": [],
   "source": [
    "df['Direction'] = df['Close'].diff().apply(lambda x: 1 if x > 0 else (-1 if x < 0 else 0))\n",
    "df['OBV'] = (df['Direction'] * df['Volume']).cumsum()"
   ]
  },
  {
   "cell_type": "code",
   "execution_count": 83,
   "metadata": {},
   "outputs": [
    {
     "data": {
      "text/html": [
       "<div>\n",
       "<style scoped>\n",
       "    .dataframe tbody tr th:only-of-type {\n",
       "        vertical-align: middle;\n",
       "    }\n",
       "\n",
       "    .dataframe tbody tr th {\n",
       "        vertical-align: top;\n",
       "    }\n",
       "\n",
       "    .dataframe thead th {\n",
       "        text-align: right;\n",
       "    }\n",
       "</style>\n",
       "<table border=\"1\" class=\"dataframe\">\n",
       "  <thead>\n",
       "    <tr style=\"text-align: right;\">\n",
       "      <th></th>\n",
       "      <th>Date</th>\n",
       "      <th>AdjClose</th>\n",
       "      <th>Close</th>\n",
       "      <th>High</th>\n",
       "      <th>Low</th>\n",
       "      <th>Open</th>\n",
       "      <th>Volume</th>\n",
       "      <th>RSI</th>\n",
       "      <th>%K</th>\n",
       "      <th>%R</th>\n",
       "      <th>EMA_fast</th>\n",
       "      <th>EMA_slow</th>\n",
       "      <th>MACD</th>\n",
       "      <th>Signal_Line</th>\n",
       "      <th>ROC</th>\n",
       "      <th>Direction</th>\n",
       "      <th>OBV</th>\n",
       "    </tr>\n",
       "  </thead>\n",
       "  <tbody>\n",
       "    <tr>\n",
       "      <th>0</th>\n",
       "      <td>2010-01-04</td>\n",
       "      <td>6.447411</td>\n",
       "      <td>7.643214</td>\n",
       "      <td>7.660714</td>\n",
       "      <td>7.585000</td>\n",
       "      <td>7.622500</td>\n",
       "      <td>493729600</td>\n",
       "      <td>NaN</td>\n",
       "      <td>NaN</td>\n",
       "      <td>NaN</td>\n",
       "      <td>7.643214</td>\n",
       "      <td>7.643214</td>\n",
       "      <td>0.000000</td>\n",
       "      <td>0.000000</td>\n",
       "      <td>NaN</td>\n",
       "      <td>0</td>\n",
       "      <td>0</td>\n",
       "    </tr>\n",
       "    <tr>\n",
       "      <th>1</th>\n",
       "      <td>2010-01-05</td>\n",
       "      <td>6.458559</td>\n",
       "      <td>7.656429</td>\n",
       "      <td>7.699643</td>\n",
       "      <td>7.616071</td>\n",
       "      <td>7.664286</td>\n",
       "      <td>601904800</td>\n",
       "      <td>100.000000</td>\n",
       "      <td>NaN</td>\n",
       "      <td>NaN</td>\n",
       "      <td>7.645247</td>\n",
       "      <td>7.644193</td>\n",
       "      <td>0.001054</td>\n",
       "      <td>0.000211</td>\n",
       "      <td>NaN</td>\n",
       "      <td>1</td>\n",
       "      <td>601904800</td>\n",
       "    </tr>\n",
       "    <tr>\n",
       "      <th>2</th>\n",
       "      <td>2010-01-06</td>\n",
       "      <td>6.355826</td>\n",
       "      <td>7.534643</td>\n",
       "      <td>7.686786</td>\n",
       "      <td>7.526786</td>\n",
       "      <td>7.656429</td>\n",
       "      <td>552160000</td>\n",
       "      <td>9.788567</td>\n",
       "      <td>NaN</td>\n",
       "      <td>NaN</td>\n",
       "      <td>7.628231</td>\n",
       "      <td>7.636078</td>\n",
       "      <td>-0.007847</td>\n",
       "      <td>-0.001401</td>\n",
       "      <td>NaN</td>\n",
       "      <td>-1</td>\n",
       "      <td>49744800</td>\n",
       "    </tr>\n",
       "    <tr>\n",
       "      <th>3</th>\n",
       "      <td>2010-01-07</td>\n",
       "      <td>6.344076</td>\n",
       "      <td>7.520714</td>\n",
       "      <td>7.571429</td>\n",
       "      <td>7.466071</td>\n",
       "      <td>7.562500</td>\n",
       "      <td>477131200</td>\n",
       "      <td>8.873044</td>\n",
       "      <td>NaN</td>\n",
       "      <td>NaN</td>\n",
       "      <td>7.611690</td>\n",
       "      <td>7.627533</td>\n",
       "      <td>-0.015843</td>\n",
       "      <td>-0.004289</td>\n",
       "      <td>NaN</td>\n",
       "      <td>-1</td>\n",
       "      <td>-427386400</td>\n",
       "    </tr>\n",
       "    <tr>\n",
       "      <th>4</th>\n",
       "      <td>2010-01-08</td>\n",
       "      <td>6.386254</td>\n",
       "      <td>7.570714</td>\n",
       "      <td>7.571429</td>\n",
       "      <td>7.466429</td>\n",
       "      <td>7.510714</td>\n",
       "      <td>447610800</td>\n",
       "      <td>31.777433</td>\n",
       "      <td>NaN</td>\n",
       "      <td>NaN</td>\n",
       "      <td>7.605386</td>\n",
       "      <td>7.623324</td>\n",
       "      <td>-0.017938</td>\n",
       "      <td>-0.007019</td>\n",
       "      <td>NaN</td>\n",
       "      <td>1</td>\n",
       "      <td>20224400</td>\n",
       "    </tr>\n",
       "  </tbody>\n",
       "</table>\n",
       "</div>"
      ],
      "text/plain": [
       "         Date  AdjClose     Close      High       Low      Open     Volume  \\\n",
       "0  2010-01-04  6.447411  7.643214  7.660714  7.585000  7.622500  493729600   \n",
       "1  2010-01-05  6.458559  7.656429  7.699643  7.616071  7.664286  601904800   \n",
       "2  2010-01-06  6.355826  7.534643  7.686786  7.526786  7.656429  552160000   \n",
       "3  2010-01-07  6.344076  7.520714  7.571429  7.466071  7.562500  477131200   \n",
       "4  2010-01-08  6.386254  7.570714  7.571429  7.466429  7.510714  447610800   \n",
       "\n",
       "          RSI  %K  %R  EMA_fast  EMA_slow      MACD  Signal_Line  ROC  \\\n",
       "0         NaN NaN NaN  7.643214  7.643214  0.000000     0.000000  NaN   \n",
       "1  100.000000 NaN NaN  7.645247  7.644193  0.001054     0.000211  NaN   \n",
       "2    9.788567 NaN NaN  7.628231  7.636078 -0.007847    -0.001401  NaN   \n",
       "3    8.873044 NaN NaN  7.611690  7.627533 -0.015843    -0.004289  NaN   \n",
       "4   31.777433 NaN NaN  7.605386  7.623324 -0.017938    -0.007019  NaN   \n",
       "\n",
       "   Direction        OBV  \n",
       "0          0          0  \n",
       "1          1  601904800  \n",
       "2         -1   49744800  \n",
       "3         -1 -427386400  \n",
       "4          1   20224400  "
      ]
     },
     "execution_count": 83,
     "metadata": {},
     "output_type": "execute_result"
    }
   ],
   "source": [
    "df.head()"
   ]
  },
  {
   "cell_type": "markdown",
   "metadata": {},
   "source": [
    "# NOTAS IMPORTANTES\n",
    "\n",
    "Aqui decidi remover coisas que ainda não estão a funcionar, assim como as 2 primeiras linhas do dataframe porque não têm valores anteriores para serem computadas então ficam com valores errados ou NaN."
   ]
  },
  {
   "cell_type": "code",
   "execution_count": 84,
   "metadata": {},
   "outputs": [],
   "source": [
    "# Remover colunas que não funcionaram\n",
    "df = df.drop(columns=['%K', '%R', 'ROC'])"
   ]
  },
  {
   "cell_type": "code",
   "execution_count": 85,
   "metadata": {},
   "outputs": [],
   "source": [
    "# Remover 2 primeiras linhas do df\n",
    "\n",
    "df = df.drop(index=[0,1])"
   ]
  },
  {
   "cell_type": "code",
   "execution_count": 86,
   "metadata": {},
   "outputs": [
    {
     "data": {
      "text/html": [
       "<div>\n",
       "<style scoped>\n",
       "    .dataframe tbody tr th:only-of-type {\n",
       "        vertical-align: middle;\n",
       "    }\n",
       "\n",
       "    .dataframe tbody tr th {\n",
       "        vertical-align: top;\n",
       "    }\n",
       "\n",
       "    .dataframe thead th {\n",
       "        text-align: right;\n",
       "    }\n",
       "</style>\n",
       "<table border=\"1\" class=\"dataframe\">\n",
       "  <thead>\n",
       "    <tr style=\"text-align: right;\">\n",
       "      <th></th>\n",
       "      <th>Date</th>\n",
       "      <th>AdjClose</th>\n",
       "      <th>Close</th>\n",
       "      <th>High</th>\n",
       "      <th>Low</th>\n",
       "      <th>Open</th>\n",
       "      <th>Volume</th>\n",
       "      <th>RSI</th>\n",
       "      <th>EMA_fast</th>\n",
       "      <th>EMA_slow</th>\n",
       "      <th>MACD</th>\n",
       "      <th>Signal_Line</th>\n",
       "      <th>Direction</th>\n",
       "      <th>OBV</th>\n",
       "    </tr>\n",
       "  </thead>\n",
       "  <tbody>\n",
       "    <tr>\n",
       "      <th>2</th>\n",
       "      <td>2010-01-06</td>\n",
       "      <td>6.355826</td>\n",
       "      <td>7.534643</td>\n",
       "      <td>7.686786</td>\n",
       "      <td>7.526786</td>\n",
       "      <td>7.656429</td>\n",
       "      <td>552160000</td>\n",
       "      <td>9.788567</td>\n",
       "      <td>7.628231</td>\n",
       "      <td>7.636078</td>\n",
       "      <td>-0.007847</td>\n",
       "      <td>-0.001401</td>\n",
       "      <td>-1</td>\n",
       "      <td>49744800</td>\n",
       "    </tr>\n",
       "    <tr>\n",
       "      <th>3</th>\n",
       "      <td>2010-01-07</td>\n",
       "      <td>6.344076</td>\n",
       "      <td>7.520714</td>\n",
       "      <td>7.571429</td>\n",
       "      <td>7.466071</td>\n",
       "      <td>7.562500</td>\n",
       "      <td>477131200</td>\n",
       "      <td>8.873044</td>\n",
       "      <td>7.611690</td>\n",
       "      <td>7.627533</td>\n",
       "      <td>-0.015843</td>\n",
       "      <td>-0.004289</td>\n",
       "      <td>-1</td>\n",
       "      <td>-427386400</td>\n",
       "    </tr>\n",
       "    <tr>\n",
       "      <th>4</th>\n",
       "      <td>2010-01-08</td>\n",
       "      <td>6.386254</td>\n",
       "      <td>7.570714</td>\n",
       "      <td>7.571429</td>\n",
       "      <td>7.466429</td>\n",
       "      <td>7.510714</td>\n",
       "      <td>447610800</td>\n",
       "      <td>31.777433</td>\n",
       "      <td>7.605386</td>\n",
       "      <td>7.623324</td>\n",
       "      <td>-0.017938</td>\n",
       "      <td>-0.007019</td>\n",
       "      <td>1</td>\n",
       "      <td>20224400</td>\n",
       "    </tr>\n",
       "    <tr>\n",
       "      <th>5</th>\n",
       "      <td>2010-01-11</td>\n",
       "      <td>6.329920</td>\n",
       "      <td>7.503929</td>\n",
       "      <td>7.607143</td>\n",
       "      <td>7.444643</td>\n",
       "      <td>7.600000</td>\n",
       "      <td>462229600</td>\n",
       "      <td>23.790476</td>\n",
       "      <td>7.589777</td>\n",
       "      <td>7.614480</td>\n",
       "      <td>-0.024703</td>\n",
       "      <td>-0.010556</td>\n",
       "      <td>-1</td>\n",
       "      <td>-442005200</td>\n",
       "    </tr>\n",
       "    <tr>\n",
       "      <th>6</th>\n",
       "      <td>2010-01-12</td>\n",
       "      <td>6.257915</td>\n",
       "      <td>7.418571</td>\n",
       "      <td>7.491786</td>\n",
       "      <td>7.372143</td>\n",
       "      <td>7.471071</td>\n",
       "      <td>594459600</td>\n",
       "      <td>18.006175</td>\n",
       "      <td>7.563438</td>\n",
       "      <td>7.599968</td>\n",
       "      <td>-0.036530</td>\n",
       "      <td>-0.015751</td>\n",
       "      <td>-1</td>\n",
       "      <td>-1036464800</td>\n",
       "    </tr>\n",
       "  </tbody>\n",
       "</table>\n",
       "</div>"
      ],
      "text/plain": [
       "         Date  AdjClose     Close      High       Low      Open     Volume  \\\n",
       "2  2010-01-06  6.355826  7.534643  7.686786  7.526786  7.656429  552160000   \n",
       "3  2010-01-07  6.344076  7.520714  7.571429  7.466071  7.562500  477131200   \n",
       "4  2010-01-08  6.386254  7.570714  7.571429  7.466429  7.510714  447610800   \n",
       "5  2010-01-11  6.329920  7.503929  7.607143  7.444643  7.600000  462229600   \n",
       "6  2010-01-12  6.257915  7.418571  7.491786  7.372143  7.471071  594459600   \n",
       "\n",
       "         RSI  EMA_fast  EMA_slow      MACD  Signal_Line  Direction         OBV  \n",
       "2   9.788567  7.628231  7.636078 -0.007847    -0.001401         -1    49744800  \n",
       "3   8.873044  7.611690  7.627533 -0.015843    -0.004289         -1  -427386400  \n",
       "4  31.777433  7.605386  7.623324 -0.017938    -0.007019          1    20224400  \n",
       "5  23.790476  7.589777  7.614480 -0.024703    -0.010556         -1  -442005200  \n",
       "6  18.006175  7.563438  7.599968 -0.036530    -0.015751         -1 -1036464800  "
      ]
     },
     "execution_count": 86,
     "metadata": {},
     "output_type": "execute_result"
    }
   ],
   "source": [
    "df.head()"
   ]
  },
  {
   "cell_type": "markdown",
   "metadata": {},
   "source": [
    "---"
   ]
  },
  {
   "cell_type": "code",
   "execution_count": 87,
   "metadata": {},
   "outputs": [],
   "source": [
    "df_apple = df.copy()\n",
    "\n",
    "# Convert Date to datetime and sort by Date\n",
    "df_apple['Date'] = pd.to_datetime(df_apple['Date'])\n",
    "df_apple = df_apple.sort_values(by='Date')\n",
    "\n",
    "# Extract temporal features\n",
    "#df_apple['Day'] = df_apple['Date'].dt.day\n",
    "#df_apple['Month'] = df_apple['Date'].dt.month\n",
    "#df_apple['Year'] = df_apple['Date'].dt.year\n",
    "\n",
    "# Drop 'Adj Close' \n",
    "df_apple = df_apple.drop(columns=['AdjClose'])"
   ]
  },
  {
   "cell_type": "code",
   "execution_count": 88,
   "metadata": {},
   "outputs": [
    {
     "data": {
      "text/html": [
       "<div>\n",
       "<style scoped>\n",
       "    .dataframe tbody tr th:only-of-type {\n",
       "        vertical-align: middle;\n",
       "    }\n",
       "\n",
       "    .dataframe tbody tr th {\n",
       "        vertical-align: top;\n",
       "    }\n",
       "\n",
       "    .dataframe thead th {\n",
       "        text-align: right;\n",
       "    }\n",
       "</style>\n",
       "<table border=\"1\" class=\"dataframe\">\n",
       "  <thead>\n",
       "    <tr style=\"text-align: right;\">\n",
       "      <th></th>\n",
       "      <th>Date</th>\n",
       "      <th>Close</th>\n",
       "      <th>High</th>\n",
       "      <th>Low</th>\n",
       "      <th>Open</th>\n",
       "      <th>Volume</th>\n",
       "      <th>RSI</th>\n",
       "      <th>EMA_fast</th>\n",
       "      <th>EMA_slow</th>\n",
       "      <th>MACD</th>\n",
       "      <th>Signal_Line</th>\n",
       "      <th>Direction</th>\n",
       "      <th>OBV</th>\n",
       "    </tr>\n",
       "  </thead>\n",
       "  <tbody>\n",
       "    <tr>\n",
       "      <th>2</th>\n",
       "      <td>2010-01-06</td>\n",
       "      <td>7.534643</td>\n",
       "      <td>7.686786</td>\n",
       "      <td>7.526786</td>\n",
       "      <td>7.656429</td>\n",
       "      <td>552160000</td>\n",
       "      <td>9.788567</td>\n",
       "      <td>7.628231</td>\n",
       "      <td>7.636078</td>\n",
       "      <td>-0.007847</td>\n",
       "      <td>-0.001401</td>\n",
       "      <td>-1</td>\n",
       "      <td>49744800</td>\n",
       "    </tr>\n",
       "    <tr>\n",
       "      <th>3</th>\n",
       "      <td>2010-01-07</td>\n",
       "      <td>7.520714</td>\n",
       "      <td>7.571429</td>\n",
       "      <td>7.466071</td>\n",
       "      <td>7.562500</td>\n",
       "      <td>477131200</td>\n",
       "      <td>8.873044</td>\n",
       "      <td>7.611690</td>\n",
       "      <td>7.627533</td>\n",
       "      <td>-0.015843</td>\n",
       "      <td>-0.004289</td>\n",
       "      <td>-1</td>\n",
       "      <td>-427386400</td>\n",
       "    </tr>\n",
       "    <tr>\n",
       "      <th>4</th>\n",
       "      <td>2010-01-08</td>\n",
       "      <td>7.570714</td>\n",
       "      <td>7.571429</td>\n",
       "      <td>7.466429</td>\n",
       "      <td>7.510714</td>\n",
       "      <td>447610800</td>\n",
       "      <td>31.777433</td>\n",
       "      <td>7.605386</td>\n",
       "      <td>7.623324</td>\n",
       "      <td>-0.017938</td>\n",
       "      <td>-0.007019</td>\n",
       "      <td>1</td>\n",
       "      <td>20224400</td>\n",
       "    </tr>\n",
       "    <tr>\n",
       "      <th>5</th>\n",
       "      <td>2010-01-11</td>\n",
       "      <td>7.503929</td>\n",
       "      <td>7.607143</td>\n",
       "      <td>7.444643</td>\n",
       "      <td>7.600000</td>\n",
       "      <td>462229600</td>\n",
       "      <td>23.790476</td>\n",
       "      <td>7.589777</td>\n",
       "      <td>7.614480</td>\n",
       "      <td>-0.024703</td>\n",
       "      <td>-0.010556</td>\n",
       "      <td>-1</td>\n",
       "      <td>-442005200</td>\n",
       "    </tr>\n",
       "    <tr>\n",
       "      <th>6</th>\n",
       "      <td>2010-01-12</td>\n",
       "      <td>7.418571</td>\n",
       "      <td>7.491786</td>\n",
       "      <td>7.372143</td>\n",
       "      <td>7.471071</td>\n",
       "      <td>594459600</td>\n",
       "      <td>18.006175</td>\n",
       "      <td>7.563438</td>\n",
       "      <td>7.599968</td>\n",
       "      <td>-0.036530</td>\n",
       "      <td>-0.015751</td>\n",
       "      <td>-1</td>\n",
       "      <td>-1036464800</td>\n",
       "    </tr>\n",
       "  </tbody>\n",
       "</table>\n",
       "</div>"
      ],
      "text/plain": [
       "        Date     Close      High       Low      Open     Volume        RSI  \\\n",
       "2 2010-01-06  7.534643  7.686786  7.526786  7.656429  552160000   9.788567   \n",
       "3 2010-01-07  7.520714  7.571429  7.466071  7.562500  477131200   8.873044   \n",
       "4 2010-01-08  7.570714  7.571429  7.466429  7.510714  447610800  31.777433   \n",
       "5 2010-01-11  7.503929  7.607143  7.444643  7.600000  462229600  23.790476   \n",
       "6 2010-01-12  7.418571  7.491786  7.372143  7.471071  594459600  18.006175   \n",
       "\n",
       "   EMA_fast  EMA_slow      MACD  Signal_Line  Direction         OBV  \n",
       "2  7.628231  7.636078 -0.007847    -0.001401         -1    49744800  \n",
       "3  7.611690  7.627533 -0.015843    -0.004289         -1  -427386400  \n",
       "4  7.605386  7.623324 -0.017938    -0.007019          1    20224400  \n",
       "5  7.589777  7.614480 -0.024703    -0.010556         -1  -442005200  \n",
       "6  7.563438  7.599968 -0.036530    -0.015751         -1 -1036464800  "
      ]
     },
     "execution_count": 88,
     "metadata": {},
     "output_type": "execute_result"
    }
   ],
   "source": [
    "df_apple.head()"
   ]
  },
  {
   "cell_type": "code",
   "execution_count": null,
   "metadata": {},
   "outputs": [],
   "source": [
    "# Train with 2010 - 2023\n",
    "train_data = df_apple[(df_apple['Date'] >= '2010-01-01') & (df_apple['Date'] < '2024-01-01')]\n",
    "\n",
    "# Test with January 2024\n",
    "test_data = df_apple[(df_apple['Date'] >= '2024-01-01') & (df_apple['Date'] < '2024-02-01')]\n",
    "\n",
    "\n",
    "# Separates train_data into X and y\n",
    "X_train = train_data.drop(columns=['Close', 'High', 'Low', 'Open'])\n",
    "y_train = train_data['Close']"
   ]
  },
  {
   "cell_type": "code",
   "execution_count": 90,
   "metadata": {},
   "outputs": [
    {
     "data": {
      "text/html": [
       "<div>\n",
       "<style scoped>\n",
       "    .dataframe tbody tr th:only-of-type {\n",
       "        vertical-align: middle;\n",
       "    }\n",
       "\n",
       "    .dataframe tbody tr th {\n",
       "        vertical-align: top;\n",
       "    }\n",
       "\n",
       "    .dataframe thead th {\n",
       "        text-align: right;\n",
       "    }\n",
       "</style>\n",
       "<table border=\"1\" class=\"dataframe\">\n",
       "  <thead>\n",
       "    <tr style=\"text-align: right;\">\n",
       "      <th></th>\n",
       "      <th>Date</th>\n",
       "      <th>Volume</th>\n",
       "      <th>RSI</th>\n",
       "      <th>EMA_fast</th>\n",
       "      <th>EMA_slow</th>\n",
       "      <th>MACD</th>\n",
       "      <th>Signal_Line</th>\n",
       "      <th>Direction</th>\n",
       "      <th>OBV</th>\n",
       "    </tr>\n",
       "  </thead>\n",
       "  <tbody>\n",
       "    <tr>\n",
       "      <th>2</th>\n",
       "      <td>2010-01-06</td>\n",
       "      <td>552160000</td>\n",
       "      <td>9.788567</td>\n",
       "      <td>7.628231</td>\n",
       "      <td>7.636078</td>\n",
       "      <td>-0.007847</td>\n",
       "      <td>-0.001401</td>\n",
       "      <td>-1</td>\n",
       "      <td>49744800</td>\n",
       "    </tr>\n",
       "    <tr>\n",
       "      <th>3</th>\n",
       "      <td>2010-01-07</td>\n",
       "      <td>477131200</td>\n",
       "      <td>8.873044</td>\n",
       "      <td>7.611690</td>\n",
       "      <td>7.627533</td>\n",
       "      <td>-0.015843</td>\n",
       "      <td>-0.004289</td>\n",
       "      <td>-1</td>\n",
       "      <td>-427386400</td>\n",
       "    </tr>\n",
       "    <tr>\n",
       "      <th>4</th>\n",
       "      <td>2010-01-08</td>\n",
       "      <td>447610800</td>\n",
       "      <td>31.777433</td>\n",
       "      <td>7.605386</td>\n",
       "      <td>7.623324</td>\n",
       "      <td>-0.017938</td>\n",
       "      <td>-0.007019</td>\n",
       "      <td>1</td>\n",
       "      <td>20224400</td>\n",
       "    </tr>\n",
       "    <tr>\n",
       "      <th>5</th>\n",
       "      <td>2010-01-11</td>\n",
       "      <td>462229600</td>\n",
       "      <td>23.790476</td>\n",
       "      <td>7.589777</td>\n",
       "      <td>7.614480</td>\n",
       "      <td>-0.024703</td>\n",
       "      <td>-0.010556</td>\n",
       "      <td>-1</td>\n",
       "      <td>-442005200</td>\n",
       "    </tr>\n",
       "    <tr>\n",
       "      <th>6</th>\n",
       "      <td>2010-01-12</td>\n",
       "      <td>594459600</td>\n",
       "      <td>18.006175</td>\n",
       "      <td>7.563438</td>\n",
       "      <td>7.599968</td>\n",
       "      <td>-0.036530</td>\n",
       "      <td>-0.015751</td>\n",
       "      <td>-1</td>\n",
       "      <td>-1036464800</td>\n",
       "    </tr>\n",
       "  </tbody>\n",
       "</table>\n",
       "</div>"
      ],
      "text/plain": [
       "        Date     Volume        RSI  EMA_fast  EMA_slow      MACD  Signal_Line  \\\n",
       "2 2010-01-06  552160000   9.788567  7.628231  7.636078 -0.007847    -0.001401   \n",
       "3 2010-01-07  477131200   8.873044  7.611690  7.627533 -0.015843    -0.004289   \n",
       "4 2010-01-08  447610800  31.777433  7.605386  7.623324 -0.017938    -0.007019   \n",
       "5 2010-01-11  462229600  23.790476  7.589777  7.614480 -0.024703    -0.010556   \n",
       "6 2010-01-12  594459600  18.006175  7.563438  7.599968 -0.036530    -0.015751   \n",
       "\n",
       "   Direction         OBV  \n",
       "2         -1    49744800  \n",
       "3         -1  -427386400  \n",
       "4          1    20224400  \n",
       "5         -1  -442005200  \n",
       "6         -1 -1036464800  "
      ]
     },
     "execution_count": 90,
     "metadata": {},
     "output_type": "execute_result"
    }
   ],
   "source": [
    "X_train.head()"
   ]
  },
  {
   "cell_type": "code",
   "execution_count": 91,
   "metadata": {},
   "outputs": [
    {
     "data": {
      "text/plain": [
       "2    7.534643\n",
       "3    7.520714\n",
       "4    7.570714\n",
       "5    7.503929\n",
       "6    7.418571\n",
       "Name: Close, dtype: float64"
      ]
     },
     "execution_count": 91,
     "metadata": {},
     "output_type": "execute_result"
    }
   ],
   "source": [
    "y_train.head()"
   ]
  },
  {
   "cell_type": "code",
   "execution_count": 94,
   "metadata": {},
   "outputs": [],
   "source": [
    "# Separates test_data into X and y\n",
    "X_test = test_data.drop(columns=['Close', 'High', 'Low', 'Open'])\n",
    "y_test = test_data['Close']\n",
    "y_test_dates = test_data['Date']  # Keep for reference"
   ]
  },
  {
   "cell_type": "code",
   "execution_count": 95,
   "metadata": {},
   "outputs": [
    {
     "data": {
      "text/html": [
       "<div>\n",
       "<style scoped>\n",
       "    .dataframe tbody tr th:only-of-type {\n",
       "        vertical-align: middle;\n",
       "    }\n",
       "\n",
       "    .dataframe tbody tr th {\n",
       "        vertical-align: top;\n",
       "    }\n",
       "\n",
       "    .dataframe thead th {\n",
       "        text-align: right;\n",
       "    }\n",
       "</style>\n",
       "<table border=\"1\" class=\"dataframe\">\n",
       "  <thead>\n",
       "    <tr style=\"text-align: right;\">\n",
       "      <th></th>\n",
       "      <th>Date</th>\n",
       "      <th>Volume</th>\n",
       "      <th>RSI</th>\n",
       "      <th>EMA_fast</th>\n",
       "      <th>EMA_slow</th>\n",
       "      <th>MACD</th>\n",
       "      <th>Signal_Line</th>\n",
       "      <th>Direction</th>\n",
       "      <th>OBV</th>\n",
       "    </tr>\n",
       "  </thead>\n",
       "  <tbody>\n",
       "    <tr>\n",
       "      <th>3522</th>\n",
       "      <td>2024-01-02</td>\n",
       "      <td>82488700</td>\n",
       "      <td>31.663452</td>\n",
       "      <td>192.642575</td>\n",
       "      <td>191.860181</td>\n",
       "      <td>0.782394</td>\n",
       "      <td>2.096536</td>\n",
       "      <td>-1</td>\n",
       "      <td>16138533900</td>\n",
       "    </tr>\n",
       "    <tr>\n",
       "      <th>3523</th>\n",
       "      <td>2024-01-03</td>\n",
       "      <td>58414500</td>\n",
       "      <td>24.387836</td>\n",
       "      <td>191.351410</td>\n",
       "      <td>191.296464</td>\n",
       "      <td>0.054946</td>\n",
       "      <td>1.688218</td>\n",
       "      <td>-1</td>\n",
       "      <td>16080119400</td>\n",
       "    </tr>\n",
       "    <tr>\n",
       "      <th>3524</th>\n",
       "      <td>2024-01-04</td>\n",
       "      <td>71983600</td>\n",
       "      <td>8.867228</td>\n",
       "      <td>189.898886</td>\n",
       "      <td>190.601171</td>\n",
       "      <td>-0.702285</td>\n",
       "      <td>1.210118</td>\n",
       "      <td>-1</td>\n",
       "      <td>16008135800</td>\n",
       "    </tr>\n",
       "    <tr>\n",
       "      <th>3525</th>\n",
       "      <td>2024-01-05</td>\n",
       "      <td>62303300</td>\n",
       "      <td>7.864614</td>\n",
       "      <td>188.557518</td>\n",
       "      <td>189.903306</td>\n",
       "      <td>-1.345788</td>\n",
       "      <td>0.698936</td>\n",
       "      <td>-1</td>\n",
       "      <td>15945832500</td>\n",
       "    </tr>\n",
       "    <tr>\n",
       "      <th>3526</th>\n",
       "      <td>2024-01-08</td>\n",
       "      <td>59144500</td>\n",
       "      <td>24.905980</td>\n",
       "      <td>188.096361</td>\n",
       "      <td>189.581579</td>\n",
       "      <td>-1.485219</td>\n",
       "      <td>0.262105</td>\n",
       "      <td>1</td>\n",
       "      <td>16004977000</td>\n",
       "    </tr>\n",
       "  </tbody>\n",
       "</table>\n",
       "</div>"
      ],
      "text/plain": [
       "           Date    Volume        RSI    EMA_fast    EMA_slow      MACD  \\\n",
       "3522 2024-01-02  82488700  31.663452  192.642575  191.860181  0.782394   \n",
       "3523 2024-01-03  58414500  24.387836  191.351410  191.296464  0.054946   \n",
       "3524 2024-01-04  71983600   8.867228  189.898886  190.601171 -0.702285   \n",
       "3525 2024-01-05  62303300   7.864614  188.557518  189.903306 -1.345788   \n",
       "3526 2024-01-08  59144500  24.905980  188.096361  189.581579 -1.485219   \n",
       "\n",
       "      Signal_Line  Direction          OBV  \n",
       "3522     2.096536         -1  16138533900  \n",
       "3523     1.688218         -1  16080119400  \n",
       "3524     1.210118         -1  16008135800  \n",
       "3525     0.698936         -1  15945832500  \n",
       "3526     0.262105          1  16004977000  "
      ]
     },
     "execution_count": 95,
     "metadata": {},
     "output_type": "execute_result"
    }
   ],
   "source": [
    "X_test.head()"
   ]
  },
  {
   "cell_type": "code",
   "execution_count": 98,
   "metadata": {},
   "outputs": [
    {
     "data": {
      "text/plain": [
       "3522   2024-01-02\n",
       "3523   2024-01-03\n",
       "3524   2024-01-04\n",
       "3525   2024-01-05\n",
       "3526   2024-01-08\n",
       "Name: Date, dtype: datetime64[ns]"
      ]
     },
     "execution_count": 98,
     "metadata": {},
     "output_type": "execute_result"
    }
   ],
   "source": [
    "y_test_dates.head()"
   ]
  },
  {
   "cell_type": "code",
   "execution_count": 97,
   "metadata": {},
   "outputs": [
    {
     "data": {
      "text/plain": [
       "3522    185.639999\n",
       "3523    184.250000\n",
       "3524    181.910004\n",
       "3525    181.179993\n",
       "3526    185.559998\n",
       "Name: Close, dtype: float64"
      ]
     },
     "execution_count": 97,
     "metadata": {},
     "output_type": "execute_result"
    }
   ],
   "source": [
    "y_test.head()"
   ]
  },
  {
   "cell_type": "code",
   "execution_count": null,
   "metadata": {},
   "outputs": [],
   "source": [
    "\n",
    "# Initialize and train the Random Forest Regressor\n",
    "model = RandomForestRegressor(n_estimators=100, random_state=42)\n",
    "model.fit(X_train, y_train)\n",
    "\n",
    "# Predict for January 2024\n",
    "predictions = model.predict(X_test)\n",
    "\n",
    "# Create dataframe with results\n",
    "results = pd.DataFrame({'Date': y_test_dates, 'Predicted_Close': predictions})"
   ]
  },
  {
   "cell_type": "code",
   "execution_count": 99,
   "metadata": {},
   "outputs": [
    {
     "data": {
      "text/html": [
       "<div>\n",
       "<style scoped>\n",
       "    .dataframe tbody tr th:only-of-type {\n",
       "        vertical-align: middle;\n",
       "    }\n",
       "\n",
       "    .dataframe tbody tr th {\n",
       "        vertical-align: top;\n",
       "    }\n",
       "\n",
       "    .dataframe thead th {\n",
       "        text-align: right;\n",
       "    }\n",
       "</style>\n",
       "<table border=\"1\" class=\"dataframe\">\n",
       "  <thead>\n",
       "    <tr style=\"text-align: right;\">\n",
       "      <th></th>\n",
       "      <th>Date</th>\n",
       "      <th>Predicted_Close</th>\n",
       "    </tr>\n",
       "  </thead>\n",
       "  <tbody>\n",
       "    <tr>\n",
       "      <th>3522</th>\n",
       "      <td>2024-01-02</td>\n",
       "      <td>187.017798</td>\n",
       "    </tr>\n",
       "    <tr>\n",
       "      <th>3523</th>\n",
       "      <td>2024-01-03</td>\n",
       "      <td>186.217397</td>\n",
       "    </tr>\n",
       "    <tr>\n",
       "      <th>3524</th>\n",
       "      <td>2024-01-04</td>\n",
       "      <td>181.802103</td>\n",
       "    </tr>\n",
       "    <tr>\n",
       "      <th>3525</th>\n",
       "      <td>2024-01-05</td>\n",
       "      <td>181.421302</td>\n",
       "    </tr>\n",
       "    <tr>\n",
       "      <th>3526</th>\n",
       "      <td>2024-01-08</td>\n",
       "      <td>182.804002</td>\n",
       "    </tr>\n",
       "  </tbody>\n",
       "</table>\n",
       "</div>"
      ],
      "text/plain": [
       "           Date  Predicted_Close\n",
       "3522 2024-01-02       187.017798\n",
       "3523 2024-01-03       186.217397\n",
       "3524 2024-01-04       181.802103\n",
       "3525 2024-01-05       181.421302\n",
       "3526 2024-01-08       182.804002"
      ]
     },
     "execution_count": 99,
     "metadata": {},
     "output_type": "execute_result"
    }
   ],
   "source": [
    "results.head()"
   ]
  },
  {
   "cell_type": "code",
   "execution_count": 102,
   "metadata": {},
   "outputs": [
    {
     "name": "stdout",
     "output_type": "stream",
     "text": [
      "Root Mean Squared Error (RMSE): 1.1906054693052186\n"
     ]
    }
   ],
   "source": [
    "# Evaluate if actual January 2024 prices are available\n",
    "if 'Close' in test_data.columns:\n",
    "    y_test = test_data['Close']\n",
    "    rmse = root_mean_squared_error(y_test, predictions)\n",
    "    print(f\"Root Mean Squared Error (RMSE): {rmse}\")"
   ]
  },
  {
   "cell_type": "code",
   "execution_count": 103,
   "metadata": {},
   "outputs": [
    {
     "data": {
      "image/png": "[encoded data removed]",
      "text/plain": [
       "<Figure size 1200x600 with 1 Axes>"
      ]
     },
     "metadata": {},
     "output_type": "display_data"
    }
   ],
   "source": [
    "# Plot actual vs predicted without merging the dataframes\n",
    "plt.figure(figsize=(12, 6))\n",
    "\n",
    "# Plot actual prices\n",
    "plt.plot(test_data['Date'], test_data['Close'], label='Actual Close', marker='o')\n",
    "\n",
    "# Plot predicted prices\n",
    "plt.plot(results['Date'], results['Predicted_Close'], label='Predicted Close', linestyle='--', marker='x')\n",
    "\n",
    "# Add labels, title, and legend\n",
    "plt.xlabel('Date')\n",
    "plt.ylabel('Stock Price')\n",
    "plt.title('Actual vs Predicted Stock Prices for January 2024')\n",
    "plt.legend()\n",
    "plt.grid(True)\n",
    "plt.show()\n"
   ]
  },
  {
   "cell_type": "code",
   "execution_count": null,
   "metadata": {},
   "outputs": [],
   "source": []
  }
 ],
 "metadata": {
  "kernelspec": {
   "display_name": "base",
   "language": "python",
   "name": "python3"
  },
  "language_info": {
   "codemirror_mode": {
    "name": "ipython",
    "version": 3
   },
   "file_extension": ".py",
   "mimetype": "text/x-python",
   "name": "python",
   "nbconvert_exporter": "python",
   "pygments_lexer": "ipython3",
   "version": "3.11.4"
  }
 },
 "nbformat": 4,
 "nbformat_minor": 2
}
