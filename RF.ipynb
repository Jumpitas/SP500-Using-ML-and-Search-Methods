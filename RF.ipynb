{
 "cells": [
  {
   "cell_type": "markdown",
   "metadata": {},
   "source": [
    "# Stock Price Prediction Using Random Forest"
   ]
  },
  {
   "cell_type": "markdown",
   "metadata": {},
   "source": [
    "In this notebook, we will be exploring the performance of the random forest classifier on the S&P500 stock data."
   ]
  },
  {
   "cell_type": "markdown",
   "metadata": {},
   "source": [
    "## Notas\n",
    "\n",
    "Preciso de 15 dias de dados antes de 2010 para calcular umas coisas, ou então removo aproximadamente 13 ou 14 colunas."
   ]
  },
  {
   "cell_type": "markdown",
   "metadata": {},
   "source": [
    "Sources:\n",
    " - [Exponential Smoothing](https://medium.com/@criesin.90days/stock-price-forecasting-with-exponential-smoothing-an-analytical-project-report-380c7ca694a8)\n",
    " - [The Random Forest Model for Analyzing and Forecasting the US Stock Market in the Context of Smart Finance](https://arxiv.org/pdf/2402.17194)"
   ]
  },
  {
   "cell_type": "code",
   "execution_count": 250,
   "metadata": {},
   "outputs": [],
   "source": [
    "import pandas as pd\n",
    "import numpy as np\n",
    "import statsmodels.api as sm\n",
    "# Suppress warnings for cleaner output\n",
    "import warnings\n",
    "\n",
    "from sklearn.ensemble import RandomForestRegressor\n",
    "from sklearn.metrics import root_mean_squared_error\n",
    "import pandas as pd\n",
    "import numpy as np\n",
    "import itertools\n",
    "from tqdm import tqdm\n",
    "\n",
    "\n",
    "import matplotlib.pyplot as plt"
   ]
  },
  {
   "cell_type": "markdown",
   "metadata": {},
   "source": [
    "# Data Preprocessing"
   ]
  },
  {
   "cell_type": "markdown",
   "metadata": {},
   "source": [
    "We decided to follow the paper's approach and apply **Exponential Smoothing** to our data, which assigns greater weight to more recent examples. \n",
    "\n",
    "We do this because the stock prices are more likely to follow recent patterns, rather than patterns from years ago."
   ]
  },
  {
   "cell_type": "code",
   "execution_count": 251,
   "metadata": {},
   "outputs": [
    {
     "data": {
      "text/html": [
       "<div>\n",
       "<style scoped>\n",
       "    .dataframe tbody tr th:only-of-type {\n",
       "        vertical-align: middle;\n",
       "    }\n",
       "\n",
       "    .dataframe tbody tr th {\n",
       "        vertical-align: top;\n",
       "    }\n",
       "\n",
       "    .dataframe thead th {\n",
       "        text-align: right;\n",
       "    }\n",
       "</style>\n",
       "<table border=\"1\" class=\"dataframe\">\n",
       "  <thead>\n",
       "    <tr style=\"text-align: right;\">\n",
       "      <th></th>\n",
       "      <th>Date</th>\n",
       "      <th>AdjClose</th>\n",
       "      <th>Close</th>\n",
       "      <th>High</th>\n",
       "      <th>Low</th>\n",
       "      <th>Open</th>\n",
       "      <th>Volume</th>\n",
       "    </tr>\n",
       "  </thead>\n",
       "  <tbody>\n",
       "    <tr>\n",
       "      <th>0</th>\n",
       "      <td>2010-01-04</td>\n",
       "      <td>6.447411</td>\n",
       "      <td>7.643214</td>\n",
       "      <td>7.660714</td>\n",
       "      <td>7.585000</td>\n",
       "      <td>7.622500</td>\n",
       "      <td>493729600</td>\n",
       "    </tr>\n",
       "    <tr>\n",
       "      <th>1</th>\n",
       "      <td>2010-01-05</td>\n",
       "      <td>6.458559</td>\n",
       "      <td>7.656429</td>\n",
       "      <td>7.699643</td>\n",
       "      <td>7.616071</td>\n",
       "      <td>7.664286</td>\n",
       "      <td>601904800</td>\n",
       "    </tr>\n",
       "    <tr>\n",
       "      <th>2</th>\n",
       "      <td>2010-01-06</td>\n",
       "      <td>6.355826</td>\n",
       "      <td>7.534643</td>\n",
       "      <td>7.686786</td>\n",
       "      <td>7.526786</td>\n",
       "      <td>7.656429</td>\n",
       "      <td>552160000</td>\n",
       "    </tr>\n",
       "    <tr>\n",
       "      <th>3</th>\n",
       "      <td>2010-01-07</td>\n",
       "      <td>6.344076</td>\n",
       "      <td>7.520714</td>\n",
       "      <td>7.571429</td>\n",
       "      <td>7.466071</td>\n",
       "      <td>7.562500</td>\n",
       "      <td>477131200</td>\n",
       "    </tr>\n",
       "    <tr>\n",
       "      <th>4</th>\n",
       "      <td>2010-01-08</td>\n",
       "      <td>6.386254</td>\n",
       "      <td>7.570714</td>\n",
       "      <td>7.571429</td>\n",
       "      <td>7.466429</td>\n",
       "      <td>7.510714</td>\n",
       "      <td>447610800</td>\n",
       "    </tr>\n",
       "  </tbody>\n",
       "</table>\n",
       "</div>"
      ],
      "text/plain": [
       "         Date  AdjClose     Close      High       Low      Open     Volume\n",
       "0  2010-01-04  6.447411  7.643214  7.660714  7.585000  7.622500  493729600\n",
       "1  2010-01-05  6.458559  7.656429  7.699643  7.616071  7.664286  601904800\n",
       "2  2010-01-06  6.355826  7.534643  7.686786  7.526786  7.656429  552160000\n",
       "3  2010-01-07  6.344076  7.520714  7.571429  7.466071  7.562500  477131200\n",
       "4  2010-01-08  6.386254  7.570714  7.571429  7.466429  7.510714  447610800"
      ]
     },
     "execution_count": 251,
     "metadata": {},
     "output_type": "execute_result"
    }
   ],
   "source": [
    "df_apple = pd.read_csv('AAPL.csv')\n",
    "df_apple.head()"
   ]
  },
  {
   "cell_type": "markdown",
   "metadata": {},
   "source": [
    "In order to determine the alpha and beta values for exponential smoothing, we decided to follow [this website's approach](https://medium.com/@criesin.90days/stock-price-forecasting-with-exponential-smoothing-an-analytical-project-report-380c7ca694a8), by using **The Ordinary Least Squares (OLS) method**."
   ]
  },
  {
   "cell_type": "markdown",
   "metadata": {},
   "source": [
    "# Needs Fixing!\n",
    "\n",
    "---\n",
    "\n",
    "In order to do so, we will be using the **`statsmodels`** library, which is commonly imported as **`sm`**. This library provides tools for statistical modeling, including Ordinary Least Squares (OLS) regression, which we'll use to calculate **alpha** and **beta**.\n",
    "\n",
    "Specifically:\n",
    "\n",
    "1. **Alpha** and **Beta** are calculated through a **linear regression analysis**:\n",
    "   - **Alpha** represents the intercept of the regression line. It quantifies the excess return of the stock or portfolio that is independent of market movements (e.g., a measure of performance beyond what the market explains).\n",
    "   - **Beta** is the slope of the regression line, measuring how sensitive the stock or portfolio is to market changes. A beta of 1 implies the stock moves in line with the market, while a beta greater than or less than 1 indicates more or less sensitivity, respectively.\n",
    "\n",
    "2. Using the `statsmodels` module:\n",
    "   - We first construct the independent variable **\\( X \\)**, which represents the lagged adjusted close prices (market or benchmark values). To account for the intercept (alpha), we use **`sm.add_constant(X)`**, which adds a constant column of ones to the dataset.\n",
    "   - The dependent variable **\\( Y \\)** represents the **returns**, calculated as the percentage change in adjusted close prices of the stock or portfolio.\n",
    "\n",
    "3. **Modeling with OLS**:\n",
    "   - The **`sm.OLS(Y, X).fit()`** function sets up an Ordinary Least Squares regression, where:\n",
    "     - \\( Y \\) (dependent variable) is modeled as a linear function of \\( X \\) (independent variable plus constant).\n",
    "   - The `.fit()` method runs the regression and calculates the coefficients:\n",
    "     - The intercept (\\( \\alpha \\)) is stored in `model.params[0]`.\n",
    "     - The slope (\\( \\beta \\)) is stored in `model.params[1]`.\n",
    "\n",
    "Thus, by running this regression analysis with `statsmodels`, we estimate the **alpha** (excess returns) and **beta** (sensitivity to market movements) for the stock or portfolio relative to the market or another benchmark.\n",
    "\n",
    "---\n"
   ]
  },
  {
   "cell_type": "markdown",
   "metadata": {},
   "source": [
    " This snippet illustrates the process:"
   ]
  },
  {
   "cell_type": "code",
   "execution_count": 252,
   "metadata": {},
   "outputs": [],
   "source": [
    "df_apple_smooth = df_apple.copy()"
   ]
  },
  {
   "cell_type": "code",
   "execution_count": 253,
   "metadata": {},
   "outputs": [],
   "source": [
    "warnings.filterwarnings('ignore')\n",
    "\n",
    "returns = (df_apple_smooth[\"Close\"] - df_apple_smooth[\"Close\"].shift(1)) / df_apple_smooth[\"Close\"].shift(1)\n",
    "\n",
    "# Regression Analysis and Estimating Alpha and Beta\n",
    "Y = returns.dropna()\n",
    "X = df_apple_smooth[\"Close\"].shift(1).dropna()\n",
    "\n",
    "#  Include the intercept term in the regression\n",
    "X = sm.add_constant(X)  \n",
    "\n",
    "model = sm.OLS(Y, X).fit()\n",
    "alpha = model.params[0]\n",
    "beta = model.params[1]"
   ]
  },
  {
   "cell_type": "code",
   "execution_count": 254,
   "metadata": {},
   "outputs": [
    {
     "name": "stdout",
     "output_type": "stream",
     "text": [
      "Alpha: 0.0012738698637192818    |    Beta: -2.91906269905718e-06\n"
     ]
    }
   ],
   "source": [
    "print(f\"Alpha: {alpha}    |    Beta: {beta}\")"
   ]
  },
  {
   "cell_type": "markdown",
   "metadata": {},
   "source": [
    " - **alpha**: determines how responsive the smoothed values are to recent price changes\n",
    " - **beta**: adjusts the trend component to improve forecast accuracy\n",
    " - **periods**: specifies how far into the future we want to forecast (in our case, 1 month with 31 days)"
   ]
  },
  {
   "cell_type": "code",
   "execution_count": 255,
   "metadata": {},
   "outputs": [],
   "source": [
    "def exponential_smoothing(data, alpha, beta):\n",
    "    n = len(data)\n",
    "    smoothed_values = [data[0]]\n",
    "\n",
    "    # Smoothing the historical data\n",
    "    for i in range(1, n):\n",
    "        smoothed = alpha * data[i] + (1 - alpha) * (smoothed_values[i - 1] + beta * (data[i] - smoothed_values[i - 1]))\n",
    "        smoothed_values.append(smoothed)\n",
    "    \n",
    "    return smoothed_values"
   ]
  },
  {
   "cell_type": "markdown",
   "metadata": {},
   "source": [
    "\n",
    "---\n",
    "\n",
    "### **2. Undoing Smoothing After Predictions**\n",
    "Smoothing is inherently a lossy operation; the original data cannot be exactly reconstructed after smoothing. However, you can approximate the **\"unsmoothed\" predicted values** by reversing the smoothing formula.\n",
    "\n",
    "#### Reverse the Smoothing Formula\n",
    "The exponential smoothing formula for $ smoothed[i] $ is:\n",
    "\n",
    "<center>\n",
    "\n",
    "$\n",
    "smoothed[i] = \\alpha \\cdot data[i] + (1 - \\alpha) \\cdot (smoothed[i-1] + \\beta \\cdot (data[i] - smoothed[i-1]))\n",
    "$\n",
    "\n",
    "</center>\n",
    "\n",
    "To approximate $ data[i] $ (original value) from $ smoothed[i] $, rearrange the formula:\n",
    "\n",
    "<center>\n",
    "\n",
    "$\n",
    "data[i] \\approx \\frac{smoothed[i] - (1 - \\alpha) \\cdot (smoothed[i-1] + \\beta \\cdot (data[i-1] - smoothed[i-1]))}{\\alpha}\n",
    "$\n",
    "\n",
    "</center>\n",
    "\n",
    "Since $ data[i-1] $ isn't directly available from predictions, use the smoothed predictions recursively to approximate the original data. Here's how you can implement the process:\n",
    "\n",
    "---"
   ]
  },
  {
   "cell_type": "code",
   "execution_count": 256,
   "metadata": {},
   "outputs": [],
   "source": [
    "def undo_exponential_smoothing(smoothed_values, alpha, beta):\n",
    "    n = len(smoothed_values)\n",
    "    original_data = [smoothed_values[0]]  # Start with the first smoothed value\n",
    "\n",
    "    for i in range(1, n):\n",
    "        # Reverse the smoothing formula\n",
    "        approx_original = (smoothed_values[i] - (1 - alpha) * (smoothed_values[i-1])) / alpha\n",
    "        original_data.append(approx_original)\n",
    "\n",
    "    return original_data"
   ]
  },
  {
   "cell_type": "markdown",
   "metadata": {},
   "source": [
    "# EXPONENTIAL SMOOTHING NOT CORRECTLY IMPLEMENTED"
   ]
  },
  {
   "cell_type": "markdown",
   "metadata": {},
   "source": [
    "### Obtaining Recommended Features\n",
    "\n",
    "<center>\n",
    "\n",
    "![](./images/features_paper1.png)\n",
    "\n",
    "</center>"
   ]
  },
  {
   "cell_type": "markdown",
   "metadata": {},
   "source": [
    " - **RSI (Relative Strength Index)**: The RSI measures the speed and change of price movements. It oscillates between 0 and 100 and is calculated over a specific period (e.g., 14 days).\n",
    "\n",
    "<center>\n",
    "\n",
    "$\n",
    "RSI = 100 - \\frac{100}{1 + RS}\n",
    "$      \n",
    "\n",
    "</center>\n",
    "\n",
    "<center>\n",
    "\n",
    "where\n",
    "\n",
    "</center>\n",
    "\n",
    "<center>\n",
    "\n",
    "$\n",
    "RS = \\frac{\\text{Average Gain over N periods}}{\\text{Average Loss over N periods}}\n",
    "$\n",
    "\n",
    "</center>"
   ]
  },
  {
   "cell_type": "code",
   "execution_count": 257,
   "metadata": {},
   "outputs": [],
   "source": [
    "def addRSI(df):    \n",
    "\n",
    "    window_length = 14  # Standard Value\n",
    "    \n",
    "    # Calculate price differences\n",
    "    delta = df['Close'].diff(1)\n",
    "    gain = delta.where(delta > 0, 0)\n",
    "    loss = -delta.where(delta < 0, 0)\n",
    "\n",
    "    # Calculate exponential moving averages of gains and losses\n",
    "    avg_gain = gain.rolling(window=window_length, min_periods=1).mean()\n",
    "    avg_loss = loss.rolling(window=window_length, min_periods=1).mean()\n",
    "\n",
    "    # Calculate RSI\n",
    "    rs = avg_gain / avg_loss\n",
    "    df['RSI'] = 100 - (100 / (1 + rs))"
   ]
  },
  {
   "cell_type": "markdown",
   "metadata": {},
   "source": [
    "\n",
    " - **Stochastic Oscillator**:\n",
    "Measures the closing price relative to the price range over a period of time (e.g., 14 days).\n",
    "\n",
    "<center>\n",
    "\n",
    "$\n",
    "\\%K = \\frac{\\text{Close} - \\text{Low}_N}{\\text{High}_N - \\text{Low}_N} \\times 100\n",
    "$\n",
    "\n",
    "</center>\n"
   ]
  },
  {
   "cell_type": "code",
   "execution_count": 258,
   "metadata": {},
   "outputs": [],
   "source": [
    "def addK(df):\n",
    "    n = 14  # Look-back period\n",
    "    df['%K'] = ((df['Close'] - df['Low'].rolling(n).min()) / (df['High'].rolling(n).max() - df['Low'].rolling(n).min())) * 100"
   ]
  },
  {
   "cell_type": "markdown",
   "metadata": {},
   "source": [
    " - **Williams %R**:\n",
    "Similar to the stochastic oscillator but inverted and shifted.\n",
    "\n",
    "<center>\n",
    "\n",
    "$\n",
    "\\%R = \\frac{\\text{High}_N - \\text{Close}}{\\text{High}_N - \\text{Low}_N} \\times -100\n",
    "$\n",
    "\n",
    "</center>\n"
   ]
  },
  {
   "cell_type": "code",
   "execution_count": 259,
   "metadata": {},
   "outputs": [],
   "source": [
    "def addR(df):\n",
    "    n = 14\n",
    "    highn_close = (df['High'].rolling(n).max() - df['Close'])\n",
    "    highn_lown = (df['High'].rolling(n).max() - df['Low'].rolling(n).min())\n",
    "    df['%R'] = (highn_close / highn_lown) * (-100)"
   ]
  },
  {
   "cell_type": "markdown",
   "metadata": {},
   "source": [
    " - **MACD (Moving Average Convergence Divergence)**:\n",
    "Measures the difference between a fast and a slow exponential moving average (EMA)."
   ]
  },
  {
   "cell_type": "code",
   "execution_count": 260,
   "metadata": {},
   "outputs": [],
   "source": [
    "def addMACD(df):\n",
    "    fast_period = 12\n",
    "    slow_period = 26\n",
    "    signal_period = 9\n",
    "\n",
    "    df['EMA_fast'] = df['Close'].ewm(span=fast_period, adjust=False).mean()\n",
    "    df['EMA_slow'] = df['Close'].ewm(span=slow_period, adjust=False).mean()\n",
    "    df['MACD'] = df['EMA_fast'] - df['EMA_slow']\n",
    "    df['Signal_Line'] = df['MACD'].ewm(span=signal_period, adjust=False).mean()"
   ]
  },
  {
   "cell_type": "markdown",
   "metadata": {},
   "source": [
    " -  **Price Rate of Change (ROC)**:\n",
    "Measures the percentage change in price over a given time.\n",
    "\n",
    "<center>\n",
    "\n",
    "$\n",
    "ROC = \\frac{\\text{Close}_t - \\text{Close}_{t-n}}{\\text{Close}_{t-n}} \\times 100\n",
    "$\n",
    "\n",
    "</center>\n"
   ]
  },
  {
   "cell_type": "code",
   "execution_count": 261,
   "metadata": {},
   "outputs": [],
   "source": [
    "def addROC(df):\n",
    "    n = 14  # Period\n",
    "    df['ROC'] = (df['Close'] - df['Close'].shift(n)) / df['Close'].shift(n) * 100"
   ]
  },
  {
   "cell_type": "markdown",
   "metadata": {},
   "source": [
    " - **On-Balance Volume (OBV)**:\n",
    "Measures buying and selling pressure using volume."
   ]
  },
  {
   "cell_type": "code",
   "execution_count": 262,
   "metadata": {},
   "outputs": [],
   "source": [
    "def addOBV(df):\n",
    "    df['Direction'] = df['Close'].diff().apply(lambda x: 1 if x > 0 else (-1 if x < 0 else 0))\n",
    "    df['OBV'] = (df['Direction'] * df['Volume']).cumsum()"
   ]
  },
  {
   "cell_type": "markdown",
   "metadata": {},
   "source": [
    "### Adding Paper Recommended Features"
   ]
  },
  {
   "cell_type": "markdown",
   "metadata": {},
   "source": [
    "In order to facilitate adding features to any dataframe, we decided to build this function, which already **removes NaN values automatically**. We have 2 different options to do so:\n",
    " - Removing the first 14 rows of the dataframe, as they are entered due to the **look-back period**, which is never higher than 14.\n",
    " - Removing only 2 rows, but deleting the `%K`, `%R` and `ROC` columns entirely.\n",
    "\n",
    "We decided to implement this possibility, in case dimentionality is a problem in the future."
   ]
  },
  {
   "cell_type": "code",
   "execution_count": 263,
   "metadata": {},
   "outputs": [],
   "source": [
    "def addFeatures(df, rows=True):\n",
    "    addRSI(df)\n",
    "    addK(df)\n",
    "    addR(df)\n",
    "    addMACD(df)\n",
    "    addROC(df)\n",
    "    addOBV(df)\n",
    "\n",
    "    # Removes first 14 rows of the dataset \n",
    "    if rows: df.drop(index=range(0, 14), inplace=True)\n",
    "\n",
    "    # Removes first 2 rows of the dataset, and the `%K`, `%R` and `ROC` columns\n",
    "    else: \n",
    "        df.drop(index=range(0, 2), inplace=True)\n",
    "        df.drop(columns=['ROC','%K', '%R'], inplace=True)"
   ]
  },
  {
   "cell_type": "code",
   "execution_count": 264,
   "metadata": {},
   "outputs": [
    {
     "data": {
      "text/html": [
       "<div>\n",
       "<style scoped>\n",
       "    .dataframe tbody tr th:only-of-type {\n",
       "        vertical-align: middle;\n",
       "    }\n",
       "\n",
       "    .dataframe tbody tr th {\n",
       "        vertical-align: top;\n",
       "    }\n",
       "\n",
       "    .dataframe thead th {\n",
       "        text-align: right;\n",
       "    }\n",
       "</style>\n",
       "<table border=\"1\" class=\"dataframe\">\n",
       "  <thead>\n",
       "    <tr style=\"text-align: right;\">\n",
       "      <th></th>\n",
       "      <th>Date</th>\n",
       "      <th>AdjClose</th>\n",
       "      <th>Close</th>\n",
       "      <th>High</th>\n",
       "      <th>Low</th>\n",
       "      <th>Open</th>\n",
       "      <th>Volume</th>\n",
       "      <th>RSI</th>\n",
       "      <th>EMA_fast</th>\n",
       "      <th>EMA_slow</th>\n",
       "      <th>MACD</th>\n",
       "      <th>Signal_Line</th>\n",
       "      <th>Direction</th>\n",
       "      <th>OBV</th>\n",
       "    </tr>\n",
       "  </thead>\n",
       "  <tbody>\n",
       "    <tr>\n",
       "      <th>2</th>\n",
       "      <td>2010-01-06</td>\n",
       "      <td>6.355826</td>\n",
       "      <td>7.534643</td>\n",
       "      <td>7.686786</td>\n",
       "      <td>7.526786</td>\n",
       "      <td>7.656429</td>\n",
       "      <td>552160000</td>\n",
       "      <td>9.788567</td>\n",
       "      <td>7.628231</td>\n",
       "      <td>7.636078</td>\n",
       "      <td>-0.007847</td>\n",
       "      <td>-0.001401</td>\n",
       "      <td>-1</td>\n",
       "      <td>49744800</td>\n",
       "    </tr>\n",
       "    <tr>\n",
       "      <th>3</th>\n",
       "      <td>2010-01-07</td>\n",
       "      <td>6.344076</td>\n",
       "      <td>7.520714</td>\n",
       "      <td>7.571429</td>\n",
       "      <td>7.466071</td>\n",
       "      <td>7.562500</td>\n",
       "      <td>477131200</td>\n",
       "      <td>8.873044</td>\n",
       "      <td>7.611690</td>\n",
       "      <td>7.627533</td>\n",
       "      <td>-0.015843</td>\n",
       "      <td>-0.004289</td>\n",
       "      <td>-1</td>\n",
       "      <td>-427386400</td>\n",
       "    </tr>\n",
       "    <tr>\n",
       "      <th>4</th>\n",
       "      <td>2010-01-08</td>\n",
       "      <td>6.386254</td>\n",
       "      <td>7.570714</td>\n",
       "      <td>7.571429</td>\n",
       "      <td>7.466429</td>\n",
       "      <td>7.510714</td>\n",
       "      <td>447610800</td>\n",
       "      <td>31.777433</td>\n",
       "      <td>7.605386</td>\n",
       "      <td>7.623324</td>\n",
       "      <td>-0.017938</td>\n",
       "      <td>-0.007019</td>\n",
       "      <td>1</td>\n",
       "      <td>20224400</td>\n",
       "    </tr>\n",
       "    <tr>\n",
       "      <th>5</th>\n",
       "      <td>2010-01-11</td>\n",
       "      <td>6.329920</td>\n",
       "      <td>7.503929</td>\n",
       "      <td>7.607143</td>\n",
       "      <td>7.444643</td>\n",
       "      <td>7.600000</td>\n",
       "      <td>462229600</td>\n",
       "      <td>23.790476</td>\n",
       "      <td>7.589777</td>\n",
       "      <td>7.614480</td>\n",
       "      <td>-0.024703</td>\n",
       "      <td>-0.010556</td>\n",
       "      <td>-1</td>\n",
       "      <td>-442005200</td>\n",
       "    </tr>\n",
       "    <tr>\n",
       "      <th>6</th>\n",
       "      <td>2010-01-12</td>\n",
       "      <td>6.257915</td>\n",
       "      <td>7.418571</td>\n",
       "      <td>7.491786</td>\n",
       "      <td>7.372143</td>\n",
       "      <td>7.471071</td>\n",
       "      <td>594459600</td>\n",
       "      <td>18.006175</td>\n",
       "      <td>7.563438</td>\n",
       "      <td>7.599968</td>\n",
       "      <td>-0.036530</td>\n",
       "      <td>-0.015751</td>\n",
       "      <td>-1</td>\n",
       "      <td>-1036464800</td>\n",
       "    </tr>\n",
       "    <tr>\n",
       "      <th>7</th>\n",
       "      <td>2010-01-13</td>\n",
       "      <td>6.346186</td>\n",
       "      <td>7.523214</td>\n",
       "      <td>7.533214</td>\n",
       "      <td>7.289286</td>\n",
       "      <td>7.423929</td>\n",
       "      <td>605892000</td>\n",
       "      <td>36.833856</td>\n",
       "      <td>7.557250</td>\n",
       "      <td>7.594283</td>\n",
       "      <td>-0.037033</td>\n",
       "      <td>-0.020007</td>\n",
       "      <td>1</td>\n",
       "      <td>-430572800</td>\n",
       "    </tr>\n",
       "    <tr>\n",
       "      <th>8</th>\n",
       "      <td>2010-01-14</td>\n",
       "      <td>6.309431</td>\n",
       "      <td>7.479643</td>\n",
       "      <td>7.516429</td>\n",
       "      <td>7.465000</td>\n",
       "      <td>7.503929</td>\n",
       "      <td>432894000</td>\n",
       "      <td>33.619494</td>\n",
       "      <td>7.545310</td>\n",
       "      <td>7.585791</td>\n",
       "      <td>-0.040481</td>\n",
       "      <td>-0.024102</td>\n",
       "      <td>-1</td>\n",
       "      <td>-863466800</td>\n",
       "    </tr>\n",
       "    <tr>\n",
       "      <th>9</th>\n",
       "      <td>2010-01-15</td>\n",
       "      <td>6.203987</td>\n",
       "      <td>7.354643</td>\n",
       "      <td>7.557143</td>\n",
       "      <td>7.352500</td>\n",
       "      <td>7.533214</td>\n",
       "      <td>594067600</td>\n",
       "      <td>26.887912</td>\n",
       "      <td>7.515977</td>\n",
       "      <td>7.568669</td>\n",
       "      <td>-0.052692</td>\n",
       "      <td>-0.029820</td>\n",
       "      <td>-1</td>\n",
       "      <td>-1457534400</td>\n",
       "    </tr>\n",
       "    <tr>\n",
       "      <th>10</th>\n",
       "      <td>2010-01-19</td>\n",
       "      <td>6.478441</td>\n",
       "      <td>7.680000</td>\n",
       "      <td>7.685357</td>\n",
       "      <td>7.401429</td>\n",
       "      <td>7.440357</td>\n",
       "      <td>730007600</td>\n",
       "      <td>51.936811</td>\n",
       "      <td>7.541211</td>\n",
       "      <td>7.576915</td>\n",
       "      <td>-0.035704</td>\n",
       "      <td>-0.030997</td>\n",
       "      <td>1</td>\n",
       "      <td>-727526800</td>\n",
       "    </tr>\n",
       "    <tr>\n",
       "      <th>11</th>\n",
       "      <td>2010-01-20</td>\n",
       "      <td>6.378724</td>\n",
       "      <td>7.561786</td>\n",
       "      <td>7.698214</td>\n",
       "      <td>7.482143</td>\n",
       "      <td>7.675357</td>\n",
       "      <td>612152800</td>\n",
       "      <td>46.187316</td>\n",
       "      <td>7.544376</td>\n",
       "      <td>7.575795</td>\n",
       "      <td>-0.031418</td>\n",
       "      <td>-0.031081</td>\n",
       "      <td>-1</td>\n",
       "      <td>-1339679600</td>\n",
       "    </tr>\n",
       "    <tr>\n",
       "      <th>12</th>\n",
       "      <td>2010-01-21</td>\n",
       "      <td>6.268457</td>\n",
       "      <td>7.431071</td>\n",
       "      <td>7.618214</td>\n",
       "      <td>7.400357</td>\n",
       "      <td>7.574286</td>\n",
       "      <td>608154400</td>\n",
       "      <td>41.150164</td>\n",
       "      <td>7.526945</td>\n",
       "      <td>7.565074</td>\n",
       "      <td>-0.038130</td>\n",
       "      <td>-0.032491</td>\n",
       "      <td>-1</td>\n",
       "      <td>-1947834000</td>\n",
       "    </tr>\n",
       "    <tr>\n",
       "      <th>13</th>\n",
       "      <td>2010-01-22</td>\n",
       "      <td>5.957553</td>\n",
       "      <td>7.062500</td>\n",
       "      <td>7.410714</td>\n",
       "      <td>7.041429</td>\n",
       "      <td>7.385000</td>\n",
       "      <td>881767600</td>\n",
       "      <td>31.472206</td>\n",
       "      <td>7.455492</td>\n",
       "      <td>7.527847</td>\n",
       "      <td>-0.072355</td>\n",
       "      <td>-0.040464</td>\n",
       "      <td>-1</td>\n",
       "      <td>-2829601600</td>\n",
       "    </tr>\n",
       "    <tr>\n",
       "      <th>14</th>\n",
       "      <td>2010-01-25</td>\n",
       "      <td>6.117826</td>\n",
       "      <td>7.252500</td>\n",
       "      <td>7.310714</td>\n",
       "      <td>7.149643</td>\n",
       "      <td>7.232500</td>\n",
       "      <td>1065699600</td>\n",
       "      <td>38.882121</td>\n",
       "      <td>7.424262</td>\n",
       "      <td>7.507451</td>\n",
       "      <td>-0.083188</td>\n",
       "      <td>-0.049009</td>\n",
       "      <td>1</td>\n",
       "      <td>-1763902000</td>\n",
       "    </tr>\n",
       "    <tr>\n",
       "      <th>15</th>\n",
       "      <td>2010-01-26</td>\n",
       "      <td>6.204288</td>\n",
       "      <td>7.355000</td>\n",
       "      <td>7.632500</td>\n",
       "      <td>7.235000</td>\n",
       "      <td>7.355357</td>\n",
       "      <td>1867110000</td>\n",
       "      <td>41.837519</td>\n",
       "      <td>7.413607</td>\n",
       "      <td>7.496158</td>\n",
       "      <td>-0.082552</td>\n",
       "      <td>-0.055717</td>\n",
       "      <td>1</td>\n",
       "      <td>103208000</td>\n",
       "    </tr>\n",
       "    <tr>\n",
       "      <th>16</th>\n",
       "      <td>2010-01-27</td>\n",
       "      <td>6.262735</td>\n",
       "      <td>7.424286</td>\n",
       "      <td>7.520714</td>\n",
       "      <td>7.126071</td>\n",
       "      <td>7.387500</td>\n",
       "      <td>1722568400</td>\n",
       "      <td>46.924146</td>\n",
       "      <td>7.415249</td>\n",
       "      <td>7.490834</td>\n",
       "      <td>-0.075585</td>\n",
       "      <td>-0.059691</td>\n",
       "      <td>1</td>\n",
       "      <td>1825776400</td>\n",
       "    </tr>\n",
       "  </tbody>\n",
       "</table>\n",
       "</div>"
      ],
      "text/plain": [
       "          Date  AdjClose     Close      High       Low      Open      Volume  \\\n",
       "2   2010-01-06  6.355826  7.534643  7.686786  7.526786  7.656429   552160000   \n",
       "3   2010-01-07  6.344076  7.520714  7.571429  7.466071  7.562500   477131200   \n",
       "4   2010-01-08  6.386254  7.570714  7.571429  7.466429  7.510714   447610800   \n",
       "5   2010-01-11  6.329920  7.503929  7.607143  7.444643  7.600000   462229600   \n",
       "6   2010-01-12  6.257915  7.418571  7.491786  7.372143  7.471071   594459600   \n",
       "7   2010-01-13  6.346186  7.523214  7.533214  7.289286  7.423929   605892000   \n",
       "8   2010-01-14  6.309431  7.479643  7.516429  7.465000  7.503929   432894000   \n",
       "9   2010-01-15  6.203987  7.354643  7.557143  7.352500  7.533214   594067600   \n",
       "10  2010-01-19  6.478441  7.680000  7.685357  7.401429  7.440357   730007600   \n",
       "11  2010-01-20  6.378724  7.561786  7.698214  7.482143  7.675357   612152800   \n",
       "12  2010-01-21  6.268457  7.431071  7.618214  7.400357  7.574286   608154400   \n",
       "13  2010-01-22  5.957553  7.062500  7.410714  7.041429  7.385000   881767600   \n",
       "14  2010-01-25  6.117826  7.252500  7.310714  7.149643  7.232500  1065699600   \n",
       "15  2010-01-26  6.204288  7.355000  7.632500  7.235000  7.355357  1867110000   \n",
       "16  2010-01-27  6.262735  7.424286  7.520714  7.126071  7.387500  1722568400   \n",
       "\n",
       "          RSI  EMA_fast  EMA_slow      MACD  Signal_Line  Direction  \\\n",
       "2    9.788567  7.628231  7.636078 -0.007847    -0.001401         -1   \n",
       "3    8.873044  7.611690  7.627533 -0.015843    -0.004289         -1   \n",
       "4   31.777433  7.605386  7.623324 -0.017938    -0.007019          1   \n",
       "5   23.790476  7.589777  7.614480 -0.024703    -0.010556         -1   \n",
       "6   18.006175  7.563438  7.599968 -0.036530    -0.015751         -1   \n",
       "7   36.833856  7.557250  7.594283 -0.037033    -0.020007          1   \n",
       "8   33.619494  7.545310  7.585791 -0.040481    -0.024102         -1   \n",
       "9   26.887912  7.515977  7.568669 -0.052692    -0.029820         -1   \n",
       "10  51.936811  7.541211  7.576915 -0.035704    -0.030997          1   \n",
       "11  46.187316  7.544376  7.575795 -0.031418    -0.031081         -1   \n",
       "12  41.150164  7.526945  7.565074 -0.038130    -0.032491         -1   \n",
       "13  31.472206  7.455492  7.527847 -0.072355    -0.040464         -1   \n",
       "14  38.882121  7.424262  7.507451 -0.083188    -0.049009          1   \n",
       "15  41.837519  7.413607  7.496158 -0.082552    -0.055717          1   \n",
       "16  46.924146  7.415249  7.490834 -0.075585    -0.059691          1   \n",
       "\n",
       "           OBV  \n",
       "2     49744800  \n",
       "3   -427386400  \n",
       "4     20224400  \n",
       "5   -442005200  \n",
       "6  -1036464800  \n",
       "7   -430572800  \n",
       "8   -863466800  \n",
       "9  -1457534400  \n",
       "10  -727526800  \n",
       "11 -1339679600  \n",
       "12 -1947834000  \n",
       "13 -2829601600  \n",
       "14 -1763902000  \n",
       "15   103208000  \n",
       "16  1825776400  "
      ]
     },
     "execution_count": 264,
     "metadata": {},
     "output_type": "execute_result"
    }
   ],
   "source": [
    "addFeatures(df_apple, False)\n",
    "\n",
    "df_apple.head(15)"
   ]
  },
  {
   "cell_type": "markdown",
   "metadata": {},
   "source": [
    "---"
   ]
  },
  {
   "cell_type": "markdown",
   "metadata": {},
   "source": [
    "## Introduction to Model Development"
   ]
  },
  {
   "cell_type": "code",
   "execution_count": 265,
   "metadata": {},
   "outputs": [],
   "source": [
    "# Convert Date to datetime and sort by Date\n",
    "df_apple['Date'] = pd.to_datetime(df_apple['Date'])\n",
    "df_apple = df_apple.sort_values(by='Date')\n",
    "\n",
    "# Removing adjusted close from training data\n",
    "df_apple = df_apple.drop(columns=['AdjClose'])"
   ]
  },
  {
   "cell_type": "markdown",
   "metadata": {},
   "source": [
    "Because we cannot pass `datetime` objects into the random forest, we need to create new columns to represent day, month and year, thus preserving sequential importance."
   ]
  },
  {
   "cell_type": "code",
   "execution_count": 266,
   "metadata": {},
   "outputs": [],
   "source": [
    "# Extract temporal features\n",
    "df_apple['Day'] = df_apple['Date'].dt.day\n",
    "df_apple['Month'] = df_apple['Date'].dt.month\n",
    "df_apple['Year'] = df_apple['Date'].dt.year"
   ]
  },
  {
   "cell_type": "code",
   "execution_count": 267,
   "metadata": {},
   "outputs": [
    {
     "data": {
      "text/html": [
       "<div>\n",
       "<style scoped>\n",
       "    .dataframe tbody tr th:only-of-type {\n",
       "        vertical-align: middle;\n",
       "    }\n",
       "\n",
       "    .dataframe tbody tr th {\n",
       "        vertical-align: top;\n",
       "    }\n",
       "\n",
       "    .dataframe thead th {\n",
       "        text-align: right;\n",
       "    }\n",
       "</style>\n",
       "<table border=\"1\" class=\"dataframe\">\n",
       "  <thead>\n",
       "    <tr style=\"text-align: right;\">\n",
       "      <th></th>\n",
       "      <th>Date</th>\n",
       "      <th>Close</th>\n",
       "      <th>High</th>\n",
       "      <th>Low</th>\n",
       "      <th>Open</th>\n",
       "      <th>Volume</th>\n",
       "      <th>RSI</th>\n",
       "      <th>EMA_fast</th>\n",
       "      <th>EMA_slow</th>\n",
       "      <th>MACD</th>\n",
       "      <th>Signal_Line</th>\n",
       "      <th>Direction</th>\n",
       "      <th>OBV</th>\n",
       "      <th>Day</th>\n",
       "      <th>Month</th>\n",
       "      <th>Year</th>\n",
       "    </tr>\n",
       "  </thead>\n",
       "  <tbody>\n",
       "    <tr>\n",
       "      <th>2</th>\n",
       "      <td>2010-01-06</td>\n",
       "      <td>7.534643</td>\n",
       "      <td>7.686786</td>\n",
       "      <td>7.526786</td>\n",
       "      <td>7.656429</td>\n",
       "      <td>552160000</td>\n",
       "      <td>9.788567</td>\n",
       "      <td>7.628231</td>\n",
       "      <td>7.636078</td>\n",
       "      <td>-0.007847</td>\n",
       "      <td>-0.001401</td>\n",
       "      <td>-1</td>\n",
       "      <td>49744800</td>\n",
       "      <td>6</td>\n",
       "      <td>1</td>\n",
       "      <td>2010</td>\n",
       "    </tr>\n",
       "    <tr>\n",
       "      <th>3</th>\n",
       "      <td>2010-01-07</td>\n",
       "      <td>7.520714</td>\n",
       "      <td>7.571429</td>\n",
       "      <td>7.466071</td>\n",
       "      <td>7.562500</td>\n",
       "      <td>477131200</td>\n",
       "      <td>8.873044</td>\n",
       "      <td>7.611690</td>\n",
       "      <td>7.627533</td>\n",
       "      <td>-0.015843</td>\n",
       "      <td>-0.004289</td>\n",
       "      <td>-1</td>\n",
       "      <td>-427386400</td>\n",
       "      <td>7</td>\n",
       "      <td>1</td>\n",
       "      <td>2010</td>\n",
       "    </tr>\n",
       "    <tr>\n",
       "      <th>4</th>\n",
       "      <td>2010-01-08</td>\n",
       "      <td>7.570714</td>\n",
       "      <td>7.571429</td>\n",
       "      <td>7.466429</td>\n",
       "      <td>7.510714</td>\n",
       "      <td>447610800</td>\n",
       "      <td>31.777433</td>\n",
       "      <td>7.605386</td>\n",
       "      <td>7.623324</td>\n",
       "      <td>-0.017938</td>\n",
       "      <td>-0.007019</td>\n",
       "      <td>1</td>\n",
       "      <td>20224400</td>\n",
       "      <td>8</td>\n",
       "      <td>1</td>\n",
       "      <td>2010</td>\n",
       "    </tr>\n",
       "    <tr>\n",
       "      <th>5</th>\n",
       "      <td>2010-01-11</td>\n",
       "      <td>7.503929</td>\n",
       "      <td>7.607143</td>\n",
       "      <td>7.444643</td>\n",
       "      <td>7.600000</td>\n",
       "      <td>462229600</td>\n",
       "      <td>23.790476</td>\n",
       "      <td>7.589777</td>\n",
       "      <td>7.614480</td>\n",
       "      <td>-0.024703</td>\n",
       "      <td>-0.010556</td>\n",
       "      <td>-1</td>\n",
       "      <td>-442005200</td>\n",
       "      <td>11</td>\n",
       "      <td>1</td>\n",
       "      <td>2010</td>\n",
       "    </tr>\n",
       "    <tr>\n",
       "      <th>6</th>\n",
       "      <td>2010-01-12</td>\n",
       "      <td>7.418571</td>\n",
       "      <td>7.491786</td>\n",
       "      <td>7.372143</td>\n",
       "      <td>7.471071</td>\n",
       "      <td>594459600</td>\n",
       "      <td>18.006175</td>\n",
       "      <td>7.563438</td>\n",
       "      <td>7.599968</td>\n",
       "      <td>-0.036530</td>\n",
       "      <td>-0.015751</td>\n",
       "      <td>-1</td>\n",
       "      <td>-1036464800</td>\n",
       "      <td>12</td>\n",
       "      <td>1</td>\n",
       "      <td>2010</td>\n",
       "    </tr>\n",
       "  </tbody>\n",
       "</table>\n",
       "</div>"
      ],
      "text/plain": [
       "        Date     Close      High       Low      Open     Volume        RSI  \\\n",
       "2 2010-01-06  7.534643  7.686786  7.526786  7.656429  552160000   9.788567   \n",
       "3 2010-01-07  7.520714  7.571429  7.466071  7.562500  477131200   8.873044   \n",
       "4 2010-01-08  7.570714  7.571429  7.466429  7.510714  447610800  31.777433   \n",
       "5 2010-01-11  7.503929  7.607143  7.444643  7.600000  462229600  23.790476   \n",
       "6 2010-01-12  7.418571  7.491786  7.372143  7.471071  594459600  18.006175   \n",
       "\n",
       "   EMA_fast  EMA_slow      MACD  Signal_Line  Direction         OBV  Day  \\\n",
       "2  7.628231  7.636078 -0.007847    -0.001401         -1    49744800    6   \n",
       "3  7.611690  7.627533 -0.015843    -0.004289         -1  -427386400    7   \n",
       "4  7.605386  7.623324 -0.017938    -0.007019          1    20224400    8   \n",
       "5  7.589777  7.614480 -0.024703    -0.010556         -1  -442005200   11   \n",
       "6  7.563438  7.599968 -0.036530    -0.015751         -1 -1036464800   12   \n",
       "\n",
       "   Month  Year  \n",
       "2      1  2010  \n",
       "3      1  2010  \n",
       "4      1  2010  \n",
       "5      1  2010  \n",
       "6      1  2010  "
      ]
     },
     "execution_count": 267,
     "metadata": {},
     "output_type": "execute_result"
    }
   ],
   "source": [
    "df_apple.head()"
   ]
  },
  {
   "cell_type": "code",
   "execution_count": 268,
   "metadata": {},
   "outputs": [],
   "source": [
    "# Train with 2010 - 2023\n",
    "train_data = df_apple[(df_apple['Date'] >= '2010-01-01') & (df_apple['Date'] < '2024-01-01')]\n",
    "\n",
    "# Test with January 2024\n",
    "test_data = df_apple[(df_apple['Date'] >= '2024-01-01') & (df_apple['Date'] < '2024-02-01')]\n",
    "\n",
    "# Separates train_data into X and y\n",
    "#X_train = train_data.drop(columns=['Date','Close', 'High', 'Low', 'Open'])\n",
    "X_train = train_data[['Day','Month','Year']]\n",
    "y_train = train_data['Close']"
   ]
  },
  {
   "cell_type": "code",
   "execution_count": 269,
   "metadata": {},
   "outputs": [
    {
     "data": {
      "text/html": [
       "<div>\n",
       "<style scoped>\n",
       "    .dataframe tbody tr th:only-of-type {\n",
       "        vertical-align: middle;\n",
       "    }\n",
       "\n",
       "    .dataframe tbody tr th {\n",
       "        vertical-align: top;\n",
       "    }\n",
       "\n",
       "    .dataframe thead th {\n",
       "        text-align: right;\n",
       "    }\n",
       "</style>\n",
       "<table border=\"1\" class=\"dataframe\">\n",
       "  <thead>\n",
       "    <tr style=\"text-align: right;\">\n",
       "      <th></th>\n",
       "      <th>Day</th>\n",
       "      <th>Month</th>\n",
       "      <th>Year</th>\n",
       "    </tr>\n",
       "  </thead>\n",
       "  <tbody>\n",
       "    <tr>\n",
       "      <th>2</th>\n",
       "      <td>6</td>\n",
       "      <td>1</td>\n",
       "      <td>2010</td>\n",
       "    </tr>\n",
       "    <tr>\n",
       "      <th>3</th>\n",
       "      <td>7</td>\n",
       "      <td>1</td>\n",
       "      <td>2010</td>\n",
       "    </tr>\n",
       "    <tr>\n",
       "      <th>4</th>\n",
       "      <td>8</td>\n",
       "      <td>1</td>\n",
       "      <td>2010</td>\n",
       "    </tr>\n",
       "    <tr>\n",
       "      <th>5</th>\n",
       "      <td>11</td>\n",
       "      <td>1</td>\n",
       "      <td>2010</td>\n",
       "    </tr>\n",
       "    <tr>\n",
       "      <th>6</th>\n",
       "      <td>12</td>\n",
       "      <td>1</td>\n",
       "      <td>2010</td>\n",
       "    </tr>\n",
       "  </tbody>\n",
       "</table>\n",
       "</div>"
      ],
      "text/plain": [
       "   Day  Month  Year\n",
       "2    6      1  2010\n",
       "3    7      1  2010\n",
       "4    8      1  2010\n",
       "5   11      1  2010\n",
       "6   12      1  2010"
      ]
     },
     "execution_count": 269,
     "metadata": {},
     "output_type": "execute_result"
    }
   ],
   "source": [
    "X_train.head()"
   ]
  },
  {
   "cell_type": "code",
   "execution_count": 270,
   "metadata": {},
   "outputs": [
    {
     "data": {
      "text/plain": [
       "2    7.534643\n",
       "3    7.520714\n",
       "4    7.570714\n",
       "5    7.503929\n",
       "6    7.418571\n",
       "Name: Close, dtype: float64"
      ]
     },
     "execution_count": 270,
     "metadata": {},
     "output_type": "execute_result"
    }
   ],
   "source": [
    "y_train.head()"
   ]
  },
  {
   "cell_type": "code",
   "execution_count": 271,
   "metadata": {},
   "outputs": [],
   "source": [
    "# Separates test_data into X and y\n",
    "#X_test = test_data.drop(columns=['Date','Close', 'High', 'Low', 'Open'])\n",
    "X_test = test_data[['Day','Month','Year']]\n",
    "y_test = test_data['Close']\n",
    "\n",
    "# Keep for reference during performance analysis\n",
    "y_test_dates = test_data['Date']  "
   ]
  },
  {
   "cell_type": "code",
   "execution_count": 272,
   "metadata": {},
   "outputs": [
    {
     "data": {
      "text/html": [
       "<div>\n",
       "<style scoped>\n",
       "    .dataframe tbody tr th:only-of-type {\n",
       "        vertical-align: middle;\n",
       "    }\n",
       "\n",
       "    .dataframe tbody tr th {\n",
       "        vertical-align: top;\n",
       "    }\n",
       "\n",
       "    .dataframe thead th {\n",
       "        text-align: right;\n",
       "    }\n",
       "</style>\n",
       "<table border=\"1\" class=\"dataframe\">\n",
       "  <thead>\n",
       "    <tr style=\"text-align: right;\">\n",
       "      <th></th>\n",
       "      <th>Day</th>\n",
       "      <th>Month</th>\n",
       "      <th>Year</th>\n",
       "    </tr>\n",
       "  </thead>\n",
       "  <tbody>\n",
       "    <tr>\n",
       "      <th>3522</th>\n",
       "      <td>2</td>\n",
       "      <td>1</td>\n",
       "      <td>2024</td>\n",
       "    </tr>\n",
       "    <tr>\n",
       "      <th>3523</th>\n",
       "      <td>3</td>\n",
       "      <td>1</td>\n",
       "      <td>2024</td>\n",
       "    </tr>\n",
       "    <tr>\n",
       "      <th>3524</th>\n",
       "      <td>4</td>\n",
       "      <td>1</td>\n",
       "      <td>2024</td>\n",
       "    </tr>\n",
       "    <tr>\n",
       "      <th>3525</th>\n",
       "      <td>5</td>\n",
       "      <td>1</td>\n",
       "      <td>2024</td>\n",
       "    </tr>\n",
       "    <tr>\n",
       "      <th>3526</th>\n",
       "      <td>8</td>\n",
       "      <td>1</td>\n",
       "      <td>2024</td>\n",
       "    </tr>\n",
       "  </tbody>\n",
       "</table>\n",
       "</div>"
      ],
      "text/plain": [
       "      Day  Month  Year\n",
       "3522    2      1  2024\n",
       "3523    3      1  2024\n",
       "3524    4      1  2024\n",
       "3525    5      1  2024\n",
       "3526    8      1  2024"
      ]
     },
     "execution_count": 272,
     "metadata": {},
     "output_type": "execute_result"
    }
   ],
   "source": [
    "X_test.head()"
   ]
  },
  {
   "cell_type": "code",
   "execution_count": 273,
   "metadata": {},
   "outputs": [
    {
     "data": {
      "text/plain": [
       "3522   2024-01-02\n",
       "3523   2024-01-03\n",
       "3524   2024-01-04\n",
       "3525   2024-01-05\n",
       "3526   2024-01-08\n",
       "Name: Date, dtype: datetime64[ns]"
      ]
     },
     "execution_count": 273,
     "metadata": {},
     "output_type": "execute_result"
    }
   ],
   "source": [
    "y_test_dates.head()"
   ]
  },
  {
   "cell_type": "code",
   "execution_count": 274,
   "metadata": {},
   "outputs": [
    {
     "data": {
      "text/plain": [
       "3522    185.639999\n",
       "3523    184.250000\n",
       "3524    181.910004\n",
       "3525    181.179993\n",
       "3526    185.559998\n",
       "Name: Close, dtype: float64"
      ]
     },
     "execution_count": 274,
     "metadata": {},
     "output_type": "execute_result"
    }
   ],
   "source": [
    "y_test.head()"
   ]
  },
  {
   "cell_type": "markdown",
   "metadata": {},
   "source": [
    "We need a function to generalize this preprocessing. We can also use lagged features:\n",
    "\n",
    " - train up to december 2023\n",
    " - use december 2023 metrics to predict january 2024\n",
    "\n",
    "Or we can:\n",
    "\n",
    " - get financial metrics for 13 years\n",
    " - train 6 random forests to predict those metric values for january 2024\n",
    " - use those predictions to compare to a final, independent model to predict the stock price for january 2024"
   ]
  },
  {
   "cell_type": "code",
   "execution_count": 275,
   "metadata": {},
   "outputs": [],
   "source": [
    "def split_data(df, target='Close', colsRemove=['Date','Close', 'High', 'Low', 'Open','AdjClose']):\n",
    "    # Convert Date to datetime and sort by Date\n",
    "    df['Date'] = pd.to_datetime(df['Date'])\n",
    "    df = df.sort_values(by='Date')\n",
    "\n",
    "    # Extract temporal features\n",
    "    df['Day'] = df['Date'].dt.day\n",
    "    df['Month'] = df['Date'].dt.month\n",
    "    df['Year'] = df['Date'].dt.year\n",
    "\n",
    "    # 2010 - 2023\n",
    "    train_data = df[(df['Date'] >= '2010-01-01') & (df['Date'] < '2024-01-01')]\n",
    "\n",
    "    # Test with January 2024\n",
    "    test_data = df[(df['Date'] >= '2024-01-01') & (df['Date'] < '2024-02-01')]\n",
    "\n",
    "    # Separates train_data into X and y\n",
    "    X_train = train_data.drop(columns=colsRemove)\n",
    "    #X_train = train_data[['Day','Month','Year']]\n",
    "    y_train = train_data[target]\n",
    "\n",
    "    # Separates test_data into X and y\n",
    "    X_test = test_data.drop(columns=colsRemove)\n",
    "    #X_test = test_data[['Day','Month','Year']]\n",
    "    y_test = test_data[target]\n",
    "\n",
    "    # Keep for reference during performance analysis\n",
    "    y_test_dates = test_data['Date']  \n",
    "\n",
    "    return X_train, y_train, X_test, y_test, y_test_dates"
   ]
  },
  {
   "cell_type": "code",
   "execution_count": null,
   "metadata": {},
   "outputs": [],
   "source": [
    "def preprocess_and_split(df, target='Close', colsRemove=['Date','Close', 'High', 'Low', 'Open', 'AdjClose'], rows=False):\n",
    "    df_preprocess = df.copy()\n",
    "\n",
    "    addFeatures(df_preprocess, rows)\n",
    "    \n",
    "    X_train, y_train, X_test, y_test, y_test_dates = split_data(df_preprocess, target, colsRemove)\n",
    "\n",
    "    return X_train, y_train, X_test, y_test, y_test_dates"
   ]
  },
  {
   "cell_type": "markdown",
   "metadata": {},
   "source": [
    "Relativamente a prever valores das features não deve ser muito difícil, visto que já fiz a função para ela receber qual o target da prediction e quais as colunas a remover. \n",
    "\n",
    "Problema: treinar e obter resultados de 7 modelos por csv..."
   ]
  },
  {
   "cell_type": "code",
   "execution_count": 277,
   "metadata": {},
   "outputs": [],
   "source": [
    "df_apple = pd.read_csv('AAPL.csv')\n",
    "\n",
    "X_train, y_train, X_test, y_test, y_test_dates = preprocess_and_split(df_apple)"
   ]
  },
  {
   "cell_type": "code",
   "execution_count": 278,
   "metadata": {},
   "outputs": [],
   "source": [
    "# Initialize and train the Random Forest Regressor\n",
    "model = RandomForestRegressor(n_estimators=150)\n",
    "model.fit(X_train, y_train)\n",
    "\n",
    "# Predict for January 2024\n",
    "predictions = model.predict(X_test)\n",
    "\n",
    "# Create dataframe with results\n",
    "results = pd.DataFrame({'Date': y_test_dates, 'Predicted_Close': predictions})"
   ]
  },
  {
   "cell_type": "code",
   "execution_count": 279,
   "metadata": {},
   "outputs": [
    {
     "data": {
      "text/html": [
       "<div>\n",
       "<style scoped>\n",
       "    .dataframe tbody tr th:only-of-type {\n",
       "        vertical-align: middle;\n",
       "    }\n",
       "\n",
       "    .dataframe tbody tr th {\n",
       "        vertical-align: top;\n",
       "    }\n",
       "\n",
       "    .dataframe thead th {\n",
       "        text-align: right;\n",
       "    }\n",
       "</style>\n",
       "<table border=\"1\" class=\"dataframe\">\n",
       "  <thead>\n",
       "    <tr style=\"text-align: right;\">\n",
       "      <th></th>\n",
       "      <th>Date</th>\n",
       "      <th>Predicted_Close</th>\n",
       "    </tr>\n",
       "  </thead>\n",
       "  <tbody>\n",
       "    <tr>\n",
       "      <th>3522</th>\n",
       "      <td>2024-01-02</td>\n",
       "      <td>187.447869</td>\n",
       "    </tr>\n",
       "    <tr>\n",
       "      <th>3523</th>\n",
       "      <td>2024-01-03</td>\n",
       "      <td>186.034870</td>\n",
       "    </tr>\n",
       "    <tr>\n",
       "      <th>3524</th>\n",
       "      <td>2024-01-04</td>\n",
       "      <td>185.008936</td>\n",
       "    </tr>\n",
       "    <tr>\n",
       "      <th>3525</th>\n",
       "      <td>2024-01-05</td>\n",
       "      <td>182.944002</td>\n",
       "    </tr>\n",
       "    <tr>\n",
       "      <th>3526</th>\n",
       "      <td>2024-01-08</td>\n",
       "      <td>183.094136</td>\n",
       "    </tr>\n",
       "  </tbody>\n",
       "</table>\n",
       "</div>"
      ],
      "text/plain": [
       "           Date  Predicted_Close\n",
       "3522 2024-01-02       187.447869\n",
       "3523 2024-01-03       186.034870\n",
       "3524 2024-01-04       185.008936\n",
       "3525 2024-01-05       182.944002\n",
       "3526 2024-01-08       183.094136"
      ]
     },
     "execution_count": 279,
     "metadata": {},
     "output_type": "execute_result"
    }
   ],
   "source": [
    "results.head()"
   ]
  },
  {
   "cell_type": "code",
   "execution_count": 280,
   "metadata": {},
   "outputs": [
    {
     "name": "stdout",
     "output_type": "stream",
     "text": [
      "Root Mean Squared Error (RMSE): 3.366421777187914\n"
     ]
    }
   ],
   "source": [
    "# Evaluate if actual January 2024 prices are available\n",
    "if 'Close' in test_data.columns:\n",
    "    y_test = test_data['Close']\n",
    "    rmse = root_mean_squared_error(y_test, predictions)\n",
    "    print(f\"Root Mean Squared Error (RMSE): {rmse}\")"
   ]
  },
  {
   "cell_type": "code",
   "execution_count": 281,
   "metadata": {},
   "outputs": [
    {
     "data": {
      "image/png": "[encoded data removed]",
      "text/plain": [
       "<Figure size 1200x600 with 1 Axes>"
      ]
     },
     "metadata": {},
     "output_type": "display_data"
    }
   ],
   "source": [
    "# Plot actual vs predicted without merging the dataframes\n",
    "plt.figure(figsize=(12, 6))\n",
    "\n",
    "# Plot actual prices\n",
    "plt.plot(test_data['Date'], test_data['Close'], label='Actual Close', marker='o')\n",
    "\n",
    "# Plot predicted prices\n",
    "plt.plot(y_test_dates, predictions, label='Predicted Close', linestyle='--', marker='x')\n",
    "\n",
    "# Add labels, title, and legend\n",
    "plt.xlabel('Date')\n",
    "plt.ylabel('Stock Price')\n",
    "plt.title('Actual vs Predicted Stock Prices for January 2024')\n",
    "plt.legend()\n",
    "plt.grid(True)\n",
    "plt.show()\n"
   ]
  },
  {
   "cell_type": "markdown",
   "metadata": {},
   "source": [
    "![](./images/before.jpg)"
   ]
  },
  {
   "cell_type": "markdown",
   "metadata": {},
   "source": [
    "### What if we had the best combination of columns?"
   ]
  },
  {
   "cell_type": "markdown",
   "metadata": {},
   "source": [
    "``` py\n",
    "# Prepare the data\n",
    "columns_to_consider = Feature_list = ['RSI','EMA_fast','EMA_slow','MACD','Signal_Line','Direction','OBV']\n",
    "best_rmse = float('inf')  # Initialize a large RMSE value\n",
    "best_combination = None\n",
    "best_predictions = None\n",
    "final_dataframe = None\n",
    "\n",
    "# Iterate over all possible feature combinations\n",
    "\n",
    "for r in tqdm(range(1, len(columns_to_consider) + 1), desc=\"Feature Set Size\"):  # Combinations of size 1 to n\n",
    "    for combination in itertools.combinations(columns_to_consider, r):\n",
    "        # Select the current combination of features\n",
    "        selected_features = list(combination)\n",
    "        X_train_subset = X_train[selected_features]\n",
    "        X_test_subset = X_test[selected_features]\n",
    "\n",
    "        # Train the Random Forest model\n",
    "        model = RandomForestRegressor(n_estimators=100, random_state=42)\n",
    "        model.fit(X_train_subset, y_train)\n",
    "\n",
    "        # Make predictions for January 2024\n",
    "        predictions = model.predict(X_test_subset)\n",
    "\n",
    "        # Evaluate RMSE if actual prices are available\n",
    "        if 'Close' in test_data.columns:\n",
    "            y_test = test_data['Close']\n",
    "            rmse = root_mean_squared_error(y_test, predictions)\n",
    "\n",
    "            # Update the best combination if the RMSE improves\n",
    "            if rmse < best_rmse:\n",
    "                best_rmse = rmse\n",
    "                best_combination = selected_features\n",
    "                best_predictions = predictions\n",
    "                final_dataframe = X_train_subset  # Save the DataFrame with selected features\n",
    "\n",
    "# Print the best results\n",
    "print(f\"Best RMSE: {best_rmse}\")\n",
    "print(f\"Best Feature Combination: {best_combination}\")\n",
    "\n",
    "# Save predictions\n",
    "pd.DataFrame({'Date': test_data['Date'], 'Predicted_Close': best_predictions}).to_csv('predictions.csv', index=False)\n",
    "```"
   ]
  },
  {
   "cell_type": "markdown",
   "metadata": {},
   "source": [
    "```py       \n",
    "\n",
    "with open('best_combination.pkl', 'wb') as f:\n",
    "    pickle.dump(best_combination, f)\n",
    "\n",
    "with open('best_predictions.pkl', 'wb') as f:\n",
    "    pickle.dump(best_predictions, f)\n",
    "\n",
    "```    "
   ]
  }
 ],
 "metadata": {
  "kernelspec": {
   "display_name": "sp500",
   "language": "python",
   "name": "python3"
  },
  "language_info": {
   "codemirror_mode": {
    "name": "ipython",
    "version": 3
   },
   "file_extension": ".py",
   "mimetype": "text/x-python",
   "name": "python",
   "nbconvert_exporter": "python",
   "pygments_lexer": "ipython3",
   "version": "3.12.7"
  }
 },
 "nbformat": 4,
 "nbformat_minor": 2
}
