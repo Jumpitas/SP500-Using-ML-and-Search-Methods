{
 "cells": [
  {
   "cell_type": "markdown",
   "id": "ebd68121-6ba0-477a-84c5-72f1f21169c4",
   "metadata": {},
   "source": [
    "# Montecarlo Simulations\n",
    "\n",
    "This notebook will conduct the procedure for the **montecarlo** simulations, that simulate different random alternatives.\n",
    "\n",
    "We will vary:\n",
    "- amount of stocks bought day X (max 100);\n",
    "- number of different stock tickers for the day;\n",
    "- distribution of the day bought stocks for the different tickers.\n",
    "\n",
    "**We will assume that we can only buy stocks, and not sell, to begin with.**\n",
    "\n",
    "To decide which stocks can be bought at a certain day, we will use the LSTM predictions, and ..."
   ]
  },
  {
   "cell_type": "markdown",
   "id": "549aa00b-44ed-47ac-a59b-de54b7fb02a8",
   "metadata": {},
   "source": [
    "## What stocks to buy on a certain day?\n",
    "\n",
    "The result of the model prediction will be organized on a dataframe with the following format\n",
    "\n",
    "| Date       | AAPL | MSFT | META | GOOG | ... |\n",
    "|------------|------|------|------|------|-----|\n",
    "| Jan 1st    |      |      |      |      |     |\n",
    "| Jan 2nd    |      |      |      |      |     |\n",
    "| Jan 3rd    |      |      |      |      |     |\n",
    "| ...        |      |      |      |      |     |\n",
    "\n",
    "In the blank spaces, can be 3 different attributes:\n",
    "\n",
    "- **buy** signal: the model predicted a rise in the upcoming days;\n",
    "- **sell** signal: the model predicted a decrease in the following days;\n",
    "- **hold** signal: the model predicted either no change, or a change too small to buy/sell, considering a threshold defined on the other notebook."
   ]
  },
  {
   "cell_type": "markdown",
   "id": "5b1e3bd1-e89f-4237-8dcb-6044167fd687",
   "metadata": {},
   "source": [
    "## Montecarlo Planification\n",
    "\n",
    "The algorithm will have different steps, and each simulation is described in the pseudocode that follows:\n",
    "\n",
    "```py\n",
    "inventory = {}\n",
    "total_value = 10000\n",
    "\n",
    "for day in month:\n",
    "    diff_ticker_amount = random integer (a, b)                 # Generate a random number of stocks to buy total\n",
    "    buy_tickers = get_buy_tickers()                  # Get the tickers to buy\n",
    "    buy_distrib = get_buy_distribution(buy_tickers)  # Get the distribution of stocks to buy\n",
    "    fees = size(buy_distrib)                         # Calculate fees based on the number of different stocks bought\n",
    "    update_inventory(buy_distrib)                    # Update the inventory with the distribution\n",
    "```"
   ]
  },
  {
   "cell_type": "markdown",
   "id": "bec82f30-e123-45fa-b9fe-92eb311553c2",
   "metadata": {},
   "source": [
    "## Auxiliar methods\n",
    "\n",
    "First of all, the imports required."
   ]
  },
  {
   "cell_type": "code",
   "execution_count": 9,
   "id": "bae88a61-5ac4-47fb-863c-afc56f433b83",
   "metadata": {},
   "outputs": [],
   "source": [
    "import random\n",
    "from tqdm import tqdm\n",
    "import time\n",
    "import os\n",
    "import pandas as pd\n",
    "import yfinance as yf\n",
    "import seaborn as sns\n",
    "import matplotlib.pyplot as plt"
   ]
  },
  {
   "cell_type": "markdown",
   "id": "f425d9b9-a11e-4db3-83e8-578ca8dcd55b",
   "metadata": {},
   "source": [
    "### Distribution\n",
    "To allocate a certain number of stocks to each of the ticker buy list, we create the method `distribute_stocks(total_no, ticker_list)` that returns a dictionary that link to each stock in the buy list the number to buy (on a certain day).\n",
    "\n",
    "We established a minimum of 1 stocks minimum for each ticker on the buy list, but that can be changed if needed."
   ]
  },
  {
   "cell_type": "code",
   "execution_count": 10,
   "id": "90ee6936-8590-4880-9362-c577f5ecc70f",
   "metadata": {},
   "outputs": [],
   "source": [
    "def distribute_stocks(no_stock, tickers, minimum_no = 1):\n",
    "    # Start by allocating the minimum of 1 stocks to each ticker\n",
    "    allocation = {ticker: minimum_no for ticker in tickers}\n",
    "    remaining_stocks = no_stock - minimum_no * len(tickers)\n",
    "\n",
    "    # Distribute the remaining stocks randomly\n",
    "    while remaining_stocks > 0:\n",
    "        ticker = random.choice(tickers)\n",
    "        allocation[ticker] += 1\n",
    "        remaining_stocks -= 1\n",
    "\n",
    "    return allocation"
   ]
  },
  {
   "cell_type": "markdown",
   "id": "f9c21d59-0b98-4fb9-b115-e5cc559ef3a3",
   "metadata": {},
   "source": [
    "We can test the method in the cell below."
   ]
  },
  {
   "cell_type": "code",
   "execution_count": 11,
   "id": "c4a3088b-d8cd-42d5-98b0-6240481c1969",
   "metadata": {},
   "outputs": [
    {
     "data": {
      "text/plain": [
       "{'AAPL': 17, 'MSFT': 22, 'GOOG': 11}"
      ]
     },
     "execution_count": 11,
     "metadata": {},
     "output_type": "execute_result"
    }
   ],
   "source": [
    "tickers = [\"AAPL\", \"MSFT\", \"GOOG\"]\n",
    "no_stock = 50\n",
    "result = distribute_stocks(no_stock, tickers)\n",
    "result"
   ]
  },
  {
   "cell_type": "markdown",
   "id": "668b2567-bc00-400e-bdfc-2f4f597b0507",
   "metadata": {},
   "source": [
    "### Get Buy Tickers\n",
    "\n",
    "To get the list of tickers to buy, for a specific date, we need to, given the dataframe (formatted as mentioned), get all the columns whose signal in the date row is a buy.\n",
    "\n",
    "For testing we will use a more normalized dummy csv."
   ]
  },
  {
   "cell_type": "code",
   "execution_count": 12,
   "id": "9c2b84f6-edb8-4ce5-aef7-2ecd622a428c",
   "metadata": {},
   "outputs": [
    {
     "data": {
      "text/html": [
       "<div>\n",
       "<style scoped>\n",
       "    .dataframe tbody tr th:only-of-type {\n",
       "        vertical-align: middle;\n",
       "    }\n",
       "\n",
       "    .dataframe tbody tr th {\n",
       "        vertical-align: top;\n",
       "    }\n",
       "\n",
       "    .dataframe thead th {\n",
       "        text-align: right;\n",
       "    }\n",
       "</style>\n",
       "<table border=\"1\" class=\"dataframe\">\n",
       "  <thead>\n",
       "    <tr style=\"text-align: right;\">\n",
       "      <th></th>\n",
       "      <th>Date</th>\n",
       "      <th>AAPL</th>\n",
       "      <th>MSFT</th>\n",
       "      <th>GOOG</th>\n",
       "      <th>META</th>\n",
       "      <th>TSLA</th>\n",
       "      <th>AMZN</th>\n",
       "      <th>NFLX</th>\n",
       "      <th>NVDA</th>\n",
       "      <th>AMD</th>\n",
       "      <th>INTC</th>\n",
       "      <th>SPGI</th>\n",
       "      <th>CRM</th>\n",
       "      <th>ADBE</th>\n",
       "      <th>PYPL</th>\n",
       "      <th>SMCI</th>\n",
       "    </tr>\n",
       "  </thead>\n",
       "  <tbody>\n",
       "    <tr>\n",
       "      <th>0</th>\n",
       "      <td>2024-01-02</td>\n",
       "      <td>Buy</td>\n",
       "      <td>Hold</td>\n",
       "      <td>Sell</td>\n",
       "      <td>Buy</td>\n",
       "      <td>Hold</td>\n",
       "      <td>Sell</td>\n",
       "      <td>Buy</td>\n",
       "      <td>Sell</td>\n",
       "      <td>Hold</td>\n",
       "      <td>Buy</td>\n",
       "      <td>Hold</td>\n",
       "      <td>Sell</td>\n",
       "      <td>Buy</td>\n",
       "      <td>Hold</td>\n",
       "      <td>Sell</td>\n",
       "    </tr>\n",
       "    <tr>\n",
       "      <th>1</th>\n",
       "      <td>2024-01-03</td>\n",
       "      <td>Sell</td>\n",
       "      <td>Buy</td>\n",
       "      <td>Hold</td>\n",
       "      <td>Sell</td>\n",
       "      <td>Buy</td>\n",
       "      <td>Hold</td>\n",
       "      <td>Buy</td>\n",
       "      <td>Sell</td>\n",
       "      <td>Buy</td>\n",
       "      <td>Hold</td>\n",
       "      <td>Sell</td>\n",
       "      <td>Buy</td>\n",
       "      <td>Hold</td>\n",
       "      <td>Sell</td>\n",
       "      <td>Buy</td>\n",
       "    </tr>\n",
       "    <tr>\n",
       "      <th>2</th>\n",
       "      <td>2024-01-04</td>\n",
       "      <td>Hold</td>\n",
       "      <td>Sell</td>\n",
       "      <td>Buy</td>\n",
       "      <td>Hold</td>\n",
       "      <td>Sell</td>\n",
       "      <td>Buy</td>\n",
       "      <td>Hold</td>\n",
       "      <td>Buy</td>\n",
       "      <td>Sell</td>\n",
       "      <td>Buy</td>\n",
       "      <td>Hold</td>\n",
       "      <td>Sell</td>\n",
       "      <td>Buy</td>\n",
       "      <td>Hold</td>\n",
       "      <td>Sell</td>\n",
       "    </tr>\n",
       "    <tr>\n",
       "      <th>3</th>\n",
       "      <td>2024-01-05</td>\n",
       "      <td>Buy</td>\n",
       "      <td>Hold</td>\n",
       "      <td>Sell</td>\n",
       "      <td>Buy</td>\n",
       "      <td>Sell</td>\n",
       "      <td>Hold</td>\n",
       "      <td>Sell</td>\n",
       "      <td>Buy</td>\n",
       "      <td>Hold</td>\n",
       "      <td>Sell</td>\n",
       "      <td>Buy</td>\n",
       "      <td>Hold</td>\n",
       "      <td>Sell</td>\n",
       "      <td>Buy</td>\n",
       "      <td>Hold</td>\n",
       "    </tr>\n",
       "    <tr>\n",
       "      <th>4</th>\n",
       "      <td>2024-01-08</td>\n",
       "      <td>Sell</td>\n",
       "      <td>Buy</td>\n",
       "      <td>Hold</td>\n",
       "      <td>Hold</td>\n",
       "      <td>Buy</td>\n",
       "      <td>Hold</td>\n",
       "      <td>Buy</td>\n",
       "      <td>Hold</td>\n",
       "      <td>Sell</td>\n",
       "      <td>Buy</td>\n",
       "      <td>Hold</td>\n",
       "      <td>Sell</td>\n",
       "      <td>Hold</td>\n",
       "      <td>Buy</td>\n",
       "      <td>Sell</td>\n",
       "    </tr>\n",
       "  </tbody>\n",
       "</table>\n",
       "</div>"
      ],
      "text/plain": [
       "         Date  AAPL  MSFT  GOOG  META  TSLA  AMZN  NFLX  NVDA   AMD  INTC  \\\n",
       "0  2024-01-02   Buy  Hold  Sell   Buy  Hold  Sell   Buy  Sell  Hold   Buy   \n",
       "1  2024-01-03  Sell   Buy  Hold  Sell   Buy  Hold   Buy  Sell   Buy  Hold   \n",
       "2  2024-01-04  Hold  Sell   Buy  Hold  Sell   Buy  Hold   Buy  Sell   Buy   \n",
       "3  2024-01-05   Buy  Hold  Sell   Buy  Sell  Hold  Sell   Buy  Hold  Sell   \n",
       "4  2024-01-08  Sell   Buy  Hold  Hold   Buy  Hold   Buy  Hold  Sell   Buy   \n",
       "\n",
       "   SPGI   CRM  ADBE  PYPL  SMCI  \n",
       "0  Hold  Sell   Buy  Hold  Sell  \n",
       "1  Sell   Buy  Hold  Sell   Buy  \n",
       "2  Hold  Sell   Buy  Hold  Sell  \n",
       "3   Buy  Hold  Sell   Buy  Hold  \n",
       "4  Hold  Sell  Hold   Buy  Sell  "
      ]
     },
     "execution_count": 12,
     "metadata": {},
     "output_type": "execute_result"
    }
   ],
   "source": [
    "dummy_df = pd.read_csv('dummy_signals.csv')\n",
    "dummy_df.head()"
   ]
  },
  {
   "cell_type": "code",
   "execution_count": 13,
   "id": "505f13c8-562f-45f9-b5f2-53ebcb189e1c",
   "metadata": {},
   "outputs": [],
   "source": [
    "def get_buy_tickers(date, df):\n",
    "    # Filter the row corresponding to the given date\n",
    "    row = df[df['Date'] == date]\n",
    "    \n",
    "    if row.empty: # debug statement\n",
    "        raise ValueError(f\"No data found for date: {date}\")\n",
    "\n",
    "    buy_tickers = [ticker for ticker in df.columns[1:] if row[ticker].values[0] == 'Buy']\n",
    "    \n",
    "    return buy_tickers"
   ]
  },
  {
   "cell_type": "markdown",
   "id": "05ae3c65-b04a-4775-ae2a-77f024aead62",
   "metadata": {},
   "source": [
    "We can test the function once more, by choosing a random date. The method takes a dataframe as argument to ensure it can be used for different csv files, resultant of different models."
   ]
  },
  {
   "cell_type": "code",
   "execution_count": 14,
   "id": "1037d3f2-7277-4e74-859c-45fb2f9ce62d",
   "metadata": {},
   "outputs": [
    {
     "data": {
      "text/plain": [
       "['GOOG', 'AMZN', 'NVDA', 'INTC', 'ADBE']"
      ]
     },
     "execution_count": 14,
     "metadata": {},
     "output_type": "execute_result"
    }
   ],
   "source": [
    "get_buy_tickers(\"2024-01-04\", dummy_df)"
   ]
  },
  {
   "cell_type": "markdown",
   "id": "6fa4a056-0cea-4e03-8736-73585dd1e967",
   "metadata": {},
   "source": [
    "### Choose a random subset to buy\n",
    "\n",
    "From the list of stocks with buy signals, it's not optimal to buy all of them. Instead we choose a small number (3-10) of stocks to buy that day."
   ]
  },
  {
   "cell_type": "code",
   "execution_count": 15,
   "id": "4ddb7e69-e164-4c23-8a97-cb8237e1676c",
   "metadata": {},
   "outputs": [],
   "source": [
    "def choose_random_stocks(stocks, n):\n",
    "    # If the list has 0/1 stocks, return the list itself\n",
    "    if len(stocks) <= 1:\n",
    "        return stocks\n",
    "\n",
    "    # Guarantee that n doesn't exceed the number of stocks available\n",
    "    n = min(n, len(stocks))\n",
    "    \n",
    "    # Randomly select n stocks\n",
    "    return random.sample(stocks, n)\n"
   ]
  },
  {
   "cell_type": "markdown",
   "id": "43998886-a0ea-46dd-a7a0-ba60deba402d",
   "metadata": {},
   "source": [
    "To test, we define a list of random tickers, and guarantee it chooses correctly."
   ]
  },
  {
   "cell_type": "code",
   "execution_count": 16,
   "id": "efe686fa-ce60-4d98-ba13-a5e5dfd048db",
   "metadata": {},
   "outputs": [
    {
     "data": {
      "text/plain": [
       "['GOOG', 'ADBE', 'AMZN', 'TSLA', 'CRM', 'MSFT', 'AAPL', 'NVDA']"
      ]
     },
     "execution_count": 16,
     "metadata": {},
     "output_type": "execute_result"
    }
   ],
   "source": [
    "possible_stocks = [\n",
    "    \"AAPL\", \"MSFT\", \"GOOG\", \"META\", \"TSLA\",  \n",
    "    \"AMZN\", \"NFLX\", \"NVDA\", \"AMD\", \"INTC\",  \n",
    "    \"BABA\", \"CRM\", \"ADBE\", \"PYPL\", \"SQ\"\n",
    "]\n",
    "n = random.randint(3,10)\n",
    "\n",
    "selected_stocks = choose_random_stocks(possible_stocks, n)\n",
    "selected_stocks"
   ]
  },
  {
   "cell_type": "markdown",
   "id": "259e3ab7-e1f1-4301-a307-7560fb272b4d",
   "metadata": {},
   "source": [
    "### Update variables\n",
    "\n",
    "Now we just need to update the inventory, with the new stocks bought, as well as the money available, to which needs the removal of the cost of the stocks, and the fees.\n",
    "\n",
    "We will also define another methods to get the close price of a stock, for a given ticker and date, and we will store the total value (**balance + owned stocks**) to a dataframe, to later visualize the divergence of the random choices inherent to the algorithm.\n",
    "\n",
    "During the project, we will consider the close price of the day before the buy price for today, instead of the opening price."
   ]
  },
  {
   "cell_type": "markdown",
   "id": "5b8a45dc-0054-4e06-94c7-fccae9eb8d0f",
   "metadata": {},
   "source": [
    "#### Update inventory\n",
    "\n",
    "We can update the inventory with no restrictions, with the following method, that **returns the updated inventory** after a purchase."
   ]
  },
  {
   "cell_type": "code",
   "execution_count": 17,
   "id": "804b6862-57fa-4658-bfc2-43456ace22f9",
   "metadata": {},
   "outputs": [
    {
     "data": {
      "text/plain": [
       "{'AAPL': 15, 'MSFT': 10, 'GOOG': 2, 'NFLX': 2}"
      ]
     },
     "execution_count": 17,
     "metadata": {},
     "output_type": "execute_result"
    }
   ],
   "source": [
    "def update_inventory(inventory, purchase):\n",
    "    # Update inventory for the purchased stock\n",
    "    new_inventory = inventory.copy()\n",
    "    \n",
    "    for ticker, amount in purchase.items():\n",
    "        if ticker in new_inventory:\n",
    "            new_inventory[ticker] += amount\n",
    "        else:\n",
    "            new_inventory[ticker] = amount\n",
    "\n",
    "    return new_inventory\n",
    "\n",
    "example_inventory = {\"AAPL\": 10, \"MSFT\": 5, \"GOOG\": 2}\n",
    "example_purchase = {\"AAPL\": 5, \"MSFT\": 5, \"NFLX\": 2}\n",
    "\n",
    "updated_inventory = update_inventory(example_inventory, example_purchase)\n",
    "\n",
    "updated_inventory"
   ]
  },
  {
   "cell_type": "markdown",
   "id": "78f9561c-57f4-4039-bfd8-f582e9253ddc",
   "metadata": {},
   "source": [
    "#### Update balance\n",
    "\n",
    "We need to keep track of the balance and the inventory value, so we have a sense of performance during the algorithm. To get the closing price for a ticker and date we use the method below."
   ]
  },
  {
   "cell_type": "code",
   "execution_count": 18,
   "id": "77265ccf-72a4-46d8-8078-63674624821b",
   "metadata": {
    "scrolled": true
   },
   "outputs": [
    {
     "data": {
      "text/plain": [
       "181.91"
      ]
     },
     "execution_count": 18,
     "metadata": {},
     "output_type": "execute_result"
    }
   ],
   "source": [
    "clean_dir = \"./clean_csvs/\"\n",
    "\n",
    "def get_close_price(ticker, date):\n",
    "    # Build path to file\n",
    "    path = clean_dir + ticker + \".csv\"\n",
    "    df = pd.read_csv(path)\n",
    "    \n",
    "    price_row = df[(df['Date'] == date)]\n",
    "    \n",
    "    return round(float(price_row['Close'].values[0]), 2) # rounded to 2f\n",
    "\n",
    "get_close_price(\"AAPL\", \"2024-01-04\")"
   ]
  },
  {
   "cell_type": "markdown",
   "id": "3eae0435-e309-4314-920c-02106914f397",
   "metadata": {},
   "source": [
    "Using the method above, we can calculate the value of the inventory for a given date. \n",
    "\n",
    "The next method calculates the value of a dictionary on the format {Ticker: Qty}, that being a purchase or the inventory itself."
   ]
  },
  {
   "cell_type": "code",
   "execution_count": 19,
   "id": "1f8b96d1-a33e-4a6d-95ed-ce682c06386d",
   "metadata": {},
   "outputs": [
    {
     "data": {
      "text/plain": [
       "3934.88"
      ]
     },
     "execution_count": 19,
     "metadata": {},
     "output_type": "execute_result"
    }
   ],
   "source": [
    "def calculate_inventory_value(inventory, date):\n",
    "    total_value = 0.0\n",
    "    \n",
    "    for ticker, qty in inventory.items():\n",
    "        # Get the close price for the ticker on the specified date\n",
    "        close_price = get_close_price(ticker, date)\n",
    "        \n",
    "        # Calculate the value for the ticker and add to the total\n",
    "        total_value += close_price * qty\n",
    "    \n",
    "    return round(total_value, 2)\n",
    "\n",
    "example_inventory = {\"AAPL\": 10, \"MSFT\": 5, \"GOOG\": 2}\n",
    "example_date = \"2024-01-04\"\n",
    "\n",
    "calculate_inventory_value(example_inventory, example_date)"
   ]
  },
  {
   "cell_type": "markdown",
   "id": "587d7660-5707-43d9-9ba9-ca5c9e86c34e",
   "metadata": {},
   "source": [
    "Now we can implement a function that updates all variables and connects the concepts above. There are a lot of debug statements helpful for managing the code comprehension."
   ]
  },
  {
   "cell_type": "code",
   "execution_count": 20,
   "id": "ccd7f6f5-4abd-478d-a0af-73bcc875b5f0",
   "metadata": {},
   "outputs": [
    {
     "name": "stdout",
     "output_type": "stream",
     "text": [
      "Updated Inventory: {'AAPL': 15, 'MSFT': 10, 'GOOG': 2, 'NFLX': 2} (merge of the two)\n",
      "Updated Inventory Value: 7633.47\n",
      "Updated Balance: 3298.41\n"
     ]
    }
   ],
   "source": [
    "def update(old_inventory, purchase, old_balance, buy_date):\n",
    "    # Inventory update\n",
    "    new_inventory = update_inventory(old_inventory, purchase)\n",
    "\n",
    "    # Inventory value update\n",
    "    new_inventory_value = calculate_inventory_value(new_inventory, buy_date)\n",
    "\n",
    "    # Calculate purchase price\n",
    "    purchase_price = calculate_inventory_value(purchase, buy_date)\n",
    "    #print(f\"Initial purchase price: {purchase_price}\")  \n",
    "\n",
    "    fee = len(purchase.keys())  # 1$ per ticker\n",
    "    #print(f\"Fee for purchase: {fee}\")  \n",
    "    \n",
    "    # Subtract the fee from the purchase price\n",
    "    purchase_price += fee \n",
    "    \n",
    "    #print(f\"Purchase price after fee: {purchase_price}\")  # Debugging stepsw2\n",
    "    \n",
    "    # Calculate new balance\n",
    "    new_balance = old_balance - purchase_price\n",
    "\n",
    "    return new_inventory, new_inventory_value, new_balance\n",
    "\n",
    "# Example Usage\n",
    "example_balance = 7000\n",
    "example_inventory = {\"AAPL\": 10, \"MSFT\": 5, \"GOOG\": 2}\n",
    "example_purchase = {\"AAPL\": 5, \"MSFT\": 5, \"NFLX\": 2}\n",
    "example_date = \"2024-01-04\"\n",
    "\n",
    "a, b, c = update(example_inventory, example_purchase, example_balance, example_date)\n",
    "print(f\"Updated Inventory: {a} (merge of the two)\\nUpdated Inventory Value: {b}\\nUpdated Balance: {c}\")\n"
   ]
  },
  {
   "cell_type": "markdown",
   "id": "35264f56-bfbc-4b72-b603-fce76260734f",
   "metadata": {},
   "source": [
    "## Implementation\n",
    "\n",
    "Following the methodology above described and the pseudocode, we can make a simulation for one day. We defined the minimum amount of stock to be bought in one day as 50, but can be changed if needed.\n",
    "\n",
    "The procedure is the following:\n",
    "- Get the list of tickers with a buy signal for the day,\n",
    "- Get a subset of those, of size stock_no(nax), TBA,\n",
    "- Buy some stocks total, chosen of that subset,\n",
    "- Update variables.\n"
   ]
  },
  {
   "cell_type": "code",
   "execution_count": 21,
   "id": "c5f605ac-7911-4530-8739-24b86ce80447",
   "metadata": {},
   "outputs": [
    {
     "name": "stdout",
     "output_type": "stream",
     "text": [
      "Updated Inventory: {'NVDA': 1, 'ADBE': 2, 'AMZN': 1}\n",
      "Updated Inventory Value: 1326.67\n",
      "Updated Balance: 8670\n"
     ]
    }
   ],
   "source": [
    "inventory = {}\n",
    "balance = 10000\n",
    "\n",
    "date = \"2024-01-04\"\n",
    "diff_ticker_amount = 3   \n",
    "\n",
    "#print(diff_ticker_amount)\n",
    "buy_tickers = get_buy_tickers(date, dummy_df) \n",
    "#print(buy_tickers)\n",
    "list_buy_stocks = choose_random_stocks(buy_tickers, diff_ticker_amount)\n",
    "#print(list_buy_stocks)\n",
    "purchase = distribute_stocks(random.randint(3,5), list_buy_stocks)  # Get the distribution of stocks to buy\n",
    "a, b, c = update(inventory, purchase, balance, date)\n",
    "print(f\"Updated Inventory: {a}\\nUpdated Inventory Value: {b}\\nUpdated Balance: {round(c)}\")\n"
   ]
  },
  {
   "cell_type": "markdown",
   "id": "c062689a-91ba-44e0-9bdb-685fc5ba823a",
   "metadata": {},
   "source": [
    "### Iteration through the month\n",
    "\n",
    "Now, we need to iterate through each row of the dataframe, and do the procedure."
   ]
  },
  {
   "cell_type": "code",
   "execution_count": 22,
   "id": "eb93dfb9-3321-4024-8446-ca835347b76d",
   "metadata": {
    "scrolled": true
   },
   "outputs": [
    {
     "name": "stdout",
     "output_type": "stream",
     "text": [
      "Date: 2024-01-02\n",
      "Purchase: {'ADBE': 1, 'INTC': 1, 'META': 1}\n",
      "Updated Inventory: {'ADBE': 1, 'INTC': 1, 'META': 1}\n",
      "Updated Inventory Value: 974.16\n",
      "Updated Balance: 99023\n",
      "\n",
      "Date: 2024-01-03\n",
      "Purchase: {'CRM': 1, 'AMD': 2, 'TSLA': 1}\n",
      "Updated Inventory: {'ADBE': 1, 'INTC': 1, 'META': 1, 'CRM': 1, 'AMD': 2, 'TSLA': 1}\n",
      "Updated Inventory Value: 1724.24\n",
      "Updated Balance: 98259\n",
      "\n",
      "Date: 2024-01-04\n",
      "Purchase: {'GOOG': 1, 'INTC': 1, 'ADBE': 1}\n",
      "Updated Inventory: {'ADBE': 2, 'INTC': 2, 'META': 1, 'CRM': 1, 'AMD': 2, 'TSLA': 1, 'GOOG': 1}\n",
      "Updated Inventory Value: 2474.19\n",
      "Updated Balance: 97504\n",
      "\n",
      "Date: 2024-01-05\n",
      "Purchase: {'PYPL': 1, 'META': 2, 'AAPL': 1}\n",
      "Updated Inventory: {'ADBE': 2, 'INTC': 2, 'META': 3, 'CRM': 1, 'AMD': 2, 'TSLA': 1, 'GOOG': 1, 'PYPL': 1, 'AAPL': 1}\n",
      "Updated Inventory Value: 3423.29\n",
      "Updated Balance: 96556\n",
      "\n",
      "Date: 2024-01-08\n",
      "Purchase: {'NFLX': 1, 'PYPL': 1, 'TSLA': 1}\n",
      "Updated Inventory: {'ADBE': 2, 'INTC': 2, 'META': 3, 'CRM': 1, 'AMD': 2, 'TSLA': 2, 'GOOG': 1, 'PYPL': 2, 'AAPL': 1, 'NFLX': 1}\n",
      "Updated Inventory Value: 4302.71\n",
      "Updated Balance: 95766\n",
      "\n",
      "Date: 2024-01-09\n",
      "Purchase: {'SPGI': 1, 'PYPL': 1, 'NVDA': 1}\n",
      "Updated Inventory: {'ADBE': 2, 'INTC': 2, 'META': 3, 'CRM': 1, 'AMD': 2, 'TSLA': 2, 'GOOG': 1, 'PYPL': 3, 'AAPL': 1, 'NFLX': 1, 'SPGI': 1, 'NVDA': 1}\n",
      "Updated Inventory Value: 4846.82\n",
      "Updated Balance: 95218\n",
      "\n",
      "Date: 2024-01-10\n",
      "Purchase: {'MSFT': 1, 'AAPL': 3, 'SMCI': 1}\n",
      "Updated Inventory: {'ADBE': 2, 'INTC': 2, 'META': 3, 'CRM': 1, 'AMD': 2, 'TSLA': 2, 'GOOG': 1, 'PYPL': 3, 'AAPL': 4, 'NFLX': 1, 'SPGI': 1, 'NVDA': 1, 'MSFT': 1, 'SMCI': 1}\n",
      "Updated Inventory Value: 5871.76\n",
      "Updated Balance: 94240\n",
      "\n",
      "Date: 2024-01-11\n",
      "Purchase: {'NVDA': 1, 'ADBE': 1, 'TSLA': 2}\n",
      "Updated Inventory: {'ADBE': 3, 'INTC': 2, 'META': 3, 'CRM': 1, 'AMD': 2, 'TSLA': 4, 'GOOG': 1, 'PYPL': 3, 'AAPL': 4, 'NFLX': 1, 'SPGI': 1, 'NVDA': 2, 'MSFT': 1, 'SMCI': 1}\n",
      "Updated Inventory Value: 6998.16\n",
      "Updated Balance: 93130\n",
      "\n",
      "Date: 2024-01-12\n",
      "Purchase: {'META': 3, 'AMD': 1, 'CRM': 1}\n",
      "Updated Inventory: {'ADBE': 3, 'INTC': 2, 'META': 6, 'CRM': 2, 'AMD': 3, 'TSLA': 4, 'GOOG': 1, 'PYPL': 3, 'AAPL': 4, 'NFLX': 1, 'SPGI': 1, 'NVDA': 2, 'MSFT': 1, 'SMCI': 1}\n",
      "Updated Inventory Value: 8521.83\n",
      "Updated Balance: 91585\n",
      "\n",
      "Date: 2024-01-16\n",
      "Purchase: {'TSLA': 1, 'NFLX': 1, 'CRM': 1}\n",
      "Updated Inventory: {'ADBE': 3, 'INTC': 2, 'META': 6, 'CRM': 3, 'AMD': 3, 'TSLA': 5, 'GOOG': 1, 'PYPL': 3, 'AAPL': 4, 'NFLX': 2, 'SPGI': 1, 'NVDA': 2, 'MSFT': 1, 'SMCI': 1}\n",
      "Updated Inventory Value: 9463.9\n",
      "Updated Balance: 90612\n",
      "\n",
      "--------------------------------------------\n",
      "Final Balance: 90611.54\n",
      "Final Inventory Value: 9463.9\n",
      "Total: 100075.43999999999\n"
     ]
    }
   ],
   "source": [
    "# Initial values\n",
    "inventory = {}\n",
    "balance = 100000\n",
    "\n",
    "# Iterate through the DataFrame\n",
    "for index, row in dummy_df.iterrows():\n",
    "    date = row[\"Date\"]\n",
    "    #print(date)\n",
    "\n",
    "    # Generate stock number and determine tickers to buy\n",
    "    diff_ticker_amount = 3  # Fixed stock number\n",
    "    buy_tickers = get_buy_tickers(date, dummy_df)  # Get tickers with \"Buy\" signal\n",
    "    list_buy_stocks = choose_random_stocks(buy_tickers, diff_ticker_amount)  # Random selection\n",
    "    purchase = distribute_stocks(random.randint(3, 5), list_buy_stocks)  # Distribute stock purchases\n",
    "\n",
    "    # Update inventory, value, and balance\n",
    "    inventory, inventory_value, balance = update(inventory, purchase, balance, date)\n",
    "\n",
    "    # Print results for this iteration\n",
    "    print(f\"Date: {date}\")\n",
    "    print(f\"Purchase: {purchase}\")\n",
    "    print(f\"Updated Inventory: {inventory}\")\n",
    "    print(f\"Updated Inventory Value: {inventory_value}\")\n",
    "    print(f\"Updated Balance: {round(balance)}\\n\")\n",
    "\n",
    "    #sleep(1)\n",
    "\n",
    "print(f\"--------------------------------------------\\nFinal Balance: {balance}\")\n",
    "print(f\"Final Inventory Value: {inventory_value}\")\n",
    "print(f\"Total: {balance+inventory_value}\")\n",
    "\n"
   ]
  },
  {
   "cell_type": "markdown",
   "id": "67c1f766-ae97-4d88-bb3e-8071b5c8ac31",
   "metadata": {},
   "source": [
    "### Simulations\n",
    "\n",
    "We can put all inside a function, and call that function ***n times***, corresponding to n simulations. We also considered to write a log file, and put exceptions for the dates not matching with the supposed. \n",
    "\n",
    "For that we define the method **simulation()** that simulates one full iteration through the dataframe, considering as attributes the initial money available. the balance and dataframe.\n",
    "\n",
    "Based on an early attempt of montecarlo for the individual stock, in the `tesla_normalization_montecarlo.ipynb` file, we will use a [**pd.Series()**](https://pandas.pydata.org/docs/reference/api/pandas.Series.html) to store the values, to then plot some graphs."
   ]
  },
  {
   "cell_type": "code",
   "execution_count": 23,
   "id": "4ac663e3-88ad-447d-844d-b9eddc165fce",
   "metadata": {},
   "outputs": [],
   "source": [
    "def simulation(df, iteration, inventory, balance=10000, min_distr = 3, max_distr = 5, diff_ticker_amount=3):  \n",
    "\n",
    "    log_file_path = \"log.txt\"\n",
    "    \n",
    "    # Open the log file in append mode\n",
    "    daily_series = pd.Series(dtype=float)\n",
    "    \n",
    "    with open(log_file_path, \"a\") as log_file:\n",
    "        log_file.write(f\"\\n{'=' * 50}\\n\")  # Top border of the box\n",
    "        log_file.write(f\"|{'Iteration  ' + str(iteration):^50}|\\n\")  # Center the text with padding\n",
    "        log_file.write(f\"{'=' * 50}\\n\")  # Bottom border of the box\n",
    "\n",
    "\n",
    "        for index, row in df.iterrows():\n",
    "            date = row[\"Date\"]\n",
    "                        \n",
    "            try:\n",
    "                # Generate stock number and determine tickers to buy\n",
    "                buy_tickers = get_buy_tickers(date, df)\n",
    "                if buy_tickers == []: # if no tickers with a buying signal, need exception\n",
    "                    log_file.write(f\"No stocks with a buying signal for the date {date}.\\n\")\n",
    "\n",
    "                    # create variables the same way with null purchase\n",
    "                    purchase = {}\n",
    "                    inventory, inventory_value, balance = update(inventory, purchase, balance, date)\n",
    "\n",
    "                    daily_series[index] = balance + inventory_value\n",
    "                else:\n",
    "                    no_money = True\n",
    "                    for attempt in range(10): # 10 chances to find a viable purchase\n",
    "                        list_buy_stocks = choose_random_stocks(buy_tickers, diff_ticker_amount)\n",
    "                        purchase = distribute_stocks(random.randint(min_distr, max_distr), list_buy_stocks)\n",
    "                        if calculate_inventory_value(purchase, date) < balance-diff_ticker_amount: # fees included \n",
    "                            no_money = False\n",
    "                            break # can buy \n",
    "                        else:\n",
    "                            no_money = True\n",
    "                            log_file.write(f\"{attempt+1} failed attempt for a purchase for {date}.\\n\\n\")\n",
    "\n",
    "                            purchase = {}\n",
    "                            inventory, inventory_value, balance = update(inventory, purchase, balance, date)\n",
    "        \n",
    "                            daily_series[index] = balance + inventory_value\n",
    "                                \n",
    "                    # Update inventory, value, and balance\n",
    "                    inventory, inventory_value, balance = update(inventory, purchase, balance, date)\n",
    "        \n",
    "                    # Write results for this iteration to log file\n",
    "                    log_file.write(f\"\\nDate: {date}\\n\")\n",
    "                    log_file.write(f\"Available (with buy signal): {buy_tickers}\\n\")\n",
    "                    log_file.write(f\"Purchase: {purchase}\\n\")\n",
    "                    log_file.write(f\"Updated Inventory: {inventory}\\n\")\n",
    "                    log_file.write(f\"Updated Inventory Value: {inventory_value}\\n\")\n",
    "                    log_file.write(f\"Updated Balance: {round(balance)}\\n\\n\")\n",
    "    \n",
    "                    # append to series\n",
    "                    daily_series[index] = balance + inventory_value\n",
    "                \n",
    "    \n",
    "            except ValueError as e:\n",
    "                log_file.write(f\"Error processing data for date {date}: {e}\\n\\n\")\n",
    "\n",
    "        log_file.write(\"--------------------------------------------------------------------------------------\\n\")\n",
    "\n",
    "    return inventory, round(balance + inventory_value), daily_series\n",
    "\n",
    "log_file_path = \"log.txt\"\n",
    "\n",
    "# restart the log\n",
    "with open(log_file_path, \"w\") as log_file:\n",
    "    log_file.write(\"\")\n",
    "    \n",
    "#simulation(dummy_df, 0, {}, 100000)\n"
   ]
  },
  {
   "cell_type": "markdown",
   "id": "c4764de2-c6ca-4d21-a432-2b64aa60963b",
   "metadata": {},
   "source": [
    "Now we can put it inside a \"for i in range()\" cycle, to simulate the number of simulations, and in the end keep the best one.\n",
    "\n",
    "We will use `tqdm` module to add a loading bar, and use the `time` module to evaluate the final running time."
   ]
  },
  {
   "cell_type": "code",
   "execution_count": 24,
   "id": "0d1250cb-27d4-4521-87dd-9d4611b3dfb3",
   "metadata": {},
   "outputs": [],
   "source": [
    "def montecarlo(df, no_iterations, balance=10000, min_distr=3, max_distr=5, diff_ticker_amount=3):\n",
    "    results = pd.DataFrame()\n",
    "    # Initialize baseline values\n",
    "    best_inv = {}\n",
    "    best_value = -1\n",
    "    \n",
    "    # Measure total runtime\n",
    "    start = time.time()\n",
    "    \n",
    "    # Add tqdm for progress bar\n",
    "    for iteration in tqdm(range(no_iterations), desc=\"Running Simulations\"):\n",
    "        # Perform the simulation\n",
    "        i, v, daily_series = simulation(df, iteration+1, {}, balance, min_distr, max_distr, diff_ticker_amount)\n",
    "\n",
    "        results[f\"Simulation_{iteration}\"] = daily_series.values\n",
    "        \n",
    "        if v > best_value:\n",
    "            best_value = v\n",
    "            best_inv = i\n",
    "        \n",
    "        \n",
    "    end = time.time()\n",
    "    total_time = end - start\n",
    "\n",
    "    return total_time, best_inv, best_value, results"
   ]
  },
  {
   "cell_type": "markdown",
   "id": "65de4d0d-bc5a-4bee-942c-aef9d4b60db6",
   "metadata": {},
   "source": [
    "## Mutable Arguments for Montecarlo Simulations\n",
    "\n",
    "Now, we will recap all the arguments mutable for the montecarlo algorithm:\n",
    "\n",
    "- **no_iterations**: number of simulations of the algorithm.\n",
    "- **balance**: initial balance for the user (default is 10000).\n",
    "- **min_distr** and **max_distr**: the choice of how many stocks total is bought in a given day, we use *random.randint(min_distr, max_distr)* to decide (default is to buy 3 to 5 per day).\n",
    "- **diff_ticker_amount**: max amount of different tickers in a day. Let's say 10 tickers have for a day X, a buy signal. Then, we choose diff_ticker_amount and then we distribute the quantity generated. Has to be **lower or equal than min_distr**. (default is 3)."
   ]
  },
  {
   "cell_type": "code",
   "execution_count": 25,
   "id": "d821ec2a-cb3f-404c-b424-9f7c1e85ebae",
   "metadata": {},
   "outputs": [
    {
     "name": "stderr",
     "output_type": "stream",
     "text": [
      "Running Simulations: 100%|████████████████████████| 5/5 [00:07<00:00,  1.45s/it]"
     ]
    },
    {
     "name": "stdout",
     "output_type": "stream",
     "text": [
      "Best (Final) Inventory: {'META': 2, 'MSFT': 1, 'AMZN': 1, 'NVDA': 4, 'INTC': 2, 'GOOG': 2, 'SMCI': 1, 'AMD': 1}\n",
      "Best Value: 2090\n",
      "Total Runtime: 7.28 seconds\n"
     ]
    },
    {
     "name": "stderr",
     "output_type": "stream",
     "text": [
      "\n"
     ]
    }
   ],
   "source": [
    "balance = 2000\n",
    "\n",
    "no_iterations = 5\n",
    "\n",
    "min_distr = 1\n",
    "max_distr = 2\n",
    "\n",
    "diff_ticker_amount = 1\n",
    "\n",
    "running_time, best_inventory, best_value, dummy_results = montecarlo(dummy_df, no_iterations, balance,\n",
    "                                                                     min_distr, max_distr, diff_ticker_amount) \n",
    "\n",
    "print(f\"Best (Final) Inventory: {best_inventory}\")\n",
    "print(f\"Best Value: {best_value}\")\n",
    "print(f\"Total Runtime: {running_time:.2f} seconds\")"
   ]
  },
  {
   "cell_type": "markdown",
   "id": "916de9f4-6bd7-4de0-8509-93ad6a9184c7",
   "metadata": {},
   "source": [
    "Now we can plot the different simulations, and see how the price of the assets, inventory and balance, floating through the days of simulation.\n",
    "\n",
    "**Disclaimer**: Dummy csv used, this plot is an example, and purely random."
   ]
  },
  {
   "cell_type": "code",
   "execution_count": 26,
   "id": "c6f46878-6d8a-4819-96ed-c8eaca5a086d",
   "metadata": {},
   "outputs": [
    {
     "data": {
      "image/png": "[encoded data removed]",
      "text/plain": [
       "<Figure size 1000x500 with 1 Axes>"
      ]
     },
     "metadata": {},
     "output_type": "display_data"
    }
   ],
   "source": [
    "plt.figure(figsize=(10,5))\n",
    "plt.plot(dummy_results)\n",
    "plt.ylabel('Value')\n",
    "plt.xlabel('Simulated days')\n",
    "plt.show()"
   ]
  },
  {
   "cell_type": "markdown",
   "id": "eadb50ae-3254-4101-9f26-e60449d6bc74",
   "metadata": {},
   "source": [
    "## LSTM\n",
    "\n",
    "We can finally, implement all this work, but not the dummy file, but for the dataset resultant of the LSTM.\n",
    "\n",
    "To summarise the process, we trained an LSTM for all the csvs mentioned and generated on the `report.ipynb`, and we did the following procedure:\n",
    "\n",
    "- Using [pd.pct_change()*](https://pandas.pydata.org/docs/reference/api/pandas.DataFrame.pct_change.html), we calculate the price flutuation for the stocks, for that given month, in percentage.\n",
    "- We selected an adjustable threshold for a percentage, to be significant enough to generate a buying signal. It's key that such threshold isn't too small (and captures insignificant variations), not too high that (so it doesn't capture any significant flutuation at all).\n",
    "- We generate the csv, following the same format as the one used above. "
   ]
  },
  {
   "cell_type": "markdown",
   "id": "edcb14b7-d4f8-4b6d-a340-ef5569c87a71",
   "metadata": {},
   "source": [
    "### 1% Threshold"
   ]
  },
  {
   "cell_type": "code",
   "execution_count": 27,
   "id": "269074c1-3d26-4a45-adc8-0a93b65340de",
   "metadata": {},
   "outputs": [
    {
     "data": {
      "text/html": [
       "<div>\n",
       "<style scoped>\n",
       "    .dataframe tbody tr th:only-of-type {\n",
       "        vertical-align: middle;\n",
       "    }\n",
       "\n",
       "    .dataframe tbody tr th {\n",
       "        vertical-align: top;\n",
       "    }\n",
       "\n",
       "    .dataframe thead th {\n",
       "        text-align: right;\n",
       "    }\n",
       "</style>\n",
       "<table border=\"1\" class=\"dataframe\">\n",
       "  <thead>\n",
       "    <tr style=\"text-align: right;\">\n",
       "      <th></th>\n",
       "      <th>Date</th>\n",
       "      <th>C</th>\n",
       "      <th>CLX</th>\n",
       "      <th>BIIB</th>\n",
       "      <th>HAL</th>\n",
       "      <th>PANW</th>\n",
       "      <th>TSLA</th>\n",
       "      <th>F</th>\n",
       "      <th>CBOE</th>\n",
       "      <th>TRMB</th>\n",
       "      <th>...</th>\n",
       "      <th>RMD</th>\n",
       "      <th>PCAR</th>\n",
       "      <th>AEE</th>\n",
       "      <th>NUE</th>\n",
       "      <th>CHTR</th>\n",
       "      <th>HWM</th>\n",
       "      <th>TJX</th>\n",
       "      <th>TMO</th>\n",
       "      <th>HIG</th>\n",
       "      <th>GNRC</th>\n",
       "    </tr>\n",
       "  </thead>\n",
       "  <tbody>\n",
       "    <tr>\n",
       "      <th>0</th>\n",
       "      <td>2024-01-02</td>\n",
       "      <td>Hold</td>\n",
       "      <td>Hold</td>\n",
       "      <td>Hold</td>\n",
       "      <td>Hold</td>\n",
       "      <td>Hold</td>\n",
       "      <td>Hold</td>\n",
       "      <td>Hold</td>\n",
       "      <td>Hold</td>\n",
       "      <td>Hold</td>\n",
       "      <td>...</td>\n",
       "      <td>Hold</td>\n",
       "      <td>Hold</td>\n",
       "      <td>Hold</td>\n",
       "      <td>Hold</td>\n",
       "      <td>Hold</td>\n",
       "      <td>Hold</td>\n",
       "      <td>Hold</td>\n",
       "      <td>Hold</td>\n",
       "      <td>Hold</td>\n",
       "      <td>Hold</td>\n",
       "    </tr>\n",
       "    <tr>\n",
       "      <th>1</th>\n",
       "      <td>2024-01-03</td>\n",
       "      <td>Buy</td>\n",
       "      <td>Hold</td>\n",
       "      <td>Hold</td>\n",
       "      <td>Hold</td>\n",
       "      <td>Hold</td>\n",
       "      <td>Hold</td>\n",
       "      <td>Sell</td>\n",
       "      <td>Hold</td>\n",
       "      <td>Hold</td>\n",
       "      <td>...</td>\n",
       "      <td>Hold</td>\n",
       "      <td>Hold</td>\n",
       "      <td>Hold</td>\n",
       "      <td>Hold</td>\n",
       "      <td>Hold</td>\n",
       "      <td>Hold</td>\n",
       "      <td>Hold</td>\n",
       "      <td>Hold</td>\n",
       "      <td>Hold</td>\n",
       "      <td>Hold</td>\n",
       "    </tr>\n",
       "    <tr>\n",
       "      <th>2</th>\n",
       "      <td>2024-01-04</td>\n",
       "      <td>Buy</td>\n",
       "      <td>Hold</td>\n",
       "      <td>Hold</td>\n",
       "      <td>Hold</td>\n",
       "      <td>Hold</td>\n",
       "      <td>Hold</td>\n",
       "      <td>Sell</td>\n",
       "      <td>Hold</td>\n",
       "      <td>Hold</td>\n",
       "      <td>...</td>\n",
       "      <td>Hold</td>\n",
       "      <td>Hold</td>\n",
       "      <td>Hold</td>\n",
       "      <td>Hold</td>\n",
       "      <td>Hold</td>\n",
       "      <td>Hold</td>\n",
       "      <td>Hold</td>\n",
       "      <td>Hold</td>\n",
       "      <td>Hold</td>\n",
       "      <td>Sell</td>\n",
       "    </tr>\n",
       "    <tr>\n",
       "      <th>3</th>\n",
       "      <td>2024-01-05</td>\n",
       "      <td>Buy</td>\n",
       "      <td>Hold</td>\n",
       "      <td>Hold</td>\n",
       "      <td>Hold</td>\n",
       "      <td>Hold</td>\n",
       "      <td>Hold</td>\n",
       "      <td>Hold</td>\n",
       "      <td>Hold</td>\n",
       "      <td>Hold</td>\n",
       "      <td>...</td>\n",
       "      <td>Hold</td>\n",
       "      <td>Hold</td>\n",
       "      <td>Hold</td>\n",
       "      <td>Hold</td>\n",
       "      <td>Hold</td>\n",
       "      <td>Hold</td>\n",
       "      <td>Hold</td>\n",
       "      <td>Hold</td>\n",
       "      <td>Hold</td>\n",
       "      <td>Sell</td>\n",
       "    </tr>\n",
       "    <tr>\n",
       "      <th>4</th>\n",
       "      <td>2024-01-08</td>\n",
       "      <td>Hold</td>\n",
       "      <td>Hold</td>\n",
       "      <td>Hold</td>\n",
       "      <td>Hold</td>\n",
       "      <td>Hold</td>\n",
       "      <td>Hold</td>\n",
       "      <td>Hold</td>\n",
       "      <td>Hold</td>\n",
       "      <td>Hold</td>\n",
       "      <td>...</td>\n",
       "      <td>Hold</td>\n",
       "      <td>Hold</td>\n",
       "      <td>Hold</td>\n",
       "      <td>Hold</td>\n",
       "      <td>Hold</td>\n",
       "      <td>Hold</td>\n",
       "      <td>Hold</td>\n",
       "      <td>Hold</td>\n",
       "      <td>Hold</td>\n",
       "      <td>Sell</td>\n",
       "    </tr>\n",
       "  </tbody>\n",
       "</table>\n",
       "<p>5 rows × 500 columns</p>\n",
       "</div>"
      ],
      "text/plain": [
       "         Date     C   CLX  BIIB   HAL  PANW  TSLA     F  CBOE  TRMB  ...  \\\n",
       "0  2024-01-02  Hold  Hold  Hold  Hold  Hold  Hold  Hold  Hold  Hold  ...   \n",
       "1  2024-01-03   Buy  Hold  Hold  Hold  Hold  Hold  Sell  Hold  Hold  ...   \n",
       "2  2024-01-04   Buy  Hold  Hold  Hold  Hold  Hold  Sell  Hold  Hold  ...   \n",
       "3  2024-01-05   Buy  Hold  Hold  Hold  Hold  Hold  Hold  Hold  Hold  ...   \n",
       "4  2024-01-08  Hold  Hold  Hold  Hold  Hold  Hold  Hold  Hold  Hold  ...   \n",
       "\n",
       "    RMD  PCAR   AEE   NUE  CHTR   HWM   TJX   TMO   HIG  GNRC  \n",
       "0  Hold  Hold  Hold  Hold  Hold  Hold  Hold  Hold  Hold  Hold  \n",
       "1  Hold  Hold  Hold  Hold  Hold  Hold  Hold  Hold  Hold  Hold  \n",
       "2  Hold  Hold  Hold  Hold  Hold  Hold  Hold  Hold  Hold  Sell  \n",
       "3  Hold  Hold  Hold  Hold  Hold  Hold  Hold  Hold  Hold  Sell  \n",
       "4  Hold  Hold  Hold  Hold  Hold  Hold  Hold  Hold  Hold  Sell  \n",
       "\n",
       "[5 rows x 500 columns]"
      ]
     },
     "execution_count": 27,
     "metadata": {},
     "output_type": "execute_result"
    }
   ],
   "source": [
    "df_lstm1 = pd.read_csv('./lstm_signal_cleanup/trading_signals_1pct.csv')\n",
    "df_lstm1.head()"
   ]
  },
  {
   "cell_type": "code",
   "execution_count": 29,
   "id": "b0ba11c9-23a7-46f4-8816-42dd0450eb9a",
   "metadata": {},
   "outputs": [
    {
     "name": "stderr",
     "output_type": "stream",
     "text": [
      "Running Simulations: 100%|████████████████████████| 2/2 [00:09<00:00,  4.57s/it]"
     ]
    },
    {
     "name": "stdout",
     "output_type": "stream",
     "text": [
      "Best (Final) Inventory: {'ANSS': 2, 'FE': 1, 'C': 2, 'ALL': 3, 'JNPR': 2, 'DAL': 2, 'CTLT': 1, 'PANW': 1, 'WDC': 2, 'SMCI': 1}\n",
      "Best Value: 2021\n",
      "Total Runtime: 9.14 seconds\n"
     ]
    },
    {
     "name": "stderr",
     "output_type": "stream",
     "text": [
      "\n"
     ]
    }
   ],
   "source": [
    "lstm1_results = pd.DataFrame() # reset results\n",
    "\n",
    "balance = 2000\n",
    "\n",
    "no_iterations = 2\n",
    "\n",
    "min_distr = 1\n",
    "max_distr = 2\n",
    "\n",
    "diff_ticker_amount = 1\n",
    "\n",
    "running_time, best_inventory, best_value, lstm1_results = montecarlo(df_lstm1, no_iterations, balance,\n",
    "                                                                     min_distr, max_distr, diff_ticker_amount) \n",
    "\n",
    "print(f\"Best (Final) Inventory: {best_inventory}\")\n",
    "print(f\"Best Value: {best_value}\")\n",
    "print(f\"Total Runtime: {running_time:.2f} seconds\")"
   ]
  },
  {
   "cell_type": "code",
   "execution_count": null,
   "id": "4c4a4f02-a3ad-4f2b-8c69-c8d5f4936080",
   "metadata": {
    "scrolled": true
   },
   "outputs": [],
   "source": [
    "plt.figure(figsize=(10,5))\n",
    "plt.plot(lstm_1pct_results)\n",
    "plt.ylabel('Value')\n",
    "plt.xlabel('Simulated days')\n",
    "plt.show()"
   ]
  },
  {
   "cell_type": "markdown",
   "id": "3634f854-8292-40ee-b035-58e97366c84e",
   "metadata": {},
   "source": [
    "### 0.5% Threshold"
   ]
  },
  {
   "cell_type": "code",
   "execution_count": null,
   "id": "8f901a6f-4da9-40ca-8335-3534fa7d02b0",
   "metadata": {},
   "outputs": [],
   "source": [
    "df_lstm05 = pd.read_csv('./lstm_signal_cleanup/trading_signals_05pct.csv')\n",
    "df_lstm05.head()"
   ]
  },
  {
   "cell_type": "code",
   "execution_count": null,
   "id": "37bfe23d-757c-4551-a681-cb75150ce4d4",
   "metadata": {},
   "outputs": [],
   "source": [
    "results = pd.DataFrame()\n",
    "\n",
    "running_time, best_inventory, best_value, lstm_05pct_results = montecarlo(df_lstm05, 5, balance=10000) \n",
    "\n",
    "print(f\"Best (Final) Inventory: {best_inventory}\")\n",
    "print(f\"Best Value: {best_value}\")\n",
    "print(f\"Total Runtime: {running_time:.2f} seconds\")\n",
    "\n",
    "#lstm_05pct_results.to_csv('results_lstm_0.5', index=False)"
   ]
  },
  {
   "cell_type": "code",
   "execution_count": null,
   "id": "7152703e-4024-4f14-9e9d-b5c1f4bd2f29",
   "metadata": {},
   "outputs": [],
   "source": [
    "plt.figure(figsize=(10,5))\n",
    "plt.plot(lstm_05pct_results)\n",
    "plt.ylabel('Value')\n",
    "plt.xlabel('Simulated days')\n",
    "plt.show()"
   ]
  },
  {
   "cell_type": "markdown",
   "id": "35577efe-c2e4-43e9-80cd-ba36d53d15e3",
   "metadata": {},
   "source": [
    "--- \n",
    "\n",
    "# What if we can sell?\n",
    "\n",
    "The LSTM generates sell signals as well. So we will assume that whenever we own a stock that has a **Sell** signal (expected to decrease), we will sell all the stocks we own of that ticker. \n",
    "\n",
    "To do so, we just need to adapt the *simulations()* method, and guarantee that for each day, it gets the Sell signals.\n",
    "\n",
    "We will now define a method *get_sell_signals()*, which does the referred. We will make a *remove_inventory()* that makes the \"subtraction\" of a dictionary to another."
   ]
  },
  {
   "cell_type": "code",
   "execution_count": 31,
   "id": "27881d0a-9655-420c-a647-761d677a73df",
   "metadata": {},
   "outputs": [],
   "source": [
    "def get_sell_tickers(date, df):\n",
    "    # Filter the row corresponding to the given date\n",
    "    row = df[df['Date'] == date]\n",
    "    \n",
    "    if row.empty: # debug statement\n",
    "        raise ValueError(f\"No data found for date: {date}\")\n",
    "\n",
    "    sell_tickers = [ticker for ticker in df.columns[1:] if row[ticker].values[0] == 'Sell']\n",
    "    \n",
    "    return sell_tickers"
   ]
  },
  {
   "cell_type": "code",
   "execution_count": 32,
   "id": "d4e2cd26-17aa-43ad-b434-e559384f001b",
   "metadata": {},
   "outputs": [],
   "source": [
    "def remove_inventory(inventory, selling_dict):\n",
    "    \n",
    "    updated_inventory = inventory.copy()\n",
    "    for ticker, qty_to_sell in selling_dict.items():\n",
    "        if ticker in updated_inventory:\n",
    "            updated_inventory[ticker] -= qty_to_sell\n",
    "            # Remove the stock if the quantity becomes zero or less\n",
    "            if updated_inventory[ticker] <= 0:\n",
    "                del updated_inventory[ticker]\n",
    "    return updated_inventory\n"
   ]
  },
  {
   "cell_type": "markdown",
   "id": "45126220-fad6-4def-b6a9-cd358dd5d754",
   "metadata": {},
   "source": [
    "We can adapt the simulation function now."
   ]
  },
  {
   "cell_type": "code",
   "execution_count": 33,
   "id": "eaaec523-4279-409a-af1f-c548ca3e1daf",
   "metadata": {},
   "outputs": [],
   "source": [
    "def simulation_sell(df, iteration, inventory, balance=10000, min_distr = 3, max_distr = 5, diff_ticker_amount=3):  \n",
    "\n",
    "    log_file_path = \"log_can_sell.txt\"\n",
    "    \n",
    "    # Open the log file in append mode\n",
    "    daily_series = pd.Series(dtype=float)\n",
    "    \n",
    "    with open(log_file_path, \"a\") as log_file:\n",
    "        log_file.write(f\"\\n{'=' * 50}\\n\")  # Top border of the box\n",
    "        log_file.write(f\"|{'Iteration  ' + str(iteration):^50}|\\n\")  # Center the text with padding\n",
    "        log_file.write(f\"{'=' * 50}\\n\")  # Bottom border of the box\n",
    "\n",
    "\n",
    "        for index, row in df.iterrows():\n",
    "            date = row[\"Date\"]\n",
    "                        \n",
    "            try:\n",
    "                log_file.write(f\"-\\n\")\n",
    "                ########################## Changes -> can sell ##########################\n",
    "                \n",
    "                sell_tickers = get_sell_tickers(date, df)\n",
    "                \n",
    "                selling_dict = {ticker: inventory[ticker] for ticker in sell_tickers if ticker in inventory}\n",
    "                \n",
    "                selling_proceeds = calculate_inventory_value(selling_dict, date) # calculate selling proceeds\n",
    "                inventory = remove_inventory(inventory, selling_dict)\n",
    "                balance += selling_proceeds - len(selling_dict.keys()) # fees\n",
    "\n",
    "                # Log selling activity\n",
    "                log_file.write(f\"\\nDate: {date}\\n\")\n",
    "                if selling_dict:\n",
    "                    log_file.write(f\"Selling: {selling_dict}\\n\")\n",
    "                    log_file.write(f\"Proceeds from Sale: {round(selling_proceeds)}\\n\")\n",
    "                else:\n",
    "                    log_file.write(f\"No stocks sold for {date}.\\n\")\n",
    "                \n",
    "                #########################################################################\n",
    "\n",
    "                # Generate stock number and determine tickers to buy\n",
    "                buy_tickers = get_buy_tickers(date, df)\n",
    "                if buy_tickers == []: # if no tickers with a buying signal, need exception\n",
    "                    log_file.write(f\"No stocks with a buying signal for the date {date}.\\n\")\n",
    "\n",
    "                    # create variables the same way with null purchase\n",
    "                    purchase = {}\n",
    "                    inventory, inventory_value, balance = update(inventory, purchase, balance, date)\n",
    "\n",
    "                    daily_series[index] = balance + inventory_value\n",
    "                else:\n",
    "                    no_money = True\n",
    "                    for attempt in range(10): # 10 chances to find a viable purchase\n",
    "                        list_buy_stocks = choose_random_stocks(buy_tickers, diff_ticker_amount)\n",
    "                        purchase = distribute_stocks(random.randint(min_distr, max_distr), list_buy_stocks)\n",
    "                        if calculate_inventory_value(purchase, date) < balance-diff_ticker_amount: # fees included \n",
    "                            no_money = False\n",
    "                            break # can buy \n",
    "                        else:\n",
    "                            no_money = True\n",
    "                            log_file.write(f\"{attempt+1} failed attempt for a purchase for {date}.\\n\\n\")\n",
    "\n",
    "                            purchase = {}\n",
    "                            inventory, inventory_value, balance = update(inventory, purchase, balance, date)\n",
    "        \n",
    "                            daily_series[index] = balance + inventory_value\n",
    "                                \n",
    "                    # Update inventory, value, and balance\n",
    "                    inventory, inventory_value, balance = update(inventory, purchase, balance, date)\n",
    "        \n",
    "                    # Write results for this iteration to log file\n",
    "                    log_file.write(f\"\\nDate: {date}\\n\")\n",
    "                    log_file.write(f\"Available (with buy signal): {buy_tickers}\\n\")\n",
    "                    log_file.write(f\"Purchase: {purchase}\\n\")\n",
    "                    log_file.write(f\"Updated Inventory: {inventory}\\n\")\n",
    "                    log_file.write(f\"Updated Inventory Value: {inventory_value}\\n\")\n",
    "                    log_file.write(f\"Updated Balance: {round(balance)}\\n\\n\")\n",
    "    \n",
    "                    # append to series\n",
    "                    daily_series[index] = balance + inventory_value\n",
    "                log_file.write(f\"-\\n\")\n",
    "                \n",
    "    \n",
    "            except ValueError as e:\n",
    "                log_file.write(f\"Error processing data for date {date}: {e}\\n\\n\")\n",
    "\n",
    "        log_file.write(\"--------------------------------------------------------------------------------------\\n\")\n",
    "\n",
    "    return inventory, round(balance + inventory_value), daily_series\n",
    "\n",
    "log_file_path = \"log_can_sell.txt\"\n",
    "\n",
    "# restart the log\n",
    "with open(log_file_path, \"w\") as log_file:\n",
    "    log_file.write(\"\")"
   ]
  },
  {
   "cell_type": "markdown",
   "id": "ff9258b4-c18a-4fd1-8a53-571b750fcef2",
   "metadata": {},
   "source": [
    "Now we can create another *montecarlo_sell()* that utilizes this new *simulations_sell()* method."
   ]
  },
  {
   "cell_type": "code",
   "execution_count": 34,
   "id": "530e0525-ebd2-4c9d-9888-5f9d2f027c49",
   "metadata": {},
   "outputs": [],
   "source": [
    "def montecarlo_sell(df, no_iterations, balance=10000, min_distr=3, max_distr=5, diff_ticker_amount=3):\n",
    "    results = pd.DataFrame()\n",
    "    # Initialize baseline values\n",
    "    best_inv = {}\n",
    "    best_value = -1\n",
    "    \n",
    "    # Measure total runtime\n",
    "    start = time.time()\n",
    "    \n",
    "    # Add tqdm for progress bar\n",
    "    for iteration in tqdm(range(no_iterations), desc=\"Running Simulations\"):\n",
    "        # Perform the simulation\n",
    "        i, v, daily_series = simulation_sell(df, iteration+1, {}, balance, min_distr, max_distr, diff_ticker_amount)\n",
    "\n",
    "        results[f\"Simulation_{iteration}\"] = daily_series.values\n",
    "        \n",
    "        if v > best_value:\n",
    "            best_value = v\n",
    "            best_inv = i\n",
    "        \n",
    "        \n",
    "    end = time.time()\n",
    "    total_time = end - start\n",
    "\n",
    "    return total_time, best_inv, best_value, results"
   ]
  },
  {
   "cell_type": "code",
   "execution_count": 36,
   "id": "fbbab197-c9e0-44c8-89b2-12bd613ec93d",
   "metadata": {},
   "outputs": [
    {
     "name": "stderr",
     "output_type": "stream",
     "text": [
      "Running Simulations: 100%|████████████████████████| 5/5 [00:17<00:00,  3.42s/it]"
     ]
    },
    {
     "name": "stdout",
     "output_type": "stream",
     "text": [
      "Best (Final) Inventory: {'K': 3, 'INTC': 2, 'C': 2, 'FE': 2, 'MRK': 5, 'MRNA': 4, 'ALL': 2, 'VTRS': 1, 'SMCI': 8, 'CTLT': 2, 'CRWD': 5, 'PANW': 2, 'NVDA': 3, 'AMD': 4, 'AMAT': 3, 'QCOM': 2, 'MU': 3, 'JBHT': 1, 'MTB': 1, 'WDC': 5, 'NFLX': 2, 'RTX': 2, 'SLB': 3, 'RL': 1}\n",
      "Best Value: 10301\n",
      "Total Runtime: 17.10 seconds\n"
     ]
    },
    {
     "name": "stderr",
     "output_type": "stream",
     "text": [
      "\n"
     ]
    }
   ],
   "source": [
    "lstm1_sell_results = pd.DataFrame() # reset results\n",
    "\n",
    "balance = 10000\n",
    "\n",
    "no_iterations = 5\n",
    "\n",
    "min_distr = 3\n",
    "max_distr = 5\n",
    "\n",
    "diff_ticker_amount = 2\n",
    "\n",
    "running_time, best_inventory, best_value, lstm1_results = montecarlo_sell(df_lstm1, no_iterations, balance,\n",
    "                                                                     min_distr, max_distr, diff_ticker_amount) \n",
    "\n",
    "print(f\"Best (Final) Inventory: {best_inventory}\")\n",
    "print(f\"Best Value: {best_value}\")\n",
    "print(f\"Total Runtime: {running_time:.2f} seconds\")"
   ]
  },
  {
   "cell_type": "code",
   "execution_count": null,
   "id": "6eb02fbb-ddec-4aa5-9eca-d1ac1092946d",
   "metadata": {},
   "outputs": [],
   "source": []
  }
 ],
 "metadata": {
  "kernelspec": {
   "display_name": "Python 3 (ipykernel)",
   "language": "python",
   "name": "python3"
  },
  "language_info": {
   "codemirror_mode": {
    "name": "ipython",
    "version": 3
   },
   "file_extension": ".py",
   "mimetype": "text/x-python",
   "name": "python",
   "nbconvert_exporter": "python",
   "pygments_lexer": "ipython3",
   "version": "3.12.4"
  }
 },
 "nbformat": 4,
 "nbformat_minor": 5
}
