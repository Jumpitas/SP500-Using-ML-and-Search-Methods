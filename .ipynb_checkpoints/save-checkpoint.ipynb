{
 "cells": [
  {
   "cell_type": "markdown",
   "metadata": {},
   "source": [
    "# Model Explainability"
   ]
  },
  {
   "cell_type": "markdown",
   "metadata": {},
   "source": [
    "In order to understand the way our model detects patterns, we will be outlining every major aspect of model training all the way to prediction:\n"
   ]
  },
  {
   "cell_type": "markdown",
   "metadata": {},
   "source": [
    "### Data Preprocessing\n",
    "\n",
    "Effects of applying `preprocess_and_split` to the downloaded csv files:\n",
    "\n",
    " - csv file is transformed to dataframe\n",
    " - creates relevant columns (such as financial metrics and date columns)\n",
    " - uses 6 simple RandomForestRegressor models in order to predict values of metrics for january 2024, thus avoiding violation of causality principle\n",
    " - splits data into training and testing X and y\n",
    "  \n",
    "The models used to predict metrics are very straightforward, as their only inputs are dates. We have proved that they have a hard time using the 'Year' column, showing more importance to the 'Day' and 'Month' features."
   ]
  },
  {
   "cell_type": "markdown",
   "metadata": {},
   "source": [
    "### Model Fitting and Training\n",
    "\n",
    "We use the previously obtained X and y split for train and test variables in order to train the model.\n",
    "\n",
    "\n",
    "Using the code below, we can plot the importance given to every column during training:"
   ]
  },
  {
   "cell_type": "code",
   "execution_count": null,
   "metadata": {},
   "outputs": [],
   "source": [
    "# Extracting feature importance\n",
    "importance = model.feature_importances_\n",
    "feature_names = X_test.columns\n",
    "feature_importance = pd.DataFrame({\n",
    "    'Feature': feature_names,\n",
    "    'Importance': importance\n",
    "}).sort_values(by='Importance', ascending=False)\n",
    "\n",
    "feature_importance"
   ]
  }
 ],
 "metadata": {
  "language_info": {
   "name": "python"
  }
 },
 "nbformat": 4,
 "nbformat_minor": 2
}
