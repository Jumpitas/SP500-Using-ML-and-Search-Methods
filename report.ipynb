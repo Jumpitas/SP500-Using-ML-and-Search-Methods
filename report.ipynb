{
 "cells": [
  {
   "cell_type": "markdown",
   "metadata": {},
   "source": [
    "# Applying Machine Learning and Search Methods for S&P500 Stock Portfolio Forecasting and Optimization\n",
    "\n",
    " Project developed by: **Eduardo Passos** [202205630](https://sigarra.up.pt/fcup/pt/fest_geral.cursos_list?pv_num_unico=202205630), **Pedro Fernandes** [202208347](https://sigarra.up.pt/fcup/pt/fest_geral.cursos_list?pv_num_unico=202208347) and **Rafael Pacheco** [202206258](https://sigarra.up.pt/fcup/pt/fest_geral.cursos_list?pv_num_unico=202206258)"
   ]
  },
  {
   "cell_type": "markdown",
   "metadata": {},
   "source": [
    "### Index {#index} #############################################\n",
    "1. [Project Introduction](#intro)\n",
    "2. [Introduction to Stock Concepts](#intro2)\n",
    "3. [Data Extraction and Collection](#data)\n",
    "\n",
    "    3.1 [Visualization and Formatting](#vis)\n",
    "4. [Exploratory Data Analysis](#eda)\n",
    "\n",
    "5. \n",
    "\n",
    "? [Conclusion](#conclusion)\n",
    "? [References](#ref)"
   ]
  },
  {
   "cell_type": "markdown",
   "metadata": {},
   "source": [
    "# Project Introduction and Motivation {#intro}"
   ]
  },
  {
   "cell_type": "markdown",
   "metadata": {},
   "source": [
    "This project encompasses the creation of a well suited investment strategy based on the S&P500 stock dataset.\n",
    "The highlights of the group's development process are detailed throughout this report. All of the specific files utilized during the project's development can be found inside the submitted folder.\n",
    "\n",
    "In order to predict stock behaviour, we employed:\n",
    "\n",
    " - `Deep Learning`: Long Short-Term Memory (LSTM)\n",
    " - ...\n",
    "\n",
    "To optimize portfolio selection, we implemented:\n",
    "\n",
    " - `Search Methods`: Monte Carlo Tree Search (MCTS)\n",
    " - ..."
   ]
  },
  {
   "cell_type": "markdown",
   "metadata": {},
   "source": [
    "The stock market is highly volatile and unpredictable, making stock price prediction nearly luck based.\n",
    "\n",
    "In order to create strategies that allow for investors to efficiently obtain risk-adjusted returns, we can use **S&P500 data** to get a better understanding of how the stock market may behave, based on previously collected data and statistics.\n",
    "\n",
    "It's important to mention that it doesn't always follow a guaranteed predictable, mathematical pattern. It is influenced by many real-world factors, independent to a company's growth and significance."
   ]
  },
  {
   "cell_type": "markdown",
   "metadata": {},
   "source": [
    "# Introduction to Stock Concepts"
   ]
  },
  {
   "cell_type": "markdown",
   "metadata": {},
   "source": [
    "In case the reader is unfamiliar with stocks and investing, we decided to briefly explain key concepts used throughout this report."
   ]
  },
  {
   "cell_type": "markdown",
   "metadata": {},
   "source": [
    "The S&P500 is a stock market index that tracks the performance of 500 of the largest publicly traded companies in the United States. As per requested in the project statement, we used this dataset's information, from 2010 to 2023, in order to predict the stock behaviour of those companies during January 20204."
   ]
  },
  {
   "cell_type": "markdown",
   "metadata": {},
   "source": [
    "### **What are stocks, and why are they an investment?**\n",
    "Stocks (or shares) represent ownership in a company. Investors buy stocks to gain a portion of a company's profits, or to benefit from an increase in the stock's market value.\n",
    "\n",
    "#### **What are tickers?**\n",
    "A ticker is a unique symbol assigned to a company's stock, essentially an identifier for each company, in order to facilitate stock tracking:\n",
    "\n",
    " - `AAPL`: Apple Inc.\n",
    " - `GOOG`: Alphabet Inc. (or, simply put, Google)\n",
    " \n",
    "### **What are opening and closing prices?**\n",
    "The opening price is the price at which a stock begins trading, when the market opens for the day. \n",
    "The closing price is the actual last transaction price on that day, for that specific stock.\n",
    "\n",
    "We will be using daily windows in order to predict these prices.\n",
    "\n",
    "### **What are windows, and how are they helpful during prediction?**\n",
    "In time series analysis, a \"window\" refers to a segment of the data used for analysis or prediction. \n",
    "By using time series analysis, we aim to identify patterns, trends, and seasonal effects in the data.\n",
    "\n",
    "### **Most importantly, how can I gain or lose money by investing?**\n",
    "\n",
    "A positive return indicates profit, while a negative return signifies a loss. \n",
    "These are typically expressed as a percentage of the original investment. \n",
    "\n",
    "Imagine the investor purchases stock at 100:\n",
    "\n",
    " - Stock price increases from 100 to 110 -> the return is 10% -> <span style=\"color:green\">Profit!</span>\n",
    "\n",
    " - Stock price decreases from 100 to 90 -> the return is -10% -> <span style=\"color:red\">Loss!</span>\n",
    "\n",
    "Market fluctuations dictate stock prices, which in return represent profit or loss for investors."
   ]
  },
  {
   "cell_type": "markdown",
   "metadata": {},
   "source": [
    "# Data Extraction and Collection"
   ]
  },
  {
   "cell_type": "markdown",
   "metadata": {},
   "source": [
    "In order to extract the 2010-2023 section of the dataset, we used the `yfinance` module. \n",
    "\n",
    "[Wikipedia](https://en.wikipedia.org/wiki/List_of_S%26P_500_companies) is also accessed to download a table containing a list of S&P500 tickers.\n",
    "\n",
    "The functions below document the extraction and collection process."
   ]
  },
  {
   "cell_type": "code",
   "execution_count": 53,
   "metadata": {},
   "outputs": [],
   "source": [
    "import pandas as pd\n",
    "import yfinance as yf\n",
    "import os"
   ]
  },
  {
   "cell_type": "code",
   "execution_count": 54,
   "metadata": {},
   "outputs": [],
   "source": [
    "# Step 1: Get the list of S&P 500 companies\n",
    "def get_sp500_tickers():\n",
    "    # Download the table from Wikipedia\n",
    "    url = \"https://en.wikipedia.org/wiki/List_of_S%26P_500_companies\"\n",
    "    table = pd.read_html(url)[0]\n",
    "    tickers = table['Symbol'].tolist()\n",
    "    \n",
    "    # Remove any invalid ticker symbols if necessary\n",
    "    tickers = [ticker.replace('.', '-') for ticker in tickers]  # For Yahoo Finance compatibility\n",
    "    return tickers"
   ]
  },
  {
   "cell_type": "code",
   "execution_count": 55,
   "metadata": {},
   "outputs": [],
   "source": [
    "# Step 2: Download data for each stock\n",
    "def download_sp500_data(tickers, start_date=\"2010-01-01\", end_date=\"2024-12-31\", group_by=\"ticker\"):\n",
    "    data = {}\n",
    "    for ticker in tickers:\n",
    "        print(f\"Downloading data for {ticker}...\")\n",
    "        try:\n",
    "            data[ticker] = yf.download(ticker, start=start_date, end=end_date)\n",
    "        except Exception as e:\n",
    "            print(f\"Error downloading {ticker}: {e}\")\n",
    "    return data"
   ]
  },
  {
   "cell_type": "code",
   "execution_count": 56,
   "metadata": {},
   "outputs": [],
   "source": [
    "# Step 3: Save or analyze the data\n",
    "\n",
    "raw_directory = \"raw_csvs\"  # Specify the directory where you want to save the files\n",
    "\n",
    "def save_data_to_csv(data):\n",
    "    # Create the directory if it doesn't exist\n",
    "    if not os.path.exists(raw_directory):\n",
    "        os.makedirs(raw_directory)\n",
    "    \n",
    "    for ticker, df in data.items():\n",
    "        if not df.empty:\n",
    "            # Save the file in the specified directory\n",
    "            file_path = os.path.join(raw_directory, f\"{ticker}.csv\")\n",
    "            df.to_csv(file_path)\n",
    "            print(f\"Data for {ticker} saved to {file_path}.\")\n",
    "        else:\n",
    "            print(f\"No data for {ticker}.\")\n"
   ]
  },
  {
   "cell_type": "markdown",
   "metadata": {},
   "source": [
    "Uncomment to run. (dps muda se tava farto de tirar e meter acentos)"
   ]
  },
  {
   "cell_type": "markdown",
   "metadata": {},
   "source": [
    "```py \n",
    "\n",
    "tickers = get_sp500_tickers()\n",
    "sp500_data = download_sp500_data(tickers)\n",
    "save_data_to_csv(sp500_data)\n",
    "\n",
    "```"
   ]
  },
  {
   "cell_type": "markdown",
   "metadata": {},
   "source": [
    "## Visualization and Formatting\n"
   ]
  },
  {
   "cell_type": "markdown",
   "metadata": {},
   "source": [
    "Let's visualize the data we extracted. We'll use the Tesla stocks, `TSLA`, for showcasing formats and changes, since each csv was extracted equally."
   ]
  },
  {
   "cell_type": "code",
   "execution_count": 57,
   "metadata": {},
   "outputs": [
    {
     "data": {
      "text/html": [
       "<div>\n",
       "<style scoped>\n",
       "    .dataframe tbody tr th:only-of-type {\n",
       "        vertical-align: middle;\n",
       "    }\n",
       "\n",
       "    .dataframe tbody tr th {\n",
       "        vertical-align: top;\n",
       "    }\n",
       "\n",
       "    .dataframe thead th {\n",
       "        text-align: right;\n",
       "    }\n",
       "</style>\n",
       "<table border=\"1\" class=\"dataframe\">\n",
       "  <thead>\n",
       "    <tr style=\"text-align: right;\">\n",
       "      <th></th>\n",
       "      <th>Price</th>\n",
       "      <th>Adj Close</th>\n",
       "      <th>Close</th>\n",
       "      <th>High</th>\n",
       "      <th>Low</th>\n",
       "      <th>Open</th>\n",
       "      <th>Volume</th>\n",
       "    </tr>\n",
       "  </thead>\n",
       "  <tbody>\n",
       "    <tr>\n",
       "      <th>0</th>\n",
       "      <td>Ticker</td>\n",
       "      <td>TSLA</td>\n",
       "      <td>TSLA</td>\n",
       "      <td>TSLA</td>\n",
       "      <td>TSLA</td>\n",
       "      <td>TSLA</td>\n",
       "      <td>TSLA</td>\n",
       "    </tr>\n",
       "    <tr>\n",
       "      <th>1</th>\n",
       "      <td>Date</td>\n",
       "      <td>NaN</td>\n",
       "      <td>NaN</td>\n",
       "      <td>NaN</td>\n",
       "      <td>NaN</td>\n",
       "      <td>NaN</td>\n",
       "      <td>NaN</td>\n",
       "    </tr>\n",
       "    <tr>\n",
       "      <th>2</th>\n",
       "      <td>2010-06-29 00:00:00+00:00</td>\n",
       "      <td>1.5926669836044312</td>\n",
       "      <td>1.5926669836044312</td>\n",
       "      <td>1.6666669845581055</td>\n",
       "      <td>1.1693329811096191</td>\n",
       "      <td>1.2666670083999634</td>\n",
       "      <td>281494500</td>\n",
       "    </tr>\n",
       "    <tr>\n",
       "      <th>3</th>\n",
       "      <td>2010-06-30 00:00:00+00:00</td>\n",
       "      <td>1.5886670351028442</td>\n",
       "      <td>1.5886670351028442</td>\n",
       "      <td>2.0280001163482666</td>\n",
       "      <td>1.553333044052124</td>\n",
       "      <td>1.7193330526351929</td>\n",
       "      <td>257806500</td>\n",
       "    </tr>\n",
       "    <tr>\n",
       "      <th>4</th>\n",
       "      <td>2010-07-01 00:00:00+00:00</td>\n",
       "      <td>1.4639999866485596</td>\n",
       "      <td>1.4639999866485596</td>\n",
       "      <td>1.7280000448226929</td>\n",
       "      <td>1.3513330221176147</td>\n",
       "      <td>1.6666669845581055</td>\n",
       "      <td>123282000</td>\n",
       "    </tr>\n",
       "  </tbody>\n",
       "</table>\n",
       "</div>"
      ],
      "text/plain": [
       "                       Price           Adj Close               Close  \\\n",
       "0                     Ticker                TSLA                TSLA   \n",
       "1                       Date                 NaN                 NaN   \n",
       "2  2010-06-29 00:00:00+00:00  1.5926669836044312  1.5926669836044312   \n",
       "3  2010-06-30 00:00:00+00:00  1.5886670351028442  1.5886670351028442   \n",
       "4  2010-07-01 00:00:00+00:00  1.4639999866485596  1.4639999866485596   \n",
       "\n",
       "                 High                 Low                Open     Volume  \n",
       "0                TSLA                TSLA                TSLA       TSLA  \n",
       "1                 NaN                 NaN                 NaN        NaN  \n",
       "2  1.6666669845581055  1.1693329811096191  1.2666670083999634  281494500  \n",
       "3  2.0280001163482666   1.553333044052124  1.7193330526351929  257806500  \n",
       "4  1.7280000448226929  1.3513330221176147  1.6666669845581055  123282000  "
      ]
     },
     "execution_count": 57,
     "metadata": {},
     "output_type": "execute_result"
    }
   ],
   "source": [
    "df = pd.read_csv('./raw_csvs/TSLA.csv')\n",
    "df.head()"
   ]
  },
  {
   "cell_type": "code",
   "execution_count": 58,
   "metadata": {},
   "outputs": [
    {
     "data": {
      "text/plain": [
       "Index(['Price', 'Adj Close', 'Close', 'High', 'Low', 'Open', 'Volume'], dtype='object')"
      ]
     },
     "execution_count": 58,
     "metadata": {},
     "output_type": "execute_result"
    }
   ],
   "source": [
    "df.columns"
   ]
  },
  {
   "cell_type": "code",
   "execution_count": 59,
   "metadata": {},
   "outputs": [
    {
     "data": {
      "text/plain": [
       "Price        object\n",
       "Adj Close    object\n",
       "Close        object\n",
       "High         object\n",
       "Low          object\n",
       "Open         object\n",
       "Volume       object\n",
       "dtype: object"
      ]
     },
     "execution_count": 59,
     "metadata": {},
     "output_type": "execute_result"
    }
   ],
   "source": [
    "df.dtypes"
   ]
  },
  {
   "cell_type": "markdown",
   "metadata": {},
   "source": [
    "The dataset is presented in an unusual format. In order to facilitate analysis and training, we will be converting it into something more familiar, taking into consideration that:\n",
    " - Ticker is consistent for each csv;\n",
    " - `Price` can be overwritten as `Date`;\n",
    " - Removing NaN from column 1 will finish the process;\n",
    "\n",
    "The function below applies this process to any given dataset from the `raw_csvs` folder, transforming it into a clean, working dataframe."
   ]
  },
  {
   "cell_type": "markdown",
   "metadata": {},
   "source": [
    "This is done by opening each `csv` file and converting it to a dataframe using `pandas`. Then, the irrelevant rows (0 contains tickers, and 1 contains NaN) are dropped. The `Price` column is in place of `Date`, therefore, `Price` is changed to `Date`. Finally, the date + time format is modified to `YYYY-MM-DD` format, making sure we only keep relevant information. We also transform each string column into `float64`, except for `Volume`, which is always an Integer.\n",
    "\n",
    "\n",
    "Optionally, we can keep only the `Close` column for each stock, which is the closing price, and ultimatelly our target for prediction. If the argument **onlyClose** is kept as `False`, then all of the clean columns are kept."
   ]
  },
  {
   "cell_type": "code",
   "execution_count": 60,
   "metadata": {},
   "outputs": [],
   "source": [
    "def process_csv(file, onlyClose=False):\n",
    "    df = pd.read_csv(file)\n",
    "    \n",
    "    # Drop rows with index 0 and 1, weird download format\n",
    "    df = df.drop([0, 1])\n",
    "    df.reset_index(drop=True, inplace=True)\n",
    "    \n",
    "    df.rename(columns={'Price': 'Date', 'Adj Close': 'AdjClose'}, inplace=True) \n",
    "    \n",
    "    # Get only date\n",
    "    df['Date'] = pd.to_datetime(df['Date']).dt.date \n",
    "\n",
    "    # Convert strings to float and int\n",
    "    for col in [\"AdjClose\", \"Close\", \"Open\", \"High\", \"Low\", \"Volume\"]:\n",
    "        df[col] = pd.to_numeric(df[col], errors='coerce')\n",
    "    \n",
    "    if onlyClose:\n",
    "        # Keeps only the 'Date' and 'Close' columns\n",
    "        df = df[['Date', 'Close']] \n",
    " \n",
    "    # Set 'Date' as the index \n",
    "    df.set_index('Date', inplace=True)\n",
    "    \n",
    "    # Reset the index so that 'Date' is no longer the index\n",
    "    df.reset_index(inplace=True)\n",
    "\n",
    "    # Check the current columns to see what needs to be dropped (debug)\n",
    "    #print(df.columns)\n",
    "\n",
    "    return df"
   ]
  },
  {
   "cell_type": "code",
   "execution_count": 61,
   "metadata": {},
   "outputs": [
    {
     "data": {
      "text/html": [
       "<div>\n",
       "<style scoped>\n",
       "    .dataframe tbody tr th:only-of-type {\n",
       "        vertical-align: middle;\n",
       "    }\n",
       "\n",
       "    .dataframe tbody tr th {\n",
       "        vertical-align: top;\n",
       "    }\n",
       "\n",
       "    .dataframe thead th {\n",
       "        text-align: right;\n",
       "    }\n",
       "</style>\n",
       "<table border=\"1\" class=\"dataframe\">\n",
       "  <thead>\n",
       "    <tr style=\"text-align: right;\">\n",
       "      <th></th>\n",
       "      <th>Date</th>\n",
       "      <th>AdjClose</th>\n",
       "      <th>Close</th>\n",
       "      <th>High</th>\n",
       "      <th>Low</th>\n",
       "      <th>Open</th>\n",
       "      <th>Volume</th>\n",
       "    </tr>\n",
       "  </thead>\n",
       "  <tbody>\n",
       "    <tr>\n",
       "      <th>0</th>\n",
       "      <td>2010-06-29</td>\n",
       "      <td>1.592667</td>\n",
       "      <td>1.592667</td>\n",
       "      <td>1.666667</td>\n",
       "      <td>1.169333</td>\n",
       "      <td>1.266667</td>\n",
       "      <td>281494500</td>\n",
       "    </tr>\n",
       "    <tr>\n",
       "      <th>1</th>\n",
       "      <td>2010-06-30</td>\n",
       "      <td>1.588667</td>\n",
       "      <td>1.588667</td>\n",
       "      <td>2.028000</td>\n",
       "      <td>1.553333</td>\n",
       "      <td>1.719333</td>\n",
       "      <td>257806500</td>\n",
       "    </tr>\n",
       "    <tr>\n",
       "      <th>2</th>\n",
       "      <td>2010-07-01</td>\n",
       "      <td>1.464000</td>\n",
       "      <td>1.464000</td>\n",
       "      <td>1.728000</td>\n",
       "      <td>1.351333</td>\n",
       "      <td>1.666667</td>\n",
       "      <td>123282000</td>\n",
       "    </tr>\n",
       "    <tr>\n",
       "      <th>3</th>\n",
       "      <td>2010-07-02</td>\n",
       "      <td>1.280000</td>\n",
       "      <td>1.280000</td>\n",
       "      <td>1.540000</td>\n",
       "      <td>1.247333</td>\n",
       "      <td>1.533333</td>\n",
       "      <td>77097000</td>\n",
       "    </tr>\n",
       "    <tr>\n",
       "      <th>4</th>\n",
       "      <td>2010-07-06</td>\n",
       "      <td>1.074000</td>\n",
       "      <td>1.074000</td>\n",
       "      <td>1.333333</td>\n",
       "      <td>1.055333</td>\n",
       "      <td>1.333333</td>\n",
       "      <td>103003500</td>\n",
       "    </tr>\n",
       "  </tbody>\n",
       "</table>\n",
       "</div>"
      ],
      "text/plain": [
       "         Date  AdjClose     Close      High       Low      Open     Volume\n",
       "0  2010-06-29  1.592667  1.592667  1.666667  1.169333  1.266667  281494500\n",
       "1  2010-06-30  1.588667  1.588667  2.028000  1.553333  1.719333  257806500\n",
       "2  2010-07-01  1.464000  1.464000  1.728000  1.351333  1.666667  123282000\n",
       "3  2010-07-02  1.280000  1.280000  1.540000  1.247333  1.533333   77097000\n",
       "4  2010-07-06  1.074000  1.074000  1.333333  1.055333  1.333333  103003500"
      ]
     },
     "execution_count": 61,
     "metadata": {},
     "output_type": "execute_result"
    }
   ],
   "source": [
    "df_clean = process_csv('./raw_csvs/TSLA.csv')\n",
    "df_clean.head()"
   ]
  },
  {
   "cell_type": "code",
   "execution_count": 62,
   "metadata": {},
   "outputs": [
    {
     "data": {
      "text/plain": [
       "Index(['Date', 'AdjClose', 'Close', 'High', 'Low', 'Open', 'Volume'], dtype='object')"
      ]
     },
     "execution_count": 62,
     "metadata": {},
     "output_type": "execute_result"
    }
   ],
   "source": [
    "df_clean.columns"
   ]
  },
  {
   "cell_type": "code",
   "execution_count": 63,
   "metadata": {},
   "outputs": [
    {
     "data": {
      "text/plain": [
       "Date         object\n",
       "AdjClose    float64\n",
       "Close       float64\n",
       "High        float64\n",
       "Low         float64\n",
       "Open        float64\n",
       "Volume        int64\n",
       "dtype: object"
      ]
     },
     "execution_count": 63,
     "metadata": {},
     "output_type": "execute_result"
    }
   ],
   "source": [
    "df_clean.dtypes"
   ]
  },
  {
   "cell_type": "markdown",
   "metadata": {},
   "source": [
    "In order to **automate this process**, we can get a list of tickers and save clear data to the directory below."
   ]
  },
  {
   "cell_type": "code",
   "execution_count": 64,
   "metadata": {},
   "outputs": [],
   "source": [
    "tickers = get_sp500_tickers()\n",
    "tickers.sort()"
   ]
  },
  {
   "cell_type": "code",
   "execution_count": 65,
   "metadata": {},
   "outputs": [],
   "source": [
    "clean_directory = 'clean_csvs'\n",
    "close_directory = 'clean_close_csvs'\n",
    "\n",
    "def save_cleaned_data(tickers, raw_dir, clean_dir, onlyClose=False):\n",
    "    if not os.path.exists(clean_dir):\n",
    "        os.makedirs(clean_dir)\n",
    "    \n",
    "    for ticker in tickers:\n",
    "        raw_file_path = os.path.join(raw_dir, f\"{ticker}.csv\")\n",
    "        #print(raw_file_path)\n",
    "        if os.path.exists(raw_file_path):\n",
    "            # Process the CSV file\n",
    "            #print(f\"Processing {ticker}...\")\n",
    "            df = process_csv(raw_file_path, onlyClose)\n",
    "            \n",
    "            if not df.empty:\n",
    "                # Save the processed DataFrame to the clean directory\n",
    "                clean_file_path = os.path.join(clean_dir, f\"{ticker}.csv\")\n",
    "                df.to_csv(clean_file_path, index=False)\n",
    "                #print(f\"Data for {ticker} saved to {clean_file_path}.\")\n",
    "            else:\n",
    "                #print(f\"No valid data for {ticker}. Skipping...\")\n",
    "                pass\n",
    "        else:\n",
    "            #print(f\"File for {ticker} not found in {raw_dir}. Skipping...\")\n",
    "            pass"
   ]
  },
  {
   "cell_type": "markdown",
   "metadata": {},
   "source": [
    "By running this line of code, every `csv` file in the `raw_csv` directory will be read and its new, formatted contents will be written to a new `csv` file in the `clean_csv` and `clean_csv_close` folders."
   ]
  },
  {
   "cell_type": "markdown",
   "metadata": {},
   "source": [
    "```py\n",
    "save_cleaned_data(tickers, raw_directory, clean_directory)\n",
    "save_cleaned_data(tickers, raw_directory, close_directory, True)\n",
    "```"
   ]
  },
  {
   "cell_type": "markdown",
   "metadata": {},
   "source": [
    "# Exploratory Data Analysis "
   ]
  },
  {
   "cell_type": "markdown",
   "metadata": {},
   "source": [
    "## GSPC Index Analysis"
   ]
  },
  {
   "cell_type": "markdown",
   "metadata": {},
   "source": [
    "To efficiently analyze the data, we will download the full `GSPC` index for the S&P 500.\n",
    "\n",
    "The GSPC index represents a broad market indicator, aggregating the price movements of a diverse set of stocks, and provides a comprehensive overview of market trends. It serves as a useful benchmark for understanding the **general performance of the market**.\n",
    "\n",
    "By using the `yfinance` module, we can easily download the GSPC data and then apply the previously mentioned cleanup steps for analysis."
   ]
  },
  {
   "cell_type": "code",
   "execution_count": 66,
   "metadata": {},
   "outputs": [
    {
     "name": "stderr",
     "output_type": "stream",
     "text": [
      "[*********************100%***********************]  1 of 1 completed\n"
     ]
    },
    {
     "data": {
      "text/html": [
       "<div>\n",
       "<style scoped>\n",
       "    .dataframe tbody tr th:only-of-type {\n",
       "        vertical-align: middle;\n",
       "    }\n",
       "\n",
       "    .dataframe tbody tr th {\n",
       "        vertical-align: top;\n",
       "    }\n",
       "\n",
       "    .dataframe thead tr th {\n",
       "        text-align: left;\n",
       "    }\n",
       "\n",
       "    .dataframe thead tr:last-of-type th {\n",
       "        text-align: right;\n",
       "    }\n",
       "</style>\n",
       "<table border=\"1\" class=\"dataframe\">\n",
       "  <thead>\n",
       "    <tr>\n",
       "      <th>Price</th>\n",
       "      <th>Adj Close</th>\n",
       "      <th>Close</th>\n",
       "      <th>High</th>\n",
       "      <th>Low</th>\n",
       "      <th>Open</th>\n",
       "      <th>Volume</th>\n",
       "    </tr>\n",
       "    <tr>\n",
       "      <th>Ticker</th>\n",
       "      <th>^GSPC</th>\n",
       "      <th>^GSPC</th>\n",
       "      <th>^GSPC</th>\n",
       "      <th>^GSPC</th>\n",
       "      <th>^GSPC</th>\n",
       "      <th>^GSPC</th>\n",
       "    </tr>\n",
       "    <tr>\n",
       "      <th>Date</th>\n",
       "      <th></th>\n",
       "      <th></th>\n",
       "      <th></th>\n",
       "      <th></th>\n",
       "      <th></th>\n",
       "      <th></th>\n",
       "    </tr>\n",
       "  </thead>\n",
       "  <tbody>\n",
       "    <tr>\n",
       "      <th>2010-01-04</th>\n",
       "      <td>1132.989990</td>\n",
       "      <td>1132.989990</td>\n",
       "      <td>1133.869995</td>\n",
       "      <td>1116.560059</td>\n",
       "      <td>1116.560059</td>\n",
       "      <td>3991400000</td>\n",
       "    </tr>\n",
       "    <tr>\n",
       "      <th>2010-01-05</th>\n",
       "      <td>1136.520020</td>\n",
       "      <td>1136.520020</td>\n",
       "      <td>1136.630005</td>\n",
       "      <td>1129.660034</td>\n",
       "      <td>1132.660034</td>\n",
       "      <td>2491020000</td>\n",
       "    </tr>\n",
       "    <tr>\n",
       "      <th>2010-01-06</th>\n",
       "      <td>1137.140015</td>\n",
       "      <td>1137.140015</td>\n",
       "      <td>1139.189941</td>\n",
       "      <td>1133.949951</td>\n",
       "      <td>1135.709961</td>\n",
       "      <td>4972660000</td>\n",
       "    </tr>\n",
       "    <tr>\n",
       "      <th>2010-01-07</th>\n",
       "      <td>1141.689941</td>\n",
       "      <td>1141.689941</td>\n",
       "      <td>1142.459961</td>\n",
       "      <td>1131.319946</td>\n",
       "      <td>1136.270020</td>\n",
       "      <td>5270680000</td>\n",
       "    </tr>\n",
       "    <tr>\n",
       "      <th>2010-01-08</th>\n",
       "      <td>1144.979980</td>\n",
       "      <td>1144.979980</td>\n",
       "      <td>1145.390015</td>\n",
       "      <td>1136.219971</td>\n",
       "      <td>1140.520020</td>\n",
       "      <td>4389590000</td>\n",
       "    </tr>\n",
       "  </tbody>\n",
       "</table>\n",
       "</div>"
      ],
      "text/plain": [
       "Price         Adj Close        Close         High          Low         Open  \\\n",
       "Ticker            ^GSPC        ^GSPC        ^GSPC        ^GSPC        ^GSPC   \n",
       "Date                                                                          \n",
       "2010-01-04  1132.989990  1132.989990  1133.869995  1116.560059  1116.560059   \n",
       "2010-01-05  1136.520020  1136.520020  1136.630005  1129.660034  1132.660034   \n",
       "2010-01-06  1137.140015  1137.140015  1139.189941  1133.949951  1135.709961   \n",
       "2010-01-07  1141.689941  1141.689941  1142.459961  1131.319946  1136.270020   \n",
       "2010-01-08  1144.979980  1144.979980  1145.390015  1136.219971  1140.520020   \n",
       "\n",
       "Price           Volume  \n",
       "Ticker           ^GSPC  \n",
       "Date                    \n",
       "2010-01-04  3991400000  \n",
       "2010-01-05  2491020000  \n",
       "2010-01-06  4972660000  \n",
       "2010-01-07  5270680000  \n",
       "2010-01-08  4389590000  "
      ]
     },
     "execution_count": 66,
     "metadata": {},
     "output_type": "execute_result"
    }
   ],
   "source": [
    "start = '2010-01-04'\n",
    "\n",
    "# Open interval, contains only 2023-12-29\n",
    "end = '2023-12-30'\n",
    "\n",
    "df_gspc = yf.download('^GSPC', start=start, end=end)\n",
    "\n",
    "df_gspc.to_csv('GSPC.csv')\n",
    "\n",
    "df_gspc.head()"
   ]
  },
  {
   "cell_type": "code",
   "execution_count": 67,
   "metadata": {},
   "outputs": [
    {
     "data": {
      "text/html": [
       "<div>\n",
       "<style scoped>\n",
       "    .dataframe tbody tr th:only-of-type {\n",
       "        vertical-align: middle;\n",
       "    }\n",
       "\n",
       "    .dataframe tbody tr th {\n",
       "        vertical-align: top;\n",
       "    }\n",
       "\n",
       "    .dataframe thead th {\n",
       "        text-align: right;\n",
       "    }\n",
       "</style>\n",
       "<table border=\"1\" class=\"dataframe\">\n",
       "  <thead>\n",
       "    <tr style=\"text-align: right;\">\n",
       "      <th></th>\n",
       "      <th>Date</th>\n",
       "      <th>AdjClose</th>\n",
       "      <th>Close</th>\n",
       "      <th>High</th>\n",
       "      <th>Low</th>\n",
       "      <th>Open</th>\n",
       "      <th>Volume</th>\n",
       "    </tr>\n",
       "  </thead>\n",
       "  <tbody>\n",
       "    <tr>\n",
       "      <th>0</th>\n",
       "      <td>2010-01-04</td>\n",
       "      <td>1132.989990</td>\n",
       "      <td>1132.989990</td>\n",
       "      <td>1133.869995</td>\n",
       "      <td>1116.560059</td>\n",
       "      <td>1116.560059</td>\n",
       "      <td>3991400000</td>\n",
       "    </tr>\n",
       "    <tr>\n",
       "      <th>1</th>\n",
       "      <td>2010-01-05</td>\n",
       "      <td>1136.520020</td>\n",
       "      <td>1136.520020</td>\n",
       "      <td>1136.630005</td>\n",
       "      <td>1129.660034</td>\n",
       "      <td>1132.660034</td>\n",
       "      <td>2491020000</td>\n",
       "    </tr>\n",
       "    <tr>\n",
       "      <th>2</th>\n",
       "      <td>2010-01-06</td>\n",
       "      <td>1137.140015</td>\n",
       "      <td>1137.140015</td>\n",
       "      <td>1139.189941</td>\n",
       "      <td>1133.949951</td>\n",
       "      <td>1135.709961</td>\n",
       "      <td>4972660000</td>\n",
       "    </tr>\n",
       "    <tr>\n",
       "      <th>3</th>\n",
       "      <td>2010-01-07</td>\n",
       "      <td>1141.689941</td>\n",
       "      <td>1141.689941</td>\n",
       "      <td>1142.459961</td>\n",
       "      <td>1131.319946</td>\n",
       "      <td>1136.270020</td>\n",
       "      <td>5270680000</td>\n",
       "    </tr>\n",
       "    <tr>\n",
       "      <th>4</th>\n",
       "      <td>2010-01-08</td>\n",
       "      <td>1144.979980</td>\n",
       "      <td>1144.979980</td>\n",
       "      <td>1145.390015</td>\n",
       "      <td>1136.219971</td>\n",
       "      <td>1140.520020</td>\n",
       "      <td>4389590000</td>\n",
       "    </tr>\n",
       "  </tbody>\n",
       "</table>\n",
       "</div>"
      ],
      "text/plain": [
       "         Date     AdjClose        Close         High          Low  \\\n",
       "0  2010-01-04  1132.989990  1132.989990  1133.869995  1116.560059   \n",
       "1  2010-01-05  1136.520020  1136.520020  1136.630005  1129.660034   \n",
       "2  2010-01-06  1137.140015  1137.140015  1139.189941  1133.949951   \n",
       "3  2010-01-07  1141.689941  1141.689941  1142.459961  1131.319946   \n",
       "4  2010-01-08  1144.979980  1144.979980  1145.390015  1136.219971   \n",
       "\n",
       "          Open      Volume  \n",
       "0  1116.560059  3991400000  \n",
       "1  1132.660034  2491020000  \n",
       "2  1135.709961  4972660000  \n",
       "3  1136.270020  5270680000  \n",
       "4  1140.520020  4389590000  "
      ]
     },
     "execution_count": 67,
     "metadata": {},
     "output_type": "execute_result"
    }
   ],
   "source": [
    "df_gspc = process_csv('GSPC.csv')\n",
    "df_gspc.head()"
   ]
  },
  {
   "cell_type": "code",
   "execution_count": 68,
   "metadata": {},
   "outputs": [
    {
     "data": {
      "text/plain": [
       "Date         object\n",
       "AdjClose    float64\n",
       "Close       float64\n",
       "High        float64\n",
       "Low         float64\n",
       "Open        float64\n",
       "Volume        int64\n",
       "dtype: object"
      ]
     },
     "execution_count": 68,
     "metadata": {},
     "output_type": "execute_result"
    }
   ],
   "source": [
    "df_gspc.dtypes"
   ]
  },
  {
   "cell_type": "markdown",
   "metadata": {},
   "source": [
    "In order to visualize the general market behaviour, we can plot this dataframe's closing prices for any time interval we wish:"
   ]
  },
  {
   "cell_type": "code",
   "execution_count": 82,
   "metadata": {},
   "outputs": [
    {
     "data": {
      "image/png": "[encoded data removed]",
      "text/plain": [
       "<Figure size 1000x600 with 1 Axes>"
      ]
     },
     "metadata": {},
     "output_type": "display_data"
    }
   ],
   "source": [
    "import matplotlib.pyplot as plt\n",
    "import datetime\n",
    "\n",
    "start_date = '2010-01-04'\n",
    "end_date = '2023-12-29'\n",
    "\n",
    "\n",
    "# Convert strings to date objects\n",
    "start_date = datetime.datetime.strptime('2010-01-04', '%Y-%m-%d').date()\n",
    "end_date = datetime.datetime.strptime('2023-12-29', '%Y-%m-%d').date()\n",
    "\n",
    "# Define section you want to see\n",
    "df_gspc_interval = df_gspc[(df_gspc.Date >= start_date) & (df_gspc.Date <= end_date)]\n",
    "\n",
    "# Plot the filtered data\n",
    "plt.figure(figsize=(10, 6))\n",
    "\n",
    "# Plot the 'Close' prices from the filtered data\n",
    "plt.plot(df_gspc_interval.Date, df_gspc_interval['Close'], label='Closing Prices')\n",
    "\n",
    "# Add labels, title, and legend\n",
    "plt.xlabel('Date')\n",
    "plt.ylabel('Price')\n",
    "plt.title(f'Closing Prices from {start_date} to {end_date}')\n",
    "plt.legend()\n",
    "\n",
    "# Format x-axis labels for better readability\n",
    "plt.gcf().autofmt_xdate()\n",
    "\n",
    "# Display the plot\n",
    "plt.show()"
   ]
  },
  {
   "cell_type": "code",
   "execution_count": 70,
   "metadata": {},
   "outputs": [
    {
     "data": {
      "text/html": [
       "<div>\n",
       "<style scoped>\n",
       "    .dataframe tbody tr th:only-of-type {\n",
       "        vertical-align: middle;\n",
       "    }\n",
       "\n",
       "    .dataframe tbody tr th {\n",
       "        vertical-align: top;\n",
       "    }\n",
       "\n",
       "    .dataframe thead th {\n",
       "        text-align: right;\n",
       "    }\n",
       "</style>\n",
       "<table border=\"1\" class=\"dataframe\">\n",
       "  <thead>\n",
       "    <tr style=\"text-align: right;\">\n",
       "      <th></th>\n",
       "      <th>AdjClose</th>\n",
       "      <th>Close</th>\n",
       "      <th>High</th>\n",
       "      <th>Low</th>\n",
       "      <th>Open</th>\n",
       "      <th>Volume</th>\n",
       "    </tr>\n",
       "  </thead>\n",
       "  <tbody>\n",
       "    <tr>\n",
       "      <th>count</th>\n",
       "      <td>3522.000000</td>\n",
       "      <td>3522.000000</td>\n",
       "      <td>3522.000000</td>\n",
       "      <td>3522.000000</td>\n",
       "      <td>3522.000000</td>\n",
       "      <td>3.522000e+03</td>\n",
       "    </tr>\n",
       "    <tr>\n",
       "      <th>mean</th>\n",
       "      <td>2535.092035</td>\n",
       "      <td>2535.092035</td>\n",
       "      <td>2548.398393</td>\n",
       "      <td>2519.736800</td>\n",
       "      <td>2534.540220</td>\n",
       "      <td>3.941032e+09</td>\n",
       "    </tr>\n",
       "    <tr>\n",
       "      <th>std</th>\n",
       "      <td>1070.516829</td>\n",
       "      <td>1070.516829</td>\n",
       "      <td>1076.721030</td>\n",
       "      <td>1063.824066</td>\n",
       "      <td>1070.377836</td>\n",
       "      <td>9.621445e+08</td>\n",
       "    </tr>\n",
       "    <tr>\n",
       "      <th>min</th>\n",
       "      <td>1022.580017</td>\n",
       "      <td>1022.580017</td>\n",
       "      <td>1032.949951</td>\n",
       "      <td>1010.909973</td>\n",
       "      <td>1027.650024</td>\n",
       "      <td>1.025000e+09</td>\n",
       "    </tr>\n",
       "    <tr>\n",
       "      <th>25%</th>\n",
       "      <td>1650.479980</td>\n",
       "      <td>1650.479980</td>\n",
       "      <td>1656.674957</td>\n",
       "      <td>1639.840027</td>\n",
       "      <td>1649.520020</td>\n",
       "      <td>3.362412e+09</td>\n",
       "    </tr>\n",
       "    <tr>\n",
       "      <th>50%</th>\n",
       "      <td>2264.484985</td>\n",
       "      <td>2264.484985</td>\n",
       "      <td>2271.895020</td>\n",
       "      <td>2258.309937</td>\n",
       "      <td>2267.295044</td>\n",
       "      <td>3.779375e+09</td>\n",
       "    </tr>\n",
       "    <tr>\n",
       "      <th>75%</th>\n",
       "      <td>3274.374939</td>\n",
       "      <td>3274.374939</td>\n",
       "      <td>3285.877441</td>\n",
       "      <td>3251.767578</td>\n",
       "      <td>3275.787415</td>\n",
       "      <td>4.315865e+09</td>\n",
       "    </tr>\n",
       "    <tr>\n",
       "      <th>max</th>\n",
       "      <td>4796.560059</td>\n",
       "      <td>4796.560059</td>\n",
       "      <td>4818.620117</td>\n",
       "      <td>4780.979980</td>\n",
       "      <td>4804.509766</td>\n",
       "      <td>1.061781e+10</td>\n",
       "    </tr>\n",
       "  </tbody>\n",
       "</table>\n",
       "</div>"
      ],
      "text/plain": [
       "          AdjClose        Close         High          Low         Open  \\\n",
       "count  3522.000000  3522.000000  3522.000000  3522.000000  3522.000000   \n",
       "mean   2535.092035  2535.092035  2548.398393  2519.736800  2534.540220   \n",
       "std    1070.516829  1070.516829  1076.721030  1063.824066  1070.377836   \n",
       "min    1022.580017  1022.580017  1032.949951  1010.909973  1027.650024   \n",
       "25%    1650.479980  1650.479980  1656.674957  1639.840027  1649.520020   \n",
       "50%    2264.484985  2264.484985  2271.895020  2258.309937  2267.295044   \n",
       "75%    3274.374939  3274.374939  3285.877441  3251.767578  3275.787415   \n",
       "max    4796.560059  4796.560059  4818.620117  4780.979980  4804.509766   \n",
       "\n",
       "             Volume  \n",
       "count  3.522000e+03  \n",
       "mean   3.941032e+09  \n",
       "std    9.621445e+08  \n",
       "min    1.025000e+09  \n",
       "25%    3.362412e+09  \n",
       "50%    3.779375e+09  \n",
       "75%    4.315865e+09  \n",
       "max    1.061781e+10  "
      ]
     },
     "execution_count": 70,
     "metadata": {},
     "output_type": "execute_result"
    }
   ],
   "source": [
    "df_gspc.describe()"
   ]
  },
  {
   "cell_type": "markdown",
   "metadata": {},
   "source": [
    "Now that our data is presented in a familiar format, we can begin to analyze the `csv` contents."
   ]
  },
  {
   "cell_type": "markdown",
   "metadata": {},
   "source": [
    "## Preprocessing and Cleanup"
   ]
  },
  {
   "cell_type": "markdown",
   "metadata": {},
   "source": [
    "### Missing Values"
   ]
  },
  {
   "cell_type": "markdown",
   "metadata": {},
   "source": [
    "The first step is to verify if any of them possess any NaN values. If so, those tickers will be identified so that the faulty `csvs` are not passed into the models."
   ]
  },
  {
   "cell_type": "code",
   "execution_count": 71,
   "metadata": {},
   "outputs": [
    {
     "data": {
      "text/plain": [
       "0"
      ]
     },
     "execution_count": 71,
     "metadata": {},
     "output_type": "execute_result"
    }
   ],
   "source": [
    "has_nan = [] \n",
    "\n",
    "# Iterate over each file \n",
    "for ticker in tickers:\n",
    "    file_path = os.path.join(clean_directory, f\"{ticker}.csv\")\n",
    "\n",
    "    # Temporarily transform into dataframe\n",
    "    df = pd.read_csv(file_path)\n",
    "\n",
    "    # Returns True if df has at least one NaN\n",
    "    if df.isna().any().any(): has_nan.append(ticker)\n",
    "\n",
    "len(has_nan)\n"
   ]
  },
  {
   "cell_type": "markdown",
   "metadata": {},
   "source": [
    "### Inconsistent Presence in the S&P500"
   ]
  },
  {
   "cell_type": "markdown",
   "metadata": {},
   "source": [
    "There are no NaN values in any of our csv files. However, due to the nature of the S&P500, there could be companies that are not consistently part of the dataset, from `2010-01-04` up until `2023-12-29`.\n",
    "\n",
    "We know that Apple, `AAPL`, has never left the S&P500 since its inclusion in 1982. This means that if we crop the csv file to the specified date range, we can determine the number of rows a perfect training dataset should have:"
   ]
  },
  {
   "cell_type": "code",
   "execution_count": 72,
   "metadata": {},
   "outputs": [
    {
     "data": {
      "text/html": [
       "<div>\n",
       "<style scoped>\n",
       "    .dataframe tbody tr th:only-of-type {\n",
       "        vertical-align: middle;\n",
       "    }\n",
       "\n",
       "    .dataframe tbody tr th {\n",
       "        vertical-align: top;\n",
       "    }\n",
       "\n",
       "    .dataframe thead th {\n",
       "        text-align: right;\n",
       "    }\n",
       "</style>\n",
       "<table border=\"1\" class=\"dataframe\">\n",
       "  <thead>\n",
       "    <tr style=\"text-align: right;\">\n",
       "      <th></th>\n",
       "      <th>Date</th>\n",
       "      <th>AdjClose</th>\n",
       "      <th>Close</th>\n",
       "      <th>High</th>\n",
       "      <th>Low</th>\n",
       "      <th>Open</th>\n",
       "      <th>Volume</th>\n",
       "    </tr>\n",
       "  </thead>\n",
       "  <tbody>\n",
       "    <tr>\n",
       "      <th>0</th>\n",
       "      <td>2010-01-04</td>\n",
       "      <td>6.447411</td>\n",
       "      <td>7.643214</td>\n",
       "      <td>7.660714</td>\n",
       "      <td>7.585000</td>\n",
       "      <td>7.622500</td>\n",
       "      <td>493729600</td>\n",
       "    </tr>\n",
       "    <tr>\n",
       "      <th>1</th>\n",
       "      <td>2010-01-05</td>\n",
       "      <td>6.458559</td>\n",
       "      <td>7.656429</td>\n",
       "      <td>7.699643</td>\n",
       "      <td>7.616071</td>\n",
       "      <td>7.664286</td>\n",
       "      <td>601904800</td>\n",
       "    </tr>\n",
       "    <tr>\n",
       "      <th>2</th>\n",
       "      <td>2010-01-06</td>\n",
       "      <td>6.355826</td>\n",
       "      <td>7.534643</td>\n",
       "      <td>7.686786</td>\n",
       "      <td>7.526786</td>\n",
       "      <td>7.656429</td>\n",
       "      <td>552160000</td>\n",
       "    </tr>\n",
       "    <tr>\n",
       "      <th>3</th>\n",
       "      <td>2010-01-07</td>\n",
       "      <td>6.344076</td>\n",
       "      <td>7.520714</td>\n",
       "      <td>7.571429</td>\n",
       "      <td>7.466071</td>\n",
       "      <td>7.562500</td>\n",
       "      <td>477131200</td>\n",
       "    </tr>\n",
       "    <tr>\n",
       "      <th>4</th>\n",
       "      <td>2010-01-08</td>\n",
       "      <td>6.386254</td>\n",
       "      <td>7.570714</td>\n",
       "      <td>7.571429</td>\n",
       "      <td>7.466429</td>\n",
       "      <td>7.510714</td>\n",
       "      <td>447610800</td>\n",
       "    </tr>\n",
       "  </tbody>\n",
       "</table>\n",
       "</div>"
      ],
      "text/plain": [
       "         Date  AdjClose     Close      High       Low      Open     Volume\n",
       "0  2010-01-04  6.447411  7.643214  7.660714  7.585000  7.622500  493729600\n",
       "1  2010-01-05  6.458559  7.656429  7.699643  7.616071  7.664286  601904800\n",
       "2  2010-01-06  6.355826  7.534643  7.686786  7.526786  7.656429  552160000\n",
       "3  2010-01-07  6.344076  7.520714  7.571429  7.466071  7.562500  477131200\n",
       "4  2010-01-08  6.386254  7.570714  7.571429  7.466429  7.510714  447610800"
      ]
     },
     "execution_count": 72,
     "metadata": {},
     "output_type": "execute_result"
    }
   ],
   "source": [
    "df = pd.read_csv('./clean_csvs/AAPL.csv')\n",
    "\n",
    "df.head()"
   ]
  },
  {
   "cell_type": "code",
   "execution_count": 73,
   "metadata": {},
   "outputs": [
    {
     "data": {
      "text/plain": [
       "3754"
      ]
     },
     "execution_count": 73,
     "metadata": {},
     "output_type": "execute_result"
    }
   ],
   "source": [
    "len(df)"
   ]
  },
  {
   "cell_type": "markdown",
   "metadata": {},
   "source": [
    "If we use all available days, we would have 3754 rows. However, if we use only the interval mentioned in the project statement, we should have as many rows as the GSPC index, if it in fact did remain consistent for all those years. "
   ]
  },
  {
   "cell_type": "code",
   "execution_count": 74,
   "metadata": {},
   "outputs": [
    {
     "data": {
      "text/plain": [
       "3522"
      ]
     },
     "execution_count": 74,
     "metadata": {},
     "output_type": "execute_result"
    }
   ],
   "source": [
    "len(df_gspc)"
   ]
  },
  {
   "cell_type": "code",
   "execution_count": 75,
   "metadata": {},
   "outputs": [
    {
     "data": {
      "text/plain": [
       "3522"
      ]
     },
     "execution_count": 75,
     "metadata": {},
     "output_type": "execute_result"
    }
   ],
   "source": [
    "start_date = '2010-01-04'\n",
    "end_date = '2023-12-29'\n",
    "\n",
    "# Get only relevant days\n",
    "interval_df = df[(df['Date'] >= start_date) & (df['Date'] <= end_date)]\n",
    "\n",
    "len(interval_df)"
   ]
  },
  {
   "cell_type": "markdown",
   "metadata": {},
   "source": [
    "After confirming that, in fact, the correct row number should be `3522`, the next step consists of collecting all of the tickers with the same number of rows as the interval inside the `tickers_3522` array, and separate them from all of the files with less than 3522 rows inside the `tickers_less_3522` array."
   ]
  },
  {
   "cell_type": "code",
   "execution_count": 76,
   "metadata": {},
   "outputs": [],
   "source": [
    "tickers_3522 = []\n",
    "tickers_less_3522 = []\n",
    "\n",
    "# Iterate over each file \n",
    "for ticker in tickers:\n",
    "    file_path = os.path.join(clean_directory, f\"{ticker}.csv\")\n",
    "\n",
    "    # Temporarily transform into dataframe\n",
    "    df = pd.read_csv(file_path)\n",
    "\n",
    "    start_date = '2010-01-04'\n",
    "    end_date = '2023-12-290'\n",
    "\n",
    "    # Filter rows\n",
    "    interval_df = df[(df['Date'] >= start_date) & (df['Date'] <= end_date)]\n",
    "\n",
    "    if len(interval_df) == 3522: tickers_3522.append(ticker)\n",
    "    elif len(interval_df) < 3522: tickers_less_3522.append(ticker)"
   ]
  },
  {
   "cell_type": "code",
   "execution_count": 77,
   "metadata": {},
   "outputs": [
    {
     "name": "stdout",
     "output_type": "stream",
     "text": [
      "430\n",
      "73\n"
     ]
    }
   ],
   "source": [
    "print(len(tickers_3522))\n",
    "print(len(tickers_less_3522))"
   ]
  },
  {
   "cell_type": "markdown",
   "metadata": {},
   "source": [
    "We have some pretty good results. 430 out of the 503 csv files available show consistency throghout the ~13 years we intend to test. \n"
   ]
  },
  {
   "cell_type": "markdown",
   "metadata": {},
   "source": [
    "### Inconsistent Companies"
   ]
  },
  {
   "cell_type": "markdown",
   "metadata": {},
   "source": [
    "Let's see how many dfifferent row values exist for each of the 73 inconsistent dataframes:"
   ]
  },
  {
   "cell_type": "code",
   "execution_count": 78,
   "metadata": {},
   "outputs": [
    {
     "name": "stdout",
     "output_type": "stream",
     "text": [
      "66\n"
     ]
    }
   ],
   "source": [
    "diff_val = {}\n",
    "\n",
    "# Iterate over each file \n",
    "for ticker in tickers_less_3522:\n",
    "    file_path = os.path.join(clean_directory, f\"{ticker}.csv\")\n",
    "\n",
    "    # Temporarily transform into dataframe\n",
    "    df = pd.read_csv(file_path)\n",
    "\n",
    "    start_date = '2010-01-04'\n",
    "    end_date = '2023-12-290'\n",
    "\n",
    "    # Filter rows\n",
    "    interval_df = df[(df['Date'] >= start_date) & (df['Date'] <= end_date)]\n",
    "\n",
    "    row_count = len(interval_df)\n",
    "\n",
    "    if row_count in diff_val: diff_val[row_count].append(ticker)\n",
    "    else: diff_val[row_count] = [ticker]\n",
    "        \n",
    "print(len(diff_val))"
   ]
  },
  {
   "cell_type": "markdown",
   "metadata": {},
   "source": [
    "\n",
    "In order to showcase all of the different values for the inconsistent companies, we decided to group them by intervals:"
   ]
  },
  {
   "cell_type": "code",
   "execution_count": 79,
   "metadata": {},
   "outputs": [
    {
     "name": "stdout",
     "output_type": "stream",
     "text": [
      "0 3521\n"
     ]
    }
   ],
   "source": [
    "min_diff = min(diff_val)\n",
    "max_diff = max(diff_val)\n",
    "\n",
    "print(min_diff, max_diff)"
   ]
  },
  {
   "cell_type": "code",
   "execution_count": 80,
   "metadata": {},
   "outputs": [
    {
     "data": {
      "image/png": "[encoded data removed]",
      "text/plain": [
       "<Figure size 800x400 with 1 Axes>"
      ]
     },
     "metadata": {},
     "output_type": "display_data"
    }
   ],
   "source": [
    "# Group row counts into ranges\n",
    "ranges = pd.cut(list(diff_val.keys()), bins=[0, 100, 500, 1000, 1500, 2000, 2500, 3000, 3500, 3550], \n",
    "                labels=['0-100', '101-500', '501-1000', '1001-1500', '1501-2000', '2001-2500', '2501-3000', '3001-3500', '3501-3550'])\n",
    "grouped_data = pd.Series(diff_val.keys()).groupby(ranges, observed=False).size()\n",
    "\n",
    "plt.figure(figsize=(8,4))\n",
    "grouped_data.plot(kind='bar', color='skyblue')\n",
    "\n",
    "plt.title('Row Intervals for Tickers')\n",
    "plt.xlabel('Row Count Ranges')\n",
    "plt.ylabel('Number of Tickers')\n",
    "plt.show()\n"
   ]
  },
  {
   "cell_type": "code",
   "execution_count": 81,
   "metadata": {},
   "outputs": [
    {
     "data": {
      "text/plain": [
       "3522"
      ]
     },
     "execution_count": 81,
     "metadata": {},
     "output_type": "execute_result"
    }
   ],
   "source": [
    "_"
   ]
  }
 ],
 "metadata": {
  "kernelspec": {
   "display_name": "sp500",
   "language": "python",
   "name": "python3"
  },
  "language_info": {
   "codemirror_mode": {
    "name": "ipython",
    "version": 3
   },
   "file_extension": ".py",
   "mimetype": "text/x-python",
   "name": "python",
   "nbconvert_exporter": "python",
   "pygments_lexer": "ipython3",
   "version": "3.12.7"
  }
 },
 "nbformat": 4,
 "nbformat_minor": 4
}
