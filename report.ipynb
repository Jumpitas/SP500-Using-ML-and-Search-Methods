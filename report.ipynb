{
 "cells": [
  {
   "cell_type": "markdown",
   "metadata": {},
   "source": [
    "# Applying Machine Learning and Search Methods for S&P500 Stock Portfolio Forecasting and Optimization\n",
    "\n",
    " Project developed by: **Eduardo Passos** [202205630](https://sigarra.up.pt/fcup/pt/fest_geral.cursos_list?pv_num_unico=202205630), **Pedro Fernandes** [202208347](https://sigarra.up.pt/fcup/pt/fest_geral.cursos_list?pv_num_unico=202208347) and **Rafael Pacheco** [202206258](https://sigarra.up.pt/fcup/pt/fest_geral.cursos_list?pv_num_unico=202206258)"
   ]
  },
  {
   "cell_type": "markdown",
   "metadata": {},
   "source": [
    "### Index {#index} #############################################\n",
    "1. [Project Introduction](#intro)\n",
    "2. [Introduction to Stock Concepts](#intro2)\n",
    "3. [Data Extraction and Collection](#data)\n",
    "4. [Exploratory Data Analysis](#eda)\n",
    "5. \n",
    "\n",
    "? [Conclusion](#conclusion)\n",
    "? [References](#ref)"
   ]
  },
  {
   "cell_type": "markdown",
   "metadata": {},
   "source": [
    "# Project Introduction and Motivation {#intro}"
   ]
  },
  {
   "cell_type": "markdown",
   "metadata": {},
   "source": [
    "This project encompasses the creation of a well suited investment strategy based on the S&P500 stock dataset.\n",
    "The highlights of the group's development process are detailed throughout this report. All of the specific files utilized during the project's development can be found inside the submitted folder.\n",
    "\n",
    "In order to predict stock behaviour, we employed:\n",
    "\n",
    " - `Deep Learning`: Long Short-Term Memory (LSTM)\n",
    " - ...\n",
    "\n",
    "To optimize portfolio selection, we implemented:\n",
    "\n",
    " - `Search Methods`: Monte Carlo Tree Search (MCTS)\n",
    " - ..."
   ]
  },
  {
   "cell_type": "markdown",
   "metadata": {},
   "source": [
    "The stock market is highly volatile and unpredictable, making stock price prediction nearly luck based.\n",
    "\n",
    "In order to create strategies that allow for investors to efficiently obtain risk-adjusted returns, we can use **S&P500 data** to get a better understanding of how the stock market may behave, based on previously collected data and statistics.\n",
    "\n",
    "It's important to mention that it doesn't always follow a guaranteed predictable, mathematical pattern. It is influenced by many real-world factors, independent to a company's growth and significance."
   ]
  },
  {
   "cell_type": "markdown",
   "metadata": {},
   "source": [
    "# Introduction to Stock Concepts"
   ]
  },
  {
   "cell_type": "markdown",
   "metadata": {},
   "source": [
    "In case the reader is unfamiliar with stocks and investing, we decided to briefly explain key concepts used throughout this report."
   ]
  },
  {
   "cell_type": "markdown",
   "metadata": {},
   "source": [
    "The S&P500 is a stock market index that tracks the performance of 500 of the largest publicly traded companies in the United States. As per requested in the project statement, we used this dataset's information, from 2010 to 2023, in order to predict the stock behaviour of those companies during January 20204."
   ]
  },
  {
   "cell_type": "markdown",
   "metadata": {},
   "source": [
    "### **What are stocks, and why are they an investment?**\n",
    "Stocks (or shares) represent ownership in a company. Investors buy stocks to gain a portion of a company's profits, or to benefit from an increase in the stock's market value.\n",
    "\n",
    "#### **What are tickers?**\n",
    "A ticker is a unique symbol assigned to a company's stock, essentially an identifier for each company, in order to facilitate stock tracking:\n",
    "\n",
    " - `AAPL`: Apple Inc.\n",
    " - `GOOG`: Alphabet Inc. (or, simply put, Google)\n",
    " \n",
    "### **What are opening and closing prices?**\n",
    "The opening price is the price at which a stock begins trading, when the market opens for the day. \n",
    "The closing price is the actual last transaction price on that day, for that specific stock.\n",
    "\n",
    "We will be using daily windows in order to predict these prices.\n",
    "\n",
    "### **What are windows, and how are they helpful during prediction?**\n",
    "In time series analysis, a \"window\" refers to a segment of the data used for analysis or prediction. \n",
    "By using time series analysis, we aim to identify patterns, trends, and seasonal effects in the data.\n",
    "\n",
    "### **Most importantly, how can I gain or lose money by investing?**\n",
    "\n",
    "A positive return indicates profit, while a negative return signifies a loss. \n",
    "These are typically expressed as a percentage of the original investment. \n",
    "\n",
    "Imagine the investor purchases stock at 100:\n",
    "\n",
    " - Stock price increases from 100 to 110 -> the return is 10% -> <span style=\"color:green\">Profit!</span>\n",
    "\n",
    " - Stock price decreases from 100 to 90 -> the return is -10% -> <span style=\"color:red\">Loss!</span>\n",
    "\n",
    "Market fluctuations dictate stock prices, which in return represent profit or loss for investors."
   ]
  },
  {
   "cell_type": "markdown",
   "metadata": {},
   "source": [
    "# Data Extraction and Collection"
   ]
  },
  {
   "cell_type": "markdown",
   "metadata": {},
   "source": [
    "In order to extract the 2010-2023 section of the dataset, we used the `yfinance` module. \n",
    "\n",
    "[Wikipedia](https://en.wikipedia.org/wiki/List_of_S%26P_500_companies) is also accessed to download a table containing a list of S&P500 tickers.\n",
    "\n",
    "The functions below document the extraction and collection process."
   ]
  },
  {
   "cell_type": "code",
   "execution_count": 1,
   "metadata": {},
   "outputs": [],
   "source": [
    "import pandas as pd\n",
    "import yfinance as yf"
   ]
  },
  {
   "cell_type": "code",
   "execution_count": null,
   "metadata": {},
   "outputs": [],
   "source": [
    "# Step 1: Get the list of S&P 500 companies\n",
    "def get_sp500_tickers():\n",
    "    # Download the table from Wikipedia\n",
    "    url = \"https://en.wikipedia.org/wiki/List_of_S%26P_500_companies\"\n",
    "    table = pd.read_html(url)[0]\n",
    "    tickers = table['Symbol'].tolist()\n",
    "    \n",
    "    # Remove any invalid ticker symbols if necessary\n",
    "    tickers = [ticker.replace('.', '-') for ticker in tickers]  # For Yahoo Finance compatibility\n",
    "    return tickers"
   ]
  },
  {
   "cell_type": "code",
   "execution_count": null,
   "metadata": {},
   "outputs": [],
   "source": [
    "# Step 2: Download data for each stock\n",
    "def download_sp500_data(tickers, start_date=\"2000-01-01\", end_date=\"2024-12-31\"):\n",
    "    data = {}\n",
    "    for ticker in tickers:\n",
    "        print(f\"Downloading data for {ticker}...\")\n",
    "        try:\n",
    "            data[ticker] = yf.download(ticker, start=start_date, end=end_date)\n",
    "        except Exception as e:\n",
    "            print(f\"Error downloading {ticker}: {e}\")\n",
    "    return data"
   ]
  },
  {
   "cell_type": "code",
   "execution_count": null,
   "metadata": {},
   "outputs": [],
   "source": [
    "# Step 3: Save or analyze the data\n",
    "def save_data_to_csv(data):\n",
    "    for ticker, df in data.items():\n",
    "        if not df.empty:\n",
    "            df.to_csv(f\"{ticker}.csv\")\n",
    "        else:\n",
    "            print(f\"No data for {ticker}.\")"
   ]
  },
  {
   "cell_type": "markdown",
   "metadata": {},
   "source": [
    "This code is in `markdown` format in order to avoid unnecessary execution, as all of the files are in the `all_sp500_csvs_2010-24` folder."
   ]
  },
  {
   "cell_type": "markdown",
   "metadata": {},
   "source": [
    "```py\n",
    "tickers = get_sp500_tickers()\n",
    "sp500_data = download_sp500_data(tickers)\n",
    "save_data_to_csv(sp500_data)\n",
    "```"
   ]
  },
  {
   "cell_type": "markdown",
   "metadata": {},
   "source": [
    "ta sacado ate dezembro 24"
   ]
  },
  {
   "cell_type": "code",
   "execution_count": null,
   "metadata": {},
   "outputs": [],
   "source": []
  }
 ],
 "metadata": {
  "kernelspec": {
   "display_name": "Python 3 (ipykernel)",
   "language": "python",
   "name": "python3"
  },
  "language_info": {
   "codemirror_mode": {
    "name": "ipython",
    "version": 3
   },
   "file_extension": ".py",
   "mimetype": "text/x-python",
   "name": "python",
   "nbconvert_exporter": "python",
   "pygments_lexer": "ipython3",
   "version": "3.12.7"
  }
 },
 "nbformat": 4,
 "nbformat_minor": 4
}
