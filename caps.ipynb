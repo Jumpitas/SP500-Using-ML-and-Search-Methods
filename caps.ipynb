{
 "cells": [
  {
   "cell_type": "code",
   "execution_count": 2,
   "id": "1f93bf0d-187d-4f98-a979-248951106484",
   "metadata": {},
   "outputs": [
    {
     "name": "stderr",
     "output_type": "stream",
     "text": [
      "/tmp/ipykernel_12458/1796099106.py:10: FutureWarning: DataFrame.applymap has been deprecated. Use DataFrame.map instead.\n",
      "  df = df.applymap(lambda x: x.title() if isinstance(x, str) else x)\n"
     ]
    },
    {
     "data": {
      "text/plain": [
       "'Standardized file saved to test.csv.'"
      ]
     },
     "execution_count": 2,
     "metadata": {},
     "output_type": "execute_result"
    }
   ],
   "source": [
    "# someone forgot the caps on all the files\n",
    "import pandas as pd\n",
    "\n",
    "def standardize_casing(file_path, output_path):\n",
    "    try:\n",
    "        # Load the CSV file\n",
    "        df = pd.read_csv(file_path)\n",
    "\n",
    "        # Apply title casing to all string elements in the DataFrame\n",
    "        df = df.applymap(lambda x: x.title() if isinstance(x, str) else x)\n",
    "\n",
    "        # Save the modified DataFrame to a new file\n",
    "        df.to_csv(output_path, index=False)\n",
    "        return f\"Standardized file saved to {output_path}.\"\n",
    "        \n",
    "    except Exception as e:\n",
    "        return str(e)\n",
    "\n",
    "\n",
    "\n",
    "# File paths\n",
    "input_file = \"lstm_1pct.csv\"\n",
    "output_file = \"test.csv\"\n",
    "\n",
    "# Apply the function\n",
    "standardize_message = standardize_casing(input_file, output_file)\n",
    "standardize_message"
   ]
  },
  {
   "cell_type": "code",
   "execution_count": null,
   "id": "f193b3ab-fecd-424c-b143-06526bf10ae1",
   "metadata": {},
   "outputs": [],
   "source": []
  }
 ],
 "metadata": {
  "kernelspec": {
   "display_name": "Python 3 (ipykernel)",
   "language": "python",
   "name": "python3"
  },
  "language_info": {
   "codemirror_mode": {
    "name": "ipython",
    "version": 3
   },
   "file_extension": ".py",
   "mimetype": "text/x-python",
   "name": "python",
   "nbconvert_exporter": "python",
   "pygments_lexer": "ipython3",
   "version": "3.12.4"
  }
 },
 "nbformat": 4,
 "nbformat_minor": 5
}
