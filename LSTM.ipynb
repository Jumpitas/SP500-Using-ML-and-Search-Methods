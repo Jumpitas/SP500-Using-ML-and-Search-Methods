{
 "cells": [
  {
   "metadata": {},
   "cell_type": "markdown",
   "source": "## Imports",
   "id": "b0d76d8c48769608"
  },
  {
   "metadata": {
    "ExecuteTime": {
     "end_time": "2024-12-03T15:23:30.544075Z",
     "start_time": "2024-12-03T15:23:30.540345Z"
    }
   },
   "cell_type": "code",
   "source": [
    "import pandas as pd\n",
    "import numpy as np\n",
    "import os\n",
    "from sklearn.preprocessing import MinMaxScaler\n",
    "from keras.models import Sequential\n",
    "from keras.layers import Dense, LSTM\n",
    "from keras.callbacks import EarlyStopping\n",
    "from tqdm import tqdm\n",
    "import warnings\n",
    "import matplotlib as plt\n",
    "import matplotlib\n",
    "warnings.filterwarnings('ignore')"
   ],
   "id": "b092be5797ea0fb0",
   "outputs": [],
   "execution_count": 180
  },
  {
   "metadata": {},
   "cell_type": "markdown",
   "source": "## Helper functions",
   "id": "d19d717d05636c4a"
  },
  {
   "metadata": {
    "ExecuteTime": {
     "end_time": "2024-12-03T15:23:30.589179Z",
     "start_time": "2024-12-03T15:23:30.582741Z"
    }
   },
   "cell_type": "code",
   "source": [
    "def preprocess_data(prices):\n",
    "    prices = prices.values.reshape(-1, 1)\n",
    "    scaler = MinMaxScaler(feature_range=(0, 1))\n",
    "    scaled_prices = scaler.fit_transform(prices)\n",
    "    return scaled_prices, scaler\n",
    "\n",
    "def create_sequences(data, look_back):\n",
    "    X = []\n",
    "    for i in range(look_back, len(data)):\n",
    "        X.append(data[i - look_back:i])\n",
    "    return np.array(X)\n",
    "\n",
    "def build_lstm_model(input_shape):\n",
    "    model = Sequential([\n",
    "        LSTM(units=50, return_sequences=False, input_shape=input_shape),\n",
    "        Dense(units=1)\n",
    "    ])\n",
    "    model.compile(optimizer='adam', loss='mean_squared_error')\n",
    "    return model\n",
    "\n",
    "def generate_future_signals(df_predictions, threshold):\n",
    "    df_predictions = df_predictions.copy()\n",
    "    df_predictions['next_day_prediction'] = df_predictions['prediction'].shift(-1)\n",
    "    df_predictions['predicted_change'] = df_predictions['next_day_prediction'] - df_predictions['prediction']\n",
    "    df_predictions['pct_change'] = df_predictions['predicted_change'] / df_predictions['prediction']\n",
    "    df_predictions.dropna(subset=['next_day_prediction'], inplace=True)\n",
    "\n",
    "    def get_signal(row):\n",
    "        if row['pct_change'] > threshold:\n",
    "            return 'buy'\n",
    "        elif row['pct_change'] < -threshold:\n",
    "            return 'sell'\n",
    "        else:\n",
    "            return 'hold'\n",
    "\n",
    "    df_predictions['signal'] = df_predictions.apply(get_signal, axis=1)\n",
    "    return df_predictions[['date', 'signal']]"
   ],
   "id": "d824ea759911a683",
   "outputs": [],
   "execution_count": 181
  },
  {
   "metadata": {},
   "cell_type": "markdown",
   "source": "## Read the List of S&P 500 Stocks",
   "id": "6472cfc9837c352f"
  },
  {
   "metadata": {
    "ExecuteTime": {
     "end_time": "2024-12-03T15:23:30.596936Z",
     "start_time": "2024-12-03T15:23:30.592172Z"
    }
   },
   "cell_type": "code",
   "source": [
    "# Directory containing the CSV files\n",
    "csv_directory = 'clean_csvs'\n",
    "\n",
    "# List of tickers based on the CSV filenames\n",
    "tickers = [filename.replace('.csv', '') for filename in os.listdir(csv_directory) if filename.endswith('.csv')]\n",
    "tickers = tickers[:3]\n",
    "# Sort the tickers\n",
    "tickers.sort()"
   ],
   "id": "8bb24b846bbb41e9",
   "outputs": [],
   "execution_count": 182
  },
  {
   "metadata": {},
   "cell_type": "markdown",
   "source": "Define Parameters",
   "id": "ec8924d00ec49855"
  },
  {
   "metadata": {
    "ExecuteTime": {
     "end_time": "2024-12-03T15:23:30.632978Z",
     "start_time": "2024-12-03T15:23:30.629732Z"
    }
   },
   "cell_type": "code",
   "source": [
    "start_date = '2010-01-01'\n",
    "end_date = '2023-12-31'\n",
    "look_back = 10\n",
    "threshold = 0.01  # Adjust the threshold as needed"
   ],
   "id": "98bbe61b160028ce",
   "outputs": [],
   "execution_count": 183
  },
  {
   "metadata": {},
   "cell_type": "markdown",
   "source": "## Automate the LSTM Model for Each Stock",
   "id": "a06f73859ed01d34"
  },
  {
   "metadata": {
    "ExecuteTime": {
     "end_time": "2024-12-03T15:24:14.929380Z",
     "start_time": "2024-12-03T15:23:30.667700Z"
    }
   },
   "cell_type": "code",
   "source": [
    "# Initialize dictionaries to store signals\n",
    "signals_dict = {}\n",
    "\n",
    "for ticker in tqdm(tickers):\n",
    "    try:\n",
    "        print(f\"\\nProcessing ticker: {ticker}\")\n",
    "\n",
    "        # Read data from CSV\n",
    "        csv_path = os.path.join(csv_directory, f\"{ticker}.csv\")\n",
    "        data = pd.read_csv(csv_path, parse_dates=['Date'])\n",
    "        data.set_index('Date', inplace=True)\n",
    "        data.sort_index(inplace=True)\n",
    "\n",
    "        # Filter data based on start and end dates\n",
    "        data = data.loc[(data.index >= pd.to_datetime(start_date)) & (data.index <= pd.to_datetime(end_date))]\n",
    "\n",
    "        if data.empty or len(data) < look_back + 1:\n",
    "            print(f\"Skipping {ticker}: insufficient data after filtering\")\n",
    "            continue\n",
    "\n",
    "        # Preprocess data\n",
    "        scaled_prices, scaler = preprocess_data(data['Close'])\n",
    "\n",
    "        # Create sequences\n",
    "        X_train = create_sequences(scaled_prices, look_back)\n",
    "        y_train = scaled_prices[look_back:]\n",
    "\n",
    "        if len(X_train) == 0:\n",
    "            print(f\"Skipping {ticker}: no sequences created\")\n",
    "            continue\n",
    "\n",
    "        # Split data for validation\n",
    "        val_split = int(0.8 * len(X_train))  # Use 80% of data for training, 20% for validation\n",
    "        X_train, X_val = X_train[:val_split], X_train[val_split:]\n",
    "        y_train, y_val = y_train[:val_split], y_train[val_split:]\n",
    "\n",
    "        # Build and train model\n",
    "        print(f\"Training model for {ticker}\")\n",
    "        model = build_lstm_model((X_train.shape[1], X_train.shape[2]))\n",
    "        early_stopping = EarlyStopping(monitor='val_loss', patience=5)\n",
    "        history = model.fit(\n",
    "            X_train, y_train,\n",
    "            validation_data=(X_val, y_val),\n",
    "            epochs=20,  # Increased epochs\n",
    "            batch_size=16,  # Reduced batch size\n",
    "            verbose=1,\n",
    "            callbacks=[early_stopping]\n",
    "        )\n",
    "\n",
    "\n",
    "        # Generate future predictions\n",
    "        from pandas.tseries.offsets import BDay\n",
    "        future_dates = pd.bdate_range(start='2024-01-01', end='2024-01-31')\n",
    "        n_future = len(future_dates)\n",
    "\n",
    "        last_sequence = scaled_prices[-look_back:]\n",
    "        current_sequence = last_sequence.reshape(1, look_back, 1)\n",
    "        future_predictions = []\n",
    "\n",
    "        for _ in range(n_future):\n",
    "            next_pred_scaled = model.predict(current_sequence)\n",
    "            future_predictions.append(next_pred_scaled[0, 0])\n",
    "            current_sequence = np.concatenate((current_sequence[:, 1:, :], next_pred_scaled.reshape(1, 1, 1)), axis=1)\n",
    "\n",
    "        # Convert future predictions back to original prices\n",
    "        future_predictions_unscaled = scaler.inverse_transform(np.array(future_predictions).reshape(-1, 1))\n",
    "\n",
    "        # Create a DataFrame with future dates and predictions\n",
    "        future_df = pd.DataFrame({\n",
    "            'date': future_dates,\n",
    "            'prediction': future_predictions_unscaled.squeeze()\n",
    "        })\n",
    "\n",
    "        # Generate signals\n",
    "        signals = generate_future_signals(future_df, threshold)\n",
    "        signals.set_index('date', inplace=True)\n",
    "        signals.rename(columns={'signal': ticker}, inplace=True)\n",
    "\n",
    "        # Store signals\n",
    "        if not signals.empty:\n",
    "            signals_dict[ticker] = signals[[ticker]]\n",
    "            print(f\"Added signals for {ticker}\")\n",
    "        else:\n",
    "            print(f\"No signals generated for {ticker}\")\n",
    "\n",
    "    except Exception as e:\n",
    "        print(f\"Error processing {ticker}: {e}\")\n",
    "        continue\n"
   ],
   "id": "69ad5bf39525cb4b",
   "outputs": [
    {
     "name": "stderr",
     "output_type": "stream",
     "text": [
      "  0%|          | 0/3 [00:00<?, ?it/s]"
     ]
    },
    {
     "name": "stdout",
     "output_type": "stream",
     "text": [
      "\n",
      "Processing ticker: A\n",
      "Training model for A\n",
      "Epoch 1/20\n",
      "\u001B[1m176/176\u001B[0m \u001B[32m━━━━━━━━━━━━━━━━━━━━\u001B[0m\u001B[37m\u001B[0m \u001B[1m3s\u001B[0m 5ms/step - loss: 0.0124 - val_loss: 0.0017\n",
      "Epoch 2/20\n",
      "\u001B[1m176/176\u001B[0m \u001B[32m━━━━━━━━━━━━━━━━━━━━\u001B[0m\u001B[37m\u001B[0m \u001B[1m1s\u001B[0m 3ms/step - loss: 1.3077e-04 - val_loss: 8.1853e-04\n",
      "Epoch 3/20\n",
      "\u001B[1m176/176\u001B[0m \u001B[32m━━━━━━━━━━━━━━━━━━━━\u001B[0m\u001B[37m\u001B[0m \u001B[1m1s\u001B[0m 4ms/step - loss: 1.2982e-04 - val_loss: 7.8236e-04\n",
      "Epoch 4/20\n",
      "\u001B[1m176/176\u001B[0m \u001B[32m━━━━━━━━━━━━━━━━━━━━\u001B[0m\u001B[37m\u001B[0m \u001B[1m1s\u001B[0m 3ms/step - loss: 1.2399e-04 - val_loss: 7.9466e-04\n",
      "Epoch 5/20\n",
      "\u001B[1m176/176\u001B[0m \u001B[32m━━━━━━━━━━━━━━━━━━━━\u001B[0m\u001B[37m\u001B[0m \u001B[1m1s\u001B[0m 4ms/step - loss: 1.1558e-04 - val_loss: 0.0010\n",
      "Epoch 6/20\n",
      "\u001B[1m176/176\u001B[0m \u001B[32m━━━━━━━━━━━━━━━━━━━━\u001B[0m\u001B[37m\u001B[0m \u001B[1m1s\u001B[0m 4ms/step - loss: 1.2762e-04 - val_loss: 7.4750e-04\n",
      "Epoch 7/20\n",
      "\u001B[1m176/176\u001B[0m \u001B[32m━━━━━━━━━━━━━━━━━━━━\u001B[0m\u001B[37m\u001B[0m \u001B[1m1s\u001B[0m 3ms/step - loss: 1.2747e-04 - val_loss: 7.8148e-04\n",
      "Epoch 8/20\n",
      "\u001B[1m176/176\u001B[0m \u001B[32m━━━━━━━━━━━━━━━━━━━━\u001B[0m\u001B[37m\u001B[0m \u001B[1m1s\u001B[0m 3ms/step - loss: 1.0533e-04 - val_loss: 7.2174e-04\n",
      "Epoch 9/20\n",
      "\u001B[1m176/176\u001B[0m \u001B[32m━━━━━━━━━━━━━━━━━━━━\u001B[0m\u001B[37m\u001B[0m \u001B[1m1s\u001B[0m 3ms/step - loss: 1.0541e-04 - val_loss: 0.0017\n",
      "Epoch 10/20\n",
      "\u001B[1m176/176\u001B[0m \u001B[32m━━━━━━━━━━━━━━━━━━━━\u001B[0m\u001B[37m\u001B[0m \u001B[1m1s\u001B[0m 3ms/step - loss: 1.1514e-04 - val_loss: 6.1940e-04\n",
      "Epoch 11/20\n",
      "\u001B[1m176/176\u001B[0m \u001B[32m━━━━━━━━━━━━━━━━━━━━\u001B[0m\u001B[37m\u001B[0m \u001B[1m1s\u001B[0m 4ms/step - loss: 1.1155e-04 - val_loss: 5.8701e-04\n",
      "Epoch 12/20\n",
      "\u001B[1m176/176\u001B[0m \u001B[32m━━━━━━━━━━━━━━━━━━━━\u001B[0m\u001B[37m\u001B[0m \u001B[1m1s\u001B[0m 4ms/step - loss: 9.3920e-05 - val_loss: 5.6795e-04\n",
      "Epoch 13/20\n",
      "\u001B[1m176/176\u001B[0m \u001B[32m━━━━━━━━━━━━━━━━━━━━\u001B[0m\u001B[37m\u001B[0m \u001B[1m1s\u001B[0m 4ms/step - loss: 1.0697e-04 - val_loss: 7.1574e-04\n",
      "Epoch 14/20\n",
      "\u001B[1m176/176\u001B[0m \u001B[32m━━━━━━━━━━━━━━━━━━━━\u001B[0m\u001B[37m\u001B[0m \u001B[1m1s\u001B[0m 3ms/step - loss: 1.0219e-04 - val_loss: 5.2612e-04\n",
      "Epoch 15/20\n",
      "\u001B[1m176/176\u001B[0m \u001B[32m━━━━━━━━━━━━━━━━━━━━\u001B[0m\u001B[37m\u001B[0m \u001B[1m1s\u001B[0m 3ms/step - loss: 9.3096e-05 - val_loss: 5.0683e-04\n",
      "Epoch 16/20\n",
      "\u001B[1m176/176\u001B[0m \u001B[32m━━━━━━━━━━━━━━━━━━━━\u001B[0m\u001B[37m\u001B[0m \u001B[1m1s\u001B[0m 4ms/step - loss: 8.7715e-05 - val_loss: 5.3752e-04\n",
      "Epoch 17/20\n",
      "\u001B[1m176/176\u001B[0m \u001B[32m━━━━━━━━━━━━━━━━━━━━\u001B[0m\u001B[37m\u001B[0m \u001B[1m1s\u001B[0m 4ms/step - loss: 7.9443e-05 - val_loss: 5.4819e-04\n",
      "Epoch 18/20\n",
      "\u001B[1m176/176\u001B[0m \u001B[32m━━━━━━━━━━━━━━━━━━━━\u001B[0m\u001B[37m\u001B[0m \u001B[1m1s\u001B[0m 3ms/step - loss: 8.5924e-05 - val_loss: 5.2310e-04\n",
      "Epoch 19/20\n",
      "\u001B[1m176/176\u001B[0m \u001B[32m━━━━━━━━━━━━━━━━━━━━\u001B[0m\u001B[37m\u001B[0m \u001B[1m1s\u001B[0m 3ms/step - loss: 7.9642e-05 - val_loss: 5.2883e-04\n",
      "Epoch 20/20\n",
      "\u001B[1m176/176\u001B[0m \u001B[32m━━━━━━━━━━━━━━━━━━━━\u001B[0m\u001B[37m\u001B[0m \u001B[1m1s\u001B[0m 3ms/step - loss: 8.1909e-05 - val_loss: 4.1141e-04\n",
      "\u001B[1m1/1\u001B[0m \u001B[32m━━━━━━━━━━━━━━━━━━━━\u001B[0m\u001B[37m\u001B[0m \u001B[1m0s\u001B[0m 158ms/step\n",
      "\u001B[1m1/1\u001B[0m \u001B[32m━━━━━━━━━━━━━━━━━━━━\u001B[0m\u001B[37m\u001B[0m \u001B[1m0s\u001B[0m 35ms/step\n",
      "\u001B[1m1/1\u001B[0m \u001B[32m━━━━━━━━━━━━━━━━━━━━\u001B[0m\u001B[37m\u001B[0m \u001B[1m0s\u001B[0m 35ms/step\n",
      "\u001B[1m1/1\u001B[0m \u001B[32m━━━━━━━━━━━━━━━━━━━━\u001B[0m\u001B[37m\u001B[0m \u001B[1m0s\u001B[0m 34ms/step\n",
      "\u001B[1m1/1\u001B[0m \u001B[32m━━━━━━━━━━━━━━━━━━━━\u001B[0m\u001B[37m\u001B[0m \u001B[1m0s\u001B[0m 34ms/step\n",
      "\u001B[1m1/1\u001B[0m \u001B[32m━━━━━━━━━━━━━━━━━━━━\u001B[0m\u001B[37m\u001B[0m \u001B[1m0s\u001B[0m 36ms/step\n",
      "\u001B[1m1/1\u001B[0m \u001B[32m━━━━━━━━━━━━━━━━━━━━\u001B[0m\u001B[37m\u001B[0m \u001B[1m0s\u001B[0m 33ms/step\n",
      "\u001B[1m1/1\u001B[0m \u001B[32m━━━━━━━━━━━━━━━━━━━━\u001B[0m\u001B[37m\u001B[0m \u001B[1m0s\u001B[0m 34ms/step\n",
      "\u001B[1m1/1\u001B[0m \u001B[32m━━━━━━━━━━━━━━━━━━━━\u001B[0m\u001B[37m\u001B[0m \u001B[1m0s\u001B[0m 34ms/step\n",
      "\u001B[1m1/1\u001B[0m \u001B[32m━━━━━━━━━━━━━━━━━━━━\u001B[0m\u001B[37m\u001B[0m \u001B[1m0s\u001B[0m 36ms/step\n",
      "\u001B[1m1/1\u001B[0m \u001B[32m━━━━━━━━━━━━━━━━━━━━\u001B[0m\u001B[37m\u001B[0m \u001B[1m0s\u001B[0m 34ms/step\n",
      "\u001B[1m1/1\u001B[0m \u001B[32m━━━━━━━━━━━━━━━━━━━━\u001B[0m\u001B[37m\u001B[0m \u001B[1m0s\u001B[0m 34ms/step\n",
      "\u001B[1m1/1\u001B[0m \u001B[32m━━━━━━━━━━━━━━━━━━━━\u001B[0m\u001B[37m\u001B[0m \u001B[1m0s\u001B[0m 35ms/step\n",
      "\u001B[1m1/1\u001B[0m \u001B[32m━━━━━━━━━━━━━━━━━━━━\u001B[0m\u001B[37m\u001B[0m \u001B[1m0s\u001B[0m 34ms/step\n",
      "\u001B[1m1/1\u001B[0m \u001B[32m━━━━━━━━━━━━━━━━━━━━\u001B[0m\u001B[37m\u001B[0m \u001B[1m0s\u001B[0m 35ms/step\n",
      "\u001B[1m1/1\u001B[0m \u001B[32m━━━━━━━━━━━━━━━━━━━━\u001B[0m\u001B[37m\u001B[0m \u001B[1m0s\u001B[0m 34ms/step\n",
      "\u001B[1m1/1\u001B[0m \u001B[32m━━━━━━━━━━━━━━━━━━━━\u001B[0m\u001B[37m\u001B[0m \u001B[1m0s\u001B[0m 36ms/step\n",
      "\u001B[1m1/1\u001B[0m \u001B[32m━━━━━━━━━━━━━━━━━━━━\u001B[0m\u001B[37m\u001B[0m \u001B[1m0s\u001B[0m 34ms/step\n",
      "\u001B[1m1/1\u001B[0m \u001B[32m━━━━━━━━━━━━━━━━━━━━\u001B[0m\u001B[37m\u001B[0m \u001B[1m0s\u001B[0m 34ms/step\n",
      "\u001B[1m1/1\u001B[0m \u001B[32m━━━━━━━━━━━━━━━━━━━━\u001B[0m\u001B[37m\u001B[0m \u001B[1m0s\u001B[0m 38ms/step\n",
      "\u001B[1m1/1\u001B[0m \u001B[32m━━━━━━━━━━━━━━━━━━━━\u001B[0m\u001B[37m\u001B[0m \u001B[1m0s\u001B[0m 34ms/step\n",
      "\u001B[1m1/1\u001B[0m \u001B[32m━━━━━━━━━━━━━━━━━━━━\u001B[0m\u001B[37m\u001B[0m \u001B[1m0s\u001B[0m 34ms/step\n",
      "\u001B[1m1/1\u001B[0m \u001B[32m━━━━━━━━━━━━━━━━━━━━\u001B[0m\u001B[37m\u001B[0m \u001B[1m0s\u001B[0m 34ms/step\n"
     ]
    },
    {
     "name": "stderr",
     "output_type": "stream",
     "text": [
      " 33%|███▎      | 1/3 [00:17<00:34, 17.08s/it]"
     ]
    },
    {
     "name": "stdout",
     "output_type": "stream",
     "text": [
      "Added signals for A\n",
      "\n",
      "Processing ticker: AAPL\n",
      "Training model for AAPL\n",
      "Epoch 1/20\n",
      "\u001B[1m176/176\u001B[0m \u001B[32m━━━━━━━━━━━━━━━━━━━━\u001B[0m\u001B[37m\u001B[0m \u001B[1m2s\u001B[0m 5ms/step - loss: 0.0118 - val_loss: 8.8629e-04\n",
      "Epoch 2/20\n",
      "\u001B[1m176/176\u001B[0m \u001B[32m━━━━━━━━━━━━━━━━━━━━\u001B[0m\u001B[37m\u001B[0m \u001B[1m1s\u001B[0m 3ms/step - loss: 1.1525e-04 - val_loss: 9.3899e-04\n",
      "Epoch 3/20\n",
      "\u001B[1m176/176\u001B[0m \u001B[32m━━━━━━━━━━━━━━━━━━━━\u001B[0m\u001B[37m\u001B[0m \u001B[1m1s\u001B[0m 3ms/step - loss: 1.1177e-04 - val_loss: 0.0011\n",
      "Epoch 4/20\n",
      "\u001B[1m176/176\u001B[0m \u001B[32m━━━━━━━━━━━━━━━━━━━━\u001B[0m\u001B[37m\u001B[0m \u001B[1m1s\u001B[0m 3ms/step - loss: 9.6369e-05 - val_loss: 8.3022e-04\n",
      "Epoch 5/20\n",
      "\u001B[1m176/176\u001B[0m \u001B[32m━━━━━━━━━━━━━━━━━━━━\u001B[0m\u001B[37m\u001B[0m \u001B[1m1s\u001B[0m 3ms/step - loss: 9.3932e-05 - val_loss: 8.5902e-04\n",
      "Epoch 6/20\n",
      "\u001B[1m176/176\u001B[0m \u001B[32m━━━━━━━━━━━━━━━━━━━━\u001B[0m\u001B[37m\u001B[0m \u001B[1m1s\u001B[0m 3ms/step - loss: 9.4193e-05 - val_loss: 0.0018\n",
      "Epoch 7/20\n",
      "\u001B[1m176/176\u001B[0m \u001B[32m━━━━━━━━━━━━━━━━━━━━\u001B[0m\u001B[37m\u001B[0m \u001B[1m1s\u001B[0m 3ms/step - loss: 9.2278e-05 - val_loss: 0.0010\n",
      "Epoch 8/20\n",
      "\u001B[1m176/176\u001B[0m \u001B[32m━━━━━━━━━━━━━━━━━━━━\u001B[0m\u001B[37m\u001B[0m \u001B[1m1s\u001B[0m 3ms/step - loss: 1.0187e-04 - val_loss: 9.0803e-04\n",
      "Epoch 9/20\n",
      "\u001B[1m176/176\u001B[0m \u001B[32m━━━━━━━━━━━━━━━━━━━━\u001B[0m\u001B[37m\u001B[0m \u001B[1m1s\u001B[0m 4ms/step - loss: 8.7005e-05 - val_loss: 6.0316e-04\n",
      "Epoch 10/20\n",
      "\u001B[1m176/176\u001B[0m \u001B[32m━━━━━━━━━━━━━━━━━━━━\u001B[0m\u001B[37m\u001B[0m \u001B[1m1s\u001B[0m 3ms/step - loss: 8.0789e-05 - val_loss: 5.7593e-04\n",
      "Epoch 11/20\n",
      "\u001B[1m176/176\u001B[0m \u001B[32m━━━━━━━━━━━━━━━━━━━━\u001B[0m\u001B[37m\u001B[0m \u001B[1m1s\u001B[0m 3ms/step - loss: 1.3054e-04 - val_loss: 5.7808e-04\n",
      "Epoch 12/20\n",
      "\u001B[1m176/176\u001B[0m \u001B[32m━━━━━━━━━━━━━━━━━━━━\u001B[0m\u001B[37m\u001B[0m \u001B[1m1s\u001B[0m 4ms/step - loss: 6.8661e-05 - val_loss: 6.2355e-04\n",
      "Epoch 13/20\n",
      "\u001B[1m176/176\u001B[0m \u001B[32m━━━━━━━━━━━━━━━━━━━━\u001B[0m\u001B[37m\u001B[0m \u001B[1m1s\u001B[0m 4ms/step - loss: 9.3366e-05 - val_loss: 6.5921e-04\n",
      "Epoch 14/20\n",
      "\u001B[1m176/176\u001B[0m \u001B[32m━━━━━━━━━━━━━━━━━━━━\u001B[0m\u001B[37m\u001B[0m \u001B[1m1s\u001B[0m 3ms/step - loss: 6.9924e-05 - val_loss: 4.9501e-04\n",
      "Epoch 15/20\n",
      "\u001B[1m176/176\u001B[0m \u001B[32m━━━━━━━━━━━━━━━━━━━━\u001B[0m\u001B[37m\u001B[0m \u001B[1m1s\u001B[0m 3ms/step - loss: 8.2059e-05 - val_loss: 4.6385e-04\n",
      "Epoch 16/20\n",
      "\u001B[1m176/176\u001B[0m \u001B[32m━━━━━━━━━━━━━━━━━━━━\u001B[0m\u001B[37m\u001B[0m \u001B[1m1s\u001B[0m 4ms/step - loss: 6.4192e-05 - val_loss: 0.0016\n",
      "Epoch 17/20\n",
      "\u001B[1m176/176\u001B[0m \u001B[32m━━━━━━━━━━━━━━━━━━━━\u001B[0m\u001B[37m\u001B[0m \u001B[1m1s\u001B[0m 4ms/step - loss: 8.2509e-05 - val_loss: 4.4202e-04\n",
      "Epoch 18/20\n",
      "\u001B[1m176/176\u001B[0m \u001B[32m━━━━━━━━━━━━━━━━━━━━\u001B[0m\u001B[37m\u001B[0m \u001B[1m1s\u001B[0m 3ms/step - loss: 6.7738e-05 - val_loss: 0.0010\n",
      "Epoch 19/20\n",
      "\u001B[1m176/176\u001B[0m \u001B[32m━━━━━━━━━━━━━━━━━━━━\u001B[0m\u001B[37m\u001B[0m \u001B[1m1s\u001B[0m 3ms/step - loss: 6.7609e-05 - val_loss: 6.5065e-04\n",
      "Epoch 20/20\n",
      "\u001B[1m176/176\u001B[0m \u001B[32m━━━━━━━━━━━━━━━━━━━━\u001B[0m\u001B[37m\u001B[0m \u001B[1m1s\u001B[0m 3ms/step - loss: 6.2177e-05 - val_loss: 0.0011\n",
      "\u001B[1m1/1\u001B[0m \u001B[32m━━━━━━━━━━━━━━━━━━━━\u001B[0m\u001B[37m\u001B[0m \u001B[1m0s\u001B[0m 157ms/step\n",
      "\u001B[1m1/1\u001B[0m \u001B[32m━━━━━━━━━━━━━━━━━━━━\u001B[0m\u001B[37m\u001B[0m \u001B[1m0s\u001B[0m 34ms/step\n",
      "\u001B[1m1/1\u001B[0m \u001B[32m━━━━━━━━━━━━━━━━━━━━\u001B[0m\u001B[37m\u001B[0m \u001B[1m0s\u001B[0m 35ms/step\n",
      "\u001B[1m1/1\u001B[0m \u001B[32m━━━━━━━━━━━━━━━━━━━━\u001B[0m\u001B[37m\u001B[0m \u001B[1m0s\u001B[0m 35ms/step\n",
      "\u001B[1m1/1\u001B[0m \u001B[32m━━━━━━━━━━━━━━━━━━━━\u001B[0m\u001B[37m\u001B[0m \u001B[1m0s\u001B[0m 35ms/step\n",
      "\u001B[1m1/1\u001B[0m \u001B[32m━━━━━━━━━━━━━━━━━━━━\u001B[0m\u001B[37m\u001B[0m \u001B[1m0s\u001B[0m 37ms/step\n",
      "\u001B[1m1/1\u001B[0m \u001B[32m━━━━━━━━━━━━━━━━━━━━\u001B[0m\u001B[37m\u001B[0m \u001B[1m0s\u001B[0m 34ms/step\n",
      "\u001B[1m1/1\u001B[0m \u001B[32m━━━━━━━━━━━━━━━━━━━━\u001B[0m\u001B[37m\u001B[0m \u001B[1m0s\u001B[0m 34ms/step\n",
      "\u001B[1m1/1\u001B[0m \u001B[32m━━━━━━━━━━━━━━━━━━━━\u001B[0m\u001B[37m\u001B[0m \u001B[1m0s\u001B[0m 35ms/step\n",
      "\u001B[1m1/1\u001B[0m \u001B[32m━━━━━━━━━━━━━━━━━━━━\u001B[0m\u001B[37m\u001B[0m \u001B[1m0s\u001B[0m 34ms/step\n",
      "\u001B[1m1/1\u001B[0m \u001B[32m━━━━━━━━━━━━━━━━━━━━\u001B[0m\u001B[37m\u001B[0m \u001B[1m0s\u001B[0m 34ms/step\n",
      "\u001B[1m1/1\u001B[0m \u001B[32m━━━━━━━━━━━━━━━━━━━━\u001B[0m\u001B[37m\u001B[0m \u001B[1m0s\u001B[0m 34ms/step\n",
      "\u001B[1m1/1\u001B[0m \u001B[32m━━━━━━━━━━━━━━━━━━━━\u001B[0m\u001B[37m\u001B[0m \u001B[1m0s\u001B[0m 34ms/step\n",
      "\u001B[1m1/1\u001B[0m \u001B[32m━━━━━━━━━━━━━━━━━━━━\u001B[0m\u001B[37m\u001B[0m \u001B[1m0s\u001B[0m 33ms/step\n",
      "\u001B[1m1/1\u001B[0m \u001B[32m━━━━━━━━━━━━━━━━━━━━\u001B[0m\u001B[37m\u001B[0m \u001B[1m0s\u001B[0m 35ms/step\n",
      "\u001B[1m1/1\u001B[0m \u001B[32m━━━━━━━━━━━━━━━━━━━━\u001B[0m\u001B[37m\u001B[0m \u001B[1m0s\u001B[0m 33ms/step\n",
      "\u001B[1m1/1\u001B[0m \u001B[32m━━━━━━━━━━━━━━━━━━━━\u001B[0m\u001B[37m\u001B[0m \u001B[1m0s\u001B[0m 34ms/step\n",
      "\u001B[1m1/1\u001B[0m \u001B[32m━━━━━━━━━━━━━━━━━━━━\u001B[0m\u001B[37m\u001B[0m \u001B[1m0s\u001B[0m 34ms/step\n",
      "\u001B[1m1/1\u001B[0m \u001B[32m━━━━━━━━━━━━━━━━━━━━\u001B[0m\u001B[37m\u001B[0m \u001B[1m0s\u001B[0m 34ms/step\n",
      "\u001B[1m1/1\u001B[0m \u001B[32m━━━━━━━━━━━━━━━━━━━━\u001B[0m\u001B[37m\u001B[0m \u001B[1m0s\u001B[0m 36ms/step\n",
      "\u001B[1m1/1\u001B[0m \u001B[32m━━━━━━━━━━━━━━━━━━━━\u001B[0m\u001B[37m\u001B[0m \u001B[1m0s\u001B[0m 34ms/step\n",
      "\u001B[1m1/1\u001B[0m \u001B[32m━━━━━━━━━━━━━━━━━━━━\u001B[0m\u001B[37m\u001B[0m \u001B[1m0s\u001B[0m 36ms/step\n",
      "\u001B[1m1/1\u001B[0m \u001B[32m━━━━━━━━━━━━━━━━━━━━\u001B[0m\u001B[37m\u001B[0m \u001B[1m0s\u001B[0m 34ms/step\n"
     ]
    },
    {
     "name": "stderr",
     "output_type": "stream",
     "text": [
      " 67%|██████▋   | 2/3 [00:33<00:16, 16.57s/it]"
     ]
    },
    {
     "name": "stdout",
     "output_type": "stream",
     "text": [
      "Added signals for AAPL\n",
      "\n",
      "Processing ticker: ABBV\n",
      "Training model for ABBV\n",
      "Epoch 1/20\n",
      "\u001B[1m138/138\u001B[0m \u001B[32m━━━━━━━━━━━━━━━━━━━━\u001B[0m\u001B[37m\u001B[0m \u001B[1m2s\u001B[0m 5ms/step - loss: 0.0099 - val_loss: 7.8228e-04\n",
      "Epoch 2/20\n",
      "\u001B[1m138/138\u001B[0m \u001B[32m━━━━━━━━━━━━━━━━━━━━\u001B[0m\u001B[37m\u001B[0m \u001B[1m1s\u001B[0m 3ms/step - loss: 3.1214e-04 - val_loss: 8.2372e-04\n",
      "Epoch 3/20\n",
      "\u001B[1m138/138\u001B[0m \u001B[32m━━━━━━━━━━━━━━━━━━━━\u001B[0m\u001B[37m\u001B[0m \u001B[1m1s\u001B[0m 3ms/step - loss: 3.4495e-04 - val_loss: 6.6967e-04\n",
      "Epoch 4/20\n",
      "\u001B[1m138/138\u001B[0m \u001B[32m━━━━━━━━━━━━━━━━━━━━\u001B[0m\u001B[37m\u001B[0m \u001B[1m1s\u001B[0m 3ms/step - loss: 3.3879e-04 - val_loss: 7.7062e-04\n",
      "Epoch 5/20\n",
      "\u001B[1m138/138\u001B[0m \u001B[32m━━━━━━━━━━━━━━━━━━━━\u001B[0m\u001B[37m\u001B[0m \u001B[1m1s\u001B[0m 3ms/step - loss: 3.2585e-04 - val_loss: 5.7226e-04\n",
      "Epoch 6/20\n",
      "\u001B[1m138/138\u001B[0m \u001B[32m━━━━━━━━━━━━━━━━━━━━\u001B[0m\u001B[37m\u001B[0m \u001B[1m0s\u001B[0m 3ms/step - loss: 2.8664e-04 - val_loss: 5.3881e-04\n",
      "Epoch 7/20\n",
      "\u001B[1m138/138\u001B[0m \u001B[32m━━━━━━━━━━━━━━━━━━━━\u001B[0m\u001B[37m\u001B[0m \u001B[1m1s\u001B[0m 3ms/step - loss: 3.0231e-04 - val_loss: 5.0810e-04\n",
      "Epoch 8/20\n",
      "\u001B[1m138/138\u001B[0m \u001B[32m━━━━━━━━━━━━━━━━━━━━\u001B[0m\u001B[37m\u001B[0m \u001B[1m1s\u001B[0m 3ms/step - loss: 2.6151e-04 - val_loss: 9.8728e-04\n",
      "Epoch 9/20\n",
      "\u001B[1m138/138\u001B[0m \u001B[32m━━━━━━━━━━━━━━━━━━━━\u001B[0m\u001B[37m\u001B[0m \u001B[1m1s\u001B[0m 3ms/step - loss: 2.6520e-04 - val_loss: 5.0608e-04\n",
      "Epoch 10/20\n",
      "\u001B[1m138/138\u001B[0m \u001B[32m━━━━━━━━━━━━━━━━━━━━\u001B[0m\u001B[37m\u001B[0m \u001B[1m0s\u001B[0m 3ms/step - loss: 2.2151e-04 - val_loss: 4.1073e-04\n",
      "Epoch 11/20\n",
      "\u001B[1m138/138\u001B[0m \u001B[32m━━━━━━━━━━━━━━━━━━━━\u001B[0m\u001B[37m\u001B[0m \u001B[1m1s\u001B[0m 3ms/step - loss: 2.6011e-04 - val_loss: 4.7549e-04\n",
      "Epoch 12/20\n",
      "\u001B[1m138/138\u001B[0m \u001B[32m━━━━━━━━━━━━━━━━━━━━\u001B[0m\u001B[37m\u001B[0m \u001B[1m1s\u001B[0m 3ms/step - loss: 2.0462e-04 - val_loss: 5.4910e-04\n",
      "Epoch 13/20\n",
      "\u001B[1m138/138\u001B[0m \u001B[32m━━━━━━━━━━━━━━━━━━━━\u001B[0m\u001B[37m\u001B[0m \u001B[1m1s\u001B[0m 4ms/step - loss: 2.2718e-04 - val_loss: 5.1867e-04\n",
      "Epoch 14/20\n",
      "\u001B[1m138/138\u001B[0m \u001B[32m━━━━━━━━━━━━━━━━━━━━\u001B[0m\u001B[37m\u001B[0m \u001B[1m0s\u001B[0m 3ms/step - loss: 2.0416e-04 - val_loss: 4.6735e-04\n",
      "Epoch 15/20\n",
      "\u001B[1m138/138\u001B[0m \u001B[32m━━━━━━━━━━━━━━━━━━━━\u001B[0m\u001B[37m\u001B[0m \u001B[1m1s\u001B[0m 3ms/step - loss: 2.2453e-04 - val_loss: 4.7285e-04\n",
      "\u001B[1m1/1\u001B[0m \u001B[32m━━━━━━━━━━━━━━━━━━━━\u001B[0m\u001B[37m\u001B[0m \u001B[1m0s\u001B[0m 155ms/step\n",
      "\u001B[1m1/1\u001B[0m \u001B[32m━━━━━━━━━━━━━━━━━━━━\u001B[0m\u001B[37m\u001B[0m \u001B[1m0s\u001B[0m 33ms/step\n",
      "\u001B[1m1/1\u001B[0m \u001B[32m━━━━━━━━━━━━━━━━━━━━\u001B[0m\u001B[37m\u001B[0m \u001B[1m0s\u001B[0m 35ms/step\n",
      "\u001B[1m1/1\u001B[0m \u001B[32m━━━━━━━━━━━━━━━━━━━━\u001B[0m\u001B[37m\u001B[0m \u001B[1m0s\u001B[0m 34ms/step\n",
      "\u001B[1m1/1\u001B[0m \u001B[32m━━━━━━━━━━━━━━━━━━━━\u001B[0m\u001B[37m\u001B[0m \u001B[1m0s\u001B[0m 34ms/step\n",
      "\u001B[1m1/1\u001B[0m \u001B[32m━━━━━━━━━━━━━━━━━━━━\u001B[0m\u001B[37m\u001B[0m \u001B[1m0s\u001B[0m 36ms/step\n",
      "\u001B[1m1/1\u001B[0m \u001B[32m━━━━━━━━━━━━━━━━━━━━\u001B[0m\u001B[37m\u001B[0m \u001B[1m0s\u001B[0m 35ms/step\n",
      "\u001B[1m1/1\u001B[0m \u001B[32m━━━━━━━━━━━━━━━━━━━━\u001B[0m\u001B[37m\u001B[0m \u001B[1m0s\u001B[0m 34ms/step\n",
      "\u001B[1m1/1\u001B[0m \u001B[32m━━━━━━━━━━━━━━━━━━━━\u001B[0m\u001B[37m\u001B[0m \u001B[1m0s\u001B[0m 34ms/step\n",
      "\u001B[1m1/1\u001B[0m \u001B[32m━━━━━━━━━━━━━━━━━━━━\u001B[0m\u001B[37m\u001B[0m \u001B[1m0s\u001B[0m 33ms/step\n",
      "\u001B[1m1/1\u001B[0m \u001B[32m━━━━━━━━━━━━━━━━━━━━\u001B[0m\u001B[37m\u001B[0m \u001B[1m0s\u001B[0m 33ms/step\n",
      "\u001B[1m1/1\u001B[0m \u001B[32m━━━━━━━━━━━━━━━━━━━━\u001B[0m\u001B[37m\u001B[0m \u001B[1m0s\u001B[0m 33ms/step\n",
      "\u001B[1m1/1\u001B[0m \u001B[32m━━━━━━━━━━━━━━━━━━━━\u001B[0m\u001B[37m\u001B[0m \u001B[1m0s\u001B[0m 33ms/step\n",
      "\u001B[1m1/1\u001B[0m \u001B[32m━━━━━━━━━━━━━━━━━━━━\u001B[0m\u001B[37m\u001B[0m \u001B[1m0s\u001B[0m 33ms/step\n",
      "\u001B[1m1/1\u001B[0m \u001B[32m━━━━━━━━━━━━━━━━━━━━\u001B[0m\u001B[37m\u001B[0m \u001B[1m0s\u001B[0m 33ms/step\n",
      "\u001B[1m1/1\u001B[0m \u001B[32m━━━━━━━━━━━━━━━━━━━━\u001B[0m\u001B[37m\u001B[0m \u001B[1m0s\u001B[0m 33ms/step\n",
      "\u001B[1m1/1\u001B[0m \u001B[32m━━━━━━━━━━━━━━━━━━━━\u001B[0m\u001B[37m\u001B[0m \u001B[1m0s\u001B[0m 35ms/step\n",
      "\u001B[1m1/1\u001B[0m \u001B[32m━━━━━━━━━━━━━━━━━━━━\u001B[0m\u001B[37m\u001B[0m \u001B[1m0s\u001B[0m 33ms/step\n",
      "\u001B[1m1/1\u001B[0m \u001B[32m━━━━━━━━━━━━━━━━━━━━\u001B[0m\u001B[37m\u001B[0m \u001B[1m0s\u001B[0m 34ms/step\n",
      "\u001B[1m1/1\u001B[0m \u001B[32m━━━━━━━━━━━━━━━━━━━━\u001B[0m\u001B[37m\u001B[0m \u001B[1m0s\u001B[0m 35ms/step\n",
      "\u001B[1m1/1\u001B[0m \u001B[32m━━━━━━━━━━━━━━━━━━━━\u001B[0m\u001B[37m\u001B[0m \u001B[1m0s\u001B[0m 33ms/step\n",
      "\u001B[1m1/1\u001B[0m \u001B[32m━━━━━━━━━━━━━━━━━━━━\u001B[0m\u001B[37m\u001B[0m \u001B[1m0s\u001B[0m 36ms/step\n",
      "\u001B[1m1/1\u001B[0m \u001B[32m━━━━━━━━━━━━━━━━━━━━\u001B[0m\u001B[37m\u001B[0m \u001B[1m0s\u001B[0m 34ms/step\n"
     ]
    },
    {
     "name": "stderr",
     "output_type": "stream",
     "text": [
      "100%|██████████| 3/3 [00:44<00:00, 14.75s/it]"
     ]
    },
    {
     "name": "stdout",
     "output_type": "stream",
     "text": [
      "Added signals for ABBV\n"
     ]
    },
    {
     "name": "stderr",
     "output_type": "stream",
     "text": [
      "\n"
     ]
    }
   ],
   "execution_count": 184
  },
  {
   "metadata": {},
   "cell_type": "markdown",
   "source": "## Aggregate the Signals into a DataFrame",
   "id": "2c437425069d4439"
  },
  {
   "metadata": {
    "ExecuteTime": {
     "end_time": "2024-12-03T15:24:14.966315Z",
     "start_time": "2024-12-03T15:24:14.962172Z"
    }
   },
   "cell_type": "code",
   "source": [
    "# Concatenate signals\n",
    "if signals_dict:\n",
    "    signal_df = pd.concat(signals_dict.values(), axis=1)\n",
    "    signal_df.sort_index(inplace=True)\n",
    "else:\n",
    "    print(\"No signals were generated.\")\n"
   ],
   "id": "cfe5e9031ee54e00",
   "outputs": [],
   "execution_count": 185
  },
  {
   "metadata": {},
   "cell_type": "markdown",
   "source": "Filter the DataFrame for the Desired Date Range",
   "id": "c223ecd54bbf4295"
  },
  {
   "metadata": {
    "ExecuteTime": {
     "end_time": "2024-12-03T15:24:15.004950Z",
     "start_time": "2024-12-03T15:24:14.999473Z"
    }
   },
   "cell_type": "code",
   "source": [
    "# Define the date range for which we want the signals\n",
    "start_signal_date = '2024-01-01'\n",
    "end_signal_date = '2024-01-31'\n",
    "\n",
    "# Filter the signal DataFrame\n",
    "signal_df = signal_df.loc[(signal_df.index >= pd.to_datetime(start_signal_date)) & (signal_df.index <= pd.to_datetime(end_signal_date))]\n"
   ],
   "id": "18e05d2c56c6232d",
   "outputs": [],
   "execution_count": 186
  },
  {
   "metadata": {
    "ExecuteTime": {
     "end_time": "2024-12-03T15:24:15.042813Z",
     "start_time": "2024-12-03T15:24:15.038092Z"
    }
   },
   "cell_type": "code",
   "source": "print(future_df)\n",
   "id": "84e262c50dfab77c",
   "outputs": [
    {
     "name": "stdout",
     "output_type": "stream",
     "text": [
      "         date  prediction\n",
      "0  2024-01-01  152.685852\n",
      "1  2024-01-02  152.077988\n",
      "2  2024-01-03  151.293091\n",
      "3  2024-01-04  150.390640\n",
      "4  2024-01-05  149.384644\n",
      "5  2024-01-08  148.372131\n",
      "6  2024-01-09  147.409561\n",
      "7  2024-01-10  146.460403\n",
      "8  2024-01-11  145.548294\n",
      "9  2024-01-12  144.673798\n",
      "10 2024-01-15  143.849686\n",
      "11 2024-01-16  143.029022\n",
      "12 2024-01-17  142.247223\n",
      "13 2024-01-18  141.501221\n",
      "14 2024-01-19  140.787933\n",
      "15 2024-01-22  140.104095\n",
      "16 2024-01-23  139.448090\n",
      "17 2024-01-24  138.819183\n",
      "18 2024-01-25  138.215759\n",
      "19 2024-01-26  137.636612\n",
      "20 2024-01-29  137.080475\n",
      "21 2024-01-30  136.546494\n",
      "22 2024-01-31  136.032822\n"
     ]
    }
   ],
   "execution_count": 187
  },
  {
   "metadata": {},
   "cell_type": "markdown",
   "source": "",
   "id": "7848ca3934acc110"
  },
  {
   "metadata": {
    "ExecuteTime": {
     "end_time": "2024-12-03T15:24:15.084121Z",
     "start_time": "2024-12-03T15:24:15.077530Z"
    }
   },
   "cell_type": "code",
   "source": [
    "# Display the signal DataFrame\n",
    "print(signal_df)\n",
    "# Save the signal DataFrame to a CSV file\n",
    "signal_df.to_csv('signals_test_output.csv')\n",
    "\n",
    "print(\"Signals saved to 'signals_test_output.csv'\")\n"
   ],
   "id": "f25dfc739356de82",
   "outputs": [
    {
     "name": "stdout",
     "output_type": "stream",
     "text": [
      "               A  AAPL  ABBV\n",
      "date                        \n",
      "2024-01-01  hold  hold  hold\n",
      "2024-01-02  hold  sell  hold\n",
      "2024-01-03  hold  sell  hold\n",
      "2024-01-04  hold  sell  hold\n",
      "2024-01-05  hold  sell  hold\n",
      "2024-01-08  hold  sell  hold\n",
      "2024-01-09  hold  sell  hold\n",
      "2024-01-10  hold  sell  hold\n",
      "2024-01-11  hold  sell  hold\n",
      "2024-01-12  hold  sell  hold\n",
      "2024-01-15  hold  sell  hold\n",
      "2024-01-16  hold  sell  hold\n",
      "2024-01-17  hold  sell  hold\n",
      "2024-01-18  hold  sell  hold\n",
      "2024-01-19  hold  sell  hold\n",
      "2024-01-22  hold  sell  hold\n",
      "2024-01-23  hold  sell  hold\n",
      "2024-01-24  hold  hold  hold\n",
      "2024-01-25  hold  hold  hold\n",
      "2024-01-26  hold  hold  hold\n",
      "2024-01-29  hold  hold  hold\n",
      "2024-01-30  hold  hold  hold\n",
      "Signals saved to 'signals_test_output.csv'\n"
     ]
    }
   ],
   "execution_count": 188
  }
 ],
 "metadata": {
  "kernelspec": {
   "display_name": "Python 3",
   "language": "python",
   "name": "python3"
  },
  "language_info": {
   "codemirror_mode": {
    "name": "ipython",
    "version": 2
   },
   "file_extension": ".py",
   "mimetype": "text/x-python",
   "name": "python",
   "nbconvert_exporter": "python",
   "pygments_lexer": "ipython2",
   "version": "2.7.6"
  }
 },
 "nbformat": 4,
 "nbformat_minor": 5
}
